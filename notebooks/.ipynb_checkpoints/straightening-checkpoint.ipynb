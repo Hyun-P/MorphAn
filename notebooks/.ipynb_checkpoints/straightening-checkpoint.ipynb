{
 "cells": [
  {
   "cell_type": "markdown",
   "id": "floating-treasure",
   "metadata": {},
   "source": [
    "# **Straightening**"
   ]
  },
  {
   "cell_type": "markdown",
   "id": "listed-running",
   "metadata": {},
   "source": [
    "## **Functions**"
   ]
  },
  {
   "cell_type": "code",
   "execution_count": 1,
   "id": "intelligent-hunter",
   "metadata": {},
   "outputs": [],
   "source": [
    "import sys\n",
    "import os\n",
    "\n",
    "module_path = os.path.abspath(os.path.join('..'))\n",
    "if module_path not in sys.path:\n",
    "    sys.path.append(module_path+\"/src\")\n",
    "\n",
    "from morphan import MorphAn\n",
    "\n",
    "import skimage.io as io\n",
    "import numpy as np\n",
    "import multiprocessing as mp"
   ]
  },
  {
   "cell_type": "markdown",
   "id": "structural-edwards",
   "metadata": {},
   "source": [
    "## **Straightening**\n",
    "---"
   ]
  },
  {
   "cell_type": "markdown",
   "id": "banned-maine",
   "metadata": {},
   "source": [
    "#### *Determine Parameters*\n",
    "\n",
    "* Edit "
   ]
  },
  {
   "cell_type": "code",
   "execution_count": null,
   "id": "automatic-royal",
   "metadata": {},
   "outputs": [],
   "source": [
    "MA = MorphAn()\n",
    "\n",
    "# a path to the experiment\n",
    "pipeline_dir = os.path.join(module_path,'src','example','analysis_pipeline')\n",
    "    \n",
    "swc_data_dir = MA.check_directory(pipeline_dir,'swc_paths_data')\n",
    "\n",
    "recon_dir = MA.check_directory(pipeline_dir,'reconstruction')"
   ]
  },
  {
   "cell_type": "code",
   "execution_count": null,
   "id": "binary-mustang",
   "metadata": {},
   "outputs": [],
   "source": [
    "for var in os.listdir(swc_data_dir):\n",
    "    print('Processing... %s' %var)\n",
    "    neuron_name = var.split('.csv')[0]\n",
    "    \n",
    "    data_path = os.path.join(swc_data_dir,var)\n",
    "\n",
    "    tmp_dict = MA.iron_preprocess(data_path)\n",
    "    \n",
    "    # reconstruction\n",
    "    recon_image_path = os.path.join(recon_dir,neuron_name)\n",
    "    try:\n",
    "        MA.reconstruct_neuron(tmp_dict, recon_image_path)\n",
    "    except Exception as e:\n",
    "        print(\"Error %s\"%e)\n",
    "        continue\n",
    "        \n",
    "    # rectified sholl analysis\n",
    "    sholl_path = os.path.join(pipeline_dir,'sholl.csv')\n",
    "    df = MA.iron_sholl(tmp_dict)\n",
    "        \n",
    "    df.to_csv(sholl_path)\n",
    "    df.head()    "
   ]
  }
 ],
 "metadata": {
  "kernelspec": {
   "display_name": "Python 3.8 cp4",
   "language": "python",
   "name": "cp4"
  },
  "language_info": {
   "codemirror_mode": {
    "name": "ipython",
    "version": 3
   },
   "file_extension": ".py",
   "mimetype": "text/x-python",
   "name": "python",
   "nbconvert_exporter": "python",
   "pygments_lexer": "ipython3",
   "version": "3.8.8"
  }
 },
 "nbformat": 4,
 "nbformat_minor": 5
}
