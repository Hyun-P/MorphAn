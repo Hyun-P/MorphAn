{
 "cells": [
  {
   "cell_type": "markdown",
   "id": "radical-alliance",
   "metadata": {},
   "source": [
    "# **Fucntions**"
   ]
  },
  {
   "cell_type": "code",
   "execution_count": 7,
   "id": "herbal-color",
   "metadata": {},
   "outputs": [],
   "source": [
    "import sys\n",
    "import os\n",
    "import pandas as pd\n",
    "\n",
    "module_path = os.path.abspath(os.path.join('..'))\n",
    "if module_path not in sys.path:\n",
    "    sys.path.append(module_path+\"/src\")\n",
    "\n",
    "from morphan import MorphAn\n",
    "MA = MorphAn()"
   ]
  },
  {
   "cell_type": "markdown",
   "id": "atmospheric-desire",
   "metadata": {},
   "source": [
    "# **Soma Identification**\n",
    "\n",
    "This step is completed manually in Fiji.\n",
    "1. Open the images in Fiji\n",
    "2. Put them into a stack\n",
    "3. Start marking the soma positions in each slice using the mutipoint tool\n",
    "4. Once marking is complete, open ROI Manager, and then press T or click Add\n",
    "5. In ROI Manager,\n",
    "    1. More > Save --- save the worked ROI (just in case).\n",
    "    2. Analyze > Measure > Save as --- save the soma positions and the associated slice numbers with a filename Results.csv inside ~/analysis_pipeline/\n",
    "6. Open Fiji_macros > get_labels.ijm\n",
    "7. Click Run\n",
    "8. save the results of the names and their associated slice numbers with a filename Log.txt inside ~/analysis_pipeline/\n",
    "9. Locate the associated file path in the notebook and then run\n",
    "\n",
    "The output is a txt file for each soma in an image, saved inside ~/analysis_pipeline/vaa3d/{image_name}/###.txt"
   ]
  },
  {
   "cell_type": "code",
   "execution_count": 8,
   "id": "tested-balance",
   "metadata": {},
   "outputs": [
    {
     "name": "stdout",
     "output_type": "stream",
     "text": [
      "Processing... microdish_ctx_20x_DIV7_plateA_N2_1\n",
      " x: 446 y: 712\n",
      "\n",
      "Processing... microdish_ctx_20x_DIV7_plateA_N2_1\n",
      " x: 1563 y: 1237\n",
      "\n",
      "Processing... microdish_ctx_20x_DIV7_plateA_O1_1\n",
      " x: 977 y: 723\n",
      "\n",
      "Processing... microdish_ctx_20x_DIV7_plateA_O1_1\n",
      " x: 1521 y: 1037\n",
      "\n",
      "Processing... microdish_ctx_20x_DIV7_plateA_P3_1\n",
      " x: 1707 y: 971\n",
      "\n"
     ]
    }
   ],
   "source": [
    "# a path to the experiment\n",
    "pipeline_dir = MA.check_directory(module_path,'src/example/analysis_pipeline')\n",
    "vaa_dir = MA.check_directory(pipeline_dir,'vaa3d')\n",
    "\n",
    "    \n",
    "# a path to the Results.csv\n",
    "results_path = os.path.join(module_path,'src','example','Results.csv')\n",
    "\n",
    "# a dataframe with data from Results.csv\n",
    "results_df = pd.read_csv(results_path)\n",
    "\n",
    "# a path to the Labels.csv\n",
    "labels_path = os.path.join(module_path,'src','example','Log.txt')\n",
    "\n",
    "# a dataframe with data from Labels.csv\n",
    "raw_txt = MA.read_file(labels_path)\n",
    "td1 = []\n",
    "td2 = []\n",
    "\n",
    "for t in raw_txt:\n",
    "    tdata = t.split(' ')\n",
    "    # print(tdata)\n",
    "    td1.append(tdata[0])\n",
    "    td2.append(tdata[1])\n",
    "\n",
    "labels_df = pd.DataFrame({'Label':td1, 'Image':td2})\n",
    "                           \n",
    "prev = 0\n",
    "for ind, row in results_df.iterrows():\n",
    "    \n",
    "    pos = row['Slice']\n",
    "    if pos == prev:\n",
    "        nind = 2\n",
    "    x = int(row['X'])\n",
    "    y = int(row['Y'])\n",
    "    img_name = labels_df.loc[labels_df.Label == str(int(pos))].Image.values[0]\n",
    "    print('Processing... %s\\n x: %s y: %s\\n'%(img_name, x, y))\n",
    "    output = MA.check_directory(vaa_dir,img_name)\n",
    "    \n",
    "    #print(x, y, pos, img_name)\n",
    "    nind = 1\n",
    "    fpath = os.path.join(output,'%s_each_%s.txt'%(img_name, nind))\n",
    "    notsame = True\n",
    "    while notsame:\n",
    "        if os.path.exists(fpath):\n",
    "            nind = nind+1\n",
    "            fpath = os.path.join(output,'%s_each_%s.txt'%(img_name, nind))\n",
    "        else:\n",
    "            notsame = False\n",
    "            \n",
    "    f = open(fpath, 'w')\n",
    "    f.write('%s,%s,%s,%s'%(x,y,2,nind))\n",
    "    f.close()"
   ]
  },
  {
   "cell_type": "code",
   "execution_count": null,
   "id": "interracial-session",
   "metadata": {},
   "outputs": [],
   "source": []
  }
 ],
 "metadata": {
  "kernelspec": {
   "display_name": "Python 3.8 cp4",
   "language": "python",
   "name": "cp4"
  },
  "language_info": {
   "codemirror_mode": {
    "name": "ipython",
    "version": 3
   },
   "file_extension": ".py",
   "mimetype": "text/x-python",
   "name": "python",
   "nbconvert_exporter": "python",
   "pygments_lexer": "ipython3",
   "version": "3.8.8"
  }
 },
 "nbformat": 4,
 "nbformat_minor": 5
}
