{
 "cells": [
  {
   "cell_type": "markdown",
   "id": "bacterial-freedom",
   "metadata": {},
   "source": [
    "# **Background Generation**"
   ]
  },
  {
   "cell_type": "markdown",
   "id": "owned-adoption",
   "metadata": {},
   "source": [
    "## **Functions**"
   ]
  },
  {
   "cell_type": "code",
   "execution_count": null,
   "id": "mobile-camcorder",
   "metadata": {},
   "outputs": [],
   "source": [
    "import sys\n",
    "import os\n",
    "\n",
    "module_path = os.path.abspath(os.path.join('..'))\n",
    "if module_path not in sys.path:\n",
    "    sys.path.append(module_path+\"/src\")\n",
    "\n",
    "from morphan import MorphAn\n",
    "\n",
    "import skimage.io as io\n",
    "import numpy as np\n",
    "import multiprocessing as mp"
   ]
  },
  {
   "cell_type": "markdown",
   "id": "irish-option",
   "metadata": {},
   "source": [
    "## **Determine Parameters**\n",
    "---\n",
    "* Edit \"image_path\" variable with a path to an image that you want to evaluate\n",
    "* Edit \"target_slice\" variable with a row index that you want to evaluate"
   ]
  },
  {
   "cell_type": "code",
   "execution_count": null,
   "id": "built-runner",
   "metadata": {},
   "outputs": [],
   "source": [
    "image_path = os.path.join(module_path,'src','example','images_raw','microdish_ctx_20x_DIV7_plateA_N2_1.tif')\n",
    "target_slice = 658"
   ]
  },
  {
   "cell_type": "code",
   "execution_count": null,
   "id": "olympic-delicious",
   "metadata": {
    "tags": []
   },
   "outputs": [],
   "source": [
    "MA = MorphAn()\n",
    "\n",
    "image = io.imread(image_path)\n",
    "xDim = np.arange(image.shape[0])\n",
    "image_slice = image[target_slice]\n",
    "display = True\n",
    "\n",
    "image_slice = MA.background_processor(xDim,image_slice,   10   , True,True,display)\n",
    "image_slice = MA.background_processor(xDim,image_slice,   5   , False,False,display)\n",
    "image_slice = MA.background_processor(xDim,image_slice,   3   , False,False,display)\n",
    "image_slice = MA.background_processor(xDim,image_slice,   2   , False,False,display)\n",
    "image_slice = MA.background_processor(xDim,image_slice,   1   , False,False,display)\n",
    "image_slice = MA.background_processor(xDim,image_slice,   .5   , False,False,display)"
   ]
  },
  {
   "cell_type": "markdown",
   "id": "differential-future",
   "metadata": {},
   "source": [
    "## **Generate Backgrounds**\n",
    "---\n",
    "* Edit \"output_path\" variable with a desired path to save the processed image\n",
    "* Edit \"threshold_parameters\" variable with the desired parameters\n",
    "* Edit \"apply_lower_threshold\" variable with the desired boolean values\n",
    "* Edit \"precut_bool\" variable with the desired boolean values\n",
    "* Edit \"num_process\" variable with the number of CPU processes that you want to use to perform multiprocessing\n",
    "* Edit \"image_path\" variable with a path to an image that you want to evaluate"
   ]
  },
  {
   "cell_type": "code",
   "execution_count": null,
   "id": "narrative-rabbit",
   "metadata": {},
   "outputs": [],
   "source": [
    "output_path = os.path.join(module_path,'src','example','images_background','microdish_ctx_20x_DIV7_plateA_N2_1.tif')\n",
    "threshold_parameters = [10,5,3,2,1,.5]\n",
    "apply_lower_threshold = [True,False,False,False,False,False]\n",
    "precut_bool = [True,False,False,False,False,False]\n",
    "num_process = 20\n",
    "image_path = os.path.join(module_path,'src','example','images_raw','microdish_ctx_20x_DIV7_plateA_N2_1.tif')"
   ]
  },
  {
   "cell_type": "code",
   "execution_count": null,
   "id": "humanitarian-conditioning",
   "metadata": {},
   "outputs": [],
   "source": [
    "MA = MorphAn()\n",
    "image = io.imread(image_path)\n",
    "xDim = np.arange(image.shape[0])\n",
    "\n",
    "for thres_param, low_thres, precut in zip(threshold_parameters,apply_lower_threshold,precut_bool):\n",
    "        arguments = [(xDim,i,thres_param,low_thres,precut) for i in image]\n",
    "        with mp.Pool(num_process) as p:\n",
    "            result = p.map(MA.bg_wrapper,arguments)\n",
    "\n",
    "image_background = np.vstack(result)\n",
    "io.imsave(output_path,image_background)"
   ]
  },
  {
   "cell_type": "markdown",
   "id": "perfect-scratch",
   "metadata": {},
   "source": [
    "## **[Bulk Process] Generate Backgrounds**\n",
    "---\n",
    "* Edit \"images_dir\" variable with a path to a folder with raw images to process\n",
    "* Edit \"output_dir\" variable with a path to a folder to save the generated background images\n",
    "* Edit \"threshold_parameters\" variable with the desired parameters\n",
    "* Edit \"apply_lower_threshold\" variable with the desired boolean values\n",
    "* Edit \"precut_bool\" variable with the desired boolean values\n",
    "* Edit \"num_process\" variable with the number of CPU processes that you want to use to perform multiprocessing\n"
   ]
  },
  {
   "cell_type": "code",
   "execution_count": null,
   "id": "occasional-plymouth",
   "metadata": {},
   "outputs": [],
   "source": [
    "MA = MorphAn()\n",
    "\n",
    "images_dir = os.path.join(module_path,'src','example','images_raw')\n",
    "images_dir = \"/data/hyun/Analysis/data/UB.VI.220/DIV5/orig\"\n",
    "output_dir = MA.check_directory(module_path,'src/example/images_background')\n",
    "output_dir = \"/data/hyun/Analysis/data/UB.VI.220/DIV5/images_background\"\n",
    "threshold_parameters = [10,5,3,2,1,.5]\n",
    "apply_lower_threshold = [True,False,False,False,False,False]\n",
    "precut_bool = [True,False,False,False,False,False]\n",
    "num_process = 20"
   ]
  },
  {
   "cell_type": "code",
   "execution_count": null,
   "id": "initial-gregory",
   "metadata": {
    "tags": []
   },
   "outputs": [],
   "source": [
    "for image_file in os.listdir(images_dir):\n",
    "    print(image_file)\n",
    "    image_path = os.path.join(images_dir,image_file)\n",
    "    output_path = os.path.join(output_dir,image_file)\n",
    "    image = io.imread(image_path)\n",
    "    xDim = np.arange(image.shape[0])\n",
    "    \n",
    "    for thres_param, low_thres, precut in zip(threshold_parameters,apply_lower_threshold,precut_bool):\n",
    "            arguments = [(xDim,i,thres_param,low_thres,precut) for i in image]\n",
    "            with mp.Pool(num_process) as p:\n",
    "                result = p.map(MA.bg_wrapper,arguments)\n",
    "\n",
    "    image_background = np.vstack(result)\n",
    "    io.imsave(output_path,image_background)"
   ]
  },
  {
   "cell_type": "code",
   "execution_count": null,
   "id": "composed-buddy",
   "metadata": {},
   "outputs": [],
   "source": []
  },
  {
   "cell_type": "code",
   "execution_count": null,
   "id": "alpha-possession",
   "metadata": {},
   "outputs": [],
   "source": [
    "MA = MorphAn()\n",
    "\n",
    "images_dir = os.path.join(module_path,'src','example','images_raw')\n",
    "output_dir = MA.check_directory(module_path,'src/example/images_background')\n",
    "threshold_parameters = [10,5,3,2,1,.5]\n",
    "apply_lower_threshold = [True,False,False,False,False,False]\n",
    "precut_bool = [True,False,False,False,False,False]\n",
    "num_process = 20"
   ]
  },
  {
   "cell_type": "code",
   "execution_count": null,
   "id": "architectural-settlement",
   "metadata": {
    "tags": []
   },
   "outputs": [],
   "source": [
    "for image_file in os.listdir(images_dir):\n",
    "    print(image_file)\n",
    "    image_path = os.path.join(images_dir,image_file)\n",
    "    output_path = os.path.join(output_dir,image_file)\n",
    "    image = io.imread(image_path)\n",
    "    xDim = np.arange(image.shape[0])\n",
    "    \n",
    "    for thres_param, low_thres, precut in zip(threshold_parameters,apply_lower_threshold,precut_bool):\n",
    "            arguments = [(xDim,i,thres_param,low_thres,precut) for i in image]\n",
    "            with mp.Pool(num_process) as p:\n",
    "                result = p.map(MA.bg_wrapper,arguments)\n",
    "\n",
    "    image_background = np.vstack(result)\n",
    "    io.imsave(output_path,image_background)"
   ]
  },
  {
   "cell_type": "code",
   "execution_count": null,
   "id": "modern-procedure",
   "metadata": {},
   "outputs": [],
   "source": []
  }
 ],
 "metadata": {
  "kernelspec": {
   "display_name": "Python 3.8 cp4",
   "language": "python",
   "name": "cp4"
  },
  "language_info": {
   "codemirror_mode": {
    "name": "ipython",
    "version": 3
   },
   "file_extension": ".py",
   "mimetype": "text/x-python",
   "name": "python",
   "nbconvert_exporter": "python",
   "pygments_lexer": "ipython3",
   "version": "3.8.8"
  }
 },
 "nbformat": 4,
 "nbformat_minor": 5
}
