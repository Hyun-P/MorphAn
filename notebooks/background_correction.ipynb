{
 "cells": [
  {
   "cell_type": "markdown",
   "id": "alternative-administration",
   "metadata": {},
   "source": [
    "# **Background Correction**"
   ]
  },
  {
   "cell_type": "markdown",
   "id": "cardiac-sculpture",
   "metadata": {},
   "source": [
    "## **Functions**\n",
    "---"
   ]
  },
  {
   "cell_type": "code",
   "execution_count": null,
   "id": "architectural-evidence",
   "metadata": {},
   "outputs": [],
   "source": [
    "import sys\n",
    "import os\n",
    "\n",
    "module_path = os.path.abspath(os.path.join('..'))\n",
    "if module_path not in sys.path:\n",
    "    sys.path.append(module_path+\"/src\")\n",
    "\n",
    "from morphan import MorphAn\n",
    "\n",
    "import skimage.io as io"
   ]
  },
  {
   "cell_type": "markdown",
   "id": "exposed-paragraph",
   "metadata": {},
   "source": [
    "## **Image Process**\n",
    "---\n",
    "\n",
    "* Edit \"image_path\" variable with a path to an image that you want to evaluate\n",
    "* Edit \"background_path\" variable with a path to the respective background image\n",
    "* Edit \"output_path\" variable with a desired path to save the processed image\n"
   ]
  },
  {
   "cell_type": "code",
   "execution_count": null,
   "id": "directed-miniature",
   "metadata": {},
   "outputs": [],
   "source": [
    "image_path = os.path.join(module_path,'src','example','images_raw','DIV7-Plate1_8wp_smFISH_A1_2.tif')\n",
    "background_path = os.path.join(module_path,'src','example','images_background','DIV7-Plate1_8wp_smFISH_A1_2.tif')\n",
    "output_path = os.path.join(module_path,'src','example','images_background_corrected','DIV7-Plate1_8wp_smFISH_A1_2.tif')\n",
    "\n",
    "MA = MorphAn()\n",
    "\n",
    "image = io.imread(image_path)\n",
    "background = io.imread(background_path)\n",
    "\n",
    "image_corrected = MA.correct_background(image,background)\n",
    "io.imsave(output_path,image_corrected)"
   ]
  }
 ],
 "metadata": {
  "kernelspec": {
   "display_name": "Python 3.8 cp4",
   "language": "python",
   "name": "cp4"
  },
  "language_info": {
   "codemirror_mode": {
    "name": "ipython",
    "version": 3
   },
   "file_extension": ".py",
   "mimetype": "text/x-python",
   "name": "python",
   "nbconvert_exporter": "python",
   "pygments_lexer": "ipython3",
   "version": "3.8.8"
  }
 },
 "nbformat": 4,
 "nbformat_minor": 5
}
