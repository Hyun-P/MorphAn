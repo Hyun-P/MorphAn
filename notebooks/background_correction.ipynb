{
 "cells": [
  {
   "cell_type": "markdown",
   "id": "other-scroll",
   "metadata": {},
   "source": [
    "# **Background Correction**"
   ]
  },
  {
   "cell_type": "markdown",
   "id": "structured-interpretation",
   "metadata": {},
   "source": [
    "## **Functions**\n",
    "---"
   ]
  },
  {
   "cell_type": "code",
   "execution_count": 1,
   "id": "funny-fundamental",
   "metadata": {},
   "outputs": [],
   "source": [
    "import sys\n",
    "import os\n",
    "\n",
    "module_path = os.path.abspath(os.path.join('..'))\n",
    "if module_path not in sys.path:\n",
    "    sys.path.append(module_path+\"/src\")\n",
    "\n",
    "from morphan import MorphAn\n",
    "\n",
    "import skimage.io as io"
   ]
  },
  {
   "cell_type": "markdown",
   "id": "experimental-wales",
   "metadata": {},
   "source": [
    "## **Image Process**\n",
    "---\n",
    "\n",
    "* Edit \"image_path\" variable with a path to an image that you want to evaluate\n",
    "* Edit \"background_path\" variable with a path to the respective background image\n",
    "* Edit \"output_path\" variable with a desired path to save the processed image\n"
   ]
  },
  {
   "cell_type": "code",
   "execution_count": null,
   "id": "several-defensive",
   "metadata": {},
   "outputs": [],
   "source": [
    "image_path = os.path.join(module_path,'src','example','images_raw','microdish_ctx_20x_DIV7_plateA_N2_1.tif')\n",
    "background_path = os.path.join(module_path,'src','example','images_background','microdish_ctx_20x_DIV7_plateA_N2_1.tif')\n",
    "output_path = os.path.join(module_path,'src','example','images_background_corrected','microdish_ctx_20x_DIV7_plateA_N2_1.tif')"
   ]
  },
  {
   "cell_type": "code",
   "execution_count": null,
   "id": "radical-mercy",
   "metadata": {},
   "outputs": [],
   "source": [
    "MA = MorphAn()\n",
    "\n",
    "image = io.imread(image_path)\n",
    "background = io.imread(background_path)\n",
    "\n",
    "image_corrected = MA.correct_background(image,background,'Median Filter', 'Yes', 10)\n",
    "io.imsave(output_path,image_corrected)"
   ]
  },
  {
   "cell_type": "markdown",
   "id": "positive-warrant",
   "metadata": {},
   "source": [
    "## **[Bulk Process] Image Process**\n",
    "---\n",
    "* Edit \"images_dir\" variable with a path to a folder with raw images to process\n",
    "* Edit \"background_dir\" variable with a path to a folder with the generated background images\n",
    "* Edit \"output_dir\" variable with a path to a folder to save the background corrected images"
   ]
  },
  {
   "cell_type": "code",
   "execution_count": 2,
   "id": "proper-voltage",
   "metadata": {},
   "outputs": [],
   "source": [
    "MA = MorphAn()\n",
    "\n",
    "images_dir = os.path.join(module_path,'src','example','images_raw')\n",
    "background_dir = MA.check_directory(module_path,'src/example/images_background')\n",
    "output_dir = MA.check_directory(module_path,'src/example/images_background_corrected')"
   ]
  },
  {
   "cell_type": "code",
   "execution_count": 3,
   "id": "reserved-competition",
   "metadata": {},
   "outputs": [
    {
     "name": "stdout",
     "output_type": "stream",
     "text": [
      "microdish_ctx_20x_DIV7_plateA_P3_1.tif\n"
     ]
    },
    {
     "name": "stderr",
     "output_type": "stream",
     "text": [
      "/home/Hyun/.conda/envs/cp4/lib/python3.8/site-packages/skimage/filters/rank/generic.py:262: UserWarning: Bad rank filter performance is expected due to a large number of bins (2990), equivalent to an approximate bitdepth of 11.5.\n",
      "  image, footprint, out, mask, n_bins = _preprocess_input(image, footprint,\n",
      "<ipython-input-3-307bcd9523fe>:11: UserWarning: /data/hyun/Analysis/scripts/MorphAn/src/example/images_background_corrected/microdish_ctx_20x_DIV7_plateA_P3_1.tif is a low contrast image\n",
      "  io.imsave(output_path,image_corrected)\n",
      "/home/Hyun/.conda/envs/cp4/lib/python3.8/site-packages/skimage/filters/rank/generic.py:262: UserWarning: Bad rank filter performance is expected due to a large number of bins (65536), equivalent to an approximate bitdepth of 16.0.\n",
      "  image, footprint, out, mask, n_bins = _preprocess_input(image, footprint,\n"
     ]
    },
    {
     "name": "stdout",
     "output_type": "stream",
     "text": [
      "microdish_ctx_20x_DIV7_plateA_O1_1.tif\n"
     ]
    },
    {
     "name": "stderr",
     "output_type": "stream",
     "text": [
      "<ipython-input-3-307bcd9523fe>:11: UserWarning: /data/hyun/Analysis/scripts/MorphAn/src/example/images_background_corrected/microdish_ctx_20x_DIV7_plateA_O1_1.tif is a low contrast image\n",
      "  io.imsave(output_path,image_corrected)\n",
      "/home/Hyun/.conda/envs/cp4/lib/python3.8/site-packages/skimage/filters/rank/generic.py:262: UserWarning: Bad rank filter performance is expected due to a large number of bins (5019), equivalent to an approximate bitdepth of 12.3.\n",
      "  image, footprint, out, mask, n_bins = _preprocess_input(image, footprint,\n"
     ]
    },
    {
     "name": "stdout",
     "output_type": "stream",
     "text": [
      "microdish_ctx_20x_DIV7_plateA_N2_1.tif\n"
     ]
    },
    {
     "name": "stderr",
     "output_type": "stream",
     "text": [
      "<ipython-input-3-307bcd9523fe>:11: UserWarning: /data/hyun/Analysis/scripts/MorphAn/src/example/images_background_corrected/microdish_ctx_20x_DIV7_plateA_N2_1.tif is a low contrast image\n",
      "  io.imsave(output_path,image_corrected)\n"
     ]
    }
   ],
   "source": [
    "for image_file in os.listdir(images_dir):\n",
    "    print(image_file)\n",
    "    image_path = os.path.join(images_dir,image_file)\n",
    "    background_path = os.path.join(background_dir,image_file)\n",
    "    output_path = os.path.join(output_dir,image_file)\n",
    "    \n",
    "    image = io.imread(image_path)\n",
    "    background = io.imread(background_path)\n",
    "    \n",
    "    image_corrected = MA.correct_background(image,background,'Median Filter', 'Yes', 10)\n",
    "    io.imsave(output_path,image_corrected)"
   ]
  },
  {
   "cell_type": "code",
   "execution_count": null,
   "id": "contained-access",
   "metadata": {},
   "outputs": [],
   "source": []
  }
 ],
 "metadata": {
  "kernelspec": {
   "display_name": "Python 3.8 cp4",
   "language": "python",
   "name": "cp4"
  },
  "language_info": {
   "codemirror_mode": {
    "name": "ipython",
    "version": 3
   },
   "file_extension": ".py",
   "mimetype": "text/x-python",
   "name": "python",
   "nbconvert_exporter": "python",
   "pygments_lexer": "ipython3",
   "version": "3.8.8"
  }
 },
 "nbformat": 4,
 "nbformat_minor": 5
}
