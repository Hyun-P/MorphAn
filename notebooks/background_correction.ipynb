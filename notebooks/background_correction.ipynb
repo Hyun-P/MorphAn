{
 "cells": [
  {
   "cell_type": "markdown",
   "id": "square-homework",
   "metadata": {},
   "source": [
    "# **Background Correction**"
   ]
  },
  {
   "cell_type": "markdown",
   "id": "searching-antique",
   "metadata": {},
   "source": [
    "## **Functions**\n",
    "---"
   ]
  },
  {
   "cell_type": "code",
   "execution_count": 1,
   "id": "included-creativity",
   "metadata": {},
   "outputs": [],
   "source": [
    "import sys\n",
    "import os\n",
    "\n",
    "module_path = os.path.abspath(os.path.join('..'))\n",
    "if module_path not in sys.path:\n",
    "    sys.path.append(module_path+\"/src\")\n",
    "\n",
    "from morphan import MorphAn\n",
    "\n",
    "import skimage.io as io"
   ]
  },
  {
   "cell_type": "markdown",
   "id": "textile-vaccine",
   "metadata": {},
   "source": [
    "## **Image Process**\n",
    "---\n",
    "\n",
    "* Edit \"image_path\" variable with a path to an image that you want to evaluate\n",
    "* Edit \"background_path\" variable with a path to the respective background image\n",
    "* Edit \"output_path\" variable with a desired path to save the processed image\n"
   ]
  },
  {
   "cell_type": "code",
   "execution_count": null,
   "id": "weekly-thesis",
   "metadata": {},
   "outputs": [],
   "source": [
    "image_path = os.path.join(module_path,'src','example','images_raw','microdish_ctx_20x_DIV7_plateA_N2_1.tif')\n",
    "background_path = os.path.join(module_path,'src','example','images_background','microdish_ctx_20x_DIV7_plateA_N2_1.tif')\n",
    "output_path = os.path.join(module_path,'src','example','images_background_corrected','microdish_ctx_20x_DIV7_plateA_N2_1.tif')"
   ]
  },
  {
   "cell_type": "code",
   "execution_count": null,
   "id": "direct-address",
   "metadata": {},
   "outputs": [],
   "source": [
    "MA = MorphAn()\n",
    "\n",
    "image = io.imread(image_path)\n",
    "background = io.imread(background_path)\n",
    "\n",
    "image_corrected = MA.correct_background(image,background,'Median Filter', 'Yes', 10)\n",
    "io.imsave(output_path,image_corrected)"
   ]
  },
  {
   "cell_type": "markdown",
   "id": "recent-aquarium",
   "metadata": {},
   "source": [
    "## **[Bulk Process] Image Process**\n",
    "---\n",
    "* Edit \"images_dir\" variable with a path to a folder with raw images to process\n",
    "* Edit \"background_dir\" variable with a path to a folder with the generated background images\n",
    "* Edit \"output_dir\" variable with a path to a folder to save the background corrected images"
   ]
  },
  {
   "cell_type": "code",
   "execution_count": 2,
   "id": "happy-doctrine",
   "metadata": {},
   "outputs": [],
   "source": [
    "MA = MorphAn()\n",
    "\n",
    "images_dir = os.path.join(module_path,'src','example','images_raw')\n",
    "background_dir = MA.check_directory(module_path,'src/example/images_background')\n",
    "output_dir = MA.check_directory(module_path,'src/example/images_background_corrected')"
   ]
  },
  {
   "cell_type": "code",
   "execution_count": 3,
   "id": "compound-bidder",
   "metadata": {},
   "outputs": [
    {
     "name": "stdout",
     "output_type": "stream",
     "text": [
      "microdish_ctx_20x_DIV7_plateA_P3_1.tif\n"
     ]
    },
    {
     "name": "stderr",
     "output_type": "stream",
     "text": [
      "/home/Hyun/.conda/envs/cp4/lib/python3.8/site-packages/skimage/filters/rank/generic.py:262: UserWarning: Bad rank filter performance is expected due to a large number of bins (2990), equivalent to an approximate bitdepth of 11.5.\n",
      "  image, footprint, out, mask, n_bins = _preprocess_input(image, footprint,\n",
      "<ipython-input-3-307bcd9523fe>:11: UserWarning: /data/hyun/Analysis/scripts/MorphAn/src/example/images_background_corrected/microdish_ctx_20x_DIV7_plateA_P3_1.tif is a low contrast image\n",
      "  io.imsave(output_path,image_corrected)\n",
      "/home/Hyun/.conda/envs/cp4/lib/python3.8/site-packages/skimage/filters/rank/generic.py:262: UserWarning: Bad rank filter performance is expected due to a large number of bins (65536), equivalent to an approximate bitdepth of 16.0.\n",
      "  image, footprint, out, mask, n_bins = _preprocess_input(image, footprint,\n"
     ]
    },
    {
     "name": "stdout",
     "output_type": "stream",
     "text": [
      "microdish_ctx_20x_DIV7_plateA_O1_1.tif\n"
     ]
    },
    {
     "name": "stderr",
     "output_type": "stream",
     "text": [
      "<ipython-input-3-307bcd9523fe>:11: UserWarning: /data/hyun/Analysis/scripts/MorphAn/src/example/images_background_corrected/microdish_ctx_20x_DIV7_plateA_O1_1.tif is a low contrast image\n",
      "  io.imsave(output_path,image_corrected)\n",
      "/home/Hyun/.conda/envs/cp4/lib/python3.8/site-packages/skimage/filters/rank/generic.py:262: UserWarning: Bad rank filter performance is expected due to a large number of bins (5019), equivalent to an approximate bitdepth of 12.3.\n",
      "  image, footprint, out, mask, n_bins = _preprocess_input(image, footprint,\n"
     ]
    },
    {
     "name": "stdout",
     "output_type": "stream",
     "text": [
      "microdish_ctx_20x_DIV7_plateA_N2_1.tif\n"
     ]
    },
    {
     "name": "stderr",
     "output_type": "stream",
     "text": [
      "<ipython-input-3-307bcd9523fe>:11: UserWarning: /data/hyun/Analysis/scripts/MorphAn/src/example/images_background_corrected/microdish_ctx_20x_DIV7_plateA_N2_1.tif is a low contrast image\n",
      "  io.imsave(output_path,image_corrected)\n"
     ]
    }
   ],
   "source": [
    "for image_file in os.listdir(images_dir):\n",
    "    print(image_file)\n",
    "    image_path = os.path.join(images_dir,image_file)\n",
    "    background_path = os.path.join(background_dir,image_file)\n",
    "    output_path = os.path.join(output_dir,image_file)\n",
    "    \n",
    "    image = io.imread(image_path)\n",
    "    background = io.imread(background_path)\n",
    "    \n",
    "    image_corrected = MA.correct_background(image,background,'Median Filter', 'Yes', 10)\n",
    "    io.imsave(output_path,image_corrected)"
   ]
  },
  {
   "cell_type": "code",
   "execution_count": 4,
   "id": "applied-justice",
   "metadata": {
    "collapsed": true,
    "jupyter": {
     "outputs_hidden": true
    },
    "tags": []
   },
   "outputs": [
    {
     "name": "stdout",
     "output_type": "stream",
     "text": [
      "DIV5\n",
      "microdish_20x_DIV5_K_pos19_1.tif\n"
     ]
    },
    {
     "name": "stderr",
     "output_type": "stream",
     "text": [
      "/home/Hyun/.conda/envs/cp4/lib/python3.8/site-packages/skimage/filters/rank/generic.py:262: UserWarning: Bad rank filter performance is expected due to a large number of bins (65536), equivalent to an approximate bitdepth of 16.0.\n",
      "  image, footprint, out, mask, n_bins = _preprocess_input(image, footprint,\n",
      "<ipython-input-4-783ae30aa263>:22: UserWarning: /data/hyun/Analysis/data/UB.VI.220/DIV5/images_background_corrected/microdish_20x_DIV5_K_pos19_1.tif is a low contrast image\n",
      "  io.imsave(output_path,image_corrected)\n"
     ]
    },
    {
     "name": "stdout",
     "output_type": "stream",
     "text": [
      "microdish_20x_DIV5_I_pos18_1.tif\n"
     ]
    },
    {
     "name": "stderr",
     "output_type": "stream",
     "text": [
      "<ipython-input-4-783ae30aa263>:22: UserWarning: /data/hyun/Analysis/data/UB.VI.220/DIV5/images_background_corrected/microdish_20x_DIV5_I_pos18_1.tif is a low contrast image\n",
      "  io.imsave(output_path,image_corrected)\n",
      "/home/Hyun/.conda/envs/cp4/lib/python3.8/site-packages/skimage/filters/rank/generic.py:262: UserWarning: Bad rank filter performance is expected due to a large number of bins (1755), equivalent to an approximate bitdepth of 10.8.\n",
      "  image, footprint, out, mask, n_bins = _preprocess_input(image, footprint,\n"
     ]
    },
    {
     "name": "stdout",
     "output_type": "stream",
     "text": [
      "microdish_20x_DIV5_D_pos22_1.tif\n"
     ]
    },
    {
     "name": "stderr",
     "output_type": "stream",
     "text": [
      "<ipython-input-4-783ae30aa263>:22: UserWarning: /data/hyun/Analysis/data/UB.VI.220/DIV5/images_background_corrected/microdish_20x_DIV5_D_pos22_1.tif is a low contrast image\n",
      "  io.imsave(output_path,image_corrected)\n"
     ]
    },
    {
     "name": "stdout",
     "output_type": "stream",
     "text": [
      "microdish_20x_DIV5_H_pos8_1.tif\n"
     ]
    },
    {
     "name": "stderr",
     "output_type": "stream",
     "text": [
      "<ipython-input-4-783ae30aa263>:22: UserWarning: /data/hyun/Analysis/data/UB.VI.220/DIV5/images_background_corrected/microdish_20x_DIV5_H_pos8_1.tif is a low contrast image\n",
      "  io.imsave(output_path,image_corrected)\n"
     ]
    },
    {
     "name": "stdout",
     "output_type": "stream",
     "text": [
      "microdish_20x_DIV5_A_pos39_1.tif\n"
     ]
    },
    {
     "name": "stderr",
     "output_type": "stream",
     "text": [
      "<ipython-input-4-783ae30aa263>:22: UserWarning: /data/hyun/Analysis/data/UB.VI.220/DIV5/images_background_corrected/microdish_20x_DIV5_A_pos39_1.tif is a low contrast image\n",
      "  io.imsave(output_path,image_corrected)\n"
     ]
    },
    {
     "name": "stdout",
     "output_type": "stream",
     "text": [
      "microdish_20x_DIV5_I_pos3_1.tif\n"
     ]
    },
    {
     "name": "stderr",
     "output_type": "stream",
     "text": [
      "<ipython-input-4-783ae30aa263>:22: UserWarning: /data/hyun/Analysis/data/UB.VI.220/DIV5/images_background_corrected/microdish_20x_DIV5_I_pos3_1.tif is a low contrast image\n",
      "  io.imsave(output_path,image_corrected)\n"
     ]
    },
    {
     "name": "stdout",
     "output_type": "stream",
     "text": [
      "microdish_20x_DIV5_D_pos42_1.tif\n"
     ]
    },
    {
     "name": "stderr",
     "output_type": "stream",
     "text": [
      "<ipython-input-4-783ae30aa263>:22: UserWarning: /data/hyun/Analysis/data/UB.VI.220/DIV5/images_background_corrected/microdish_20x_DIV5_D_pos42_1.tif is a low contrast image\n",
      "  io.imsave(output_path,image_corrected)\n"
     ]
    },
    {
     "name": "stdout",
     "output_type": "stream",
     "text": [
      "microdish_20x_DIV5_I_pos21_1.tif\n"
     ]
    },
    {
     "name": "stderr",
     "output_type": "stream",
     "text": [
      "<ipython-input-4-783ae30aa263>:22: UserWarning: /data/hyun/Analysis/data/UB.VI.220/DIV5/images_background_corrected/microdish_20x_DIV5_I_pos21_1.tif is a low contrast image\n",
      "  io.imsave(output_path,image_corrected)\n"
     ]
    },
    {
     "name": "stdout",
     "output_type": "stream",
     "text": [
      "microdish_20x_DIV5_A_pos0_1.tif\n"
     ]
    },
    {
     "name": "stderr",
     "output_type": "stream",
     "text": [
      "<ipython-input-4-783ae30aa263>:22: UserWarning: /data/hyun/Analysis/data/UB.VI.220/DIV5/images_background_corrected/microdish_20x_DIV5_A_pos0_1.tif is a low contrast image\n",
      "  io.imsave(output_path,image_corrected)\n"
     ]
    },
    {
     "name": "stdout",
     "output_type": "stream",
     "text": [
      "microdish_20x_DIV5_G_pos18_1.tif\n"
     ]
    },
    {
     "name": "stderr",
     "output_type": "stream",
     "text": [
      "<ipython-input-4-783ae30aa263>:22: UserWarning: /data/hyun/Analysis/data/UB.VI.220/DIV5/images_background_corrected/microdish_20x_DIV5_G_pos18_1.tif is a low contrast image\n",
      "  io.imsave(output_path,image_corrected)\n"
     ]
    },
    {
     "name": "stdout",
     "output_type": "stream",
     "text": [
      "microdish_20x_DIV5_I_pos19_1.tif\n"
     ]
    },
    {
     "name": "stderr",
     "output_type": "stream",
     "text": [
      "<ipython-input-4-783ae30aa263>:22: UserWarning: /data/hyun/Analysis/data/UB.VI.220/DIV5/images_background_corrected/microdish_20x_DIV5_I_pos19_1.tif is a low contrast image\n",
      "  io.imsave(output_path,image_corrected)\n",
      "/home/Hyun/.conda/envs/cp4/lib/python3.8/site-packages/skimage/filters/rank/generic.py:262: UserWarning: Bad rank filter performance is expected due to a large number of bins (65534), equivalent to an approximate bitdepth of 16.0.\n",
      "  image, footprint, out, mask, n_bins = _preprocess_input(image, footprint,\n"
     ]
    },
    {
     "name": "stdout",
     "output_type": "stream",
     "text": [
      "microdish_20x_DIV5_D_pos30_1.tif\n"
     ]
    },
    {
     "name": "stderr",
     "output_type": "stream",
     "text": [
      "<ipython-input-4-783ae30aa263>:22: UserWarning: /data/hyun/Analysis/data/UB.VI.220/DIV5/images_background_corrected/microdish_20x_DIV5_D_pos30_1.tif is a low contrast image\n",
      "  io.imsave(output_path,image_corrected)\n"
     ]
    },
    {
     "name": "stdout",
     "output_type": "stream",
     "text": [
      "microdish_20x_DIV5_B_pos21_1.tif\n"
     ]
    },
    {
     "name": "stderr",
     "output_type": "stream",
     "text": [
      "<ipython-input-4-783ae30aa263>:22: UserWarning: /data/hyun/Analysis/data/UB.VI.220/DIV5/images_background_corrected/microdish_20x_DIV5_B_pos21_1.tif is a low contrast image\n",
      "  io.imsave(output_path,image_corrected)\n"
     ]
    },
    {
     "name": "stdout",
     "output_type": "stream",
     "text": [
      "microdish_20x_DIV5_A_pos31_1.tif\n"
     ]
    },
    {
     "name": "stderr",
     "output_type": "stream",
     "text": [
      "<ipython-input-4-783ae30aa263>:22: UserWarning: /data/hyun/Analysis/data/UB.VI.220/DIV5/images_background_corrected/microdish_20x_DIV5_A_pos31_1.tif is a low contrast image\n",
      "  io.imsave(output_path,image_corrected)\n"
     ]
    },
    {
     "name": "stdout",
     "output_type": "stream",
     "text": [
      "microdish_20x_DIV5_E_pos4_1.tif\n"
     ]
    },
    {
     "name": "stderr",
     "output_type": "stream",
     "text": [
      "<ipython-input-4-783ae30aa263>:22: UserWarning: /data/hyun/Analysis/data/UB.VI.220/DIV5/images_background_corrected/microdish_20x_DIV5_E_pos4_1.tif is a low contrast image\n",
      "  io.imsave(output_path,image_corrected)\n"
     ]
    },
    {
     "name": "stdout",
     "output_type": "stream",
     "text": [
      "microdish_20x_DIV5_D_pos16_1.tif\n"
     ]
    },
    {
     "name": "stderr",
     "output_type": "stream",
     "text": [
      "<ipython-input-4-783ae30aa263>:22: UserWarning: /data/hyun/Analysis/data/UB.VI.220/DIV5/images_background_corrected/microdish_20x_DIV5_D_pos16_1.tif is a low contrast image\n",
      "  io.imsave(output_path,image_corrected)\n",
      "/home/Hyun/.conda/envs/cp4/lib/python3.8/site-packages/skimage/filters/rank/generic.py:262: UserWarning: Bad rank filter performance is expected due to a large number of bins (1989), equivalent to an approximate bitdepth of 11.0.\n",
      "  image, footprint, out, mask, n_bins = _preprocess_input(image, footprint,\n"
     ]
    },
    {
     "name": "stdout",
     "output_type": "stream",
     "text": [
      "microdish_20x_DIV5_E_pos5_1.tif\n"
     ]
    },
    {
     "name": "stderr",
     "output_type": "stream",
     "text": [
      "<ipython-input-4-783ae30aa263>:22: UserWarning: /data/hyun/Analysis/data/UB.VI.220/DIV5/images_background_corrected/microdish_20x_DIV5_E_pos5_1.tif is a low contrast image\n",
      "  io.imsave(output_path,image_corrected)\n"
     ]
    },
    {
     "name": "stdout",
     "output_type": "stream",
     "text": [
      "microdish_20x_DIV5_L_pos15_1.tif\n"
     ]
    },
    {
     "name": "stderr",
     "output_type": "stream",
     "text": [
      "<ipython-input-4-783ae30aa263>:22: UserWarning: /data/hyun/Analysis/data/UB.VI.220/DIV5/images_background_corrected/microdish_20x_DIV5_L_pos15_1.tif is a low contrast image\n",
      "  io.imsave(output_path,image_corrected)\n"
     ]
    },
    {
     "name": "stdout",
     "output_type": "stream",
     "text": [
      "microdish_20x_DIV5_H_pos12_1.tif\n"
     ]
    },
    {
     "name": "stderr",
     "output_type": "stream",
     "text": [
      "<ipython-input-4-783ae30aa263>:22: UserWarning: /data/hyun/Analysis/data/UB.VI.220/DIV5/images_background_corrected/microdish_20x_DIV5_H_pos12_1.tif is a low contrast image\n",
      "  io.imsave(output_path,image_corrected)\n",
      "/home/Hyun/.conda/envs/cp4/lib/python3.8/site-packages/skimage/filters/rank/generic.py:262: UserWarning: Bad rank filter performance is expected due to a large number of bins (2320), equivalent to an approximate bitdepth of 11.2.\n",
      "  image, footprint, out, mask, n_bins = _preprocess_input(image, footprint,\n"
     ]
    },
    {
     "name": "stdout",
     "output_type": "stream",
     "text": [
      "microdish_20x_DIV5_G_pos1_1.tif\n"
     ]
    },
    {
     "name": "stderr",
     "output_type": "stream",
     "text": [
      "<ipython-input-4-783ae30aa263>:22: UserWarning: /data/hyun/Analysis/data/UB.VI.220/DIV5/images_background_corrected/microdish_20x_DIV5_G_pos1_1.tif is a low contrast image\n",
      "  io.imsave(output_path,image_corrected)\n"
     ]
    },
    {
     "name": "stdout",
     "output_type": "stream",
     "text": [
      "microdish_20x_DIV5_K_pos7_1.tif\n"
     ]
    },
    {
     "name": "stderr",
     "output_type": "stream",
     "text": [
      "<ipython-input-4-783ae30aa263>:22: UserWarning: /data/hyun/Analysis/data/UB.VI.220/DIV5/images_background_corrected/microdish_20x_DIV5_K_pos7_1.tif is a low contrast image\n",
      "  io.imsave(output_path,image_corrected)\n",
      "/home/Hyun/.conda/envs/cp4/lib/python3.8/site-packages/skimage/filters/rank/generic.py:262: UserWarning: Bad rank filter performance is expected due to a large number of bins (1556), equivalent to an approximate bitdepth of 10.6.\n",
      "  image, footprint, out, mask, n_bins = _preprocess_input(image, footprint,\n"
     ]
    },
    {
     "name": "stdout",
     "output_type": "stream",
     "text": [
      "microdish_20x_DIV5_F_pos9_1.tif\n"
     ]
    },
    {
     "name": "stderr",
     "output_type": "stream",
     "text": [
      "<ipython-input-4-783ae30aa263>:22: UserWarning: /data/hyun/Analysis/data/UB.VI.220/DIV5/images_background_corrected/microdish_20x_DIV5_F_pos9_1.tif is a low contrast image\n",
      "  io.imsave(output_path,image_corrected)\n"
     ]
    },
    {
     "name": "stdout",
     "output_type": "stream",
     "text": [
      "microdish_20x_DIV5_G_pos14_1.tif\n"
     ]
    },
    {
     "name": "stderr",
     "output_type": "stream",
     "text": [
      "<ipython-input-4-783ae30aa263>:22: UserWarning: /data/hyun/Analysis/data/UB.VI.220/DIV5/images_background_corrected/microdish_20x_DIV5_G_pos14_1.tif is a low contrast image\n",
      "  io.imsave(output_path,image_corrected)\n",
      "/home/Hyun/.conda/envs/cp4/lib/python3.8/site-packages/skimage/filters/rank/generic.py:262: UserWarning: Bad rank filter performance is expected due to a large number of bins (65532), equivalent to an approximate bitdepth of 16.0.\n",
      "  image, footprint, out, mask, n_bins = _preprocess_input(image, footprint,\n"
     ]
    },
    {
     "name": "stdout",
     "output_type": "stream",
     "text": [
      "microdish_20x_DIV5_A_pos7_1.tif\n"
     ]
    },
    {
     "name": "stderr",
     "output_type": "stream",
     "text": [
      "<ipython-input-4-783ae30aa263>:22: UserWarning: /data/hyun/Analysis/data/UB.VI.220/DIV5/images_background_corrected/microdish_20x_DIV5_A_pos7_1.tif is a low contrast image\n",
      "  io.imsave(output_path,image_corrected)\n",
      "/home/Hyun/.conda/envs/cp4/lib/python3.8/site-packages/skimage/filters/rank/generic.py:262: UserWarning: Bad rank filter performance is expected due to a large number of bins (2471), equivalent to an approximate bitdepth of 11.3.\n",
      "  image, footprint, out, mask, n_bins = _preprocess_input(image, footprint,\n"
     ]
    },
    {
     "name": "stdout",
     "output_type": "stream",
     "text": [
      "microdish_20x_DIV5_J_pos15_1.tif\n"
     ]
    },
    {
     "name": "stderr",
     "output_type": "stream",
     "text": [
      "<ipython-input-4-783ae30aa263>:22: UserWarning: /data/hyun/Analysis/data/UB.VI.220/DIV5/images_background_corrected/microdish_20x_DIV5_J_pos15_1.tif is a low contrast image\n",
      "  io.imsave(output_path,image_corrected)\n"
     ]
    },
    {
     "name": "stdout",
     "output_type": "stream",
     "text": [
      "microdish_20x_DIV5_L_pos20_1.tif\n"
     ]
    },
    {
     "name": "stderr",
     "output_type": "stream",
     "text": [
      "<ipython-input-4-783ae30aa263>:22: UserWarning: /data/hyun/Analysis/data/UB.VI.220/DIV5/images_background_corrected/microdish_20x_DIV5_L_pos20_1.tif is a low contrast image\n",
      "  io.imsave(output_path,image_corrected)\n"
     ]
    },
    {
     "name": "stdout",
     "output_type": "stream",
     "text": [
      "microdish_20x_DIV5_J_pos8_1.tif\n"
     ]
    },
    {
     "name": "stderr",
     "output_type": "stream",
     "text": [
      "<ipython-input-4-783ae30aa263>:22: UserWarning: /data/hyun/Analysis/data/UB.VI.220/DIV5/images_background_corrected/microdish_20x_DIV5_J_pos8_1.tif is a low contrast image\n",
      "  io.imsave(output_path,image_corrected)\n",
      "/home/Hyun/.conda/envs/cp4/lib/python3.8/site-packages/skimage/filters/rank/generic.py:262: UserWarning: Bad rank filter performance is expected due to a large number of bins (2157), equivalent to an approximate bitdepth of 11.1.\n",
      "  image, footprint, out, mask, n_bins = _preprocess_input(image, footprint,\n"
     ]
    },
    {
     "name": "stdout",
     "output_type": "stream",
     "text": [
      "microdish_20x_DIV5_E_pos14_1.tif\n"
     ]
    },
    {
     "name": "stderr",
     "output_type": "stream",
     "text": [
      "<ipython-input-4-783ae30aa263>:22: UserWarning: /data/hyun/Analysis/data/UB.VI.220/DIV5/images_background_corrected/microdish_20x_DIV5_E_pos14_1.tif is a low contrast image\n",
      "  io.imsave(output_path,image_corrected)\n",
      "/home/Hyun/.conda/envs/cp4/lib/python3.8/site-packages/skimage/filters/rank/generic.py:262: UserWarning: Bad rank filter performance is expected due to a large number of bins (2554), equivalent to an approximate bitdepth of 11.3.\n",
      "  image, footprint, out, mask, n_bins = _preprocess_input(image, footprint,\n"
     ]
    },
    {
     "name": "stdout",
     "output_type": "stream",
     "text": [
      "microdish_20x_DIV5_D_pos34_1.tif\n"
     ]
    },
    {
     "name": "stderr",
     "output_type": "stream",
     "text": [
      "<ipython-input-4-783ae30aa263>:22: UserWarning: /data/hyun/Analysis/data/UB.VI.220/DIV5/images_background_corrected/microdish_20x_DIV5_D_pos34_1.tif is a low contrast image\n",
      "  io.imsave(output_path,image_corrected)\n"
     ]
    },
    {
     "name": "stdout",
     "output_type": "stream",
     "text": [
      "microdish_20x_DIV5_F_pos7_1.tif\n"
     ]
    },
    {
     "name": "stderr",
     "output_type": "stream",
     "text": [
      "<ipython-input-4-783ae30aa263>:22: UserWarning: /data/hyun/Analysis/data/UB.VI.220/DIV5/images_background_corrected/microdish_20x_DIV5_F_pos7_1.tif is a low contrast image\n",
      "  io.imsave(output_path,image_corrected)\n"
     ]
    },
    {
     "name": "stdout",
     "output_type": "stream",
     "text": [
      "microdish_20x_DIV5_F_pos14_1.tif\n"
     ]
    },
    {
     "name": "stderr",
     "output_type": "stream",
     "text": [
      "<ipython-input-4-783ae30aa263>:22: UserWarning: /data/hyun/Analysis/data/UB.VI.220/DIV5/images_background_corrected/microdish_20x_DIV5_F_pos14_1.tif is a low contrast image\n",
      "  io.imsave(output_path,image_corrected)\n"
     ]
    },
    {
     "name": "stdout",
     "output_type": "stream",
     "text": [
      "microdish_20x_DIV5_K_pos1_1.tif\n"
     ]
    },
    {
     "name": "stderr",
     "output_type": "stream",
     "text": [
      "<ipython-input-4-783ae30aa263>:22: UserWarning: /data/hyun/Analysis/data/UB.VI.220/DIV5/images_background_corrected/microdish_20x_DIV5_K_pos1_1.tif is a low contrast image\n",
      "  io.imsave(output_path,image_corrected)\n"
     ]
    },
    {
     "name": "stdout",
     "output_type": "stream",
     "text": [
      "microdish_20x_DIV5_J_pos17_1.tif\n"
     ]
    },
    {
     "name": "stderr",
     "output_type": "stream",
     "text": [
      "<ipython-input-4-783ae30aa263>:22: UserWarning: /data/hyun/Analysis/data/UB.VI.220/DIV5/images_background_corrected/microdish_20x_DIV5_J_pos17_1.tif is a low contrast image\n",
      "  io.imsave(output_path,image_corrected)\n"
     ]
    },
    {
     "name": "stdout",
     "output_type": "stream",
     "text": [
      "microdish_20x_DIV5_D_pos10_1.tif\n"
     ]
    },
    {
     "name": "stderr",
     "output_type": "stream",
     "text": [
      "<ipython-input-4-783ae30aa263>:22: UserWarning: /data/hyun/Analysis/data/UB.VI.220/DIV5/images_background_corrected/microdish_20x_DIV5_D_pos10_1.tif is a low contrast image\n",
      "  io.imsave(output_path,image_corrected)\n",
      "/home/Hyun/.conda/envs/cp4/lib/python3.8/site-packages/skimage/filters/rank/generic.py:262: UserWarning: Bad rank filter performance is expected due to a large number of bins (1788), equivalent to an approximate bitdepth of 10.8.\n",
      "  image, footprint, out, mask, n_bins = _preprocess_input(image, footprint,\n"
     ]
    },
    {
     "name": "stdout",
     "output_type": "stream",
     "text": [
      "microdish_20x_DIV5_K_pos3_1.tif\n"
     ]
    },
    {
     "name": "stderr",
     "output_type": "stream",
     "text": [
      "<ipython-input-4-783ae30aa263>:22: UserWarning: /data/hyun/Analysis/data/UB.VI.220/DIV5/images_background_corrected/microdish_20x_DIV5_K_pos3_1.tif is a low contrast image\n",
      "  io.imsave(output_path,image_corrected)\n",
      "/home/Hyun/.conda/envs/cp4/lib/python3.8/site-packages/skimage/filters/rank/generic.py:262: UserWarning: Bad rank filter performance is expected due to a large number of bins (2114), equivalent to an approximate bitdepth of 11.0.\n",
      "  image, footprint, out, mask, n_bins = _preprocess_input(image, footprint,\n"
     ]
    },
    {
     "name": "stdout",
     "output_type": "stream",
     "text": [
      "microdish_20x_DIV5_L_pos14_1.tif\n"
     ]
    },
    {
     "name": "stderr",
     "output_type": "stream",
     "text": [
      "<ipython-input-4-783ae30aa263>:22: UserWarning: /data/hyun/Analysis/data/UB.VI.220/DIV5/images_background_corrected/microdish_20x_DIV5_L_pos14_1.tif is a low contrast image\n",
      "  io.imsave(output_path,image_corrected)\n"
     ]
    },
    {
     "name": "stdout",
     "output_type": "stream",
     "text": [
      "microdish_20x_DIV5_G_pos19_1.tif\n"
     ]
    },
    {
     "name": "stderr",
     "output_type": "stream",
     "text": [
      "<ipython-input-4-783ae30aa263>:22: UserWarning: /data/hyun/Analysis/data/UB.VI.220/DIV5/images_background_corrected/microdish_20x_DIV5_G_pos19_1.tif is a low contrast image\n",
      "  io.imsave(output_path,image_corrected)\n"
     ]
    },
    {
     "name": "stdout",
     "output_type": "stream",
     "text": [
      "microdish_20x_DIV5_D_pos4_1.tif\n"
     ]
    },
    {
     "name": "stderr",
     "output_type": "stream",
     "text": [
      "<ipython-input-4-783ae30aa263>:22: UserWarning: /data/hyun/Analysis/data/UB.VI.220/DIV5/images_background_corrected/microdish_20x_DIV5_D_pos4_1.tif is a low contrast image\n",
      "  io.imsave(output_path,image_corrected)\n",
      "/home/Hyun/.conda/envs/cp4/lib/python3.8/site-packages/skimage/filters/rank/generic.py:262: UserWarning: Bad rank filter performance is expected due to a large number of bins (65535), equivalent to an approximate bitdepth of 16.0.\n",
      "  image, footprint, out, mask, n_bins = _preprocess_input(image, footprint,\n"
     ]
    },
    {
     "name": "stdout",
     "output_type": "stream",
     "text": [
      "microdish_20x_DIV5_G_pos2_1.tif\n"
     ]
    },
    {
     "name": "stderr",
     "output_type": "stream",
     "text": [
      "<ipython-input-4-783ae30aa263>:22: UserWarning: /data/hyun/Analysis/data/UB.VI.220/DIV5/images_background_corrected/microdish_20x_DIV5_G_pos2_1.tif is a low contrast image\n",
      "  io.imsave(output_path,image_corrected)\n"
     ]
    },
    {
     "name": "stdout",
     "output_type": "stream",
     "text": [
      "microdish_20x_DIV5_A_pos23_1.tif\n"
     ]
    },
    {
     "name": "stderr",
     "output_type": "stream",
     "text": [
      "<ipython-input-4-783ae30aa263>:22: UserWarning: /data/hyun/Analysis/data/UB.VI.220/DIV5/images_background_corrected/microdish_20x_DIV5_A_pos23_1.tif is a low contrast image\n",
      "  io.imsave(output_path,image_corrected)\n"
     ]
    },
    {
     "name": "stdout",
     "output_type": "stream",
     "text": [
      "microdish_20x_DIV5_F_pos17_1.tif\n"
     ]
    },
    {
     "name": "stderr",
     "output_type": "stream",
     "text": [
      "<ipython-input-4-783ae30aa263>:22: UserWarning: /data/hyun/Analysis/data/UB.VI.220/DIV5/images_background_corrected/microdish_20x_DIV5_F_pos17_1.tif is a low contrast image\n",
      "  io.imsave(output_path,image_corrected)\n"
     ]
    },
    {
     "name": "stdout",
     "output_type": "stream",
     "text": [
      "microdish_20x_DIV5_J_pos11_2.tif\n"
     ]
    },
    {
     "name": "stderr",
     "output_type": "stream",
     "text": [
      "<ipython-input-4-783ae30aa263>:22: UserWarning: /data/hyun/Analysis/data/UB.VI.220/DIV5/images_background_corrected/microdish_20x_DIV5_J_pos11_2.tif is a low contrast image\n",
      "  io.imsave(output_path,image_corrected)\n"
     ]
    },
    {
     "name": "stdout",
     "output_type": "stream",
     "text": [
      "microdish_20x_DIV5_F_pos21_1.tif\n"
     ]
    },
    {
     "name": "stderr",
     "output_type": "stream",
     "text": [
      "<ipython-input-4-783ae30aa263>:22: UserWarning: /data/hyun/Analysis/data/UB.VI.220/DIV5/images_background_corrected/microdish_20x_DIV5_F_pos21_1.tif is a low contrast image\n",
      "  io.imsave(output_path,image_corrected)\n",
      "/home/Hyun/.conda/envs/cp4/lib/python3.8/site-packages/skimage/filters/rank/generic.py:262: UserWarning: Bad rank filter performance is expected due to a large number of bins (1744), equivalent to an approximate bitdepth of 10.8.\n",
      "  image, footprint, out, mask, n_bins = _preprocess_input(image, footprint,\n"
     ]
    },
    {
     "name": "stdout",
     "output_type": "stream",
     "text": [
      "microdish_20x_DIV5_E_pos0_1.tif\n"
     ]
    },
    {
     "name": "stderr",
     "output_type": "stream",
     "text": [
      "<ipython-input-4-783ae30aa263>:22: UserWarning: /data/hyun/Analysis/data/UB.VI.220/DIV5/images_background_corrected/microdish_20x_DIV5_E_pos0_1.tif is a low contrast image\n",
      "  io.imsave(output_path,image_corrected)\n"
     ]
    },
    {
     "name": "stdout",
     "output_type": "stream",
     "text": [
      "microdish_20x_DIV5_D_pos19_1.tif\n"
     ]
    },
    {
     "name": "stderr",
     "output_type": "stream",
     "text": [
      "<ipython-input-4-783ae30aa263>:22: UserWarning: /data/hyun/Analysis/data/UB.VI.220/DIV5/images_background_corrected/microdish_20x_DIV5_D_pos19_1.tif is a low contrast image\n",
      "  io.imsave(output_path,image_corrected)\n"
     ]
    },
    {
     "name": "stdout",
     "output_type": "stream",
     "text": [
      "microdish_20x_DIV5_G_pos7_1.tif\n"
     ]
    },
    {
     "name": "stderr",
     "output_type": "stream",
     "text": [
      "<ipython-input-4-783ae30aa263>:22: UserWarning: /data/hyun/Analysis/data/UB.VI.220/DIV5/images_background_corrected/microdish_20x_DIV5_G_pos7_1.tif is a low contrast image\n",
      "  io.imsave(output_path,image_corrected)\n",
      "/home/Hyun/.conda/envs/cp4/lib/python3.8/site-packages/skimage/filters/rank/generic.py:262: UserWarning: Bad rank filter performance is expected due to a large number of bins (65531), equivalent to an approximate bitdepth of 16.0.\n",
      "  image, footprint, out, mask, n_bins = _preprocess_input(image, footprint,\n"
     ]
    },
    {
     "name": "stdout",
     "output_type": "stream",
     "text": [
      "microdish_20x_DIV5_A_pos51_1.tif\n"
     ]
    },
    {
     "name": "stderr",
     "output_type": "stream",
     "text": [
      "<ipython-input-4-783ae30aa263>:22: UserWarning: /data/hyun/Analysis/data/UB.VI.220/DIV5/images_background_corrected/microdish_20x_DIV5_A_pos51_1.tif is a low contrast image\n",
      "  io.imsave(output_path,image_corrected)\n"
     ]
    },
    {
     "name": "stdout",
     "output_type": "stream",
     "text": [
      "microdish_20x_DIV5_H_pos13_1.tif\n"
     ]
    },
    {
     "name": "stderr",
     "output_type": "stream",
     "text": [
      "<ipython-input-4-783ae30aa263>:22: UserWarning: /data/hyun/Analysis/data/UB.VI.220/DIV5/images_background_corrected/microdish_20x_DIV5_H_pos13_1.tif is a low contrast image\n",
      "  io.imsave(output_path,image_corrected)\n"
     ]
    },
    {
     "name": "stdout",
     "output_type": "stream",
     "text": [
      "microdish_20x_DIV5_B_pos47_1.tif\n"
     ]
    },
    {
     "name": "stderr",
     "output_type": "stream",
     "text": [
      "<ipython-input-4-783ae30aa263>:22: UserWarning: /data/hyun/Analysis/data/UB.VI.220/DIV5/images_background_corrected/microdish_20x_DIV5_B_pos47_1.tif is a low contrast image\n",
      "  io.imsave(output_path,image_corrected)\n"
     ]
    },
    {
     "name": "stdout",
     "output_type": "stream",
     "text": [
      "microdish_20x_DIV5_K_pos5_1.tif\n"
     ]
    },
    {
     "name": "stderr",
     "output_type": "stream",
     "text": [
      "<ipython-input-4-783ae30aa263>:22: UserWarning: /data/hyun/Analysis/data/UB.VI.220/DIV5/images_background_corrected/microdish_20x_DIV5_K_pos5_1.tif is a low contrast image\n",
      "  io.imsave(output_path,image_corrected)\n"
     ]
    },
    {
     "name": "stdout",
     "output_type": "stream",
     "text": [
      "microdish_20x_DIV5_A_pos11_1.tif\n"
     ]
    },
    {
     "name": "stderr",
     "output_type": "stream",
     "text": [
      "<ipython-input-4-783ae30aa263>:22: UserWarning: /data/hyun/Analysis/data/UB.VI.220/DIV5/images_background_corrected/microdish_20x_DIV5_A_pos11_1.tif is a low contrast image\n",
      "  io.imsave(output_path,image_corrected)\n"
     ]
    },
    {
     "name": "stdout",
     "output_type": "stream",
     "text": [
      "microdish_20x_DIV5_K_pos2_1.tif\n"
     ]
    },
    {
     "name": "stderr",
     "output_type": "stream",
     "text": [
      "<ipython-input-4-783ae30aa263>:22: UserWarning: /data/hyun/Analysis/data/UB.VI.220/DIV5/images_background_corrected/microdish_20x_DIV5_K_pos2_1.tif is a low contrast image\n",
      "  io.imsave(output_path,image_corrected)\n"
     ]
    },
    {
     "name": "stdout",
     "output_type": "stream",
     "text": [
      "microdish_20x_DIV5_D_pos41_1.tif\n"
     ]
    },
    {
     "name": "stderr",
     "output_type": "stream",
     "text": [
      "<ipython-input-4-783ae30aa263>:22: UserWarning: /data/hyun/Analysis/data/UB.VI.220/DIV5/images_background_corrected/microdish_20x_DIV5_D_pos41_1.tif is a low contrast image\n",
      "  io.imsave(output_path,image_corrected)\n"
     ]
    },
    {
     "name": "stdout",
     "output_type": "stream",
     "text": [
      "microdish_20x_DIV5_H_pos17_1.tif\n"
     ]
    },
    {
     "name": "stderr",
     "output_type": "stream",
     "text": [
      "<ipython-input-4-783ae30aa263>:22: UserWarning: /data/hyun/Analysis/data/UB.VI.220/DIV5/images_background_corrected/microdish_20x_DIV5_H_pos17_1.tif is a low contrast image\n",
      "  io.imsave(output_path,image_corrected)\n",
      "/home/Hyun/.conda/envs/cp4/lib/python3.8/site-packages/skimage/filters/rank/generic.py:262: UserWarning: Bad rank filter performance is expected due to a large number of bins (2631), equivalent to an approximate bitdepth of 11.4.\n",
      "  image, footprint, out, mask, n_bins = _preprocess_input(image, footprint,\n"
     ]
    },
    {
     "name": "stdout",
     "output_type": "stream",
     "text": [
      "microdish_20x_DIV5_A_pos38_1.tif\n"
     ]
    },
    {
     "name": "stderr",
     "output_type": "stream",
     "text": [
      "<ipython-input-4-783ae30aa263>:22: UserWarning: /data/hyun/Analysis/data/UB.VI.220/DIV5/images_background_corrected/microdish_20x_DIV5_A_pos38_1.tif is a low contrast image\n",
      "  io.imsave(output_path,image_corrected)\n"
     ]
    },
    {
     "name": "stdout",
     "output_type": "stream",
     "text": [
      "microdish_20x_DIV5_H_pos3_1.tif\n"
     ]
    },
    {
     "name": "stderr",
     "output_type": "stream",
     "text": [
      "<ipython-input-4-783ae30aa263>:22: UserWarning: /data/hyun/Analysis/data/UB.VI.220/DIV5/images_background_corrected/microdish_20x_DIV5_H_pos3_1.tif is a low contrast image\n",
      "  io.imsave(output_path,image_corrected)\n"
     ]
    },
    {
     "name": "stdout",
     "output_type": "stream",
     "text": [
      "microdish_20x_DIV5_E_pos15_1.tif\n"
     ]
    },
    {
     "name": "stderr",
     "output_type": "stream",
     "text": [
      "<ipython-input-4-783ae30aa263>:22: UserWarning: /data/hyun/Analysis/data/UB.VI.220/DIV5/images_background_corrected/microdish_20x_DIV5_E_pos15_1.tif is a low contrast image\n",
      "  io.imsave(output_path,image_corrected)\n"
     ]
    },
    {
     "name": "stdout",
     "output_type": "stream",
     "text": [
      "microdish_20x_DIV5_I_pos2_1.tif\n"
     ]
    },
    {
     "name": "stderr",
     "output_type": "stream",
     "text": [
      "<ipython-input-4-783ae30aa263>:22: UserWarning: /data/hyun/Analysis/data/UB.VI.220/DIV5/images_background_corrected/microdish_20x_DIV5_I_pos2_1.tif is a low contrast image\n",
      "  io.imsave(output_path,image_corrected)\n"
     ]
    },
    {
     "name": "stdout",
     "output_type": "stream",
     "text": [
      "microdish_20x_DIV5_F_pos0_1.tif\n"
     ]
    },
    {
     "name": "stderr",
     "output_type": "stream",
     "text": [
      "<ipython-input-4-783ae30aa263>:22: UserWarning: /data/hyun/Analysis/data/UB.VI.220/DIV5/images_background_corrected/microdish_20x_DIV5_F_pos0_1.tif is a low contrast image\n",
      "  io.imsave(output_path,image_corrected)\n"
     ]
    },
    {
     "name": "stdout",
     "output_type": "stream",
     "text": [
      "microdish_20x_DIV5_G_pos9_1.tif\n"
     ]
    },
    {
     "name": "stderr",
     "output_type": "stream",
     "text": [
      "<ipython-input-4-783ae30aa263>:22: UserWarning: /data/hyun/Analysis/data/UB.VI.220/DIV5/images_background_corrected/microdish_20x_DIV5_G_pos9_1.tif is a low contrast image\n",
      "  io.imsave(output_path,image_corrected)\n"
     ]
    },
    {
     "name": "stdout",
     "output_type": "stream",
     "text": [
      "microdish_20x_DIV5_H_pos5_1.tif\n"
     ]
    },
    {
     "name": "stderr",
     "output_type": "stream",
     "text": [
      "<ipython-input-4-783ae30aa263>:22: UserWarning: /data/hyun/Analysis/data/UB.VI.220/DIV5/images_background_corrected/microdish_20x_DIV5_H_pos5_1.tif is a low contrast image\n",
      "  io.imsave(output_path,image_corrected)\n",
      "/home/Hyun/.conda/envs/cp4/lib/python3.8/site-packages/skimage/filters/rank/generic.py:262: UserWarning: Bad rank filter performance is expected due to a large number of bins (1933), equivalent to an approximate bitdepth of 10.9.\n",
      "  image, footprint, out, mask, n_bins = _preprocess_input(image, footprint,\n"
     ]
    },
    {
     "name": "stdout",
     "output_type": "stream",
     "text": [
      "microdish_20x_DIV5_B_pos33_1.tif\n"
     ]
    },
    {
     "name": "stderr",
     "output_type": "stream",
     "text": [
      "<ipython-input-4-783ae30aa263>:22: UserWarning: /data/hyun/Analysis/data/UB.VI.220/DIV5/images_background_corrected/microdish_20x_DIV5_B_pos33_1.tif is a low contrast image\n",
      "  io.imsave(output_path,image_corrected)\n",
      "/home/Hyun/.conda/envs/cp4/lib/python3.8/site-packages/skimage/filters/rank/generic.py:262: UserWarning: Bad rank filter performance is expected due to a large number of bins (1638), equivalent to an approximate bitdepth of 10.7.\n",
      "  image, footprint, out, mask, n_bins = _preprocess_input(image, footprint,\n"
     ]
    },
    {
     "name": "stdout",
     "output_type": "stream",
     "text": [
      "microdish_20x_DIV5_E_pos8_1.tif\n"
     ]
    },
    {
     "name": "stderr",
     "output_type": "stream",
     "text": [
      "<ipython-input-4-783ae30aa263>:22: UserWarning: /data/hyun/Analysis/data/UB.VI.220/DIV5/images_background_corrected/microdish_20x_DIV5_E_pos8_1.tif is a low contrast image\n",
      "  io.imsave(output_path,image_corrected)\n"
     ]
    },
    {
     "name": "stdout",
     "output_type": "stream",
     "text": [
      "microdish_20x_DIV5_B_pos24_1.tif\n"
     ]
    },
    {
     "name": "stderr",
     "output_type": "stream",
     "text": [
      "<ipython-input-4-783ae30aa263>:22: UserWarning: /data/hyun/Analysis/data/UB.VI.220/DIV5/images_background_corrected/microdish_20x_DIV5_B_pos24_1.tif is a low contrast image\n",
      "  io.imsave(output_path,image_corrected)\n"
     ]
    },
    {
     "name": "stdout",
     "output_type": "stream",
     "text": [
      "microdish_20x_DIV5_D_pos29_1.tif\n"
     ]
    },
    {
     "name": "stderr",
     "output_type": "stream",
     "text": [
      "<ipython-input-4-783ae30aa263>:22: UserWarning: /data/hyun/Analysis/data/UB.VI.220/DIV5/images_background_corrected/microdish_20x_DIV5_D_pos29_1.tif is a low contrast image\n",
      "  io.imsave(output_path,image_corrected)\n"
     ]
    },
    {
     "name": "stdout",
     "output_type": "stream",
     "text": [
      "microdish_20x_DIV5_G_pos25_1.tif\n"
     ]
    },
    {
     "name": "stderr",
     "output_type": "stream",
     "text": [
      "<ipython-input-4-783ae30aa263>:22: UserWarning: /data/hyun/Analysis/data/UB.VI.220/DIV5/images_background_corrected/microdish_20x_DIV5_G_pos25_1.tif is a low contrast image\n",
      "  io.imsave(output_path,image_corrected)\n",
      "/home/Hyun/.conda/envs/cp4/lib/python3.8/site-packages/skimage/filters/rank/generic.py:262: UserWarning: Bad rank filter performance is expected due to a large number of bins (1874), equivalent to an approximate bitdepth of 10.9.\n",
      "  image, footprint, out, mask, n_bins = _preprocess_input(image, footprint,\n"
     ]
    },
    {
     "name": "stdout",
     "output_type": "stream",
     "text": [
      "microdish_20x_DIV5_H_pos4_1.tif\n"
     ]
    },
    {
     "name": "stderr",
     "output_type": "stream",
     "text": [
      "<ipython-input-4-783ae30aa263>:22: UserWarning: /data/hyun/Analysis/data/UB.VI.220/DIV5/images_background_corrected/microdish_20x_DIV5_H_pos4_1.tif is a low contrast image\n",
      "  io.imsave(output_path,image_corrected)\n",
      "/home/Hyun/.conda/envs/cp4/lib/python3.8/site-packages/skimage/filters/rank/generic.py:262: UserWarning: Bad rank filter performance is expected due to a large number of bins (2074), equivalent to an approximate bitdepth of 11.0.\n",
      "  image, footprint, out, mask, n_bins = _preprocess_input(image, footprint,\n"
     ]
    },
    {
     "name": "stdout",
     "output_type": "stream",
     "text": [
      "microdish_20x_DIV5_D_pos23_1.tif\n"
     ]
    },
    {
     "name": "stderr",
     "output_type": "stream",
     "text": [
      "<ipython-input-4-783ae30aa263>:22: UserWarning: /data/hyun/Analysis/data/UB.VI.220/DIV5/images_background_corrected/microdish_20x_DIV5_D_pos23_1.tif is a low contrast image\n",
      "  io.imsave(output_path,image_corrected)\n"
     ]
    },
    {
     "name": "stdout",
     "output_type": "stream",
     "text": [
      "microdish_20x_DIV5_A_pos42_1.tif\n"
     ]
    },
    {
     "name": "stderr",
     "output_type": "stream",
     "text": [
      "<ipython-input-4-783ae30aa263>:22: UserWarning: /data/hyun/Analysis/data/UB.VI.220/DIV5/images_background_corrected/microdish_20x_DIV5_A_pos42_1.tif is a low contrast image\n",
      "  io.imsave(output_path,image_corrected)\n"
     ]
    },
    {
     "name": "stdout",
     "output_type": "stream",
     "text": [
      "microdish_20x_DIV5_A_pos8_1.tif\n"
     ]
    },
    {
     "name": "stderr",
     "output_type": "stream",
     "text": [
      "<ipython-input-4-783ae30aa263>:22: UserWarning: /data/hyun/Analysis/data/UB.VI.220/DIV5/images_background_corrected/microdish_20x_DIV5_A_pos8_1.tif is a low contrast image\n",
      "  io.imsave(output_path,image_corrected)\n"
     ]
    },
    {
     "name": "stdout",
     "output_type": "stream",
     "text": [
      "microdish_20x_DIV5_J_pos25_1.tif\n"
     ]
    },
    {
     "name": "stderr",
     "output_type": "stream",
     "text": [
      "<ipython-input-4-783ae30aa263>:22: UserWarning: /data/hyun/Analysis/data/UB.VI.220/DIV5/images_background_corrected/microdish_20x_DIV5_J_pos25_1.tif is a low contrast image\n",
      "  io.imsave(output_path,image_corrected)\n"
     ]
    },
    {
     "name": "stdout",
     "output_type": "stream",
     "text": [
      "microdish_20x_DIV5_J_pos10_1.tif\n"
     ]
    },
    {
     "name": "stderr",
     "output_type": "stream",
     "text": [
      "<ipython-input-4-783ae30aa263>:22: UserWarning: /data/hyun/Analysis/data/UB.VI.220/DIV5/images_background_corrected/microdish_20x_DIV5_J_pos10_1.tif is a low contrast image\n",
      "  io.imsave(output_path,image_corrected)\n"
     ]
    },
    {
     "name": "stdout",
     "output_type": "stream",
     "text": [
      "microdish_20x_DIV5_J_pos22_1.tif\n"
     ]
    },
    {
     "name": "stderr",
     "output_type": "stream",
     "text": [
      "<ipython-input-4-783ae30aa263>:22: UserWarning: /data/hyun/Analysis/data/UB.VI.220/DIV5/images_background_corrected/microdish_20x_DIV5_J_pos22_1.tif is a low contrast image\n",
      "  io.imsave(output_path,image_corrected)\n"
     ]
    },
    {
     "name": "stdout",
     "output_type": "stream",
     "text": [
      "microdish_20x_DIV5_I_pos24_1.tif\n"
     ]
    },
    {
     "name": "stderr",
     "output_type": "stream",
     "text": [
      "<ipython-input-4-783ae30aa263>:22: UserWarning: /data/hyun/Analysis/data/UB.VI.220/DIV5/images_background_corrected/microdish_20x_DIV5_I_pos24_1.tif is a low contrast image\n",
      "  io.imsave(output_path,image_corrected)\n"
     ]
    },
    {
     "name": "stdout",
     "output_type": "stream",
     "text": [
      "microdish_20x_DIV5_B_pos8_1.tif\n"
     ]
    },
    {
     "name": "stderr",
     "output_type": "stream",
     "text": [
      "<ipython-input-4-783ae30aa263>:22: UserWarning: /data/hyun/Analysis/data/UB.VI.220/DIV5/images_background_corrected/microdish_20x_DIV5_B_pos8_1.tif is a low contrast image\n",
      "  io.imsave(output_path,image_corrected)\n"
     ]
    },
    {
     "name": "stdout",
     "output_type": "stream",
     "text": [
      "microdish_20x_DIV5_L_pos16_1.tif\n"
     ]
    },
    {
     "name": "stderr",
     "output_type": "stream",
     "text": [
      "<ipython-input-4-783ae30aa263>:22: UserWarning: /data/hyun/Analysis/data/UB.VI.220/DIV5/images_background_corrected/microdish_20x_DIV5_L_pos16_1.tif is a low contrast image\n",
      "  io.imsave(output_path,image_corrected)\n"
     ]
    },
    {
     "name": "stdout",
     "output_type": "stream",
     "text": [
      "microdish_20x_DIV5_J_pos21_1.tif\n"
     ]
    },
    {
     "name": "stderr",
     "output_type": "stream",
     "text": [
      "<ipython-input-4-783ae30aa263>:22: UserWarning: /data/hyun/Analysis/data/UB.VI.220/DIV5/images_background_corrected/microdish_20x_DIV5_J_pos21_1.tif is a low contrast image\n",
      "  io.imsave(output_path,image_corrected)\n",
      "/home/Hyun/.conda/envs/cp4/lib/python3.8/site-packages/skimage/filters/rank/generic.py:262: UserWarning: Bad rank filter performance is expected due to a large number of bins (65533), equivalent to an approximate bitdepth of 16.0.\n",
      "  image, footprint, out, mask, n_bins = _preprocess_input(image, footprint,\n"
     ]
    },
    {
     "name": "stdout",
     "output_type": "stream",
     "text": [
      "microdish_20x_DIV5_G_pos15_1.tif\n"
     ]
    },
    {
     "name": "stderr",
     "output_type": "stream",
     "text": [
      "<ipython-input-4-783ae30aa263>:22: UserWarning: /data/hyun/Analysis/data/UB.VI.220/DIV5/images_background_corrected/microdish_20x_DIV5_G_pos15_1.tif is a low contrast image\n",
      "  io.imsave(output_path,image_corrected)\n",
      "/home/Hyun/.conda/envs/cp4/lib/python3.8/site-packages/skimage/filters/rank/generic.py:262: UserWarning: Bad rank filter performance is expected due to a large number of bins (65529), equivalent to an approximate bitdepth of 16.0.\n",
      "  image, footprint, out, mask, n_bins = _preprocess_input(image, footprint,\n"
     ]
    },
    {
     "name": "stdout",
     "output_type": "stream",
     "text": [
      "microdish_20x_DIV5_A_pos21_1.tif\n"
     ]
    },
    {
     "name": "stderr",
     "output_type": "stream",
     "text": [
      "<ipython-input-4-783ae30aa263>:22: UserWarning: /data/hyun/Analysis/data/UB.VI.220/DIV5/images_background_corrected/microdish_20x_DIV5_A_pos21_1.tif is a low contrast image\n",
      "  io.imsave(output_path,image_corrected)\n"
     ]
    },
    {
     "name": "stdout",
     "output_type": "stream",
     "text": [
      "microdish_20x_DIV5_J_pos4_1.tif\n"
     ]
    },
    {
     "name": "stderr",
     "output_type": "stream",
     "text": [
      "<ipython-input-4-783ae30aa263>:22: UserWarning: /data/hyun/Analysis/data/UB.VI.220/DIV5/images_background_corrected/microdish_20x_DIV5_J_pos4_1.tif is a low contrast image\n",
      "  io.imsave(output_path,image_corrected)\n"
     ]
    },
    {
     "name": "stdout",
     "output_type": "stream",
     "text": [
      "microdish_20x_DIV5_J_pos24_1.tif\n"
     ]
    },
    {
     "name": "stderr",
     "output_type": "stream",
     "text": [
      "<ipython-input-4-783ae30aa263>:22: UserWarning: /data/hyun/Analysis/data/UB.VI.220/DIV5/images_background_corrected/microdish_20x_DIV5_J_pos24_1.tif is a low contrast image\n",
      "  io.imsave(output_path,image_corrected)\n"
     ]
    },
    {
     "name": "stdout",
     "output_type": "stream",
     "text": [
      "microdish_20x_DIV5_L_pos25_1.tif\n"
     ]
    },
    {
     "name": "stderr",
     "output_type": "stream",
     "text": [
      "<ipython-input-4-783ae30aa263>:22: UserWarning: /data/hyun/Analysis/data/UB.VI.220/DIV5/images_background_corrected/microdish_20x_DIV5_L_pos25_1.tif is a low contrast image\n",
      "  io.imsave(output_path,image_corrected)\n"
     ]
    },
    {
     "name": "stdout",
     "output_type": "stream",
     "text": [
      "microdish_20x_DIV5_L_pos5_1.tif\n"
     ]
    },
    {
     "name": "stderr",
     "output_type": "stream",
     "text": [
      "<ipython-input-4-783ae30aa263>:22: UserWarning: /data/hyun/Analysis/data/UB.VI.220/DIV5/images_background_corrected/microdish_20x_DIV5_L_pos5_1.tif is a low contrast image\n",
      "  io.imsave(output_path,image_corrected)\n"
     ]
    },
    {
     "name": "stdout",
     "output_type": "stream",
     "text": [
      "microdish_20x_DIV5_A_pos45_1.tif\n"
     ]
    },
    {
     "name": "stderr",
     "output_type": "stream",
     "text": [
      "<ipython-input-4-783ae30aa263>:22: UserWarning: /data/hyun/Analysis/data/UB.VI.220/DIV5/images_background_corrected/microdish_20x_DIV5_A_pos45_1.tif is a low contrast image\n",
      "  io.imsave(output_path,image_corrected)\n",
      "/home/Hyun/.conda/envs/cp4/lib/python3.8/site-packages/skimage/filters/rank/generic.py:262: UserWarning: Bad rank filter performance is expected due to a large number of bins (2117), equivalent to an approximate bitdepth of 11.0.\n",
      "  image, footprint, out, mask, n_bins = _preprocess_input(image, footprint,\n"
     ]
    },
    {
     "name": "stdout",
     "output_type": "stream",
     "text": [
      "microdish_20x_DIV5_B_pos6_1.tif\n"
     ]
    },
    {
     "name": "stderr",
     "output_type": "stream",
     "text": [
      "<ipython-input-4-783ae30aa263>:22: UserWarning: /data/hyun/Analysis/data/UB.VI.220/DIV5/images_background_corrected/microdish_20x_DIV5_B_pos6_1.tif is a low contrast image\n",
      "  io.imsave(output_path,image_corrected)\n"
     ]
    },
    {
     "name": "stdout",
     "output_type": "stream",
     "text": [
      "microdish_20x_DIV5_I_pos8_1.tif\n"
     ]
    },
    {
     "name": "stderr",
     "output_type": "stream",
     "text": [
      "<ipython-input-4-783ae30aa263>:22: UserWarning: /data/hyun/Analysis/data/UB.VI.220/DIV5/images_background_corrected/microdish_20x_DIV5_I_pos8_1.tif is a low contrast image\n",
      "  io.imsave(output_path,image_corrected)\n",
      "/home/Hyun/.conda/envs/cp4/lib/python3.8/site-packages/skimage/filters/rank/generic.py:262: UserWarning: Bad rank filter performance is expected due to a large number of bins (1970), equivalent to an approximate bitdepth of 10.9.\n",
      "  image, footprint, out, mask, n_bins = _preprocess_input(image, footprint,\n"
     ]
    },
    {
     "name": "stdout",
     "output_type": "stream",
     "text": [
      "microdish_20x_DIV5_I_pos13_1.tif\n"
     ]
    },
    {
     "name": "stderr",
     "output_type": "stream",
     "text": [
      "<ipython-input-4-783ae30aa263>:22: UserWarning: /data/hyun/Analysis/data/UB.VI.220/DIV5/images_background_corrected/microdish_20x_DIV5_I_pos13_1.tif is a low contrast image\n",
      "  io.imsave(output_path,image_corrected)\n"
     ]
    },
    {
     "name": "stdout",
     "output_type": "stream",
     "text": [
      "microdish_20x_DIV5_L_pos24_1.tif\n"
     ]
    },
    {
     "name": "stderr",
     "output_type": "stream",
     "text": [
      "<ipython-input-4-783ae30aa263>:22: UserWarning: /data/hyun/Analysis/data/UB.VI.220/DIV5/images_background_corrected/microdish_20x_DIV5_L_pos24_1.tif is a low contrast image\n",
      "  io.imsave(output_path,image_corrected)\n",
      "/home/Hyun/.conda/envs/cp4/lib/python3.8/site-packages/skimage/filters/rank/generic.py:262: UserWarning: Bad rank filter performance is expected due to a large number of bins (1753), equivalent to an approximate bitdepth of 10.8.\n",
      "  image, footprint, out, mask, n_bins = _preprocess_input(image, footprint,\n"
     ]
    },
    {
     "name": "stdout",
     "output_type": "stream",
     "text": [
      "microdish_20x_DIV5_F_pos11_1.tif\n"
     ]
    },
    {
     "name": "stderr",
     "output_type": "stream",
     "text": [
      "<ipython-input-4-783ae30aa263>:22: UserWarning: /data/hyun/Analysis/data/UB.VI.220/DIV5/images_background_corrected/microdish_20x_DIV5_F_pos11_1.tif is a low contrast image\n",
      "  io.imsave(output_path,image_corrected)\n"
     ]
    },
    {
     "name": "stdout",
     "output_type": "stream",
     "text": [
      "microdish_20x_DIV5_G_pos11_1.tif\n"
     ]
    },
    {
     "name": "stderr",
     "output_type": "stream",
     "text": [
      "<ipython-input-4-783ae30aa263>:22: UserWarning: /data/hyun/Analysis/data/UB.VI.220/DIV5/images_background_corrected/microdish_20x_DIV5_G_pos11_1.tif is a low contrast image\n",
      "  io.imsave(output_path,image_corrected)\n"
     ]
    },
    {
     "name": "stdout",
     "output_type": "stream",
     "text": [
      "microdish_20x_DIV5_I_pos11_1.tif\n"
     ]
    },
    {
     "name": "stderr",
     "output_type": "stream",
     "text": [
      "<ipython-input-4-783ae30aa263>:22: UserWarning: /data/hyun/Analysis/data/UB.VI.220/DIV5/images_background_corrected/microdish_20x_DIV5_I_pos11_1.tif is a low contrast image\n",
      "  io.imsave(output_path,image_corrected)\n"
     ]
    },
    {
     "name": "stdout",
     "output_type": "stream",
     "text": [
      "microdish_20x_DIV5_K_pos10_1.tif\n"
     ]
    },
    {
     "name": "stderr",
     "output_type": "stream",
     "text": [
      "<ipython-input-4-783ae30aa263>:22: UserWarning: /data/hyun/Analysis/data/UB.VI.220/DIV5/images_background_corrected/microdish_20x_DIV5_K_pos10_1.tif is a low contrast image\n",
      "  io.imsave(output_path,image_corrected)\n"
     ]
    },
    {
     "name": "stdout",
     "output_type": "stream",
     "text": [
      "microdish_20x_DIV5_F_pos2_1.tif\n"
     ]
    },
    {
     "name": "stderr",
     "output_type": "stream",
     "text": [
      "<ipython-input-4-783ae30aa263>:22: UserWarning: /data/hyun/Analysis/data/UB.VI.220/DIV5/images_background_corrected/microdish_20x_DIV5_F_pos2_1.tif is a low contrast image\n",
      "  io.imsave(output_path,image_corrected)\n",
      "/home/Hyun/.conda/envs/cp4/lib/python3.8/site-packages/skimage/filters/rank/generic.py:262: UserWarning: Bad rank filter performance is expected due to a large number of bins (1628), equivalent to an approximate bitdepth of 10.7.\n",
      "  image, footprint, out, mask, n_bins = _preprocess_input(image, footprint,\n"
     ]
    },
    {
     "name": "stdout",
     "output_type": "stream",
     "text": [
      "microdish_20x_DIV5_B_pos2_1.tif\n"
     ]
    },
    {
     "name": "stderr",
     "output_type": "stream",
     "text": [
      "<ipython-input-4-783ae30aa263>:22: UserWarning: /data/hyun/Analysis/data/UB.VI.220/DIV5/images_background_corrected/microdish_20x_DIV5_B_pos2_1.tif is a low contrast image\n",
      "  io.imsave(output_path,image_corrected)\n"
     ]
    },
    {
     "name": "stdout",
     "output_type": "stream",
     "text": [
      "microdish_20x_DIV5_G_pos22_1.tif\n"
     ]
    },
    {
     "name": "stderr",
     "output_type": "stream",
     "text": [
      "<ipython-input-4-783ae30aa263>:22: UserWarning: /data/hyun/Analysis/data/UB.VI.220/DIV5/images_background_corrected/microdish_20x_DIV5_G_pos22_1.tif is a low contrast image\n",
      "  io.imsave(output_path,image_corrected)\n"
     ]
    },
    {
     "name": "stdout",
     "output_type": "stream",
     "text": [
      "microdish_20x_DIV5_K_pos22_1.tif\n"
     ]
    },
    {
     "name": "stderr",
     "output_type": "stream",
     "text": [
      "<ipython-input-4-783ae30aa263>:22: UserWarning: /data/hyun/Analysis/data/UB.VI.220/DIV5/images_background_corrected/microdish_20x_DIV5_K_pos22_1.tif is a low contrast image\n",
      "  io.imsave(output_path,image_corrected)\n"
     ]
    },
    {
     "name": "stdout",
     "output_type": "stream",
     "text": [
      "microdish_20x_DIV5_E_pos11_1.tif\n"
     ]
    },
    {
     "name": "stderr",
     "output_type": "stream",
     "text": [
      "<ipython-input-4-783ae30aa263>:22: UserWarning: /data/hyun/Analysis/data/UB.VI.220/DIV5/images_background_corrected/microdish_20x_DIV5_E_pos11_1.tif is a low contrast image\n",
      "  io.imsave(output_path,image_corrected)\n"
     ]
    },
    {
     "name": "stdout",
     "output_type": "stream",
     "text": [
      "microdish_20x_DIV5_K_pos14_1.tif\n"
     ]
    },
    {
     "name": "stderr",
     "output_type": "stream",
     "text": [
      "<ipython-input-4-783ae30aa263>:22: UserWarning: /data/hyun/Analysis/data/UB.VI.220/DIV5/images_background_corrected/microdish_20x_DIV5_K_pos14_1.tif is a low contrast image\n",
      "  io.imsave(output_path,image_corrected)\n"
     ]
    },
    {
     "name": "stdout",
     "output_type": "stream",
     "text": [
      "microdish_20x_DIV5_K_pos6_1.tif\n"
     ]
    },
    {
     "name": "stderr",
     "output_type": "stream",
     "text": [
      "<ipython-input-4-783ae30aa263>:22: UserWarning: /data/hyun/Analysis/data/UB.VI.220/DIV5/images_background_corrected/microdish_20x_DIV5_K_pos6_1.tif is a low contrast image\n",
      "  io.imsave(output_path,image_corrected)\n"
     ]
    },
    {
     "name": "stdout",
     "output_type": "stream",
     "text": [
      "microdish_20x_DIV5_I_pos16_1.tif\n"
     ]
    },
    {
     "name": "stderr",
     "output_type": "stream",
     "text": [
      "<ipython-input-4-783ae30aa263>:22: UserWarning: /data/hyun/Analysis/data/UB.VI.220/DIV5/images_background_corrected/microdish_20x_DIV5_I_pos16_1.tif is a low contrast image\n",
      "  io.imsave(output_path,image_corrected)\n"
     ]
    },
    {
     "name": "stdout",
     "output_type": "stream",
     "text": [
      "microdish_20x_DIV5_A_pos44_2.tif\n"
     ]
    },
    {
     "name": "stderr",
     "output_type": "stream",
     "text": [
      "<ipython-input-4-783ae30aa263>:22: UserWarning: /data/hyun/Analysis/data/UB.VI.220/DIV5/images_background_corrected/microdish_20x_DIV5_A_pos44_2.tif is a low contrast image\n",
      "  io.imsave(output_path,image_corrected)\n"
     ]
    },
    {
     "name": "stdout",
     "output_type": "stream",
     "text": [
      "microdish_20x_DIV5_B_pos18_1.tif\n"
     ]
    },
    {
     "name": "stderr",
     "output_type": "stream",
     "text": [
      "<ipython-input-4-783ae30aa263>:22: UserWarning: /data/hyun/Analysis/data/UB.VI.220/DIV5/images_background_corrected/microdish_20x_DIV5_B_pos18_1.tif is a low contrast image\n",
      "  io.imsave(output_path,image_corrected)\n"
     ]
    },
    {
     "name": "stdout",
     "output_type": "stream",
     "text": [
      "microdish_20x_DIV5_B_pos9_1.tif\n"
     ]
    },
    {
     "name": "stderr",
     "output_type": "stream",
     "text": [
      "<ipython-input-4-783ae30aa263>:22: UserWarning: /data/hyun/Analysis/data/UB.VI.220/DIV5/images_background_corrected/microdish_20x_DIV5_B_pos9_1.tif is a low contrast image\n",
      "  io.imsave(output_path,image_corrected)\n"
     ]
    },
    {
     "name": "stdout",
     "output_type": "stream",
     "text": [
      "microdish_20x_DIV5_I_pos15_1.tif\n"
     ]
    },
    {
     "name": "stderr",
     "output_type": "stream",
     "text": [
      "<ipython-input-4-783ae30aa263>:22: UserWarning: /data/hyun/Analysis/data/UB.VI.220/DIV5/images_background_corrected/microdish_20x_DIV5_I_pos15_1.tif is a low contrast image\n",
      "  io.imsave(output_path,image_corrected)\n"
     ]
    },
    {
     "name": "stdout",
     "output_type": "stream",
     "text": [
      "microdish_20x_DIV5_I_pos1_1.tif\n"
     ]
    },
    {
     "name": "stderr",
     "output_type": "stream",
     "text": [
      "<ipython-input-4-783ae30aa263>:22: UserWarning: /data/hyun/Analysis/data/UB.VI.220/DIV5/images_background_corrected/microdish_20x_DIV5_I_pos1_1.tif is a low contrast image\n",
      "  io.imsave(output_path,image_corrected)\n",
      "/home/Hyun/.conda/envs/cp4/lib/python3.8/site-packages/skimage/filters/rank/generic.py:262: UserWarning: Bad rank filter performance is expected due to a large number of bins (2579), equivalent to an approximate bitdepth of 11.3.\n",
      "  image, footprint, out, mask, n_bins = _preprocess_input(image, footprint,\n"
     ]
    },
    {
     "name": "stdout",
     "output_type": "stream",
     "text": [
      "microdish_20x_DIV5_A_pos30_1.tif\n"
     ]
    },
    {
     "name": "stderr",
     "output_type": "stream",
     "text": [
      "<ipython-input-4-783ae30aa263>:22: UserWarning: /data/hyun/Analysis/data/UB.VI.220/DIV5/images_background_corrected/microdish_20x_DIV5_A_pos30_1.tif is a low contrast image\n",
      "  io.imsave(output_path,image_corrected)\n"
     ]
    },
    {
     "name": "stdout",
     "output_type": "stream",
     "text": [
      "microdish_20x_DIV5_J_pos16_1.tif\n"
     ]
    },
    {
     "name": "stderr",
     "output_type": "stream",
     "text": [
      "<ipython-input-4-783ae30aa263>:22: UserWarning: /data/hyun/Analysis/data/UB.VI.220/DIV5/images_background_corrected/microdish_20x_DIV5_J_pos16_1.tif is a low contrast image\n",
      "  io.imsave(output_path,image_corrected)\n"
     ]
    },
    {
     "name": "stdout",
     "output_type": "stream",
     "text": [
      "microdish_20x_DIV5_F_pos12_1.tif\n"
     ]
    },
    {
     "name": "stderr",
     "output_type": "stream",
     "text": [
      "<ipython-input-4-783ae30aa263>:22: UserWarning: /data/hyun/Analysis/data/UB.VI.220/DIV5/images_background_corrected/microdish_20x_DIV5_F_pos12_1.tif is a low contrast image\n",
      "  io.imsave(output_path,image_corrected)\n"
     ]
    },
    {
     "name": "stdout",
     "output_type": "stream",
     "text": [
      "microdish_20x_DIV5_J_pos11_1.tif\n"
     ]
    },
    {
     "name": "stderr",
     "output_type": "stream",
     "text": [
      "<ipython-input-4-783ae30aa263>:22: UserWarning: /data/hyun/Analysis/data/UB.VI.220/DIV5/images_background_corrected/microdish_20x_DIV5_J_pos11_1.tif is a low contrast image\n",
      "  io.imsave(output_path,image_corrected)\n"
     ]
    },
    {
     "name": "stdout",
     "output_type": "stream",
     "text": [
      "microdish_20x_DIV5_J_pos20_1.tif\n"
     ]
    },
    {
     "name": "stderr",
     "output_type": "stream",
     "text": [
      "<ipython-input-4-783ae30aa263>:22: UserWarning: /data/hyun/Analysis/data/UB.VI.220/DIV5/images_background_corrected/microdish_20x_DIV5_J_pos20_1.tif is a low contrast image\n",
      "  io.imsave(output_path,image_corrected)\n"
     ]
    },
    {
     "name": "stdout",
     "output_type": "stream",
     "text": [
      "microdish_20x_DIV5_A_pos43_1.tif\n"
     ]
    },
    {
     "name": "stderr",
     "output_type": "stream",
     "text": [
      "<ipython-input-4-783ae30aa263>:22: UserWarning: /data/hyun/Analysis/data/UB.VI.220/DIV5/images_background_corrected/microdish_20x_DIV5_A_pos43_1.tif is a low contrast image\n",
      "  io.imsave(output_path,image_corrected)\n"
     ]
    },
    {
     "name": "stdout",
     "output_type": "stream",
     "text": [
      "microdish_20x_DIV5_A_pos10_1.tif\n"
     ]
    },
    {
     "name": "stderr",
     "output_type": "stream",
     "text": [
      "<ipython-input-4-783ae30aa263>:22: UserWarning: /data/hyun/Analysis/data/UB.VI.220/DIV5/images_background_corrected/microdish_20x_DIV5_A_pos10_1.tif is a low contrast image\n",
      "  io.imsave(output_path,image_corrected)\n"
     ]
    },
    {
     "name": "stdout",
     "output_type": "stream",
     "text": [
      "microdish_20x_DIV5_I_pos5_1.tif\n"
     ]
    },
    {
     "name": "stderr",
     "output_type": "stream",
     "text": [
      "<ipython-input-4-783ae30aa263>:22: UserWarning: /data/hyun/Analysis/data/UB.VI.220/DIV5/images_background_corrected/microdish_20x_DIV5_I_pos5_1.tif is a low contrast image\n",
      "  io.imsave(output_path,image_corrected)\n"
     ]
    },
    {
     "name": "stdout",
     "output_type": "stream",
     "text": [
      "microdish_20x_DIV5_D_pos35_1.tif\n"
     ]
    },
    {
     "name": "stderr",
     "output_type": "stream",
     "text": [
      "<ipython-input-4-783ae30aa263>:22: UserWarning: /data/hyun/Analysis/data/UB.VI.220/DIV5/images_background_corrected/microdish_20x_DIV5_D_pos35_1.tif is a low contrast image\n",
      "  io.imsave(output_path,image_corrected)\n"
     ]
    },
    {
     "name": "stdout",
     "output_type": "stream",
     "text": [
      "microdish_20x_DIV5_J_pos2_1.tif\n"
     ]
    },
    {
     "name": "stderr",
     "output_type": "stream",
     "text": [
      "<ipython-input-4-783ae30aa263>:22: UserWarning: /data/hyun/Analysis/data/UB.VI.220/DIV5/images_background_corrected/microdish_20x_DIV5_J_pos2_1.tif is a low contrast image\n",
      "  io.imsave(output_path,image_corrected)\n"
     ]
    },
    {
     "name": "stdout",
     "output_type": "stream",
     "text": [
      "microdish_20x_DIV5_K_pos12_2.tif\n"
     ]
    },
    {
     "name": "stderr",
     "output_type": "stream",
     "text": [
      "<ipython-input-4-783ae30aa263>:22: UserWarning: /data/hyun/Analysis/data/UB.VI.220/DIV5/images_background_corrected/microdish_20x_DIV5_K_pos12_2.tif is a low contrast image\n",
      "  io.imsave(output_path,image_corrected)\n"
     ]
    },
    {
     "name": "stdout",
     "output_type": "stream",
     "text": [
      "microdish_20x_DIV5_K_pos9_1.tif\n"
     ]
    },
    {
     "name": "stderr",
     "output_type": "stream",
     "text": [
      "<ipython-input-4-783ae30aa263>:22: UserWarning: /data/hyun/Analysis/data/UB.VI.220/DIV5/images_background_corrected/microdish_20x_DIV5_K_pos9_1.tif is a low contrast image\n",
      "  io.imsave(output_path,image_corrected)\n",
      "/home/Hyun/.conda/envs/cp4/lib/python3.8/site-packages/skimage/filters/rank/generic.py:262: UserWarning: Bad rank filter performance is expected due to a large number of bins (2302), equivalent to an approximate bitdepth of 11.2.\n",
      "  image, footprint, out, mask, n_bins = _preprocess_input(image, footprint,\n"
     ]
    },
    {
     "name": "stdout",
     "output_type": "stream",
     "text": [
      "microdish_20x_DIV5_F_pos19_1.tif\n"
     ]
    },
    {
     "name": "stderr",
     "output_type": "stream",
     "text": [
      "<ipython-input-4-783ae30aa263>:22: UserWarning: /data/hyun/Analysis/data/UB.VI.220/DIV5/images_background_corrected/microdish_20x_DIV5_F_pos19_1.tif is a low contrast image\n",
      "  io.imsave(output_path,image_corrected)\n"
     ]
    },
    {
     "name": "stdout",
     "output_type": "stream",
     "text": [
      "microdish_20x_DIV5_B_pos38_1.tif\n"
     ]
    },
    {
     "name": "stderr",
     "output_type": "stream",
     "text": [
      "<ipython-input-4-783ae30aa263>:22: UserWarning: /data/hyun/Analysis/data/UB.VI.220/DIV5/images_background_corrected/microdish_20x_DIV5_B_pos38_1.tif is a low contrast image\n",
      "  io.imsave(output_path,image_corrected)\n",
      "/home/Hyun/.conda/envs/cp4/lib/python3.8/site-packages/skimage/filters/rank/generic.py:262: UserWarning: Bad rank filter performance is expected due to a large number of bins (2485), equivalent to an approximate bitdepth of 11.3.\n",
      "  image, footprint, out, mask, n_bins = _preprocess_input(image, footprint,\n"
     ]
    },
    {
     "name": "stdout",
     "output_type": "stream",
     "text": [
      "microdish_20x_DIV5_B_pos4_1.tif\n"
     ]
    },
    {
     "name": "stderr",
     "output_type": "stream",
     "text": [
      "<ipython-input-4-783ae30aa263>:22: UserWarning: /data/hyun/Analysis/data/UB.VI.220/DIV5/images_background_corrected/microdish_20x_DIV5_B_pos4_1.tif is a low contrast image\n",
      "  io.imsave(output_path,image_corrected)\n"
     ]
    },
    {
     "name": "stdout",
     "output_type": "stream",
     "text": [
      "microdish_20x_DIV5_B_pos30_1.tif\n"
     ]
    },
    {
     "name": "stderr",
     "output_type": "stream",
     "text": [
      "<ipython-input-4-783ae30aa263>:22: UserWarning: /data/hyun/Analysis/data/UB.VI.220/DIV5/images_background_corrected/microdish_20x_DIV5_B_pos30_1.tif is a low contrast image\n",
      "  io.imsave(output_path,image_corrected)\n",
      "/home/Hyun/.conda/envs/cp4/lib/python3.8/site-packages/skimage/filters/rank/generic.py:262: UserWarning: Bad rank filter performance is expected due to a large number of bins (2187), equivalent to an approximate bitdepth of 11.1.\n",
      "  image, footprint, out, mask, n_bins = _preprocess_input(image, footprint,\n"
     ]
    },
    {
     "name": "stdout",
     "output_type": "stream",
     "text": [
      "microdish_20x_DIV5_B_pos13_1.tif\n"
     ]
    },
    {
     "name": "stderr",
     "output_type": "stream",
     "text": [
      "<ipython-input-4-783ae30aa263>:22: UserWarning: /data/hyun/Analysis/data/UB.VI.220/DIV5/images_background_corrected/microdish_20x_DIV5_B_pos13_1.tif is a low contrast image\n",
      "  io.imsave(output_path,image_corrected)\n"
     ]
    },
    {
     "name": "stdout",
     "output_type": "stream",
     "text": [
      "microdish_20x_DIV5_B_pos29_1.tif\n"
     ]
    },
    {
     "name": "stderr",
     "output_type": "stream",
     "text": [
      "<ipython-input-4-783ae30aa263>:22: UserWarning: /data/hyun/Analysis/data/UB.VI.220/DIV5/images_background_corrected/microdish_20x_DIV5_B_pos29_1.tif is a low contrast image\n",
      "  io.imsave(output_path,image_corrected)\n"
     ]
    },
    {
     "name": "stdout",
     "output_type": "stream",
     "text": [
      "microdish_20x_DIV5_H_pos11_1.tif\n"
     ]
    },
    {
     "name": "stderr",
     "output_type": "stream",
     "text": [
      "<ipython-input-4-783ae30aa263>:22: UserWarning: /data/hyun/Analysis/data/UB.VI.220/DIV5/images_background_corrected/microdish_20x_DIV5_H_pos11_1.tif is a low contrast image\n",
      "  io.imsave(output_path,image_corrected)\n"
     ]
    },
    {
     "name": "stdout",
     "output_type": "stream",
     "text": [
      "microdish_20x_DIV5_I_pos9_1.tif\n"
     ]
    },
    {
     "name": "stderr",
     "output_type": "stream",
     "text": [
      "<ipython-input-4-783ae30aa263>:22: UserWarning: /data/hyun/Analysis/data/UB.VI.220/DIV5/images_background_corrected/microdish_20x_DIV5_I_pos9_1.tif is a low contrast image\n",
      "  io.imsave(output_path,image_corrected)\n"
     ]
    },
    {
     "name": "stdout",
     "output_type": "stream",
     "text": [
      "microdish_20x_DIV5_F_pos1_2.tif\n"
     ]
    },
    {
     "name": "stderr",
     "output_type": "stream",
     "text": [
      "<ipython-input-4-783ae30aa263>:22: UserWarning: /data/hyun/Analysis/data/UB.VI.220/DIV5/images_background_corrected/microdish_20x_DIV5_F_pos1_2.tif is a low contrast image\n",
      "  io.imsave(output_path,image_corrected)\n"
     ]
    },
    {
     "name": "stdout",
     "output_type": "stream",
     "text": [
      "microdish_20x_DIV5_B_pos26_1.tif\n"
     ]
    },
    {
     "name": "stderr",
     "output_type": "stream",
     "text": [
      "<ipython-input-4-783ae30aa263>:22: UserWarning: /data/hyun/Analysis/data/UB.VI.220/DIV5/images_background_corrected/microdish_20x_DIV5_B_pos26_1.tif is a low contrast image\n",
      "  io.imsave(output_path,image_corrected)\n"
     ]
    },
    {
     "name": "stdout",
     "output_type": "stream",
     "text": [
      "microdish_20x_DIV5_A_pos12_1.tif\n"
     ]
    },
    {
     "name": "stderr",
     "output_type": "stream",
     "text": [
      "<ipython-input-4-783ae30aa263>:22: UserWarning: /data/hyun/Analysis/data/UB.VI.220/DIV5/images_background_corrected/microdish_20x_DIV5_A_pos12_1.tif is a low contrast image\n",
      "  io.imsave(output_path,image_corrected)\n",
      "/home/Hyun/.conda/envs/cp4/lib/python3.8/site-packages/skimage/filters/rank/generic.py:262: UserWarning: Bad rank filter performance is expected due to a large number of bins (65525), equivalent to an approximate bitdepth of 16.0.\n",
      "  image, footprint, out, mask, n_bins = _preprocess_input(image, footprint,\n"
     ]
    },
    {
     "name": "stdout",
     "output_type": "stream",
     "text": [
      "microdish_20x_DIV5_K_pos20_1.tif\n"
     ]
    },
    {
     "name": "stderr",
     "output_type": "stream",
     "text": [
      "<ipython-input-4-783ae30aa263>:22: UserWarning: /data/hyun/Analysis/data/UB.VI.220/DIV5/images_background_corrected/microdish_20x_DIV5_K_pos20_1.tif is a low contrast image\n",
      "  io.imsave(output_path,image_corrected)\n"
     ]
    },
    {
     "name": "stdout",
     "output_type": "stream",
     "text": [
      "microdish_20x_DIV5_B_pos36_1.tif\n"
     ]
    },
    {
     "name": "stderr",
     "output_type": "stream",
     "text": [
      "<ipython-input-4-783ae30aa263>:22: UserWarning: /data/hyun/Analysis/data/UB.VI.220/DIV5/images_background_corrected/microdish_20x_DIV5_B_pos36_1.tif is a low contrast image\n",
      "  io.imsave(output_path,image_corrected)\n",
      "/home/Hyun/.conda/envs/cp4/lib/python3.8/site-packages/skimage/filters/rank/generic.py:262: UserWarning: Bad rank filter performance is expected due to a large number of bins (2694), equivalent to an approximate bitdepth of 11.4.\n",
      "  image, footprint, out, mask, n_bins = _preprocess_input(image, footprint,\n"
     ]
    },
    {
     "name": "stdout",
     "output_type": "stream",
     "text": [
      "microdish_20x_DIV5_A_pos50_1.tif\n"
     ]
    },
    {
     "name": "stderr",
     "output_type": "stream",
     "text": [
      "<ipython-input-4-783ae30aa263>:22: UserWarning: /data/hyun/Analysis/data/UB.VI.220/DIV5/images_background_corrected/microdish_20x_DIV5_A_pos50_1.tif is a low contrast image\n",
      "  io.imsave(output_path,image_corrected)\n"
     ]
    },
    {
     "name": "stdout",
     "output_type": "stream",
     "text": [
      "microdish_20x_DIV5_B_pos16_1.tif\n"
     ]
    },
    {
     "name": "stderr",
     "output_type": "stream",
     "text": [
      "<ipython-input-4-783ae30aa263>:22: UserWarning: /data/hyun/Analysis/data/UB.VI.220/DIV5/images_background_corrected/microdish_20x_DIV5_B_pos16_1.tif is a low contrast image\n",
      "  io.imsave(output_path,image_corrected)\n",
      "/home/Hyun/.conda/envs/cp4/lib/python3.8/site-packages/skimage/filters/rank/generic.py:262: UserWarning: Bad rank filter performance is expected due to a large number of bins (2051), equivalent to an approximate bitdepth of 11.0.\n",
      "  image, footprint, out, mask, n_bins = _preprocess_input(image, footprint,\n"
     ]
    },
    {
     "name": "stdout",
     "output_type": "stream",
     "text": [
      "microdish_20x_DIV5_B_pos7_1.tif\n"
     ]
    },
    {
     "name": "stderr",
     "output_type": "stream",
     "text": [
      "<ipython-input-4-783ae30aa263>:22: UserWarning: /data/hyun/Analysis/data/UB.VI.220/DIV5/images_background_corrected/microdish_20x_DIV5_B_pos7_1.tif is a low contrast image\n",
      "  io.imsave(output_path,image_corrected)\n"
     ]
    },
    {
     "name": "stdout",
     "output_type": "stream",
     "text": [
      "microdish_20x_DIV5_I_pos23_1.tif\n"
     ]
    },
    {
     "name": "stderr",
     "output_type": "stream",
     "text": [
      "<ipython-input-4-783ae30aa263>:22: UserWarning: /data/hyun/Analysis/data/UB.VI.220/DIV5/images_background_corrected/microdish_20x_DIV5_I_pos23_1.tif is a low contrast image\n",
      "  io.imsave(output_path,image_corrected)\n"
     ]
    },
    {
     "name": "stdout",
     "output_type": "stream",
     "text": [
      "microdish_20x_DIV5_A_pos34_1.tif\n"
     ]
    },
    {
     "name": "stderr",
     "output_type": "stream",
     "text": [
      "<ipython-input-4-783ae30aa263>:22: UserWarning: /data/hyun/Analysis/data/UB.VI.220/DIV5/images_background_corrected/microdish_20x_DIV5_A_pos34_1.tif is a low contrast image\n",
      "  io.imsave(output_path,image_corrected)\n",
      "/home/Hyun/.conda/envs/cp4/lib/python3.8/site-packages/skimage/filters/rank/generic.py:262: UserWarning: Bad rank filter performance is expected due to a large number of bins (2133), equivalent to an approximate bitdepth of 11.1.\n",
      "  image, footprint, out, mask, n_bins = _preprocess_input(image, footprint,\n"
     ]
    },
    {
     "name": "stdout",
     "output_type": "stream",
     "text": [
      "microdish_20x_DIV5_I_pos6_1.tif\n"
     ]
    },
    {
     "name": "stderr",
     "output_type": "stream",
     "text": [
      "<ipython-input-4-783ae30aa263>:22: UserWarning: /data/hyun/Analysis/data/UB.VI.220/DIV5/images_background_corrected/microdish_20x_DIV5_I_pos6_1.tif is a low contrast image\n",
      "  io.imsave(output_path,image_corrected)\n",
      "/home/Hyun/.conda/envs/cp4/lib/python3.8/site-packages/skimage/filters/rank/generic.py:262: UserWarning: Bad rank filter performance is expected due to a large number of bins (2313), equivalent to an approximate bitdepth of 11.2.\n",
      "  image, footprint, out, mask, n_bins = _preprocess_input(image, footprint,\n"
     ]
    },
    {
     "name": "stdout",
     "output_type": "stream",
     "text": [
      "microdish_20x_DIV5_B_pos37_1.tif\n"
     ]
    },
    {
     "name": "stderr",
     "output_type": "stream",
     "text": [
      "<ipython-input-4-783ae30aa263>:22: UserWarning: /data/hyun/Analysis/data/UB.VI.220/DIV5/images_background_corrected/microdish_20x_DIV5_B_pos37_1.tif is a low contrast image\n",
      "  io.imsave(output_path,image_corrected)\n"
     ]
    },
    {
     "name": "stdout",
     "output_type": "stream",
     "text": [
      "microdish_20x_DIV5_L_pos13_1.tif\n"
     ]
    },
    {
     "name": "stderr",
     "output_type": "stream",
     "text": [
      "<ipython-input-4-783ae30aa263>:22: UserWarning: /data/hyun/Analysis/data/UB.VI.220/DIV5/images_background_corrected/microdish_20x_DIV5_L_pos13_1.tif is a low contrast image\n",
      "  io.imsave(output_path,image_corrected)\n"
     ]
    },
    {
     "name": "stdout",
     "output_type": "stream",
     "text": [
      "microdish_20x_DIV5_B_pos22_1.tif\n"
     ]
    },
    {
     "name": "stderr",
     "output_type": "stream",
     "text": [
      "<ipython-input-4-783ae30aa263>:22: UserWarning: /data/hyun/Analysis/data/UB.VI.220/DIV5/images_background_corrected/microdish_20x_DIV5_B_pos22_1.tif is a low contrast image\n",
      "  io.imsave(output_path,image_corrected)\n"
     ]
    },
    {
     "name": "stdout",
     "output_type": "stream",
     "text": [
      "microdish_20x_DIV5_I_pos25_1.tif\n"
     ]
    },
    {
     "name": "stderr",
     "output_type": "stream",
     "text": [
      "<ipython-input-4-783ae30aa263>:22: UserWarning: /data/hyun/Analysis/data/UB.VI.220/DIV5/images_background_corrected/microdish_20x_DIV5_I_pos25_1.tif is a low contrast image\n",
      "  io.imsave(output_path,image_corrected)\n"
     ]
    },
    {
     "name": "stdout",
     "output_type": "stream",
     "text": [
      "microdish_20x_DIV5_D_pos25_1.tif\n"
     ]
    },
    {
     "name": "stderr",
     "output_type": "stream",
     "text": [
      "<ipython-input-4-783ae30aa263>:22: UserWarning: /data/hyun/Analysis/data/UB.VI.220/DIV5/images_background_corrected/microdish_20x_DIV5_D_pos25_1.tif is a low contrast image\n",
      "  io.imsave(output_path,image_corrected)\n"
     ]
    },
    {
     "name": "stdout",
     "output_type": "stream",
     "text": [
      "microdish_20x_DIV5_K_pos0_1.tif\n"
     ]
    },
    {
     "name": "stderr",
     "output_type": "stream",
     "text": [
      "<ipython-input-4-783ae30aa263>:22: UserWarning: /data/hyun/Analysis/data/UB.VI.220/DIV5/images_background_corrected/microdish_20x_DIV5_K_pos0_1.tif is a low contrast image\n",
      "  io.imsave(output_path,image_corrected)\n"
     ]
    },
    {
     "name": "stdout",
     "output_type": "stream",
     "text": [
      "microdish_20x_DIV5_D_pos20_1.tif\n"
     ]
    },
    {
     "name": "stderr",
     "output_type": "stream",
     "text": [
      "<ipython-input-4-783ae30aa263>:22: UserWarning: /data/hyun/Analysis/data/UB.VI.220/DIV5/images_background_corrected/microdish_20x_DIV5_D_pos20_1.tif is a low contrast image\n",
      "  io.imsave(output_path,image_corrected)\n",
      "/home/Hyun/.conda/envs/cp4/lib/python3.8/site-packages/skimage/filters/rank/generic.py:262: UserWarning: Bad rank filter performance is expected due to a large number of bins (2078), equivalent to an approximate bitdepth of 11.0.\n",
      "  image, footprint, out, mask, n_bins = _preprocess_input(image, footprint,\n"
     ]
    },
    {
     "name": "stdout",
     "output_type": "stream",
     "text": [
      "microdish_20x_DIV5_B_pos42_1.tif\n"
     ]
    },
    {
     "name": "stderr",
     "output_type": "stream",
     "text": [
      "<ipython-input-4-783ae30aa263>:22: UserWarning: /data/hyun/Analysis/data/UB.VI.220/DIV5/images_background_corrected/microdish_20x_DIV5_B_pos42_1.tif is a low contrast image\n",
      "  io.imsave(output_path,image_corrected)\n"
     ]
    },
    {
     "name": "stdout",
     "output_type": "stream",
     "text": [
      "microdish_20x_DIV5_A_pos26_1.tif\n"
     ]
    },
    {
     "name": "stderr",
     "output_type": "stream",
     "text": [
      "<ipython-input-4-783ae30aa263>:22: UserWarning: /data/hyun/Analysis/data/UB.VI.220/DIV5/images_background_corrected/microdish_20x_DIV5_A_pos26_1.tif is a low contrast image\n",
      "  io.imsave(output_path,image_corrected)\n",
      "/home/Hyun/.conda/envs/cp4/lib/python3.8/site-packages/skimage/filters/rank/generic.py:262: UserWarning: Bad rank filter performance is expected due to a large number of bins (2213), equivalent to an approximate bitdepth of 11.1.\n",
      "  image, footprint, out, mask, n_bins = _preprocess_input(image, footprint,\n"
     ]
    },
    {
     "name": "stdout",
     "output_type": "stream",
     "text": [
      "microdish_20x_DIV5_A_pos49_1.tif\n"
     ]
    },
    {
     "name": "stderr",
     "output_type": "stream",
     "text": [
      "<ipython-input-4-783ae30aa263>:22: UserWarning: /data/hyun/Analysis/data/UB.VI.220/DIV5/images_background_corrected/microdish_20x_DIV5_A_pos49_1.tif is a low contrast image\n",
      "  io.imsave(output_path,image_corrected)\n"
     ]
    },
    {
     "name": "stdout",
     "output_type": "stream",
     "text": [
      "microdish_20x_DIV5_G_pos20_1.tif\n"
     ]
    },
    {
     "name": "stderr",
     "output_type": "stream",
     "text": [
      "<ipython-input-4-783ae30aa263>:22: UserWarning: /data/hyun/Analysis/data/UB.VI.220/DIV5/images_background_corrected/microdish_20x_DIV5_G_pos20_1.tif is a low contrast image\n",
      "  io.imsave(output_path,image_corrected)\n"
     ]
    },
    {
     "name": "stdout",
     "output_type": "stream",
     "text": [
      "microdish_20x_DIV5_I_pos12_1.tif\n"
     ]
    },
    {
     "name": "stderr",
     "output_type": "stream",
     "text": [
      "<ipython-input-4-783ae30aa263>:22: UserWarning: /data/hyun/Analysis/data/UB.VI.220/DIV5/images_background_corrected/microdish_20x_DIV5_I_pos12_1.tif is a low contrast image\n",
      "  io.imsave(output_path,image_corrected)\n"
     ]
    },
    {
     "name": "stdout",
     "output_type": "stream",
     "text": [
      "microdish_20x_DIV5_H_pos10_1.tif\n"
     ]
    },
    {
     "name": "stderr",
     "output_type": "stream",
     "text": [
      "<ipython-input-4-783ae30aa263>:22: UserWarning: /data/hyun/Analysis/data/UB.VI.220/DIV5/images_background_corrected/microdish_20x_DIV5_H_pos10_1.tif is a low contrast image\n",
      "  io.imsave(output_path,image_corrected)\n"
     ]
    },
    {
     "name": "stdout",
     "output_type": "stream",
     "text": [
      "microdish_20x_DIV5_G_pos23_1.tif\n"
     ]
    },
    {
     "name": "stderr",
     "output_type": "stream",
     "text": [
      "<ipython-input-4-783ae30aa263>:22: UserWarning: /data/hyun/Analysis/data/UB.VI.220/DIV5/images_background_corrected/microdish_20x_DIV5_G_pos23_1.tif is a low contrast image\n",
      "  io.imsave(output_path,image_corrected)\n",
      "/home/Hyun/.conda/envs/cp4/lib/python3.8/site-packages/skimage/filters/rank/generic.py:262: UserWarning: Bad rank filter performance is expected due to a large number of bins (1999), equivalent to an approximate bitdepth of 11.0.\n",
      "  image, footprint, out, mask, n_bins = _preprocess_input(image, footprint,\n"
     ]
    },
    {
     "name": "stdout",
     "output_type": "stream",
     "text": [
      "microdish_20x_DIV5_D_pos27_1.tif\n"
     ]
    },
    {
     "name": "stderr",
     "output_type": "stream",
     "text": [
      "<ipython-input-4-783ae30aa263>:22: UserWarning: /data/hyun/Analysis/data/UB.VI.220/DIV5/images_background_corrected/microdish_20x_DIV5_D_pos27_1.tif is a low contrast image\n",
      "  io.imsave(output_path,image_corrected)\n"
     ]
    },
    {
     "name": "stdout",
     "output_type": "stream",
     "text": [
      "microdish_20x_DIV5_K_pos25_1.tif\n"
     ]
    },
    {
     "name": "stderr",
     "output_type": "stream",
     "text": [
      "<ipython-input-4-783ae30aa263>:22: UserWarning: /data/hyun/Analysis/data/UB.VI.220/DIV5/images_background_corrected/microdish_20x_DIV5_K_pos25_1.tif is a low contrast image\n",
      "  io.imsave(output_path,image_corrected)\n"
     ]
    },
    {
     "name": "stdout",
     "output_type": "stream",
     "text": [
      "microdish_20x_DIV5_B_pos40_1.tif\n"
     ]
    },
    {
     "name": "stderr",
     "output_type": "stream",
     "text": [
      "<ipython-input-4-783ae30aa263>:22: UserWarning: /data/hyun/Analysis/data/UB.VI.220/DIV5/images_background_corrected/microdish_20x_DIV5_B_pos40_1.tif is a low contrast image\n",
      "  io.imsave(output_path,image_corrected)\n",
      "/home/Hyun/.conda/envs/cp4/lib/python3.8/site-packages/skimage/filters/rank/generic.py:262: UserWarning: Bad rank filter performance is expected due to a large number of bins (2232), equivalent to an approximate bitdepth of 11.1.\n",
      "  image, footprint, out, mask, n_bins = _preprocess_input(image, footprint,\n"
     ]
    },
    {
     "name": "stdout",
     "output_type": "stream",
     "text": [
      "microdish_20x_DIV5_L_pos22_1.tif\n"
     ]
    },
    {
     "name": "stderr",
     "output_type": "stream",
     "text": [
      "<ipython-input-4-783ae30aa263>:22: UserWarning: /data/hyun/Analysis/data/UB.VI.220/DIV5/images_background_corrected/microdish_20x_DIV5_L_pos22_1.tif is a low contrast image\n",
      "  io.imsave(output_path,image_corrected)\n",
      "/home/Hyun/.conda/envs/cp4/lib/python3.8/site-packages/skimage/filters/rank/generic.py:262: UserWarning: Bad rank filter performance is expected due to a large number of bins (2138), equivalent to an approximate bitdepth of 11.1.\n",
      "  image, footprint, out, mask, n_bins = _preprocess_input(image, footprint,\n"
     ]
    },
    {
     "name": "stdout",
     "output_type": "stream",
     "text": [
      "microdish_20x_DIV5_J_pos18_1.tif\n"
     ]
    },
    {
     "name": "stderr",
     "output_type": "stream",
     "text": [
      "<ipython-input-4-783ae30aa263>:22: UserWarning: /data/hyun/Analysis/data/UB.VI.220/DIV5/images_background_corrected/microdish_20x_DIV5_J_pos18_1.tif is a low contrast image\n",
      "  io.imsave(output_path,image_corrected)\n"
     ]
    },
    {
     "name": "stdout",
     "output_type": "stream",
     "text": [
      "microdish_20x_DIV5_K_pos17_1.tif\n"
     ]
    },
    {
     "name": "stderr",
     "output_type": "stream",
     "text": [
      "<ipython-input-4-783ae30aa263>:22: UserWarning: /data/hyun/Analysis/data/UB.VI.220/DIV5/images_background_corrected/microdish_20x_DIV5_K_pos17_1.tif is a low contrast image\n",
      "  io.imsave(output_path,image_corrected)\n"
     ]
    },
    {
     "name": "stdout",
     "output_type": "stream",
     "text": [
      "microdish_20x_DIV5_K_pos23_1.tif\n"
     ]
    },
    {
     "name": "stderr",
     "output_type": "stream",
     "text": [
      "<ipython-input-4-783ae30aa263>:22: UserWarning: /data/hyun/Analysis/data/UB.VI.220/DIV5/images_background_corrected/microdish_20x_DIV5_K_pos23_1.tif is a low contrast image\n",
      "  io.imsave(output_path,image_corrected)\n"
     ]
    },
    {
     "name": "stdout",
     "output_type": "stream",
     "text": [
      "microdish_20x_DIV5_E_pos13_1.tif\n"
     ]
    },
    {
     "name": "stderr",
     "output_type": "stream",
     "text": [
      "<ipython-input-4-783ae30aa263>:22: UserWarning: /data/hyun/Analysis/data/UB.VI.220/DIV5/images_background_corrected/microdish_20x_DIV5_E_pos13_1.tif is a low contrast image\n",
      "  io.imsave(output_path,image_corrected)\n"
     ]
    },
    {
     "name": "stdout",
     "output_type": "stream",
     "text": [
      "microdish_20x_DIV5_D_pos15_1.tif\n"
     ]
    },
    {
     "name": "stderr",
     "output_type": "stream",
     "text": [
      "<ipython-input-4-783ae30aa263>:22: UserWarning: /data/hyun/Analysis/data/UB.VI.220/DIV5/images_background_corrected/microdish_20x_DIV5_D_pos15_1.tif is a low contrast image\n",
      "  io.imsave(output_path,image_corrected)\n",
      "/home/Hyun/.conda/envs/cp4/lib/python3.8/site-packages/skimage/filters/rank/generic.py:262: UserWarning: Bad rank filter performance is expected due to a large number of bins (2060), equivalent to an approximate bitdepth of 11.0.\n",
      "  image, footprint, out, mask, n_bins = _preprocess_input(image, footprint,\n"
     ]
    },
    {
     "name": "stdout",
     "output_type": "stream",
     "text": [
      "microdish_20x_DIV5_F_pos18_1.tif\n"
     ]
    },
    {
     "name": "stderr",
     "output_type": "stream",
     "text": [
      "<ipython-input-4-783ae30aa263>:22: UserWarning: /data/hyun/Analysis/data/UB.VI.220/DIV5/images_background_corrected/microdish_20x_DIV5_F_pos18_1.tif is a low contrast image\n",
      "  io.imsave(output_path,image_corrected)\n"
     ]
    },
    {
     "name": "stdout",
     "output_type": "stream",
     "text": [
      "microdish_20x_DIV5_G_pos10_1.tif\n"
     ]
    },
    {
     "name": "stderr",
     "output_type": "stream",
     "text": [
      "<ipython-input-4-783ae30aa263>:22: UserWarning: /data/hyun/Analysis/data/UB.VI.220/DIV5/images_background_corrected/microdish_20x_DIV5_G_pos10_1.tif is a low contrast image\n",
      "  io.imsave(output_path,image_corrected)\n",
      "/home/Hyun/.conda/envs/cp4/lib/python3.8/site-packages/skimage/filters/rank/generic.py:262: UserWarning: Bad rank filter performance is expected due to a large number of bins (65530), equivalent to an approximate bitdepth of 16.0.\n",
      "  image, footprint, out, mask, n_bins = _preprocess_input(image, footprint,\n"
     ]
    },
    {
     "name": "stdout",
     "output_type": "stream",
     "text": [
      "microdish_20x_DIV5_B_pos15_1.tif\n"
     ]
    },
    {
     "name": "stderr",
     "output_type": "stream",
     "text": [
      "<ipython-input-4-783ae30aa263>:22: UserWarning: /data/hyun/Analysis/data/UB.VI.220/DIV5/images_background_corrected/microdish_20x_DIV5_B_pos15_1.tif is a low contrast image\n",
      "  io.imsave(output_path,image_corrected)\n",
      "/home/Hyun/.conda/envs/cp4/lib/python3.8/site-packages/skimage/filters/rank/generic.py:262: UserWarning: Bad rank filter performance is expected due to a large number of bins (2246), equivalent to an approximate bitdepth of 11.1.\n",
      "  image, footprint, out, mask, n_bins = _preprocess_input(image, footprint,\n"
     ]
    },
    {
     "name": "stdout",
     "output_type": "stream",
     "text": [
      "microdish_20x_DIV5_D_pos28_1.tif\n"
     ]
    },
    {
     "name": "stderr",
     "output_type": "stream",
     "text": [
      "<ipython-input-4-783ae30aa263>:22: UserWarning: /data/hyun/Analysis/data/UB.VI.220/DIV5/images_background_corrected/microdish_20x_DIV5_D_pos28_1.tif is a low contrast image\n",
      "  io.imsave(output_path,image_corrected)\n",
      "/home/Hyun/.conda/envs/cp4/lib/python3.8/site-packages/skimage/filters/rank/generic.py:262: UserWarning: Bad rank filter performance is expected due to a large number of bins (2276), equivalent to an approximate bitdepth of 11.2.\n",
      "  image, footprint, out, mask, n_bins = _preprocess_input(image, footprint,\n"
     ]
    },
    {
     "name": "stdout",
     "output_type": "stream",
     "text": [
      "microdish_20x_DIV5_H_pos6_1.tif\n"
     ]
    },
    {
     "name": "stderr",
     "output_type": "stream",
     "text": [
      "<ipython-input-4-783ae30aa263>:22: UserWarning: /data/hyun/Analysis/data/UB.VI.220/DIV5/images_background_corrected/microdish_20x_DIV5_H_pos6_1.tif is a low contrast image\n",
      "  io.imsave(output_path,image_corrected)\n"
     ]
    },
    {
     "name": "stdout",
     "output_type": "stream",
     "text": [
      "microdish_20x_DIV5_B_pos3_1.tif\n"
     ]
    },
    {
     "name": "stderr",
     "output_type": "stream",
     "text": [
      "<ipython-input-4-783ae30aa263>:22: UserWarning: /data/hyun/Analysis/data/UB.VI.220/DIV5/images_background_corrected/microdish_20x_DIV5_B_pos3_1.tif is a low contrast image\n",
      "  io.imsave(output_path,image_corrected)\n",
      "/home/Hyun/.conda/envs/cp4/lib/python3.8/site-packages/skimage/filters/rank/generic.py:262: UserWarning: Bad rank filter performance is expected due to a large number of bins (1885), equivalent to an approximate bitdepth of 10.9.\n",
      "  image, footprint, out, mask, n_bins = _preprocess_input(image, footprint,\n"
     ]
    },
    {
     "name": "stdout",
     "output_type": "stream",
     "text": [
      "microdish_20x_DIV5_A_pos3_1.tif\n"
     ]
    },
    {
     "name": "stderr",
     "output_type": "stream",
     "text": [
      "<ipython-input-4-783ae30aa263>:22: UserWarning: /data/hyun/Analysis/data/UB.VI.220/DIV5/images_background_corrected/microdish_20x_DIV5_A_pos3_1.tif is a low contrast image\n",
      "  io.imsave(output_path,image_corrected)\n"
     ]
    },
    {
     "name": "stdout",
     "output_type": "stream",
     "text": [
      "microdish_20x_DIV5_H_pos18_1.tif\n"
     ]
    },
    {
     "name": "stderr",
     "output_type": "stream",
     "text": [
      "<ipython-input-4-783ae30aa263>:22: UserWarning: /data/hyun/Analysis/data/UB.VI.220/DIV5/images_background_corrected/microdish_20x_DIV5_H_pos18_1.tif is a low contrast image\n",
      "  io.imsave(output_path,image_corrected)\n"
     ]
    },
    {
     "name": "stdout",
     "output_type": "stream",
     "text": [
      "microdish_20x_DIV5_B_pos11_1.tif\n"
     ]
    },
    {
     "name": "stderr",
     "output_type": "stream",
     "text": [
      "<ipython-input-4-783ae30aa263>:22: UserWarning: /data/hyun/Analysis/data/UB.VI.220/DIV5/images_background_corrected/microdish_20x_DIV5_B_pos11_1.tif is a low contrast image\n",
      "  io.imsave(output_path,image_corrected)\n"
     ]
    },
    {
     "name": "stdout",
     "output_type": "stream",
     "text": [
      "microdish_20x_DIV5_J_pos6_2.tif\n"
     ]
    },
    {
     "name": "stderr",
     "output_type": "stream",
     "text": [
      "<ipython-input-4-783ae30aa263>:22: UserWarning: /data/hyun/Analysis/data/UB.VI.220/DIV5/images_background_corrected/microdish_20x_DIV5_J_pos6_2.tif is a low contrast image\n",
      "  io.imsave(output_path,image_corrected)\n"
     ]
    },
    {
     "name": "stdout",
     "output_type": "stream",
     "text": [
      "microdish_20x_DIV5_F_pos16_1.tif\n"
     ]
    },
    {
     "name": "stderr",
     "output_type": "stream",
     "text": [
      "<ipython-input-4-783ae30aa263>:22: UserWarning: /data/hyun/Analysis/data/UB.VI.220/DIV5/images_background_corrected/microdish_20x_DIV5_F_pos16_1.tif is a low contrast image\n",
      "  io.imsave(output_path,image_corrected)\n"
     ]
    },
    {
     "name": "stdout",
     "output_type": "stream",
     "text": [
      "microdish_20x_DIV5_A_pos6_1.tif\n"
     ]
    },
    {
     "name": "stderr",
     "output_type": "stream",
     "text": [
      "<ipython-input-4-783ae30aa263>:22: UserWarning: /data/hyun/Analysis/data/UB.VI.220/DIV5/images_background_corrected/microdish_20x_DIV5_A_pos6_1.tif is a low contrast image\n",
      "  io.imsave(output_path,image_corrected)\n"
     ]
    },
    {
     "name": "stdout",
     "output_type": "stream",
     "text": [
      "microdish_20x_DIV5_I_pos20_1.tif\n"
     ]
    },
    {
     "name": "stderr",
     "output_type": "stream",
     "text": [
      "<ipython-input-4-783ae30aa263>:22: UserWarning: /data/hyun/Analysis/data/UB.VI.220/DIV5/images_background_corrected/microdish_20x_DIV5_I_pos20_1.tif is a low contrast image\n",
      "  io.imsave(output_path,image_corrected)\n"
     ]
    },
    {
     "name": "stdout",
     "output_type": "stream",
     "text": [
      "microdish_20x_DIV5_J_pos5_1.tif\n"
     ]
    },
    {
     "name": "stderr",
     "output_type": "stream",
     "text": [
      "<ipython-input-4-783ae30aa263>:22: UserWarning: /data/hyun/Analysis/data/UB.VI.220/DIV5/images_background_corrected/microdish_20x_DIV5_J_pos5_1.tif is a low contrast image\n",
      "  io.imsave(output_path,image_corrected)\n"
     ]
    },
    {
     "name": "stdout",
     "output_type": "stream",
     "text": [
      "microdish_20x_DIV5_A_pos48_1.tif\n"
     ]
    },
    {
     "name": "stderr",
     "output_type": "stream",
     "text": [
      "<ipython-input-4-783ae30aa263>:22: UserWarning: /data/hyun/Analysis/data/UB.VI.220/DIV5/images_background_corrected/microdish_20x_DIV5_A_pos48_1.tif is a low contrast image\n",
      "  io.imsave(output_path,image_corrected)\n"
     ]
    },
    {
     "name": "stdout",
     "output_type": "stream",
     "text": [
      "microdish_20x_DIV5_D_pos40_1.tif\n"
     ]
    },
    {
     "name": "stderr",
     "output_type": "stream",
     "text": [
      "<ipython-input-4-783ae30aa263>:22: UserWarning: /data/hyun/Analysis/data/UB.VI.220/DIV5/images_background_corrected/microdish_20x_DIV5_D_pos40_1.tif is a low contrast image\n",
      "  io.imsave(output_path,image_corrected)\n"
     ]
    },
    {
     "name": "stdout",
     "output_type": "stream",
     "text": [
      "microdish_20x_DIV5_E_pos10_1.tif\n"
     ]
    },
    {
     "name": "stderr",
     "output_type": "stream",
     "text": [
      "<ipython-input-4-783ae30aa263>:22: UserWarning: /data/hyun/Analysis/data/UB.VI.220/DIV5/images_background_corrected/microdish_20x_DIV5_E_pos10_1.tif is a low contrast image\n",
      "  io.imsave(output_path,image_corrected)\n"
     ]
    },
    {
     "name": "stdout",
     "output_type": "stream",
     "text": [
      "microdish_20x_DIV5_D_pos36_1.tif\n"
     ]
    },
    {
     "name": "stderr",
     "output_type": "stream",
     "text": [
      "<ipython-input-4-783ae30aa263>:22: UserWarning: /data/hyun/Analysis/data/UB.VI.220/DIV5/images_background_corrected/microdish_20x_DIV5_D_pos36_1.tif is a low contrast image\n",
      "  io.imsave(output_path,image_corrected)\n",
      "/home/Hyun/.conda/envs/cp4/lib/python3.8/site-packages/skimage/filters/rank/generic.py:262: UserWarning: Bad rank filter performance is expected due to a large number of bins (1906), equivalent to an approximate bitdepth of 10.9.\n",
      "  image, footprint, out, mask, n_bins = _preprocess_input(image, footprint,\n"
     ]
    },
    {
     "name": "stdout",
     "output_type": "stream",
     "text": [
      "microdish_20x_DIV5_F_pos20_1.tif\n"
     ]
    },
    {
     "name": "stderr",
     "output_type": "stream",
     "text": [
      "<ipython-input-4-783ae30aa263>:22: UserWarning: /data/hyun/Analysis/data/UB.VI.220/DIV5/images_background_corrected/microdish_20x_DIV5_F_pos20_1.tif is a low contrast image\n",
      "  io.imsave(output_path,image_corrected)\n"
     ]
    },
    {
     "name": "stdout",
     "output_type": "stream",
     "text": [
      "microdish_20x_DIV5_F_pos4_1.tif\n"
     ]
    },
    {
     "name": "stderr",
     "output_type": "stream",
     "text": [
      "<ipython-input-4-783ae30aa263>:22: UserWarning: /data/hyun/Analysis/data/UB.VI.220/DIV5/images_background_corrected/microdish_20x_DIV5_F_pos4_1.tif is a low contrast image\n",
      "  io.imsave(output_path,image_corrected)\n"
     ]
    },
    {
     "name": "stdout",
     "output_type": "stream",
     "text": [
      "microdish_20x_DIV5_A_pos14_1.tif\n"
     ]
    },
    {
     "name": "stderr",
     "output_type": "stream",
     "text": [
      "<ipython-input-4-783ae30aa263>:22: UserWarning: /data/hyun/Analysis/data/UB.VI.220/DIV5/images_background_corrected/microdish_20x_DIV5_A_pos14_1.tif is a low contrast image\n",
      "  io.imsave(output_path,image_corrected)\n"
     ]
    },
    {
     "name": "stdout",
     "output_type": "stream",
     "text": [
      "microdish_20x_DIV5_F_pos8_1.tif\n"
     ]
    },
    {
     "name": "stderr",
     "output_type": "stream",
     "text": [
      "<ipython-input-4-783ae30aa263>:22: UserWarning: /data/hyun/Analysis/data/UB.VI.220/DIV5/images_background_corrected/microdish_20x_DIV5_F_pos8_1.tif is a low contrast image\n",
      "  io.imsave(output_path,image_corrected)\n"
     ]
    },
    {
     "name": "stdout",
     "output_type": "stream",
     "text": [
      "microdish_20x_DIV5_L_pos26_1.tif\n"
     ]
    },
    {
     "name": "stderr",
     "output_type": "stream",
     "text": [
      "<ipython-input-4-783ae30aa263>:22: UserWarning: /data/hyun/Analysis/data/UB.VI.220/DIV5/images_background_corrected/microdish_20x_DIV5_L_pos26_1.tif is a low contrast image\n",
      "  io.imsave(output_path,image_corrected)\n"
     ]
    },
    {
     "name": "stdout",
     "output_type": "stream",
     "text": [
      "microdish_20x_DIV5_K_pos18_1.tif\n"
     ]
    },
    {
     "name": "stderr",
     "output_type": "stream",
     "text": [
      "<ipython-input-4-783ae30aa263>:22: UserWarning: /data/hyun/Analysis/data/UB.VI.220/DIV5/images_background_corrected/microdish_20x_DIV5_K_pos18_1.tif is a low contrast image\n",
      "  io.imsave(output_path,image_corrected)\n",
      "/home/Hyun/.conda/envs/cp4/lib/python3.8/site-packages/skimage/filters/rank/generic.py:262: UserWarning: Bad rank filter performance is expected due to a large number of bins (2040), equivalent to an approximate bitdepth of 11.0.\n",
      "  image, footprint, out, mask, n_bins = _preprocess_input(image, footprint,\n"
     ]
    },
    {
     "name": "stdout",
     "output_type": "stream",
     "text": [
      "microdish_20x_DIV5_B_pos31_1.tif\n"
     ]
    },
    {
     "name": "stderr",
     "output_type": "stream",
     "text": [
      "<ipython-input-4-783ae30aa263>:22: UserWarning: /data/hyun/Analysis/data/UB.VI.220/DIV5/images_background_corrected/microdish_20x_DIV5_B_pos31_1.tif is a low contrast image\n",
      "  io.imsave(output_path,image_corrected)\n"
     ]
    },
    {
     "name": "stdout",
     "output_type": "stream",
     "text": [
      "microdish_20x_DIV5_A_pos22_1.tif\n"
     ]
    },
    {
     "name": "stderr",
     "output_type": "stream",
     "text": [
      "<ipython-input-4-783ae30aa263>:22: UserWarning: /data/hyun/Analysis/data/UB.VI.220/DIV5/images_background_corrected/microdish_20x_DIV5_A_pos22_1.tif is a low contrast image\n",
      "  io.imsave(output_path,image_corrected)\n"
     ]
    },
    {
     "name": "stdout",
     "output_type": "stream",
     "text": [
      "microdish_20x_DIV5_B_pos34_1.tif\n"
     ]
    },
    {
     "name": "stderr",
     "output_type": "stream",
     "text": [
      "<ipython-input-4-783ae30aa263>:22: UserWarning: /data/hyun/Analysis/data/UB.VI.220/DIV5/images_background_corrected/microdish_20x_DIV5_B_pos34_1.tif is a low contrast image\n",
      "  io.imsave(output_path,image_corrected)\n"
     ]
    },
    {
     "name": "stdout",
     "output_type": "stream",
     "text": [
      "microdish_20x_DIV5_B_pos32_1.tif\n"
     ]
    },
    {
     "name": "stderr",
     "output_type": "stream",
     "text": [
      "<ipython-input-4-783ae30aa263>:22: UserWarning: /data/hyun/Analysis/data/UB.VI.220/DIV5/images_background_corrected/microdish_20x_DIV5_B_pos32_1.tif is a low contrast image\n",
      "  io.imsave(output_path,image_corrected)\n"
     ]
    },
    {
     "name": "stdout",
     "output_type": "stream",
     "text": [
      "microdish_20x_DIV5_D_pos39_1.tif\n"
     ]
    },
    {
     "name": "stderr",
     "output_type": "stream",
     "text": [
      "<ipython-input-4-783ae30aa263>:22: UserWarning: /data/hyun/Analysis/data/UB.VI.220/DIV5/images_background_corrected/microdish_20x_DIV5_D_pos39_1.tif is a low contrast image\n",
      "  io.imsave(output_path,image_corrected)\n",
      "/home/Hyun/.conda/envs/cp4/lib/python3.8/site-packages/skimage/filters/rank/generic.py:262: UserWarning: Bad rank filter performance is expected due to a large number of bins (2610), equivalent to an approximate bitdepth of 11.3.\n",
      "  image, footprint, out, mask, n_bins = _preprocess_input(image, footprint,\n"
     ]
    },
    {
     "name": "stdout",
     "output_type": "stream",
     "text": [
      "microdish_20x_DIV5_E_pos16_1.tif\n"
     ]
    },
    {
     "name": "stderr",
     "output_type": "stream",
     "text": [
      "<ipython-input-4-783ae30aa263>:22: UserWarning: /data/hyun/Analysis/data/UB.VI.220/DIV5/images_background_corrected/microdish_20x_DIV5_E_pos16_1.tif is a low contrast image\n",
      "  io.imsave(output_path,image_corrected)\n",
      "/home/Hyun/.conda/envs/cp4/lib/python3.8/site-packages/skimage/filters/rank/generic.py:262: UserWarning: Bad rank filter performance is expected due to a large number of bins (1643), equivalent to an approximate bitdepth of 10.7.\n",
      "  image, footprint, out, mask, n_bins = _preprocess_input(image, footprint,\n"
     ]
    },
    {
     "name": "stdout",
     "output_type": "stream",
     "text": [
      "microdish_20x_DIV5_F_pos15_1.tif\n"
     ]
    },
    {
     "name": "stderr",
     "output_type": "stream",
     "text": [
      "<ipython-input-4-783ae30aa263>:22: UserWarning: /data/hyun/Analysis/data/UB.VI.220/DIV5/images_background_corrected/microdish_20x_DIV5_F_pos15_1.tif is a low contrast image\n",
      "  io.imsave(output_path,image_corrected)\n",
      "/home/Hyun/.conda/envs/cp4/lib/python3.8/site-packages/skimage/filters/rank/generic.py:262: UserWarning: Bad rank filter performance is expected due to a large number of bins (1541), equivalent to an approximate bitdepth of 10.6.\n",
      "  image, footprint, out, mask, n_bins = _preprocess_input(image, footprint,\n"
     ]
    },
    {
     "name": "stdout",
     "output_type": "stream",
     "text": [
      "microdish_20x_DIV5_E_pos7_1.tif\n"
     ]
    },
    {
     "name": "stderr",
     "output_type": "stream",
     "text": [
      "<ipython-input-4-783ae30aa263>:22: UserWarning: /data/hyun/Analysis/data/UB.VI.220/DIV5/images_background_corrected/microdish_20x_DIV5_E_pos7_1.tif is a low contrast image\n",
      "  io.imsave(output_path,image_corrected)\n"
     ]
    },
    {
     "name": "stdout",
     "output_type": "stream",
     "text": [
      "microdish_20x_DIV5_H_pos0_1.tif\n"
     ]
    },
    {
     "name": "stderr",
     "output_type": "stream",
     "text": [
      "<ipython-input-4-783ae30aa263>:22: UserWarning: /data/hyun/Analysis/data/UB.VI.220/DIV5/images_background_corrected/microdish_20x_DIV5_H_pos0_1.tif is a low contrast image\n",
      "  io.imsave(output_path,image_corrected)\n",
      "/home/Hyun/.conda/envs/cp4/lib/python3.8/site-packages/skimage/filters/rank/generic.py:262: UserWarning: Bad rank filter performance is expected due to a large number of bins (2153), equivalent to an approximate bitdepth of 11.1.\n",
      "  image, footprint, out, mask, n_bins = _preprocess_input(image, footprint,\n"
     ]
    },
    {
     "name": "stdout",
     "output_type": "stream",
     "text": [
      "microdish_20x_DIV5_H_pos21_1.tif\n"
     ]
    },
    {
     "name": "stderr",
     "output_type": "stream",
     "text": [
      "<ipython-input-4-783ae30aa263>:22: UserWarning: /data/hyun/Analysis/data/UB.VI.220/DIV5/images_background_corrected/microdish_20x_DIV5_H_pos21_1.tif is a low contrast image\n",
      "  io.imsave(output_path,image_corrected)\n"
     ]
    },
    {
     "name": "stdout",
     "output_type": "stream",
     "text": [
      "microdish_20x_DIV5_A_pos9_1.tif\n"
     ]
    },
    {
     "name": "stderr",
     "output_type": "stream",
     "text": [
      "<ipython-input-4-783ae30aa263>:22: UserWarning: /data/hyun/Analysis/data/UB.VI.220/DIV5/images_background_corrected/microdish_20x_DIV5_A_pos9_1.tif is a low contrast image\n",
      "  io.imsave(output_path,image_corrected)\n"
     ]
    },
    {
     "name": "stdout",
     "output_type": "stream",
     "text": [
      "microdish_20x_DIV5_B_pos12_1.tif\n"
     ]
    },
    {
     "name": "stderr",
     "output_type": "stream",
     "text": [
      "<ipython-input-4-783ae30aa263>:22: UserWarning: /data/hyun/Analysis/data/UB.VI.220/DIV5/images_background_corrected/microdish_20x_DIV5_B_pos12_1.tif is a low contrast image\n",
      "  io.imsave(output_path,image_corrected)\n",
      "/home/Hyun/.conda/envs/cp4/lib/python3.8/site-packages/skimage/filters/rank/generic.py:262: UserWarning: Bad rank filter performance is expected due to a large number of bins (2252), equivalent to an approximate bitdepth of 11.1.\n",
      "  image, footprint, out, mask, n_bins = _preprocess_input(image, footprint,\n"
     ]
    },
    {
     "name": "stdout",
     "output_type": "stream",
     "text": [
      "microdish_20x_DIV5_L_pos7_1.tif\n"
     ]
    },
    {
     "name": "stderr",
     "output_type": "stream",
     "text": [
      "<ipython-input-4-783ae30aa263>:22: UserWarning: /data/hyun/Analysis/data/UB.VI.220/DIV5/images_background_corrected/microdish_20x_DIV5_L_pos7_1.tif is a low contrast image\n",
      "  io.imsave(output_path,image_corrected)\n"
     ]
    },
    {
     "name": "stdout",
     "output_type": "stream",
     "text": [
      "microdish_20x_DIV5_B_pos46_1.tif\n"
     ]
    },
    {
     "name": "stderr",
     "output_type": "stream",
     "text": [
      "<ipython-input-4-783ae30aa263>:22: UserWarning: /data/hyun/Analysis/data/UB.VI.220/DIV5/images_background_corrected/microdish_20x_DIV5_B_pos46_1.tif is a low contrast image\n",
      "  io.imsave(output_path,image_corrected)\n"
     ]
    },
    {
     "name": "stdout",
     "output_type": "stream",
     "text": [
      "microdish_20x_DIV5_A_pos28_1.tif\n"
     ]
    },
    {
     "name": "stderr",
     "output_type": "stream",
     "text": [
      "<ipython-input-4-783ae30aa263>:22: UserWarning: /data/hyun/Analysis/data/UB.VI.220/DIV5/images_background_corrected/microdish_20x_DIV5_A_pos28_1.tif is a low contrast image\n",
      "  io.imsave(output_path,image_corrected)\n"
     ]
    },
    {
     "name": "stdout",
     "output_type": "stream",
     "text": [
      "microdish_20x_DIV5_K_pos24_1.tif\n"
     ]
    },
    {
     "name": "stderr",
     "output_type": "stream",
     "text": [
      "<ipython-input-4-783ae30aa263>:22: UserWarning: /data/hyun/Analysis/data/UB.VI.220/DIV5/images_background_corrected/microdish_20x_DIV5_K_pos24_1.tif is a low contrast image\n",
      "  io.imsave(output_path,image_corrected)\n",
      "/home/Hyun/.conda/envs/cp4/lib/python3.8/site-packages/skimage/filters/rank/generic.py:262: UserWarning: Bad rank filter performance is expected due to a large number of bins (2171), equivalent to an approximate bitdepth of 11.1.\n",
      "  image, footprint, out, mask, n_bins = _preprocess_input(image, footprint,\n"
     ]
    },
    {
     "name": "stdout",
     "output_type": "stream",
     "text": [
      "microdish_20x_DIV5_D_pos9_1.tif\n"
     ]
    },
    {
     "name": "stderr",
     "output_type": "stream",
     "text": [
      "<ipython-input-4-783ae30aa263>:22: UserWarning: /data/hyun/Analysis/data/UB.VI.220/DIV5/images_background_corrected/microdish_20x_DIV5_D_pos9_1.tif is a low contrast image\n",
      "  io.imsave(output_path,image_corrected)\n"
     ]
    },
    {
     "name": "stdout",
     "output_type": "stream",
     "text": [
      "microdish_20x_DIV5_G_pos12_1.tif\n"
     ]
    },
    {
     "name": "stderr",
     "output_type": "stream",
     "text": [
      "<ipython-input-4-783ae30aa263>:22: UserWarning: /data/hyun/Analysis/data/UB.VI.220/DIV5/images_background_corrected/microdish_20x_DIV5_G_pos12_1.tif is a low contrast image\n",
      "  io.imsave(output_path,image_corrected)\n"
     ]
    },
    {
     "name": "stdout",
     "output_type": "stream",
     "text": [
      "microdish_20x_DIV5_K_pos26_1.tif\n"
     ]
    },
    {
     "name": "stderr",
     "output_type": "stream",
     "text": [
      "<ipython-input-4-783ae30aa263>:22: UserWarning: /data/hyun/Analysis/data/UB.VI.220/DIV5/images_background_corrected/microdish_20x_DIV5_K_pos26_1.tif is a low contrast image\n",
      "  io.imsave(output_path,image_corrected)\n"
     ]
    },
    {
     "name": "stdout",
     "output_type": "stream",
     "text": [
      "microdish_20x_DIV5_D_pos31_1.tif\n"
     ]
    },
    {
     "name": "stderr",
     "output_type": "stream",
     "text": [
      "<ipython-input-4-783ae30aa263>:22: UserWarning: /data/hyun/Analysis/data/UB.VI.220/DIV5/images_background_corrected/microdish_20x_DIV5_D_pos31_1.tif is a low contrast image\n",
      "  io.imsave(output_path,image_corrected)\n"
     ]
    },
    {
     "name": "stdout",
     "output_type": "stream",
     "text": [
      "microdish_20x_DIV5_G_pos21_1.tif\n"
     ]
    },
    {
     "name": "stderr",
     "output_type": "stream",
     "text": [
      "<ipython-input-4-783ae30aa263>:22: UserWarning: /data/hyun/Analysis/data/UB.VI.220/DIV5/images_background_corrected/microdish_20x_DIV5_G_pos21_1.tif is a low contrast image\n",
      "  io.imsave(output_path,image_corrected)\n"
     ]
    },
    {
     "name": "stdout",
     "output_type": "stream",
     "text": [
      "microdish_20x_DIV5_B_pos28_1.tif\n"
     ]
    },
    {
     "name": "stderr",
     "output_type": "stream",
     "text": [
      "<ipython-input-4-783ae30aa263>:22: UserWarning: /data/hyun/Analysis/data/UB.VI.220/DIV5/images_background_corrected/microdish_20x_DIV5_B_pos28_1.tif is a low contrast image\n",
      "  io.imsave(output_path,image_corrected)\n",
      "/home/Hyun/.conda/envs/cp4/lib/python3.8/site-packages/skimage/filters/rank/generic.py:262: UserWarning: Bad rank filter performance is expected due to a large number of bins (2201), equivalent to an approximate bitdepth of 11.1.\n",
      "  image, footprint, out, mask, n_bins = _preprocess_input(image, footprint,\n"
     ]
    },
    {
     "name": "stdout",
     "output_type": "stream",
     "text": [
      "microdish_20x_DIV5_A_pos32_1.tif\n"
     ]
    },
    {
     "name": "stderr",
     "output_type": "stream",
     "text": [
      "<ipython-input-4-783ae30aa263>:22: UserWarning: /data/hyun/Analysis/data/UB.VI.220/DIV5/images_background_corrected/microdish_20x_DIV5_A_pos32_1.tif is a low contrast image\n",
      "  io.imsave(output_path,image_corrected)\n",
      "/home/Hyun/.conda/envs/cp4/lib/python3.8/site-packages/skimage/filters/rank/generic.py:262: UserWarning: Bad rank filter performance is expected due to a large number of bins (2052), equivalent to an approximate bitdepth of 11.0.\n",
      "  image, footprint, out, mask, n_bins = _preprocess_input(image, footprint,\n"
     ]
    },
    {
     "name": "stdout",
     "output_type": "stream",
     "text": [
      "microdish_20x_DIV5_I_pos10_1.tif\n"
     ]
    },
    {
     "name": "stderr",
     "output_type": "stream",
     "text": [
      "<ipython-input-4-783ae30aa263>:22: UserWarning: /data/hyun/Analysis/data/UB.VI.220/DIV5/images_background_corrected/microdish_20x_DIV5_I_pos10_1.tif is a low contrast image\n",
      "  io.imsave(output_path,image_corrected)\n"
     ]
    },
    {
     "name": "stdout",
     "output_type": "stream",
     "text": [
      "microdish_20x_DIV5_H_pos19_1.tif\n"
     ]
    },
    {
     "name": "stderr",
     "output_type": "stream",
     "text": [
      "<ipython-input-4-783ae30aa263>:22: UserWarning: /data/hyun/Analysis/data/UB.VI.220/DIV5/images_background_corrected/microdish_20x_DIV5_H_pos19_1.tif is a low contrast image\n",
      "  io.imsave(output_path,image_corrected)\n"
     ]
    },
    {
     "name": "stdout",
     "output_type": "stream",
     "text": [
      "microdish_20x_DIV5_J_pos26_1.tif\n"
     ]
    },
    {
     "name": "stderr",
     "output_type": "stream",
     "text": [
      "<ipython-input-4-783ae30aa263>:22: UserWarning: /data/hyun/Analysis/data/UB.VI.220/DIV5/images_background_corrected/microdish_20x_DIV5_J_pos26_1.tif is a low contrast image\n",
      "  io.imsave(output_path,image_corrected)\n"
     ]
    },
    {
     "name": "stdout",
     "output_type": "stream",
     "text": [
      "microdish_20x_DIV5_D_pos33_1.tif\n"
     ]
    },
    {
     "name": "stderr",
     "output_type": "stream",
     "text": [
      "<ipython-input-4-783ae30aa263>:22: UserWarning: /data/hyun/Analysis/data/UB.VI.220/DIV5/images_background_corrected/microdish_20x_DIV5_D_pos33_1.tif is a low contrast image\n",
      "  io.imsave(output_path,image_corrected)\n",
      "/home/Hyun/.conda/envs/cp4/lib/python3.8/site-packages/skimage/filters/rank/generic.py:262: UserWarning: Bad rank filter performance is expected due to a large number of bins (3629), equivalent to an approximate bitdepth of 11.8.\n",
      "  image, footprint, out, mask, n_bins = _preprocess_input(image, footprint,\n"
     ]
    },
    {
     "name": "stdout",
     "output_type": "stream",
     "text": [
      "microdish_20x_DIV5_E_pos20_1.tif\n"
     ]
    },
    {
     "name": "stderr",
     "output_type": "stream",
     "text": [
      "<ipython-input-4-783ae30aa263>:22: UserWarning: /data/hyun/Analysis/data/UB.VI.220/DIV5/images_background_corrected/microdish_20x_DIV5_E_pos20_1.tif is a low contrast image\n",
      "  io.imsave(output_path,image_corrected)\n"
     ]
    },
    {
     "name": "stdout",
     "output_type": "stream",
     "text": [
      "microdish_20x_DIV5_B_pos20_1.tif\n"
     ]
    },
    {
     "name": "stderr",
     "output_type": "stream",
     "text": [
      "<ipython-input-4-783ae30aa263>:22: UserWarning: /data/hyun/Analysis/data/UB.VI.220/DIV5/images_background_corrected/microdish_20x_DIV5_B_pos20_1.tif is a low contrast image\n",
      "  io.imsave(output_path,image_corrected)\n"
     ]
    },
    {
     "name": "stdout",
     "output_type": "stream",
     "text": [
      "microdish_20x_DIV5_J_pos13_1.tif\n"
     ]
    },
    {
     "name": "stderr",
     "output_type": "stream",
     "text": [
      "<ipython-input-4-783ae30aa263>:22: UserWarning: /data/hyun/Analysis/data/UB.VI.220/DIV5/images_background_corrected/microdish_20x_DIV5_J_pos13_1.tif is a low contrast image\n",
      "  io.imsave(output_path,image_corrected)\n",
      "/home/Hyun/.conda/envs/cp4/lib/python3.8/site-packages/skimage/filters/rank/generic.py:262: UserWarning: Bad rank filter performance is expected due to a large number of bins (1803), equivalent to an approximate bitdepth of 10.8.\n",
      "  image, footprint, out, mask, n_bins = _preprocess_input(image, footprint,\n"
     ]
    },
    {
     "name": "stdout",
     "output_type": "stream",
     "text": [
      "microdish_20x_DIV5_I_pos7_1.tif\n"
     ]
    },
    {
     "name": "stderr",
     "output_type": "stream",
     "text": [
      "<ipython-input-4-783ae30aa263>:22: UserWarning: /data/hyun/Analysis/data/UB.VI.220/DIV5/images_background_corrected/microdish_20x_DIV5_I_pos7_1.tif is a low contrast image\n",
      "  io.imsave(output_path,image_corrected)\n"
     ]
    },
    {
     "name": "stdout",
     "output_type": "stream",
     "text": [
      "microdish_20x_DIV5_L_pos17_1.tif\n"
     ]
    },
    {
     "name": "stderr",
     "output_type": "stream",
     "text": [
      "<ipython-input-4-783ae30aa263>:22: UserWarning: /data/hyun/Analysis/data/UB.VI.220/DIV5/images_background_corrected/microdish_20x_DIV5_L_pos17_1.tif is a low contrast image\n",
      "  io.imsave(output_path,image_corrected)\n"
     ]
    },
    {
     "name": "stdout",
     "output_type": "stream",
     "text": [
      "microdish_20x_DIV5_A_pos4_1.tif\n"
     ]
    },
    {
     "name": "stderr",
     "output_type": "stream",
     "text": [
      "<ipython-input-4-783ae30aa263>:22: UserWarning: /data/hyun/Analysis/data/UB.VI.220/DIV5/images_background_corrected/microdish_20x_DIV5_A_pos4_1.tif is a low contrast image\n",
      "  io.imsave(output_path,image_corrected)\n"
     ]
    },
    {
     "name": "stdout",
     "output_type": "stream",
     "text": [
      "microdish_20x_DIV5_D_pos18_1.tif\n"
     ]
    },
    {
     "name": "stderr",
     "output_type": "stream",
     "text": [
      "<ipython-input-4-783ae30aa263>:22: UserWarning: /data/hyun/Analysis/data/UB.VI.220/DIV5/images_background_corrected/microdish_20x_DIV5_D_pos18_1.tif is a low contrast image\n",
      "  io.imsave(output_path,image_corrected)\n"
     ]
    },
    {
     "name": "stdout",
     "output_type": "stream",
     "text": [
      "microdish_20x_DIV5_A_pos18_1.tif\n"
     ]
    },
    {
     "name": "stderr",
     "output_type": "stream",
     "text": [
      "<ipython-input-4-783ae30aa263>:22: UserWarning: /data/hyun/Analysis/data/UB.VI.220/DIV5/images_background_corrected/microdish_20x_DIV5_A_pos18_1.tif is a low contrast image\n",
      "  io.imsave(output_path,image_corrected)\n"
     ]
    },
    {
     "name": "stdout",
     "output_type": "stream",
     "text": [
      "microdish_20x_DIV5_L_pos2_1.tif\n"
     ]
    },
    {
     "name": "stderr",
     "output_type": "stream",
     "text": [
      "<ipython-input-4-783ae30aa263>:22: UserWarning: /data/hyun/Analysis/data/UB.VI.220/DIV5/images_background_corrected/microdish_20x_DIV5_L_pos2_1.tif is a low contrast image\n",
      "  io.imsave(output_path,image_corrected)\n"
     ]
    },
    {
     "name": "stdout",
     "output_type": "stream",
     "text": [
      "microdish_20x_DIV5_L_pos18_1.tif\n"
     ]
    },
    {
     "name": "stderr",
     "output_type": "stream",
     "text": [
      "<ipython-input-4-783ae30aa263>:22: UserWarning: /data/hyun/Analysis/data/UB.VI.220/DIV5/images_background_corrected/microdish_20x_DIV5_L_pos18_1.tif is a low contrast image\n",
      "  io.imsave(output_path,image_corrected)\n"
     ]
    },
    {
     "name": "stdout",
     "output_type": "stream",
     "text": [
      "microdish_20x_DIV5_L_pos1_1.tif\n"
     ]
    },
    {
     "name": "stderr",
     "output_type": "stream",
     "text": [
      "<ipython-input-4-783ae30aa263>:22: UserWarning: /data/hyun/Analysis/data/UB.VI.220/DIV5/images_background_corrected/microdish_20x_DIV5_L_pos1_1.tif is a low contrast image\n",
      "  io.imsave(output_path,image_corrected)\n"
     ]
    },
    {
     "name": "stdout",
     "output_type": "stream",
     "text": [
      "microdish_20x_DIV5_B_pos45_1.tif\n"
     ]
    },
    {
     "name": "stderr",
     "output_type": "stream",
     "text": [
      "<ipython-input-4-783ae30aa263>:22: UserWarning: /data/hyun/Analysis/data/UB.VI.220/DIV5/images_background_corrected/microdish_20x_DIV5_B_pos45_1.tif is a low contrast image\n",
      "  io.imsave(output_path,image_corrected)\n"
     ]
    },
    {
     "name": "stdout",
     "output_type": "stream",
     "text": [
      "microdish_20x_DIV5_D_pos38_1.tif\n"
     ]
    },
    {
     "name": "stderr",
     "output_type": "stream",
     "text": [
      "<ipython-input-4-783ae30aa263>:22: UserWarning: /data/hyun/Analysis/data/UB.VI.220/DIV5/images_background_corrected/microdish_20x_DIV5_D_pos38_1.tif is a low contrast image\n",
      "  io.imsave(output_path,image_corrected)\n",
      "/home/Hyun/.conda/envs/cp4/lib/python3.8/site-packages/skimage/filters/rank/generic.py:262: UserWarning: Bad rank filter performance is expected due to a large number of bins (65513), equivalent to an approximate bitdepth of 16.0.\n",
      "  image, footprint, out, mask, n_bins = _preprocess_input(image, footprint,\n"
     ]
    },
    {
     "name": "stdout",
     "output_type": "stream",
     "text": [
      "microdish_20x_DIV5_A_pos5_1.tif\n"
     ]
    },
    {
     "name": "stderr",
     "output_type": "stream",
     "text": [
      "<ipython-input-4-783ae30aa263>:22: UserWarning: /data/hyun/Analysis/data/UB.VI.220/DIV5/images_background_corrected/microdish_20x_DIV5_A_pos5_1.tif is a low contrast image\n",
      "  io.imsave(output_path,image_corrected)\n",
      "/home/Hyun/.conda/envs/cp4/lib/python3.8/site-packages/skimage/filters/rank/generic.py:262: UserWarning: Bad rank filter performance is expected due to a large number of bins (1947), equivalent to an approximate bitdepth of 10.9.\n",
      "  image, footprint, out, mask, n_bins = _preprocess_input(image, footprint,\n"
     ]
    },
    {
     "name": "stdout",
     "output_type": "stream",
     "text": [
      "microdish_20x_DIV5_H_pos1_1.tif\n"
     ]
    },
    {
     "name": "stderr",
     "output_type": "stream",
     "text": [
      "<ipython-input-4-783ae30aa263>:22: UserWarning: /data/hyun/Analysis/data/UB.VI.220/DIV5/images_background_corrected/microdish_20x_DIV5_H_pos1_1.tif is a low contrast image\n",
      "  io.imsave(output_path,image_corrected)\n"
     ]
    },
    {
     "name": "stdout",
     "output_type": "stream",
     "text": [
      "microdish_20x_DIV5_A_pos40_1.tif\n"
     ]
    },
    {
     "name": "stderr",
     "output_type": "stream",
     "text": [
      "<ipython-input-4-783ae30aa263>:22: UserWarning: /data/hyun/Analysis/data/UB.VI.220/DIV5/images_background_corrected/microdish_20x_DIV5_A_pos40_1.tif is a low contrast image\n",
      "  io.imsave(output_path,image_corrected)\n"
     ]
    },
    {
     "name": "stdout",
     "output_type": "stream",
     "text": [
      "microdish_20x_DIV5_J_pos12_1.tif\n"
     ]
    },
    {
     "name": "stderr",
     "output_type": "stream",
     "text": [
      "<ipython-input-4-783ae30aa263>:22: UserWarning: /data/hyun/Analysis/data/UB.VI.220/DIV5/images_background_corrected/microdish_20x_DIV5_J_pos12_1.tif is a low contrast image\n",
      "  io.imsave(output_path,image_corrected)\n"
     ]
    },
    {
     "name": "stdout",
     "output_type": "stream",
     "text": [
      "microdish_20x_DIV5_K_pos4_1.tif\n"
     ]
    },
    {
     "name": "stderr",
     "output_type": "stream",
     "text": [
      "<ipython-input-4-783ae30aa263>:22: UserWarning: /data/hyun/Analysis/data/UB.VI.220/DIV5/images_background_corrected/microdish_20x_DIV5_K_pos4_1.tif is a low contrast image\n",
      "  io.imsave(output_path,image_corrected)\n"
     ]
    },
    {
     "name": "stdout",
     "output_type": "stream",
     "text": [
      "microdish_20x_DIV5_H_pos9_1.tif\n"
     ]
    },
    {
     "name": "stderr",
     "output_type": "stream",
     "text": [
      "<ipython-input-4-783ae30aa263>:22: UserWarning: /data/hyun/Analysis/data/UB.VI.220/DIV5/images_background_corrected/microdish_20x_DIV5_H_pos9_1.tif is a low contrast image\n",
      "  io.imsave(output_path,image_corrected)\n"
     ]
    },
    {
     "name": "stdout",
     "output_type": "stream",
     "text": [
      "microdish_20x_DIV5_J_pos14_2.tif\n"
     ]
    },
    {
     "name": "stderr",
     "output_type": "stream",
     "text": [
      "<ipython-input-4-783ae30aa263>:22: UserWarning: /data/hyun/Analysis/data/UB.VI.220/DIV5/images_background_corrected/microdish_20x_DIV5_J_pos14_2.tif is a low contrast image\n",
      "  io.imsave(output_path,image_corrected)\n",
      "/home/Hyun/.conda/envs/cp4/lib/python3.8/site-packages/skimage/filters/rank/generic.py:262: UserWarning: Bad rank filter performance is expected due to a large number of bins (2041), equivalent to an approximate bitdepth of 11.0.\n",
      "  image, footprint, out, mask, n_bins = _preprocess_input(image, footprint,\n"
     ]
    },
    {
     "name": "stdout",
     "output_type": "stream",
     "text": [
      "microdish_20x_DIV5_A_pos16_2.tif\n"
     ]
    },
    {
     "name": "stderr",
     "output_type": "stream",
     "text": [
      "<ipython-input-4-783ae30aa263>:22: UserWarning: /data/hyun/Analysis/data/UB.VI.220/DIV5/images_background_corrected/microdish_20x_DIV5_A_pos16_2.tif is a low contrast image\n",
      "  io.imsave(output_path,image_corrected)\n"
     ]
    },
    {
     "name": "stdout",
     "output_type": "stream",
     "text": [
      "microdish_20x_DIV5_K_pos27_1.tif\n"
     ]
    },
    {
     "name": "stderr",
     "output_type": "stream",
     "text": [
      "<ipython-input-4-783ae30aa263>:22: UserWarning: /data/hyun/Analysis/data/UB.VI.220/DIV5/images_background_corrected/microdish_20x_DIV5_K_pos27_1.tif is a low contrast image\n",
      "  io.imsave(output_path,image_corrected)\n"
     ]
    },
    {
     "name": "stdout",
     "output_type": "stream",
     "text": [
      "microdish_20x_DIV5_D_pos26_1.tif\n"
     ]
    },
    {
     "name": "stderr",
     "output_type": "stream",
     "text": [
      "<ipython-input-4-783ae30aa263>:22: UserWarning: /data/hyun/Analysis/data/UB.VI.220/DIV5/images_background_corrected/microdish_20x_DIV5_D_pos26_1.tif is a low contrast image\n",
      "  io.imsave(output_path,image_corrected)\n"
     ]
    },
    {
     "name": "stdout",
     "output_type": "stream",
     "text": [
      "microdish_20x_DIV5_L_pos11_1.tif\n"
     ]
    },
    {
     "name": "stderr",
     "output_type": "stream",
     "text": [
      "<ipython-input-4-783ae30aa263>:22: UserWarning: /data/hyun/Analysis/data/UB.VI.220/DIV5/images_background_corrected/microdish_20x_DIV5_L_pos11_1.tif is a low contrast image\n",
      "  io.imsave(output_path,image_corrected)\n"
     ]
    },
    {
     "name": "stdout",
     "output_type": "stream",
     "text": [
      "microdish_20x_DIV5_G_pos8_1.tif\n"
     ]
    },
    {
     "name": "stderr",
     "output_type": "stream",
     "text": [
      "<ipython-input-4-783ae30aa263>:22: UserWarning: /data/hyun/Analysis/data/UB.VI.220/DIV5/images_background_corrected/microdish_20x_DIV5_G_pos8_1.tif is a low contrast image\n",
      "  io.imsave(output_path,image_corrected)\n"
     ]
    },
    {
     "name": "stdout",
     "output_type": "stream",
     "text": [
      "microdish_20x_DIV5_H_pos15_1.tif\n"
     ]
    },
    {
     "name": "stderr",
     "output_type": "stream",
     "text": [
      "<ipython-input-4-783ae30aa263>:22: UserWarning: /data/hyun/Analysis/data/UB.VI.220/DIV5/images_background_corrected/microdish_20x_DIV5_H_pos15_1.tif is a low contrast image\n",
      "  io.imsave(output_path,image_corrected)\n"
     ]
    },
    {
     "name": "stdout",
     "output_type": "stream",
     "text": [
      "microdish_20x_DIV5_D_pos8_1.tif\n"
     ]
    },
    {
     "name": "stderr",
     "output_type": "stream",
     "text": [
      "<ipython-input-4-783ae30aa263>:22: UserWarning: /data/hyun/Analysis/data/UB.VI.220/DIV5/images_background_corrected/microdish_20x_DIV5_D_pos8_1.tif is a low contrast image\n",
      "  io.imsave(output_path,image_corrected)\n"
     ]
    },
    {
     "name": "stdout",
     "output_type": "stream",
     "text": [
      "microdish_20x_DIV5_L_pos10_1.tif\n"
     ]
    },
    {
     "name": "stderr",
     "output_type": "stream",
     "text": [
      "<ipython-input-4-783ae30aa263>:22: UserWarning: /data/hyun/Analysis/data/UB.VI.220/DIV5/images_background_corrected/microdish_20x_DIV5_L_pos10_1.tif is a low contrast image\n",
      "  io.imsave(output_path,image_corrected)\n"
     ]
    },
    {
     "name": "stdout",
     "output_type": "stream",
     "text": [
      "microdish_20x_DIV5_F_pos10_1.tif\n"
     ]
    },
    {
     "name": "stderr",
     "output_type": "stream",
     "text": [
      "<ipython-input-4-783ae30aa263>:22: UserWarning: /data/hyun/Analysis/data/UB.VI.220/DIV5/images_background_corrected/microdish_20x_DIV5_F_pos10_1.tif is a low contrast image\n",
      "  io.imsave(output_path,image_corrected)\n",
      "/home/Hyun/.conda/envs/cp4/lib/python3.8/site-packages/skimage/filters/rank/generic.py:262: UserWarning: Bad rank filter performance is expected due to a large number of bins (2299), equivalent to an approximate bitdepth of 11.2.\n",
      "  image, footprint, out, mask, n_bins = _preprocess_input(image, footprint,\n"
     ]
    },
    {
     "name": "stdout",
     "output_type": "stream",
     "text": [
      "microdish_20x_DIV5_A_pos19_1.tif\n"
     ]
    },
    {
     "name": "stderr",
     "output_type": "stream",
     "text": [
      "<ipython-input-4-783ae30aa263>:22: UserWarning: /data/hyun/Analysis/data/UB.VI.220/DIV5/images_background_corrected/microdish_20x_DIV5_A_pos19_1.tif is a low contrast image\n",
      "  io.imsave(output_path,image_corrected)\n"
     ]
    },
    {
     "name": "stdout",
     "output_type": "stream",
     "text": [
      "microdish_20x_DIV5_K_pos16_1.tif\n"
     ]
    },
    {
     "name": "stderr",
     "output_type": "stream",
     "text": [
      "<ipython-input-4-783ae30aa263>:22: UserWarning: /data/hyun/Analysis/data/UB.VI.220/DIV5/images_background_corrected/microdish_20x_DIV5_K_pos16_1.tif is a low contrast image\n",
      "  io.imsave(output_path,image_corrected)\n"
     ]
    },
    {
     "name": "stdout",
     "output_type": "stream",
     "text": [
      "microdish_20x_DIV5_D_pos17_1.tif\n"
     ]
    },
    {
     "name": "stderr",
     "output_type": "stream",
     "text": [
      "<ipython-input-4-783ae30aa263>:22: UserWarning: /data/hyun/Analysis/data/UB.VI.220/DIV5/images_background_corrected/microdish_20x_DIV5_D_pos17_1.tif is a low contrast image\n",
      "  io.imsave(output_path,image_corrected)\n"
     ]
    },
    {
     "name": "stdout",
     "output_type": "stream",
     "text": [
      "microdish_20x_DIV5_E_pos18_1.tif\n"
     ]
    },
    {
     "name": "stderr",
     "output_type": "stream",
     "text": [
      "<ipython-input-4-783ae30aa263>:22: UserWarning: /data/hyun/Analysis/data/UB.VI.220/DIV5/images_background_corrected/microdish_20x_DIV5_E_pos18_1.tif is a low contrast image\n",
      "  io.imsave(output_path,image_corrected)\n"
     ]
    },
    {
     "name": "stdout",
     "output_type": "stream",
     "text": [
      "microdish_20x_DIV5_B_pos17_1.tif\n"
     ]
    },
    {
     "name": "stderr",
     "output_type": "stream",
     "text": [
      "<ipython-input-4-783ae30aa263>:22: UserWarning: /data/hyun/Analysis/data/UB.VI.220/DIV5/images_background_corrected/microdish_20x_DIV5_B_pos17_1.tif is a low contrast image\n",
      "  io.imsave(output_path,image_corrected)\n",
      "/home/Hyun/.conda/envs/cp4/lib/python3.8/site-packages/skimage/filters/rank/generic.py:262: UserWarning: Bad rank filter performance is expected due to a large number of bins (2507), equivalent to an approximate bitdepth of 11.3.\n",
      "  image, footprint, out, mask, n_bins = _preprocess_input(image, footprint,\n"
     ]
    },
    {
     "name": "stdout",
     "output_type": "stream",
     "text": [
      "microdish_20x_DIV5_A_pos25_1.tif\n"
     ]
    },
    {
     "name": "stderr",
     "output_type": "stream",
     "text": [
      "<ipython-input-4-783ae30aa263>:22: UserWarning: /data/hyun/Analysis/data/UB.VI.220/DIV5/images_background_corrected/microdish_20x_DIV5_A_pos25_1.tif is a low contrast image\n",
      "  io.imsave(output_path,image_corrected)\n"
     ]
    },
    {
     "name": "stdout",
     "output_type": "stream",
     "text": [
      "microdish_20x_DIV5_E_pos12_1.tif\n"
     ]
    },
    {
     "name": "stderr",
     "output_type": "stream",
     "text": [
      "<ipython-input-4-783ae30aa263>:22: UserWarning: /data/hyun/Analysis/data/UB.VI.220/DIV5/images_background_corrected/microdish_20x_DIV5_E_pos12_1.tif is a low contrast image\n",
      "  io.imsave(output_path,image_corrected)\n",
      "/home/Hyun/.conda/envs/cp4/lib/python3.8/site-packages/skimage/filters/rank/generic.py:262: UserWarning: Bad rank filter performance is expected due to a large number of bins (1950), equivalent to an approximate bitdepth of 10.9.\n",
      "  image, footprint, out, mask, n_bins = _preprocess_input(image, footprint,\n"
     ]
    },
    {
     "name": "stdout",
     "output_type": "stream",
     "text": [
      "microdish_20x_DIV5_H_pos14_1.tif\n"
     ]
    },
    {
     "name": "stderr",
     "output_type": "stream",
     "text": [
      "<ipython-input-4-783ae30aa263>:22: UserWarning: /data/hyun/Analysis/data/UB.VI.220/DIV5/images_background_corrected/microdish_20x_DIV5_H_pos14_1.tif is a low contrast image\n",
      "  io.imsave(output_path,image_corrected)\n"
     ]
    },
    {
     "name": "stdout",
     "output_type": "stream",
     "text": [
      "microdish_20x_DIV5_B_pos43_1.tif\n"
     ]
    },
    {
     "name": "stderr",
     "output_type": "stream",
     "text": [
      "<ipython-input-4-783ae30aa263>:22: UserWarning: /data/hyun/Analysis/data/UB.VI.220/DIV5/images_background_corrected/microdish_20x_DIV5_B_pos43_1.tif is a low contrast image\n",
      "  io.imsave(output_path,image_corrected)\n"
     ]
    },
    {
     "name": "stdout",
     "output_type": "stream",
     "text": [
      "microdish_20x_DIV5_H_pos23_1.tif\n"
     ]
    },
    {
     "name": "stderr",
     "output_type": "stream",
     "text": [
      "<ipython-input-4-783ae30aa263>:22: UserWarning: /data/hyun/Analysis/data/UB.VI.220/DIV5/images_background_corrected/microdish_20x_DIV5_H_pos23_1.tif is a low contrast image\n",
      "  io.imsave(output_path,image_corrected)\n"
     ]
    },
    {
     "name": "stdout",
     "output_type": "stream",
     "text": [
      "microdish_20x_DIV5_B_pos35_1.tif\n"
     ]
    },
    {
     "name": "stderr",
     "output_type": "stream",
     "text": [
      "<ipython-input-4-783ae30aa263>:22: UserWarning: /data/hyun/Analysis/data/UB.VI.220/DIV5/images_background_corrected/microdish_20x_DIV5_B_pos35_1.tif is a low contrast image\n",
      "  io.imsave(output_path,image_corrected)\n"
     ]
    },
    {
     "name": "stdout",
     "output_type": "stream",
     "text": [
      "microdish_20x_DIV5_H_pos2_1.tif\n"
     ]
    },
    {
     "name": "stderr",
     "output_type": "stream",
     "text": [
      "<ipython-input-4-783ae30aa263>:22: UserWarning: /data/hyun/Analysis/data/UB.VI.220/DIV5/images_background_corrected/microdish_20x_DIV5_H_pos2_1.tif is a low contrast image\n",
      "  io.imsave(output_path,image_corrected)\n"
     ]
    },
    {
     "name": "stdout",
     "output_type": "stream",
     "text": [
      "microdish_20x_DIV5_G_pos24_1.tif\n"
     ]
    },
    {
     "name": "stderr",
     "output_type": "stream",
     "text": [
      "<ipython-input-4-783ae30aa263>:22: UserWarning: /data/hyun/Analysis/data/UB.VI.220/DIV5/images_background_corrected/microdish_20x_DIV5_G_pos24_1.tif is a low contrast image\n",
      "  io.imsave(output_path,image_corrected)\n",
      "/home/Hyun/.conda/envs/cp4/lib/python3.8/site-packages/skimage/filters/rank/generic.py:262: UserWarning: Bad rank filter performance is expected due to a large number of bins (1678), equivalent to an approximate bitdepth of 10.7.\n",
      "  image, footprint, out, mask, n_bins = _preprocess_input(image, footprint,\n"
     ]
    },
    {
     "name": "stdout",
     "output_type": "stream",
     "text": [
      "microdish_20x_DIV5_E_pos1_1.tif\n"
     ]
    },
    {
     "name": "stderr",
     "output_type": "stream",
     "text": [
      "<ipython-input-4-783ae30aa263>:22: UserWarning: /data/hyun/Analysis/data/UB.VI.220/DIV5/images_background_corrected/microdish_20x_DIV5_E_pos1_1.tif is a low contrast image\n",
      "  io.imsave(output_path,image_corrected)\n",
      "/home/Hyun/.conda/envs/cp4/lib/python3.8/site-packages/skimage/filters/rank/generic.py:262: UserWarning: Bad rank filter performance is expected due to a large number of bins (65510), equivalent to an approximate bitdepth of 16.0.\n",
      "  image, footprint, out, mask, n_bins = _preprocess_input(image, footprint,\n"
     ]
    },
    {
     "name": "stdout",
     "output_type": "stream",
     "text": [
      "microdish_20x_DIV5_G_pos5_1.tif\n"
     ]
    },
    {
     "name": "stderr",
     "output_type": "stream",
     "text": [
      "<ipython-input-4-783ae30aa263>:22: UserWarning: /data/hyun/Analysis/data/UB.VI.220/DIV5/images_background_corrected/microdish_20x_DIV5_G_pos5_1.tif is a low contrast image\n",
      "  io.imsave(output_path,image_corrected)\n",
      "/home/Hyun/.conda/envs/cp4/lib/python3.8/site-packages/skimage/filters/rank/generic.py:262: UserWarning: Bad rank filter performance is expected due to a large number of bins (1730), equivalent to an approximate bitdepth of 10.8.\n",
      "  image, footprint, out, mask, n_bins = _preprocess_input(image, footprint,\n"
     ]
    },
    {
     "name": "stdout",
     "output_type": "stream",
     "text": [
      "microdish_20x_DIV5_F_pos3_1.tif\n"
     ]
    },
    {
     "name": "stderr",
     "output_type": "stream",
     "text": [
      "<ipython-input-4-783ae30aa263>:22: UserWarning: /data/hyun/Analysis/data/UB.VI.220/DIV5/images_background_corrected/microdish_20x_DIV5_F_pos3_1.tif is a low contrast image\n",
      "  io.imsave(output_path,image_corrected)\n"
     ]
    },
    {
     "name": "stdout",
     "output_type": "stream",
     "text": [
      "microdish_20x_DIV5_I_pos14_1.tif\n"
     ]
    },
    {
     "name": "stderr",
     "output_type": "stream",
     "text": [
      "<ipython-input-4-783ae30aa263>:22: UserWarning: /data/hyun/Analysis/data/UB.VI.220/DIV5/images_background_corrected/microdish_20x_DIV5_I_pos14_1.tif is a low contrast image\n",
      "  io.imsave(output_path,image_corrected)\n"
     ]
    },
    {
     "name": "stdout",
     "output_type": "stream",
     "text": [
      "microdish_20x_DIV5_I_pos0_1.tif\n"
     ]
    },
    {
     "name": "stderr",
     "output_type": "stream",
     "text": [
      "<ipython-input-4-783ae30aa263>:22: UserWarning: /data/hyun/Analysis/data/UB.VI.220/DIV5/images_background_corrected/microdish_20x_DIV5_I_pos0_1.tif is a low contrast image\n",
      "  io.imsave(output_path,image_corrected)\n"
     ]
    },
    {
     "name": "stdout",
     "output_type": "stream",
     "text": [
      "microdish_20x_DIV5_K_pos13_1.tif\n"
     ]
    },
    {
     "name": "stderr",
     "output_type": "stream",
     "text": [
      "<ipython-input-4-783ae30aa263>:22: UserWarning: /data/hyun/Analysis/data/UB.VI.220/DIV5/images_background_corrected/microdish_20x_DIV5_K_pos13_1.tif is a low contrast image\n",
      "  io.imsave(output_path,image_corrected)\n",
      "/home/Hyun/.conda/envs/cp4/lib/python3.8/site-packages/skimage/filters/rank/generic.py:262: UserWarning: Bad rank filter performance is expected due to a large number of bins (1690), equivalent to an approximate bitdepth of 10.7.\n",
      "  image, footprint, out, mask, n_bins = _preprocess_input(image, footprint,\n"
     ]
    },
    {
     "name": "stdout",
     "output_type": "stream",
     "text": [
      "microdish_20x_DIV5_H_pos24_1.tif\n"
     ]
    },
    {
     "name": "stderr",
     "output_type": "stream",
     "text": [
      "<ipython-input-4-783ae30aa263>:22: UserWarning: /data/hyun/Analysis/data/UB.VI.220/DIV5/images_background_corrected/microdish_20x_DIV5_H_pos24_1.tif is a low contrast image\n",
      "  io.imsave(output_path,image_corrected)\n",
      "/home/Hyun/.conda/envs/cp4/lib/python3.8/site-packages/skimage/filters/rank/generic.py:262: UserWarning: Bad rank filter performance is expected due to a large number of bins (3063), equivalent to an approximate bitdepth of 11.6.\n",
      "  image, footprint, out, mask, n_bins = _preprocess_input(image, footprint,\n"
     ]
    },
    {
     "name": "stdout",
     "output_type": "stream",
     "text": [
      "microdish_20x_DIV5_A_pos17_2.tif\n"
     ]
    },
    {
     "name": "stderr",
     "output_type": "stream",
     "text": [
      "<ipython-input-4-783ae30aa263>:22: UserWarning: /data/hyun/Analysis/data/UB.VI.220/DIV5/images_background_corrected/microdish_20x_DIV5_A_pos17_2.tif is a low contrast image\n",
      "  io.imsave(output_path,image_corrected)\n"
     ]
    },
    {
     "name": "stdout",
     "output_type": "stream",
     "text": [
      "microdish_20x_DIV5_H_pos22_1.tif\n"
     ]
    },
    {
     "name": "stderr",
     "output_type": "stream",
     "text": [
      "<ipython-input-4-783ae30aa263>:22: UserWarning: /data/hyun/Analysis/data/UB.VI.220/DIV5/images_background_corrected/microdish_20x_DIV5_H_pos22_1.tif is a low contrast image\n",
      "  io.imsave(output_path,image_corrected)\n"
     ]
    },
    {
     "name": "stdout",
     "output_type": "stream",
     "text": [
      "microdish_20x_DIV5_L_pos21_1.tif\n"
     ]
    },
    {
     "name": "stderr",
     "output_type": "stream",
     "text": [
      "<ipython-input-4-783ae30aa263>:22: UserWarning: /data/hyun/Analysis/data/UB.VI.220/DIV5/images_background_corrected/microdish_20x_DIV5_L_pos21_1.tif is a low contrast image\n",
      "  io.imsave(output_path,image_corrected)\n"
     ]
    },
    {
     "name": "stdout",
     "output_type": "stream",
     "text": [
      "microdish_20x_DIV5_L_pos23_1.tif\n"
     ]
    },
    {
     "name": "stderr",
     "output_type": "stream",
     "text": [
      "<ipython-input-4-783ae30aa263>:22: UserWarning: /data/hyun/Analysis/data/UB.VI.220/DIV5/images_background_corrected/microdish_20x_DIV5_L_pos23_1.tif is a low contrast image\n",
      "  io.imsave(output_path,image_corrected)\n"
     ]
    },
    {
     "name": "stdout",
     "output_type": "stream",
     "text": [
      "microdish_20x_DIV5_D_pos2_1.tif\n"
     ]
    },
    {
     "name": "stderr",
     "output_type": "stream",
     "text": [
      "<ipython-input-4-783ae30aa263>:22: UserWarning: /data/hyun/Analysis/data/UB.VI.220/DIV5/images_background_corrected/microdish_20x_DIV5_D_pos2_1.tif is a low contrast image\n",
      "  io.imsave(output_path,image_corrected)\n"
     ]
    },
    {
     "name": "stdout",
     "output_type": "stream",
     "text": [
      "microdish_20x_DIV5_I_pos17_1.tif\n"
     ]
    },
    {
     "name": "stderr",
     "output_type": "stream",
     "text": [
      "<ipython-input-4-783ae30aa263>:22: UserWarning: /data/hyun/Analysis/data/UB.VI.220/DIV5/images_background_corrected/microdish_20x_DIV5_I_pos17_1.tif is a low contrast image\n",
      "  io.imsave(output_path,image_corrected)\n"
     ]
    },
    {
     "name": "stdout",
     "output_type": "stream",
     "text": [
      "microdish_20x_DIV5_L_pos19_1.tif\n"
     ]
    },
    {
     "name": "stderr",
     "output_type": "stream",
     "text": [
      "<ipython-input-4-783ae30aa263>:22: UserWarning: /data/hyun/Analysis/data/UB.VI.220/DIV5/images_background_corrected/microdish_20x_DIV5_L_pos19_1.tif is a low contrast image\n",
      "  io.imsave(output_path,image_corrected)\n"
     ]
    },
    {
     "name": "stdout",
     "output_type": "stream",
     "text": [
      "microdish_20x_DIV5_J_pos19_1.tif\n"
     ]
    },
    {
     "name": "stderr",
     "output_type": "stream",
     "text": [
      "<ipython-input-4-783ae30aa263>:22: UserWarning: /data/hyun/Analysis/data/UB.VI.220/DIV5/images_background_corrected/microdish_20x_DIV5_J_pos19_1.tif is a low contrast image\n",
      "  io.imsave(output_path,image_corrected)\n",
      "/home/Hyun/.conda/envs/cp4/lib/python3.8/site-packages/skimage/filters/rank/generic.py:262: UserWarning: Bad rank filter performance is expected due to a large number of bins (1684), equivalent to an approximate bitdepth of 10.7.\n",
      "  image, footprint, out, mask, n_bins = _preprocess_input(image, footprint,\n"
     ]
    },
    {
     "name": "stdout",
     "output_type": "stream",
     "text": [
      "microdish_20x_DIV5_A_pos15_1.tif\n"
     ]
    },
    {
     "name": "stderr",
     "output_type": "stream",
     "text": [
      "<ipython-input-4-783ae30aa263>:22: UserWarning: /data/hyun/Analysis/data/UB.VI.220/DIV5/images_background_corrected/microdish_20x_DIV5_A_pos15_1.tif is a low contrast image\n",
      "  io.imsave(output_path,image_corrected)\n"
     ]
    },
    {
     "name": "stdout",
     "output_type": "stream",
     "text": [
      "microdish_20x_DIV5_A_pos13_1.tif\n"
     ]
    },
    {
     "name": "stderr",
     "output_type": "stream",
     "text": [
      "<ipython-input-4-783ae30aa263>:22: UserWarning: /data/hyun/Analysis/data/UB.VI.220/DIV5/images_background_corrected/microdish_20x_DIV5_A_pos13_1.tif is a low contrast image\n",
      "  io.imsave(output_path,image_corrected)\n"
     ]
    },
    {
     "name": "stdout",
     "output_type": "stream",
     "text": [
      "microdish_20x_DIV5_J_pos7_1.tif\n"
     ]
    },
    {
     "name": "stderr",
     "output_type": "stream",
     "text": [
      "<ipython-input-4-783ae30aa263>:22: UserWarning: /data/hyun/Analysis/data/UB.VI.220/DIV5/images_background_corrected/microdish_20x_DIV5_J_pos7_1.tif is a low contrast image\n",
      "  io.imsave(output_path,image_corrected)\n",
      "/home/Hyun/.conda/envs/cp4/lib/python3.8/site-packages/skimage/filters/rank/generic.py:262: UserWarning: Bad rank filter performance is expected due to a large number of bins (2484), equivalent to an approximate bitdepth of 11.3.\n",
      "  image, footprint, out, mask, n_bins = _preprocess_input(image, footprint,\n"
     ]
    },
    {
     "name": "stdout",
     "output_type": "stream",
     "text": [
      "microdish_20x_DIV5_D_pos0_1.tif\n"
     ]
    },
    {
     "name": "stderr",
     "output_type": "stream",
     "text": [
      "<ipython-input-4-783ae30aa263>:22: UserWarning: /data/hyun/Analysis/data/UB.VI.220/DIV5/images_background_corrected/microdish_20x_DIV5_D_pos0_1.tif is a low contrast image\n",
      "  io.imsave(output_path,image_corrected)\n",
      "/home/Hyun/.conda/envs/cp4/lib/python3.8/site-packages/skimage/filters/rank/generic.py:262: UserWarning: Bad rank filter performance is expected due to a large number of bins (2416), equivalent to an approximate bitdepth of 11.2.\n",
      "  image, footprint, out, mask, n_bins = _preprocess_input(image, footprint,\n"
     ]
    },
    {
     "name": "stdout",
     "output_type": "stream",
     "text": [
      "microdish_20x_DIV5_H_pos7_1.tif\n"
     ]
    },
    {
     "name": "stderr",
     "output_type": "stream",
     "text": [
      "<ipython-input-4-783ae30aa263>:22: UserWarning: /data/hyun/Analysis/data/UB.VI.220/DIV5/images_background_corrected/microdish_20x_DIV5_H_pos7_1.tif is a low contrast image\n",
      "  io.imsave(output_path,image_corrected)\n",
      "/home/Hyun/.conda/envs/cp4/lib/python3.8/site-packages/skimage/filters/rank/generic.py:262: UserWarning: Bad rank filter performance is expected due to a large number of bins (1696), equivalent to an approximate bitdepth of 10.7.\n",
      "  image, footprint, out, mask, n_bins = _preprocess_input(image, footprint,\n"
     ]
    },
    {
     "name": "stdout",
     "output_type": "stream",
     "text": [
      "microdish_20x_DIV5_K_pos21_1.tif\n"
     ]
    },
    {
     "name": "stderr",
     "output_type": "stream",
     "text": [
      "<ipython-input-4-783ae30aa263>:22: UserWarning: /data/hyun/Analysis/data/UB.VI.220/DIV5/images_background_corrected/microdish_20x_DIV5_K_pos21_1.tif is a low contrast image\n",
      "  io.imsave(output_path,image_corrected)\n",
      "/home/Hyun/.conda/envs/cp4/lib/python3.8/site-packages/skimage/filters/rank/generic.py:262: UserWarning: Bad rank filter performance is expected due to a large number of bins (2692), equivalent to an approximate bitdepth of 11.4.\n",
      "  image, footprint, out, mask, n_bins = _preprocess_input(image, footprint,\n"
     ]
    },
    {
     "name": "stdout",
     "output_type": "stream",
     "text": [
      "microdish_20x_DIV5_A_pos33_1.tif\n"
     ]
    },
    {
     "name": "stderr",
     "output_type": "stream",
     "text": [
      "<ipython-input-4-783ae30aa263>:22: UserWarning: /data/hyun/Analysis/data/UB.VI.220/DIV5/images_background_corrected/microdish_20x_DIV5_A_pos33_1.tif is a low contrast image\n",
      "  io.imsave(output_path,image_corrected)\n"
     ]
    },
    {
     "name": "stdout",
     "output_type": "stream",
     "text": [
      "microdish_20x_DIV5_K_pos15_1.tif\n"
     ]
    },
    {
     "name": "stderr",
     "output_type": "stream",
     "text": [
      "<ipython-input-4-783ae30aa263>:22: UserWarning: /data/hyun/Analysis/data/UB.VI.220/DIV5/images_background_corrected/microdish_20x_DIV5_K_pos15_1.tif is a low contrast image\n",
      "  io.imsave(output_path,image_corrected)\n"
     ]
    },
    {
     "name": "stdout",
     "output_type": "stream",
     "text": [
      "microdish_20x_DIV5_J_pos1_1.tif\n"
     ]
    },
    {
     "name": "stderr",
     "output_type": "stream",
     "text": [
      "<ipython-input-4-783ae30aa263>:22: UserWarning: /data/hyun/Analysis/data/UB.VI.220/DIV5/images_background_corrected/microdish_20x_DIV5_J_pos1_1.tif is a low contrast image\n",
      "  io.imsave(output_path,image_corrected)\n"
     ]
    },
    {
     "name": "stdout",
     "output_type": "stream",
     "text": [
      "microdish_20x_DIV5_B_pos0_1.tif\n"
     ]
    },
    {
     "name": "stderr",
     "output_type": "stream",
     "text": [
      "<ipython-input-4-783ae30aa263>:22: UserWarning: /data/hyun/Analysis/data/UB.VI.220/DIV5/images_background_corrected/microdish_20x_DIV5_B_pos0_1.tif is a low contrast image\n",
      "  io.imsave(output_path,image_corrected)\n"
     ]
    },
    {
     "name": "stdout",
     "output_type": "stream",
     "text": [
      "microdish_20x_DIV5_J_pos3_1.tif\n"
     ]
    },
    {
     "name": "stderr",
     "output_type": "stream",
     "text": [
      "<ipython-input-4-783ae30aa263>:22: UserWarning: /data/hyun/Analysis/data/UB.VI.220/DIV5/images_background_corrected/microdish_20x_DIV5_J_pos3_1.tif is a low contrast image\n",
      "  io.imsave(output_path,image_corrected)\n",
      "/home/Hyun/.conda/envs/cp4/lib/python3.8/site-packages/skimage/filters/rank/generic.py:262: UserWarning: Bad rank filter performance is expected due to a large number of bins (2028), equivalent to an approximate bitdepth of 11.0.\n",
      "  image, footprint, out, mask, n_bins = _preprocess_input(image, footprint,\n"
     ]
    },
    {
     "name": "stdout",
     "output_type": "stream",
     "text": [
      "microdish_20x_DIV5_E_pos3_1.tif\n"
     ]
    },
    {
     "name": "stderr",
     "output_type": "stream",
     "text": [
      "<ipython-input-4-783ae30aa263>:22: UserWarning: /data/hyun/Analysis/data/UB.VI.220/DIV5/images_background_corrected/microdish_20x_DIV5_E_pos3_1.tif is a low contrast image\n",
      "  io.imsave(output_path,image_corrected)\n"
     ]
    },
    {
     "name": "stdout",
     "output_type": "stream",
     "text": [
      "microdish_20x_DIV5_A_pos20_1.tif\n"
     ]
    },
    {
     "name": "stderr",
     "output_type": "stream",
     "text": [
      "<ipython-input-4-783ae30aa263>:22: UserWarning: /data/hyun/Analysis/data/UB.VI.220/DIV5/images_background_corrected/microdish_20x_DIV5_A_pos20_1.tif is a low contrast image\n",
      "  io.imsave(output_path,image_corrected)\n"
     ]
    },
    {
     "name": "stdout",
     "output_type": "stream",
     "text": [
      "microdish_20x_DIV5_L_pos27_1.tif\n"
     ]
    },
    {
     "name": "stderr",
     "output_type": "stream",
     "text": [
      "<ipython-input-4-783ae30aa263>:22: UserWarning: /data/hyun/Analysis/data/UB.VI.220/DIV5/images_background_corrected/microdish_20x_DIV5_L_pos27_1.tif is a low contrast image\n",
      "  io.imsave(output_path,image_corrected)\n"
     ]
    },
    {
     "name": "stdout",
     "output_type": "stream",
     "text": [
      "microdish_20x_DIV5_B_pos25_1.tif\n"
     ]
    },
    {
     "name": "stderr",
     "output_type": "stream",
     "text": [
      "<ipython-input-4-783ae30aa263>:22: UserWarning: /data/hyun/Analysis/data/UB.VI.220/DIV5/images_background_corrected/microdish_20x_DIV5_B_pos25_1.tif is a low contrast image\n",
      "  io.imsave(output_path,image_corrected)\n",
      "/home/Hyun/.conda/envs/cp4/lib/python3.8/site-packages/skimage/filters/rank/generic.py:262: UserWarning: Bad rank filter performance is expected due to a large number of bins (3568), equivalent to an approximate bitdepth of 11.8.\n",
      "  image, footprint, out, mask, n_bins = _preprocess_input(image, footprint,\n"
     ]
    },
    {
     "name": "stdout",
     "output_type": "stream",
     "text": [
      "microdish_20x_DIV5_B_pos19_1.tif\n"
     ]
    },
    {
     "name": "stderr",
     "output_type": "stream",
     "text": [
      "<ipython-input-4-783ae30aa263>:22: UserWarning: /data/hyun/Analysis/data/UB.VI.220/DIV5/images_background_corrected/microdish_20x_DIV5_B_pos19_1.tif is a low contrast image\n",
      "  io.imsave(output_path,image_corrected)\n"
     ]
    },
    {
     "name": "stdout",
     "output_type": "stream",
     "text": [
      "microdish_20x_DIV5_I_pos26_1.tif\n"
     ]
    },
    {
     "name": "stderr",
     "output_type": "stream",
     "text": [
      "<ipython-input-4-783ae30aa263>:22: UserWarning: /data/hyun/Analysis/data/UB.VI.220/DIV5/images_background_corrected/microdish_20x_DIV5_I_pos26_1.tif is a low contrast image\n",
      "  io.imsave(output_path,image_corrected)\n"
     ]
    },
    {
     "name": "stdout",
     "output_type": "stream",
     "text": [
      "microdish_20x_DIV5_F_pos5_1.tif\n"
     ]
    },
    {
     "name": "stderr",
     "output_type": "stream",
     "text": [
      "<ipython-input-4-783ae30aa263>:22: UserWarning: /data/hyun/Analysis/data/UB.VI.220/DIV5/images_background_corrected/microdish_20x_DIV5_F_pos5_1.tif is a low contrast image\n",
      "  io.imsave(output_path,image_corrected)\n"
     ]
    },
    {
     "name": "stdout",
     "output_type": "stream",
     "text": [
      "microdish_20x_DIV5_D_pos7_1.tif\n"
     ]
    },
    {
     "name": "stderr",
     "output_type": "stream",
     "text": [
      "<ipython-input-4-783ae30aa263>:22: UserWarning: /data/hyun/Analysis/data/UB.VI.220/DIV5/images_background_corrected/microdish_20x_DIV5_D_pos7_1.tif is a low contrast image\n",
      "  io.imsave(output_path,image_corrected)\n",
      "/home/Hyun/.conda/envs/cp4/lib/python3.8/site-packages/skimage/filters/rank/generic.py:262: UserWarning: Bad rank filter performance is expected due to a large number of bins (2265), equivalent to an approximate bitdepth of 11.1.\n",
      "  image, footprint, out, mask, n_bins = _preprocess_input(image, footprint,\n"
     ]
    },
    {
     "name": "stdout",
     "output_type": "stream",
     "text": [
      "microdish_20x_DIV5_A_pos37_1.tif\n"
     ]
    },
    {
     "name": "stderr",
     "output_type": "stream",
     "text": [
      "<ipython-input-4-783ae30aa263>:22: UserWarning: /data/hyun/Analysis/data/UB.VI.220/DIV5/images_background_corrected/microdish_20x_DIV5_A_pos37_1.tif is a low contrast image\n",
      "  io.imsave(output_path,image_corrected)\n"
     ]
    },
    {
     "name": "stdout",
     "output_type": "stream",
     "text": [
      "microdish_20x_DIV5_G_pos13_1.tif\n"
     ]
    },
    {
     "name": "stderr",
     "output_type": "stream",
     "text": [
      "<ipython-input-4-783ae30aa263>:22: UserWarning: /data/hyun/Analysis/data/UB.VI.220/DIV5/images_background_corrected/microdish_20x_DIV5_G_pos13_1.tif is a low contrast image\n",
      "  io.imsave(output_path,image_corrected)\n"
     ]
    },
    {
     "name": "stdout",
     "output_type": "stream",
     "text": [
      "microdish_20x_DIV5_A_pos35_1.tif\n"
     ]
    },
    {
     "name": "stderr",
     "output_type": "stream",
     "text": [
      "<ipython-input-4-783ae30aa263>:22: UserWarning: /data/hyun/Analysis/data/UB.VI.220/DIV5/images_background_corrected/microdish_20x_DIV5_A_pos35_1.tif is a low contrast image\n",
      "  io.imsave(output_path,image_corrected)\n"
     ]
    },
    {
     "name": "stdout",
     "output_type": "stream",
     "text": [
      "microdish_20x_DIV5_L_pos3_1.tif\n"
     ]
    },
    {
     "name": "stderr",
     "output_type": "stream",
     "text": [
      "<ipython-input-4-783ae30aa263>:22: UserWarning: /data/hyun/Analysis/data/UB.VI.220/DIV5/images_background_corrected/microdish_20x_DIV5_L_pos3_1.tif is a low contrast image\n",
      "  io.imsave(output_path,image_corrected)\n",
      "/home/Hyun/.conda/envs/cp4/lib/python3.8/site-packages/skimage/filters/rank/generic.py:262: UserWarning: Bad rank filter performance is expected due to a large number of bins (2280), equivalent to an approximate bitdepth of 11.2.\n",
      "  image, footprint, out, mask, n_bins = _preprocess_input(image, footprint,\n"
     ]
    },
    {
     "name": "stdout",
     "output_type": "stream",
     "text": [
      "microdish_20x_DIV5_B_pos41_1.tif\n"
     ]
    },
    {
     "name": "stderr",
     "output_type": "stream",
     "text": [
      "<ipython-input-4-783ae30aa263>:22: UserWarning: /data/hyun/Analysis/data/UB.VI.220/DIV5/images_background_corrected/microdish_20x_DIV5_B_pos41_1.tif is a low contrast image\n",
      "  io.imsave(output_path,image_corrected)\n"
     ]
    },
    {
     "name": "stdout",
     "output_type": "stream",
     "text": [
      "microdish_20x_DIV5_E_pos19_1.tif\n"
     ]
    },
    {
     "name": "stderr",
     "output_type": "stream",
     "text": [
      "<ipython-input-4-783ae30aa263>:22: UserWarning: /data/hyun/Analysis/data/UB.VI.220/DIV5/images_background_corrected/microdish_20x_DIV5_E_pos19_1.tif is a low contrast image\n",
      "  io.imsave(output_path,image_corrected)\n"
     ]
    },
    {
     "name": "stdout",
     "output_type": "stream",
     "text": [
      "microdish_20x_DIV5_E_pos17_1.tif\n"
     ]
    },
    {
     "name": "stderr",
     "output_type": "stream",
     "text": [
      "<ipython-input-4-783ae30aa263>:22: UserWarning: /data/hyun/Analysis/data/UB.VI.220/DIV5/images_background_corrected/microdish_20x_DIV5_E_pos17_1.tif is a low contrast image\n",
      "  io.imsave(output_path,image_corrected)\n"
     ]
    },
    {
     "name": "stdout",
     "output_type": "stream",
     "text": [
      "microdish_20x_DIV5_B_pos10_1.tif\n"
     ]
    },
    {
     "name": "stderr",
     "output_type": "stream",
     "text": [
      "<ipython-input-4-783ae30aa263>:22: UserWarning: /data/hyun/Analysis/data/UB.VI.220/DIV5/images_background_corrected/microdish_20x_DIV5_B_pos10_1.tif is a low contrast image\n",
      "  io.imsave(output_path,image_corrected)\n",
      "/home/Hyun/.conda/envs/cp4/lib/python3.8/site-packages/skimage/filters/rank/generic.py:262: UserWarning: Bad rank filter performance is expected due to a large number of bins (2097), equivalent to an approximate bitdepth of 11.0.\n",
      "  image, footprint, out, mask, n_bins = _preprocess_input(image, footprint,\n"
     ]
    },
    {
     "name": "stdout",
     "output_type": "stream",
     "text": [
      "microdish_20x_DIV5_D_pos32_1.tif\n"
     ]
    },
    {
     "name": "stderr",
     "output_type": "stream",
     "text": [
      "<ipython-input-4-783ae30aa263>:22: UserWarning: /data/hyun/Analysis/data/UB.VI.220/DIV5/images_background_corrected/microdish_20x_DIV5_D_pos32_1.tif is a low contrast image\n",
      "  io.imsave(output_path,image_corrected)\n",
      "/home/Hyun/.conda/envs/cp4/lib/python3.8/site-packages/skimage/filters/rank/generic.py:262: UserWarning: Bad rank filter performance is expected due to a large number of bins (65528), equivalent to an approximate bitdepth of 16.0.\n",
      "  image, footprint, out, mask, n_bins = _preprocess_input(image, footprint,\n"
     ]
    },
    {
     "name": "stdout",
     "output_type": "stream",
     "text": [
      "microdish_20x_DIV5_I_pos22_1.tif\n"
     ]
    },
    {
     "name": "stderr",
     "output_type": "stream",
     "text": [
      "<ipython-input-4-783ae30aa263>:22: UserWarning: /data/hyun/Analysis/data/UB.VI.220/DIV5/images_background_corrected/microdish_20x_DIV5_I_pos22_1.tif is a low contrast image\n",
      "  io.imsave(output_path,image_corrected)\n"
     ]
    },
    {
     "name": "stdout",
     "output_type": "stream",
     "text": [
      "microdish_20x_DIV5_D_pos24_1.tif\n"
     ]
    },
    {
     "name": "stderr",
     "output_type": "stream",
     "text": [
      "<ipython-input-4-783ae30aa263>:22: UserWarning: /data/hyun/Analysis/data/UB.VI.220/DIV5/images_background_corrected/microdish_20x_DIV5_D_pos24_1.tif is a low contrast image\n",
      "  io.imsave(output_path,image_corrected)\n",
      "/home/Hyun/.conda/envs/cp4/lib/python3.8/site-packages/skimage/filters/rank/generic.py:262: UserWarning: Bad rank filter performance is expected due to a large number of bins (2058), equivalent to an approximate bitdepth of 11.0.\n",
      "  image, footprint, out, mask, n_bins = _preprocess_input(image, footprint,\n"
     ]
    },
    {
     "name": "stdout",
     "output_type": "stream",
     "text": [
      "microdish_20x_DIV5_D_pos11_1.tif\n"
     ]
    },
    {
     "name": "stderr",
     "output_type": "stream",
     "text": [
      "<ipython-input-4-783ae30aa263>:22: UserWarning: /data/hyun/Analysis/data/UB.VI.220/DIV5/images_background_corrected/microdish_20x_DIV5_D_pos11_1.tif is a low contrast image\n",
      "  io.imsave(output_path,image_corrected)\n"
     ]
    },
    {
     "name": "stdout",
     "output_type": "stream",
     "text": [
      "microdish_20x_DIV5_A_pos46_1.tif\n"
     ]
    },
    {
     "name": "stderr",
     "output_type": "stream",
     "text": [
      "<ipython-input-4-783ae30aa263>:22: UserWarning: /data/hyun/Analysis/data/UB.VI.220/DIV5/images_background_corrected/microdish_20x_DIV5_A_pos46_1.tif is a low contrast image\n",
      "  io.imsave(output_path,image_corrected)\n",
      "/home/Hyun/.conda/envs/cp4/lib/python3.8/site-packages/skimage/filters/rank/generic.py:262: UserWarning: Bad rank filter performance is expected due to a large number of bins (2584), equivalent to an approximate bitdepth of 11.3.\n",
      "  image, footprint, out, mask, n_bins = _preprocess_input(image, footprint,\n"
     ]
    },
    {
     "name": "stdout",
     "output_type": "stream",
     "text": [
      "microdish_20x_DIV5_E_pos6_1.tif\n"
     ]
    },
    {
     "name": "stderr",
     "output_type": "stream",
     "text": [
      "<ipython-input-4-783ae30aa263>:22: UserWarning: /data/hyun/Analysis/data/UB.VI.220/DIV5/images_background_corrected/microdish_20x_DIV5_E_pos6_1.tif is a low contrast image\n",
      "  io.imsave(output_path,image_corrected)\n"
     ]
    },
    {
     "name": "stdout",
     "output_type": "stream",
     "text": [
      "microdish_20x_DIV5_G_pos4_1.tif\n"
     ]
    },
    {
     "name": "stderr",
     "output_type": "stream",
     "text": [
      "<ipython-input-4-783ae30aa263>:22: UserWarning: /data/hyun/Analysis/data/UB.VI.220/DIV5/images_background_corrected/microdish_20x_DIV5_G_pos4_1.tif is a low contrast image\n",
      "  io.imsave(output_path,image_corrected)\n"
     ]
    },
    {
     "name": "stdout",
     "output_type": "stream",
     "text": [
      "microdish_20x_DIV5_K_pos8_1.tif\n"
     ]
    },
    {
     "name": "stderr",
     "output_type": "stream",
     "text": [
      "<ipython-input-4-783ae30aa263>:22: UserWarning: /data/hyun/Analysis/data/UB.VI.220/DIV5/images_background_corrected/microdish_20x_DIV5_K_pos8_1.tif is a low contrast image\n",
      "  io.imsave(output_path,image_corrected)\n"
     ]
    },
    {
     "name": "stdout",
     "output_type": "stream",
     "text": [
      "microdish_20x_DIV5_K_pos28_1.tif\n"
     ]
    },
    {
     "name": "stderr",
     "output_type": "stream",
     "text": [
      "<ipython-input-4-783ae30aa263>:22: UserWarning: /data/hyun/Analysis/data/UB.VI.220/DIV5/images_background_corrected/microdish_20x_DIV5_K_pos28_1.tif is a low contrast image\n",
      "  io.imsave(output_path,image_corrected)\n"
     ]
    },
    {
     "name": "stdout",
     "output_type": "stream",
     "text": [
      "microdish_20x_DIV5_D_pos3_1.tif\n"
     ]
    },
    {
     "name": "stderr",
     "output_type": "stream",
     "text": [
      "<ipython-input-4-783ae30aa263>:22: UserWarning: /data/hyun/Analysis/data/UB.VI.220/DIV5/images_background_corrected/microdish_20x_DIV5_D_pos3_1.tif is a low contrast image\n",
      "  io.imsave(output_path,image_corrected)\n"
     ]
    },
    {
     "name": "stdout",
     "output_type": "stream",
     "text": [
      "microdish_20x_DIV5_A_pos41_1.tif\n"
     ]
    },
    {
     "name": "stderr",
     "output_type": "stream",
     "text": [
      "<ipython-input-4-783ae30aa263>:22: UserWarning: /data/hyun/Analysis/data/UB.VI.220/DIV5/images_background_corrected/microdish_20x_DIV5_A_pos41_1.tif is a low contrast image\n",
      "  io.imsave(output_path,image_corrected)\n"
     ]
    },
    {
     "name": "stdout",
     "output_type": "stream",
     "text": [
      "microdish_20x_DIV5_D_pos6_1.tif\n"
     ]
    },
    {
     "name": "stderr",
     "output_type": "stream",
     "text": [
      "<ipython-input-4-783ae30aa263>:22: UserWarning: /data/hyun/Analysis/data/UB.VI.220/DIV5/images_background_corrected/microdish_20x_DIV5_D_pos6_1.tif is a low contrast image\n",
      "  io.imsave(output_path,image_corrected)\n"
     ]
    },
    {
     "name": "stdout",
     "output_type": "stream",
     "text": [
      "microdish_20x_DIV5_B_pos27_1.tif\n"
     ]
    },
    {
     "name": "stderr",
     "output_type": "stream",
     "text": [
      "<ipython-input-4-783ae30aa263>:22: UserWarning: /data/hyun/Analysis/data/UB.VI.220/DIV5/images_background_corrected/microdish_20x_DIV5_B_pos27_1.tif is a low contrast image\n",
      "  io.imsave(output_path,image_corrected)\n"
     ]
    },
    {
     "name": "stdout",
     "output_type": "stream",
     "text": [
      "microdish_20x_DIV5_H_pos25_1.tif\n"
     ]
    },
    {
     "name": "stderr",
     "output_type": "stream",
     "text": [
      "<ipython-input-4-783ae30aa263>:22: UserWarning: /data/hyun/Analysis/data/UB.VI.220/DIV5/images_background_corrected/microdish_20x_DIV5_H_pos25_1.tif is a low contrast image\n",
      "  io.imsave(output_path,image_corrected)\n",
      "/home/Hyun/.conda/envs/cp4/lib/python3.8/site-packages/skimage/filters/rank/generic.py:262: UserWarning: Bad rank filter performance is expected due to a large number of bins (2270), equivalent to an approximate bitdepth of 11.1.\n",
      "  image, footprint, out, mask, n_bins = _preprocess_input(image, footprint,\n"
     ]
    },
    {
     "name": "stdout",
     "output_type": "stream",
     "text": [
      "microdish_20x_DIV5_A_pos27_1.tif\n"
     ]
    },
    {
     "name": "stderr",
     "output_type": "stream",
     "text": [
      "<ipython-input-4-783ae30aa263>:22: UserWarning: /data/hyun/Analysis/data/UB.VI.220/DIV5/images_background_corrected/microdish_20x_DIV5_A_pos27_1.tif is a low contrast image\n",
      "  io.imsave(output_path,image_corrected)\n"
     ]
    },
    {
     "name": "stdout",
     "output_type": "stream",
     "text": [
      "microdish_20x_DIV5_G_pos17_1.tif\n"
     ]
    },
    {
     "name": "stderr",
     "output_type": "stream",
     "text": [
      "<ipython-input-4-783ae30aa263>:22: UserWarning: /data/hyun/Analysis/data/UB.VI.220/DIV5/images_background_corrected/microdish_20x_DIV5_G_pos17_1.tif is a low contrast image\n",
      "  io.imsave(output_path,image_corrected)\n",
      "/home/Hyun/.conda/envs/cp4/lib/python3.8/site-packages/skimage/filters/rank/generic.py:262: UserWarning: Bad rank filter performance is expected due to a large number of bins (2150), equivalent to an approximate bitdepth of 11.1.\n",
      "  image, footprint, out, mask, n_bins = _preprocess_input(image, footprint,\n"
     ]
    },
    {
     "name": "stdout",
     "output_type": "stream",
     "text": [
      "microdish_20x_DIV5_L_pos0_1.tif\n"
     ]
    },
    {
     "name": "stderr",
     "output_type": "stream",
     "text": [
      "<ipython-input-4-783ae30aa263>:22: UserWarning: /data/hyun/Analysis/data/UB.VI.220/DIV5/images_background_corrected/microdish_20x_DIV5_L_pos0_1.tif is a low contrast image\n",
      "  io.imsave(output_path,image_corrected)\n"
     ]
    },
    {
     "name": "stdout",
     "output_type": "stream",
     "text": [
      "microdish_20x_DIV5_L_pos9_1.tif\n"
     ]
    },
    {
     "name": "stderr",
     "output_type": "stream",
     "text": [
      "<ipython-input-4-783ae30aa263>:22: UserWarning: /data/hyun/Analysis/data/UB.VI.220/DIV5/images_background_corrected/microdish_20x_DIV5_L_pos9_1.tif is a low contrast image\n",
      "  io.imsave(output_path,image_corrected)\n"
     ]
    },
    {
     "name": "stdout",
     "output_type": "stream",
     "text": [
      "microdish_20x_DIV5_J_pos9_1.tif\n"
     ]
    },
    {
     "name": "stderr",
     "output_type": "stream",
     "text": [
      "<ipython-input-4-783ae30aa263>:22: UserWarning: /data/hyun/Analysis/data/UB.VI.220/DIV5/images_background_corrected/microdish_20x_DIV5_J_pos9_1.tif is a low contrast image\n",
      "  io.imsave(output_path,image_corrected)\n"
     ]
    },
    {
     "name": "stdout",
     "output_type": "stream",
     "text": [
      "microdish_20x_DIV5_H_pos16_1.tif\n"
     ]
    },
    {
     "name": "stderr",
     "output_type": "stream",
     "text": [
      "<ipython-input-4-783ae30aa263>:22: UserWarning: /data/hyun/Analysis/data/UB.VI.220/DIV5/images_background_corrected/microdish_20x_DIV5_H_pos16_1.tif is a low contrast image\n",
      "  io.imsave(output_path,image_corrected)\n"
     ]
    },
    {
     "name": "stdout",
     "output_type": "stream",
     "text": [
      "microdish_20x_DIV5_F_pos22_1.tif\n"
     ]
    },
    {
     "name": "stderr",
     "output_type": "stream",
     "text": [
      "<ipython-input-4-783ae30aa263>:22: UserWarning: /data/hyun/Analysis/data/UB.VI.220/DIV5/images_background_corrected/microdish_20x_DIV5_F_pos22_1.tif is a low contrast image\n",
      "  io.imsave(output_path,image_corrected)\n"
     ]
    },
    {
     "name": "stdout",
     "output_type": "stream",
     "text": [
      "microdish_20x_DIV5_L_pos12_1.tif\n"
     ]
    },
    {
     "name": "stderr",
     "output_type": "stream",
     "text": [
      "<ipython-input-4-783ae30aa263>:22: UserWarning: /data/hyun/Analysis/data/UB.VI.220/DIV5/images_background_corrected/microdish_20x_DIV5_L_pos12_1.tif is a low contrast image\n",
      "  io.imsave(output_path,image_corrected)\n"
     ]
    },
    {
     "name": "stdout",
     "output_type": "stream",
     "text": [
      "microdish_20x_DIV5_L_pos4_1.tif\n"
     ]
    },
    {
     "name": "stderr",
     "output_type": "stream",
     "text": [
      "<ipython-input-4-783ae30aa263>:22: UserWarning: /data/hyun/Analysis/data/UB.VI.220/DIV5/images_background_corrected/microdish_20x_DIV5_L_pos4_1.tif is a low contrast image\n",
      "  io.imsave(output_path,image_corrected)\n",
      "/home/Hyun/.conda/envs/cp4/lib/python3.8/site-packages/skimage/filters/rank/generic.py:262: UserWarning: Bad rank filter performance is expected due to a large number of bins (2199), equivalent to an approximate bitdepth of 11.1.\n",
      "  image, footprint, out, mask, n_bins = _preprocess_input(image, footprint,\n"
     ]
    },
    {
     "name": "stdout",
     "output_type": "stream",
     "text": [
      "microdish_20x_DIV5_A_pos2_1.tif\n"
     ]
    },
    {
     "name": "stderr",
     "output_type": "stream",
     "text": [
      "<ipython-input-4-783ae30aa263>:22: UserWarning: /data/hyun/Analysis/data/UB.VI.220/DIV5/images_background_corrected/microdish_20x_DIV5_A_pos2_1.tif is a low contrast image\n",
      "  io.imsave(output_path,image_corrected)\n"
     ]
    },
    {
     "name": "stdout",
     "output_type": "stream",
     "text": [
      "microdish_20x_DIV5_E_pos9_1.tif\n"
     ]
    },
    {
     "name": "stderr",
     "output_type": "stream",
     "text": [
      "<ipython-input-4-783ae30aa263>:22: UserWarning: /data/hyun/Analysis/data/UB.VI.220/DIV5/images_background_corrected/microdish_20x_DIV5_E_pos9_1.tif is a low contrast image\n",
      "  io.imsave(output_path,image_corrected)\n",
      "/home/Hyun/.conda/envs/cp4/lib/python3.8/site-packages/skimage/filters/rank/generic.py:262: UserWarning: Bad rank filter performance is expected due to a large number of bins (2541), equivalent to an approximate bitdepth of 11.3.\n",
      "  image, footprint, out, mask, n_bins = _preprocess_input(image, footprint,\n"
     ]
    },
    {
     "name": "stdout",
     "output_type": "stream",
     "text": [
      "microdish_20x_DIV5_A_pos1_1.tif\n"
     ]
    },
    {
     "name": "stderr",
     "output_type": "stream",
     "text": [
      "<ipython-input-4-783ae30aa263>:22: UserWarning: /data/hyun/Analysis/data/UB.VI.220/DIV5/images_background_corrected/microdish_20x_DIV5_A_pos1_1.tif is a low contrast image\n",
      "  io.imsave(output_path,image_corrected)\n",
      "/home/Hyun/.conda/envs/cp4/lib/python3.8/site-packages/skimage/filters/rank/generic.py:262: UserWarning: Bad rank filter performance is expected due to a large number of bins (2237), equivalent to an approximate bitdepth of 11.1.\n",
      "  image, footprint, out, mask, n_bins = _preprocess_input(image, footprint,\n"
     ]
    },
    {
     "name": "stdout",
     "output_type": "stream",
     "text": [
      "microdish_20x_DIV5_B_pos5_1.tif\n"
     ]
    },
    {
     "name": "stderr",
     "output_type": "stream",
     "text": [
      "<ipython-input-4-783ae30aa263>:22: UserWarning: /data/hyun/Analysis/data/UB.VI.220/DIV5/images_background_corrected/microdish_20x_DIV5_B_pos5_1.tif is a low contrast image\n",
      "  io.imsave(output_path,image_corrected)\n"
     ]
    },
    {
     "name": "stdout",
     "output_type": "stream",
     "text": [
      "microdish_20x_DIV5_B_pos14_1.tif\n"
     ]
    },
    {
     "name": "stderr",
     "output_type": "stream",
     "text": [
      "<ipython-input-4-783ae30aa263>:22: UserWarning: /data/hyun/Analysis/data/UB.VI.220/DIV5/images_background_corrected/microdish_20x_DIV5_B_pos14_1.tif is a low contrast image\n",
      "  io.imsave(output_path,image_corrected)\n"
     ]
    },
    {
     "name": "stdout",
     "output_type": "stream",
     "text": [
      "microdish_20x_DIV5_B_pos44_1.tif\n"
     ]
    },
    {
     "name": "stderr",
     "output_type": "stream",
     "text": [
      "<ipython-input-4-783ae30aa263>:22: UserWarning: /data/hyun/Analysis/data/UB.VI.220/DIV5/images_background_corrected/microdish_20x_DIV5_B_pos44_1.tif is a low contrast image\n",
      "  io.imsave(output_path,image_corrected)\n"
     ]
    },
    {
     "name": "stdout",
     "output_type": "stream",
     "text": [
      "microdish_20x_DIV5_B_pos1_1.tif\n"
     ]
    },
    {
     "name": "stderr",
     "output_type": "stream",
     "text": [
      "<ipython-input-4-783ae30aa263>:22: UserWarning: /data/hyun/Analysis/data/UB.VI.220/DIV5/images_background_corrected/microdish_20x_DIV5_B_pos1_1.tif is a low contrast image\n",
      "  io.imsave(output_path,image_corrected)\n"
     ]
    },
    {
     "name": "stdout",
     "output_type": "stream",
     "text": [
      "microdish_20x_DIV5_E_pos2_1.tif\n"
     ]
    },
    {
     "name": "stderr",
     "output_type": "stream",
     "text": [
      "<ipython-input-4-783ae30aa263>:22: UserWarning: /data/hyun/Analysis/data/UB.VI.220/DIV5/images_background_corrected/microdish_20x_DIV5_E_pos2_1.tif is a low contrast image\n",
      "  io.imsave(output_path,image_corrected)\n"
     ]
    },
    {
     "name": "stdout",
     "output_type": "stream",
     "text": [
      "microdish_20x_DIV5_J_pos23_1.tif\n"
     ]
    },
    {
     "name": "stderr",
     "output_type": "stream",
     "text": [
      "<ipython-input-4-783ae30aa263>:22: UserWarning: /data/hyun/Analysis/data/UB.VI.220/DIV5/images_background_corrected/microdish_20x_DIV5_J_pos23_1.tif is a low contrast image\n",
      "  io.imsave(output_path,image_corrected)\n",
      "/home/Hyun/.conda/envs/cp4/lib/python3.8/site-packages/skimage/filters/rank/generic.py:262: UserWarning: Bad rank filter performance is expected due to a large number of bins (2032), equivalent to an approximate bitdepth of 11.0.\n",
      "  image, footprint, out, mask, n_bins = _preprocess_input(image, footprint,\n"
     ]
    },
    {
     "name": "stdout",
     "output_type": "stream",
     "text": [
      "microdish_20x_DIV5_G_pos0_1.tif\n"
     ]
    },
    {
     "name": "stderr",
     "output_type": "stream",
     "text": [
      "<ipython-input-4-783ae30aa263>:22: UserWarning: /data/hyun/Analysis/data/UB.VI.220/DIV5/images_background_corrected/microdish_20x_DIV5_G_pos0_1.tif is a low contrast image\n",
      "  io.imsave(output_path,image_corrected)\n"
     ]
    },
    {
     "name": "stdout",
     "output_type": "stream",
     "text": [
      "microdish_20x_DIV5_B_pos23_1.tif\n"
     ]
    },
    {
     "name": "stderr",
     "output_type": "stream",
     "text": [
      "<ipython-input-4-783ae30aa263>:22: UserWarning: /data/hyun/Analysis/data/UB.VI.220/DIV5/images_background_corrected/microdish_20x_DIV5_B_pos23_1.tif is a low contrast image\n",
      "  io.imsave(output_path,image_corrected)\n"
     ]
    },
    {
     "name": "stdout",
     "output_type": "stream",
     "text": [
      "microdish_20x_DIV5_A_pos47_1.tif\n"
     ]
    },
    {
     "name": "stderr",
     "output_type": "stream",
     "text": [
      "<ipython-input-4-783ae30aa263>:22: UserWarning: /data/hyun/Analysis/data/UB.VI.220/DIV5/images_background_corrected/microdish_20x_DIV5_A_pos47_1.tif is a low contrast image\n",
      "  io.imsave(output_path,image_corrected)\n"
     ]
    },
    {
     "name": "stdout",
     "output_type": "stream",
     "text": [
      "microdish_20x_DIV5_G_pos3_1.tif\n"
     ]
    },
    {
     "name": "stderr",
     "output_type": "stream",
     "text": [
      "<ipython-input-4-783ae30aa263>:22: UserWarning: /data/hyun/Analysis/data/UB.VI.220/DIV5/images_background_corrected/microdish_20x_DIV5_G_pos3_1.tif is a low contrast image\n",
      "  io.imsave(output_path,image_corrected)\n",
      "/home/Hyun/.conda/envs/cp4/lib/python3.8/site-packages/skimage/filters/rank/generic.py:262: UserWarning: Bad rank filter performance is expected due to a large number of bins (1491), equivalent to an approximate bitdepth of 10.5.\n",
      "  image, footprint, out, mask, n_bins = _preprocess_input(image, footprint,\n"
     ]
    },
    {
     "name": "stdout",
     "output_type": "stream",
     "text": [
      "microdish_20x_DIV5_D_pos13_1.tif\n"
     ]
    },
    {
     "name": "stderr",
     "output_type": "stream",
     "text": [
      "<ipython-input-4-783ae30aa263>:22: UserWarning: /data/hyun/Analysis/data/UB.VI.220/DIV5/images_background_corrected/microdish_20x_DIV5_D_pos13_1.tif is a low contrast image\n",
      "  io.imsave(output_path,image_corrected)\n"
     ]
    },
    {
     "name": "stdout",
     "output_type": "stream",
     "text": [
      "microdish_20x_DIV5_L_pos6_1.tif\n"
     ]
    },
    {
     "name": "stderr",
     "output_type": "stream",
     "text": [
      "<ipython-input-4-783ae30aa263>:22: UserWarning: /data/hyun/Analysis/data/UB.VI.220/DIV5/images_background_corrected/microdish_20x_DIV5_L_pos6_1.tif is a low contrast image\n",
      "  io.imsave(output_path,image_corrected)\n"
     ]
    },
    {
     "name": "stdout",
     "output_type": "stream",
     "text": [
      "microdish_20x_DIV5_I_pos4_1.tif\n"
     ]
    },
    {
     "name": "stderr",
     "output_type": "stream",
     "text": [
      "<ipython-input-4-783ae30aa263>:22: UserWarning: /data/hyun/Analysis/data/UB.VI.220/DIV5/images_background_corrected/microdish_20x_DIV5_I_pos4_1.tif is a low contrast image\n",
      "  io.imsave(output_path,image_corrected)\n",
      "/home/Hyun/.conda/envs/cp4/lib/python3.8/site-packages/skimage/filters/rank/generic.py:262: UserWarning: Bad rank filter performance is expected due to a large number of bins (2321), equivalent to an approximate bitdepth of 11.2.\n",
      "  image, footprint, out, mask, n_bins = _preprocess_input(image, footprint,\n"
     ]
    },
    {
     "name": "stdout",
     "output_type": "stream",
     "text": [
      "microdish_20x_DIV5_D_pos21_1.tif\n"
     ]
    },
    {
     "name": "stderr",
     "output_type": "stream",
     "text": [
      "<ipython-input-4-783ae30aa263>:22: UserWarning: /data/hyun/Analysis/data/UB.VI.220/DIV5/images_background_corrected/microdish_20x_DIV5_D_pos21_1.tif is a low contrast image\n",
      "  io.imsave(output_path,image_corrected)\n"
     ]
    },
    {
     "name": "stdout",
     "output_type": "stream",
     "text": [
      "microdish_20x_DIV5_D_pos37_1.tif\n"
     ]
    },
    {
     "name": "stderr",
     "output_type": "stream",
     "text": [
      "<ipython-input-4-783ae30aa263>:22: UserWarning: /data/hyun/Analysis/data/UB.VI.220/DIV5/images_background_corrected/microdish_20x_DIV5_D_pos37_1.tif is a low contrast image\n",
      "  io.imsave(output_path,image_corrected)\n"
     ]
    },
    {
     "name": "stdout",
     "output_type": "stream",
     "text": [
      "microdish_20x_DIV5_H_pos20_1.tif\n"
     ]
    },
    {
     "name": "stderr",
     "output_type": "stream",
     "text": [
      "<ipython-input-4-783ae30aa263>:22: UserWarning: /data/hyun/Analysis/data/UB.VI.220/DIV5/images_background_corrected/microdish_20x_DIV5_H_pos20_1.tif is a low contrast image\n",
      "  io.imsave(output_path,image_corrected)\n",
      "/home/Hyun/.conda/envs/cp4/lib/python3.8/site-packages/skimage/filters/rank/generic.py:262: UserWarning: Bad rank filter performance is expected due to a large number of bins (1840), equivalent to an approximate bitdepth of 10.8.\n",
      "  image, footprint, out, mask, n_bins = _preprocess_input(image, footprint,\n"
     ]
    },
    {
     "name": "stdout",
     "output_type": "stream",
     "text": [
      "microdish_20x_DIV5_F_pos6_1.tif\n"
     ]
    },
    {
     "name": "stderr",
     "output_type": "stream",
     "text": [
      "<ipython-input-4-783ae30aa263>:22: UserWarning: /data/hyun/Analysis/data/UB.VI.220/DIV5/images_background_corrected/microdish_20x_DIV5_F_pos6_1.tif is a low contrast image\n",
      "  io.imsave(output_path,image_corrected)\n"
     ]
    },
    {
     "name": "stdout",
     "output_type": "stream",
     "text": [
      "microdish_20x_DIV5_G_pos6_1.tif\n"
     ]
    },
    {
     "name": "stderr",
     "output_type": "stream",
     "text": [
      "<ipython-input-4-783ae30aa263>:22: UserWarning: /data/hyun/Analysis/data/UB.VI.220/DIV5/images_background_corrected/microdish_20x_DIV5_G_pos6_1.tif is a low contrast image\n",
      "  io.imsave(output_path,image_corrected)\n",
      "/home/Hyun/.conda/envs/cp4/lib/python3.8/site-packages/skimage/filters/rank/generic.py:262: UserWarning: Bad rank filter performance is expected due to a large number of bins (1839), equivalent to an approximate bitdepth of 10.8.\n",
      "  image, footprint, out, mask, n_bins = _preprocess_input(image, footprint,\n"
     ]
    },
    {
     "name": "stdout",
     "output_type": "stream",
     "text": [
      "microdish_20x_DIV5_F_pos13_1.tif\n"
     ]
    },
    {
     "name": "stderr",
     "output_type": "stream",
     "text": [
      "<ipython-input-4-783ae30aa263>:22: UserWarning: /data/hyun/Analysis/data/UB.VI.220/DIV5/images_background_corrected/microdish_20x_DIV5_F_pos13_1.tif is a low contrast image\n",
      "  io.imsave(output_path,image_corrected)\n",
      "/home/Hyun/.conda/envs/cp4/lib/python3.8/site-packages/skimage/filters/rank/generic.py:262: UserWarning: Bad rank filter performance is expected due to a large number of bins (3766), equivalent to an approximate bitdepth of 11.9.\n",
      "  image, footprint, out, mask, n_bins = _preprocess_input(image, footprint,\n"
     ]
    },
    {
     "name": "stdout",
     "output_type": "stream",
     "text": [
      "microdish_20x_DIV5_J_pos0_1.tif\n"
     ]
    },
    {
     "name": "stderr",
     "output_type": "stream",
     "text": [
      "<ipython-input-4-783ae30aa263>:22: UserWarning: /data/hyun/Analysis/data/UB.VI.220/DIV5/images_background_corrected/microdish_20x_DIV5_J_pos0_1.tif is a low contrast image\n",
      "  io.imsave(output_path,image_corrected)\n"
     ]
    },
    {
     "name": "stdout",
     "output_type": "stream",
     "text": [
      "microdish_20x_DIV5_L_pos8_1.tif\n"
     ]
    },
    {
     "name": "stderr",
     "output_type": "stream",
     "text": [
      "<ipython-input-4-783ae30aa263>:22: UserWarning: /data/hyun/Analysis/data/UB.VI.220/DIV5/images_background_corrected/microdish_20x_DIV5_L_pos8_1.tif is a low contrast image\n",
      "  io.imsave(output_path,image_corrected)\n"
     ]
    },
    {
     "name": "stdout",
     "output_type": "stream",
     "text": [
      "microdish_20x_DIV5_G_pos16_1.tif\n"
     ]
    },
    {
     "name": "stderr",
     "output_type": "stream",
     "text": [
      "<ipython-input-4-783ae30aa263>:22: UserWarning: /data/hyun/Analysis/data/UB.VI.220/DIV5/images_background_corrected/microdish_20x_DIV5_G_pos16_1.tif is a low contrast image\n",
      "  io.imsave(output_path,image_corrected)\n"
     ]
    },
    {
     "name": "stdout",
     "output_type": "stream",
     "text": [
      "DIV7\n",
      "microdish_20x_DIV7_L_pos19_1.tif\n"
     ]
    },
    {
     "name": "stderr",
     "output_type": "stream",
     "text": [
      "<ipython-input-4-783ae30aa263>:22: UserWarning: /data/hyun/Analysis/data/UB.VI.220/DIV7/images_background_corrected/microdish_20x_DIV7_L_pos19_1.tif is a low contrast image\n",
      "  io.imsave(output_path,image_corrected)\n"
     ]
    },
    {
     "name": "stdout",
     "output_type": "stream",
     "text": [
      "microdish_20x_DIV7_A_pos39_1.tif\n"
     ]
    },
    {
     "name": "stderr",
     "output_type": "stream",
     "text": [
      "<ipython-input-4-783ae30aa263>:22: UserWarning: /data/hyun/Analysis/data/UB.VI.220/DIV7/images_background_corrected/microdish_20x_DIV7_A_pos39_1.tif is a low contrast image\n",
      "  io.imsave(output_path,image_corrected)\n"
     ]
    },
    {
     "name": "stdout",
     "output_type": "stream",
     "text": [
      "microdish_20x_DIV7_L_pos13_1.tif\n"
     ]
    },
    {
     "name": "stderr",
     "output_type": "stream",
     "text": [
      "<ipython-input-4-783ae30aa263>:22: UserWarning: /data/hyun/Analysis/data/UB.VI.220/DIV7/images_background_corrected/microdish_20x_DIV7_L_pos13_1.tif is a low contrast image\n",
      "  io.imsave(output_path,image_corrected)\n"
     ]
    },
    {
     "name": "stdout",
     "output_type": "stream",
     "text": [
      "microdish_20x_DIV7_B_pos3_1.tif\n"
     ]
    },
    {
     "name": "stderr",
     "output_type": "stream",
     "text": [
      "<ipython-input-4-783ae30aa263>:22: UserWarning: /data/hyun/Analysis/data/UB.VI.220/DIV7/images_background_corrected/microdish_20x_DIV7_B_pos3_1.tif is a low contrast image\n",
      "  io.imsave(output_path,image_corrected)\n"
     ]
    },
    {
     "name": "stdout",
     "output_type": "stream",
     "text": [
      "microdish_20x_DIV7_L_pos0_1.tif\n"
     ]
    },
    {
     "name": "stderr",
     "output_type": "stream",
     "text": [
      "<ipython-input-4-783ae30aa263>:22: UserWarning: /data/hyun/Analysis/data/UB.VI.220/DIV7/images_background_corrected/microdish_20x_DIV7_L_pos0_1.tif is a low contrast image\n",
      "  io.imsave(output_path,image_corrected)\n"
     ]
    },
    {
     "name": "stdout",
     "output_type": "stream",
     "text": [
      "microdish_20x_DIV7_B_pos11_1.tif\n"
     ]
    },
    {
     "name": "stderr",
     "output_type": "stream",
     "text": [
      "<ipython-input-4-783ae30aa263>:22: UserWarning: /data/hyun/Analysis/data/UB.VI.220/DIV7/images_background_corrected/microdish_20x_DIV7_B_pos11_1.tif is a low contrast image\n",
      "  io.imsave(output_path,image_corrected)\n"
     ]
    },
    {
     "name": "stdout",
     "output_type": "stream",
     "text": [
      "microdish_20x_DIV7_B_pos8_1.tif\n"
     ]
    },
    {
     "name": "stderr",
     "output_type": "stream",
     "text": [
      "<ipython-input-4-783ae30aa263>:22: UserWarning: /data/hyun/Analysis/data/UB.VI.220/DIV7/images_background_corrected/microdish_20x_DIV7_B_pos8_1.tif is a low contrast image\n",
      "  io.imsave(output_path,image_corrected)\n"
     ]
    },
    {
     "name": "stdout",
     "output_type": "stream",
     "text": [
      "microdish_20x_DIV7_L_pos23_1.tif\n"
     ]
    },
    {
     "name": "stderr",
     "output_type": "stream",
     "text": [
      "<ipython-input-4-783ae30aa263>:22: UserWarning: /data/hyun/Analysis/data/UB.VI.220/DIV7/images_background_corrected/microdish_20x_DIV7_L_pos23_1.tif is a low contrast image\n",
      "  io.imsave(output_path,image_corrected)\n"
     ]
    },
    {
     "name": "stdout",
     "output_type": "stream",
     "text": [
      "microdish_20x_DIV7_D_pos19_1.tif\n"
     ]
    },
    {
     "name": "stderr",
     "output_type": "stream",
     "text": [
      "<ipython-input-4-783ae30aa263>:22: UserWarning: /data/hyun/Analysis/data/UB.VI.220/DIV7/images_background_corrected/microdish_20x_DIV7_D_pos19_1.tif is a low contrast image\n",
      "  io.imsave(output_path,image_corrected)\n"
     ]
    },
    {
     "name": "stdout",
     "output_type": "stream",
     "text": [
      "microdish_20x_DIV7_F_pos20_1.tif\n"
     ]
    },
    {
     "name": "stderr",
     "output_type": "stream",
     "text": [
      "<ipython-input-4-783ae30aa263>:22: UserWarning: /data/hyun/Analysis/data/UB.VI.220/DIV7/images_background_corrected/microdish_20x_DIV7_F_pos20_1.tif is a low contrast image\n",
      "  io.imsave(output_path,image_corrected)\n"
     ]
    },
    {
     "name": "stdout",
     "output_type": "stream",
     "text": [
      "microdish_20x_DIV7_H_pos18_1.tif\n"
     ]
    },
    {
     "name": "stderr",
     "output_type": "stream",
     "text": [
      "<ipython-input-4-783ae30aa263>:22: UserWarning: /data/hyun/Analysis/data/UB.VI.220/DIV7/images_background_corrected/microdish_20x_DIV7_H_pos18_1.tif is a low contrast image\n",
      "  io.imsave(output_path,image_corrected)\n",
      "/home/Hyun/.conda/envs/cp4/lib/python3.8/site-packages/skimage/filters/rank/generic.py:262: UserWarning: Bad rank filter performance is expected due to a large number of bins (2606), equivalent to an approximate bitdepth of 11.3.\n",
      "  image, footprint, out, mask, n_bins = _preprocess_input(image, footprint,\n"
     ]
    },
    {
     "name": "stdout",
     "output_type": "stream",
     "text": [
      "microdish_20x_DIV7_D_pos34_1.tif\n"
     ]
    },
    {
     "name": "stderr",
     "output_type": "stream",
     "text": [
      "<ipython-input-4-783ae30aa263>:22: UserWarning: /data/hyun/Analysis/data/UB.VI.220/DIV7/images_background_corrected/microdish_20x_DIV7_D_pos34_1.tif is a low contrast image\n",
      "  io.imsave(output_path,image_corrected)\n"
     ]
    },
    {
     "name": "stdout",
     "output_type": "stream",
     "text": [
      "microdish_20x_DIV7_J_pos3_1.tif\n"
     ]
    },
    {
     "name": "stderr",
     "output_type": "stream",
     "text": [
      "<ipython-input-4-783ae30aa263>:22: UserWarning: /data/hyun/Analysis/data/UB.VI.220/DIV7/images_background_corrected/microdish_20x_DIV7_J_pos3_1.tif is a low contrast image\n",
      "  io.imsave(output_path,image_corrected)\n"
     ]
    },
    {
     "name": "stdout",
     "output_type": "stream",
     "text": [
      "microdish_20x_DIV7_A_pos21_1.tif\n"
     ]
    },
    {
     "name": "stderr",
     "output_type": "stream",
     "text": [
      "<ipython-input-4-783ae30aa263>:22: UserWarning: /data/hyun/Analysis/data/UB.VI.220/DIV7/images_background_corrected/microdish_20x_DIV7_A_pos21_1.tif is a low contrast image\n",
      "  io.imsave(output_path,image_corrected)\n"
     ]
    },
    {
     "name": "stdout",
     "output_type": "stream",
     "text": [
      "microdish_20x_DIV7_D_pos10_1.tif\n"
     ]
    },
    {
     "name": "stderr",
     "output_type": "stream",
     "text": [
      "<ipython-input-4-783ae30aa263>:22: UserWarning: /data/hyun/Analysis/data/UB.VI.220/DIV7/images_background_corrected/microdish_20x_DIV7_D_pos10_1.tif is a low contrast image\n",
      "  io.imsave(output_path,image_corrected)\n"
     ]
    },
    {
     "name": "stdout",
     "output_type": "stream",
     "text": [
      "microdish_20x_DIV7_D_pos7_1.tif\n"
     ]
    },
    {
     "name": "stderr",
     "output_type": "stream",
     "text": [
      "<ipython-input-4-783ae30aa263>:22: UserWarning: /data/hyun/Analysis/data/UB.VI.220/DIV7/images_background_corrected/microdish_20x_DIV7_D_pos7_1.tif is a low contrast image\n",
      "  io.imsave(output_path,image_corrected)\n"
     ]
    },
    {
     "name": "stdout",
     "output_type": "stream",
     "text": [
      "microdish_20x_DIV7_D_pos27_1.tif\n"
     ]
    },
    {
     "name": "stderr",
     "output_type": "stream",
     "text": [
      "<ipython-input-4-783ae30aa263>:22: UserWarning: /data/hyun/Analysis/data/UB.VI.220/DIV7/images_background_corrected/microdish_20x_DIV7_D_pos27_1.tif is a low contrast image\n",
      "  io.imsave(output_path,image_corrected)\n"
     ]
    },
    {
     "name": "stdout",
     "output_type": "stream",
     "text": [
      "microdish_20x_DIV7_I_pos11_1.tif\n"
     ]
    },
    {
     "name": "stderr",
     "output_type": "stream",
     "text": [
      "<ipython-input-4-783ae30aa263>:22: UserWarning: /data/hyun/Analysis/data/UB.VI.220/DIV7/images_background_corrected/microdish_20x_DIV7_I_pos11_1.tif is a low contrast image\n",
      "  io.imsave(output_path,image_corrected)\n"
     ]
    },
    {
     "name": "stdout",
     "output_type": "stream",
     "text": [
      "microdish_20x_DIV7_L_pos10_1.tif\n"
     ]
    },
    {
     "name": "stderr",
     "output_type": "stream",
     "text": [
      "<ipython-input-4-783ae30aa263>:22: UserWarning: /data/hyun/Analysis/data/UB.VI.220/DIV7/images_background_corrected/microdish_20x_DIV7_L_pos10_1.tif is a low contrast image\n",
      "  io.imsave(output_path,image_corrected)\n"
     ]
    },
    {
     "name": "stdout",
     "output_type": "stream",
     "text": [
      "microdish_20x_DIV7_K_pos22_1.tif\n"
     ]
    },
    {
     "name": "stderr",
     "output_type": "stream",
     "text": [
      "<ipython-input-4-783ae30aa263>:22: UserWarning: /data/hyun/Analysis/data/UB.VI.220/DIV7/images_background_corrected/microdish_20x_DIV7_K_pos22_1.tif is a low contrast image\n",
      "  io.imsave(output_path,image_corrected)\n"
     ]
    },
    {
     "name": "stdout",
     "output_type": "stream",
     "text": [
      "microdish_20x_DIV7_A_pos23_1.tif\n"
     ]
    },
    {
     "name": "stderr",
     "output_type": "stream",
     "text": [
      "<ipython-input-4-783ae30aa263>:22: UserWarning: /data/hyun/Analysis/data/UB.VI.220/DIV7/images_background_corrected/microdish_20x_DIV7_A_pos23_1.tif is a low contrast image\n",
      "  io.imsave(output_path,image_corrected)\n"
     ]
    },
    {
     "name": "stdout",
     "output_type": "stream",
     "text": [
      "microdish_20x_DIV7_J_pos14_2.tif\n"
     ]
    },
    {
     "name": "stderr",
     "output_type": "stream",
     "text": [
      "<ipython-input-4-783ae30aa263>:22: UserWarning: /data/hyun/Analysis/data/UB.VI.220/DIV7/images_background_corrected/microdish_20x_DIV7_J_pos14_2.tif is a low contrast image\n",
      "  io.imsave(output_path,image_corrected)\n"
     ]
    },
    {
     "name": "stdout",
     "output_type": "stream",
     "text": [
      "microdish_20x_DIV7_B_pos12_1.tif\n"
     ]
    },
    {
     "name": "stderr",
     "output_type": "stream",
     "text": [
      "<ipython-input-4-783ae30aa263>:22: UserWarning: /data/hyun/Analysis/data/UB.VI.220/DIV7/images_background_corrected/microdish_20x_DIV7_B_pos12_1.tif is a low contrast image\n",
      "  io.imsave(output_path,image_corrected)\n"
     ]
    },
    {
     "name": "stdout",
     "output_type": "stream",
     "text": [
      "microdish_20x_DIV7_K_pos28_1.tif\n"
     ]
    },
    {
     "name": "stderr",
     "output_type": "stream",
     "text": [
      "<ipython-input-4-783ae30aa263>:22: UserWarning: /data/hyun/Analysis/data/UB.VI.220/DIV7/images_background_corrected/microdish_20x_DIV7_K_pos28_1.tif is a low contrast image\n",
      "  io.imsave(output_path,image_corrected)\n"
     ]
    },
    {
     "name": "stdout",
     "output_type": "stream",
     "text": [
      "microdish_20x_DIV7_L_pos12_1.tif\n"
     ]
    },
    {
     "name": "stderr",
     "output_type": "stream",
     "text": [
      "<ipython-input-4-783ae30aa263>:22: UserWarning: /data/hyun/Analysis/data/UB.VI.220/DIV7/images_background_corrected/microdish_20x_DIV7_L_pos12_1.tif is a low contrast image\n",
      "  io.imsave(output_path,image_corrected)\n"
     ]
    },
    {
     "name": "stdout",
     "output_type": "stream",
     "text": [
      "microdish_20x_DIV7_K_pos19_1.tif\n"
     ]
    },
    {
     "name": "stderr",
     "output_type": "stream",
     "text": [
      "<ipython-input-4-783ae30aa263>:22: UserWarning: /data/hyun/Analysis/data/UB.VI.220/DIV7/images_background_corrected/microdish_20x_DIV7_K_pos19_1.tif is a low contrast image\n",
      "  io.imsave(output_path,image_corrected)\n"
     ]
    },
    {
     "name": "stdout",
     "output_type": "stream",
     "text": [
      "microdish_20x_DIV7_A_pos34_1.tif\n"
     ]
    },
    {
     "name": "stderr",
     "output_type": "stream",
     "text": [
      "<ipython-input-4-783ae30aa263>:22: UserWarning: /data/hyun/Analysis/data/UB.VI.220/DIV7/images_background_corrected/microdish_20x_DIV7_A_pos34_1.tif is a low contrast image\n",
      "  io.imsave(output_path,image_corrected)\n"
     ]
    },
    {
     "name": "stdout",
     "output_type": "stream",
     "text": [
      "microdish_20x_DIV7_H_pos13_1.tif\n"
     ]
    },
    {
     "name": "stderr",
     "output_type": "stream",
     "text": [
      "<ipython-input-4-783ae30aa263>:22: UserWarning: /data/hyun/Analysis/data/UB.VI.220/DIV7/images_background_corrected/microdish_20x_DIV7_H_pos13_1.tif is a low contrast image\n",
      "  io.imsave(output_path,image_corrected)\n"
     ]
    },
    {
     "name": "stdout",
     "output_type": "stream",
     "text": [
      "microdish_20x_DIV7_G_pos25_1.tif\n"
     ]
    },
    {
     "name": "stderr",
     "output_type": "stream",
     "text": [
      "<ipython-input-4-783ae30aa263>:22: UserWarning: /data/hyun/Analysis/data/UB.VI.220/DIV7/images_background_corrected/microdish_20x_DIV7_G_pos25_1.tif is a low contrast image\n",
      "  io.imsave(output_path,image_corrected)\n"
     ]
    },
    {
     "name": "stdout",
     "output_type": "stream",
     "text": [
      "microdish_20x_DIV7_A_pos25_1.tif\n"
     ]
    },
    {
     "name": "stderr",
     "output_type": "stream",
     "text": [
      "<ipython-input-4-783ae30aa263>:22: UserWarning: /data/hyun/Analysis/data/UB.VI.220/DIV7/images_background_corrected/microdish_20x_DIV7_A_pos25_1.tif is a low contrast image\n",
      "  io.imsave(output_path,image_corrected)\n"
     ]
    },
    {
     "name": "stdout",
     "output_type": "stream",
     "text": [
      "microdish_20x_DIV7_A_pos41_1.tif\n"
     ]
    },
    {
     "name": "stderr",
     "output_type": "stream",
     "text": [
      "<ipython-input-4-783ae30aa263>:22: UserWarning: /data/hyun/Analysis/data/UB.VI.220/DIV7/images_background_corrected/microdish_20x_DIV7_A_pos41_1.tif is a low contrast image\n",
      "  io.imsave(output_path,image_corrected)\n"
     ]
    },
    {
     "name": "stdout",
     "output_type": "stream",
     "text": [
      "microdish_20x_DIV7_G_pos17_1.tif\n"
     ]
    },
    {
     "name": "stderr",
     "output_type": "stream",
     "text": [
      "<ipython-input-4-783ae30aa263>:22: UserWarning: /data/hyun/Analysis/data/UB.VI.220/DIV7/images_background_corrected/microdish_20x_DIV7_G_pos17_1.tif is a low contrast image\n",
      "  io.imsave(output_path,image_corrected)\n"
     ]
    },
    {
     "name": "stdout",
     "output_type": "stream",
     "text": [
      "microdish_20x_DIV7_D_pos24_1.tif\n"
     ]
    },
    {
     "name": "stderr",
     "output_type": "stream",
     "text": [
      "<ipython-input-4-783ae30aa263>:22: UserWarning: /data/hyun/Analysis/data/UB.VI.220/DIV7/images_background_corrected/microdish_20x_DIV7_D_pos24_1.tif is a low contrast image\n",
      "  io.imsave(output_path,image_corrected)\n"
     ]
    },
    {
     "name": "stdout",
     "output_type": "stream",
     "text": [
      "microdish_20x_DIV7_I_pos22_1.tif\n"
     ]
    },
    {
     "name": "stderr",
     "output_type": "stream",
     "text": [
      "<ipython-input-4-783ae30aa263>:22: UserWarning: /data/hyun/Analysis/data/UB.VI.220/DIV7/images_background_corrected/microdish_20x_DIV7_I_pos22_1.tif is a low contrast image\n",
      "  io.imsave(output_path,image_corrected)\n",
      "/home/Hyun/.conda/envs/cp4/lib/python3.8/site-packages/skimage/filters/rank/generic.py:262: UserWarning: Bad rank filter performance is expected due to a large number of bins (65508), equivalent to an approximate bitdepth of 16.0.\n",
      "  image, footprint, out, mask, n_bins = _preprocess_input(image, footprint,\n"
     ]
    },
    {
     "name": "stdout",
     "output_type": "stream",
     "text": [
      "microdish_20x_DIV7_A_pos15_1.tif\n"
     ]
    },
    {
     "name": "stderr",
     "output_type": "stream",
     "text": [
      "<ipython-input-4-783ae30aa263>:22: UserWarning: /data/hyun/Analysis/data/UB.VI.220/DIV7/images_background_corrected/microdish_20x_DIV7_A_pos15_1.tif is a low contrast image\n",
      "  io.imsave(output_path,image_corrected)\n"
     ]
    },
    {
     "name": "stdout",
     "output_type": "stream",
     "text": [
      "microdish_20x_DIV7_K_pos9_1.tif\n"
     ]
    },
    {
     "name": "stderr",
     "output_type": "stream",
     "text": [
      "<ipython-input-4-783ae30aa263>:22: UserWarning: /data/hyun/Analysis/data/UB.VI.220/DIV7/images_background_corrected/microdish_20x_DIV7_K_pos9_1.tif is a low contrast image\n",
      "  io.imsave(output_path,image_corrected)\n"
     ]
    },
    {
     "name": "stdout",
     "output_type": "stream",
     "text": [
      "microdish_20x_DIV7_J_pos5_1.tif\n"
     ]
    },
    {
     "name": "stderr",
     "output_type": "stream",
     "text": [
      "<ipython-input-4-783ae30aa263>:22: UserWarning: /data/hyun/Analysis/data/UB.VI.220/DIV7/images_background_corrected/microdish_20x_DIV7_J_pos5_1.tif is a low contrast image\n",
      "  io.imsave(output_path,image_corrected)\n"
     ]
    },
    {
     "name": "stdout",
     "output_type": "stream",
     "text": [
      "microdish_20x_DIV7_L_pos11_1.tif\n"
     ]
    },
    {
     "name": "stderr",
     "output_type": "stream",
     "text": [
      "<ipython-input-4-783ae30aa263>:22: UserWarning: /data/hyun/Analysis/data/UB.VI.220/DIV7/images_background_corrected/microdish_20x_DIV7_L_pos11_1.tif is a low contrast image\n",
      "  io.imsave(output_path,image_corrected)\n",
      "/home/Hyun/.conda/envs/cp4/lib/python3.8/site-packages/skimage/filters/rank/generic.py:262: UserWarning: Bad rank filter performance is expected due to a large number of bins (2081), equivalent to an approximate bitdepth of 11.0.\n",
      "  image, footprint, out, mask, n_bins = _preprocess_input(image, footprint,\n"
     ]
    },
    {
     "name": "stdout",
     "output_type": "stream",
     "text": [
      "microdish_20x_DIV7_D_pos38_1.tif\n"
     ]
    },
    {
     "name": "stderr",
     "output_type": "stream",
     "text": [
      "<ipython-input-4-783ae30aa263>:22: UserWarning: /data/hyun/Analysis/data/UB.VI.220/DIV7/images_background_corrected/microdish_20x_DIV7_D_pos38_1.tif is a low contrast image\n",
      "  io.imsave(output_path,image_corrected)\n"
     ]
    },
    {
     "name": "stdout",
     "output_type": "stream",
     "text": [
      "microdish_20x_DIV7_L_pos26_1.tif\n"
     ]
    },
    {
     "name": "stderr",
     "output_type": "stream",
     "text": [
      "<ipython-input-4-783ae30aa263>:22: UserWarning: /data/hyun/Analysis/data/UB.VI.220/DIV7/images_background_corrected/microdish_20x_DIV7_L_pos26_1.tif is a low contrast image\n",
      "  io.imsave(output_path,image_corrected)\n"
     ]
    },
    {
     "name": "stdout",
     "output_type": "stream",
     "text": [
      "microdish_20x_DIV7_J_pos6_1.tif\n"
     ]
    },
    {
     "name": "stderr",
     "output_type": "stream",
     "text": [
      "<ipython-input-4-783ae30aa263>:22: UserWarning: /data/hyun/Analysis/data/UB.VI.220/DIV7/images_background_corrected/microdish_20x_DIV7_J_pos6_1.tif is a low contrast image\n",
      "  io.imsave(output_path,image_corrected)\n",
      "/home/Hyun/.conda/envs/cp4/lib/python3.8/site-packages/skimage/filters/rank/generic.py:262: UserWarning: Bad rank filter performance is expected due to a large number of bins (2718), equivalent to an approximate bitdepth of 11.4.\n",
      "  image, footprint, out, mask, n_bins = _preprocess_input(image, footprint,\n"
     ]
    },
    {
     "name": "stdout",
     "output_type": "stream",
     "text": [
      "microdish_20x_DIV7_F_pos19_1.tif\n"
     ]
    },
    {
     "name": "stderr",
     "output_type": "stream",
     "text": [
      "<ipython-input-4-783ae30aa263>:22: UserWarning: /data/hyun/Analysis/data/UB.VI.220/DIV7/images_background_corrected/microdish_20x_DIV7_F_pos19_1.tif is a low contrast image\n",
      "  io.imsave(output_path,image_corrected)\n"
     ]
    },
    {
     "name": "stdout",
     "output_type": "stream",
     "text": [
      "microdish_20x_DIV7_I_pos14_1.tif\n"
     ]
    },
    {
     "name": "stderr",
     "output_type": "stream",
     "text": [
      "<ipython-input-4-783ae30aa263>:22: UserWarning: /data/hyun/Analysis/data/UB.VI.220/DIV7/images_background_corrected/microdish_20x_DIV7_I_pos14_1.tif is a low contrast image\n",
      "  io.imsave(output_path,image_corrected)\n"
     ]
    },
    {
     "name": "stdout",
     "output_type": "stream",
     "text": [
      "microdish_20x_DIV7_H_pos8_1.tif\n"
     ]
    },
    {
     "name": "stderr",
     "output_type": "stream",
     "text": [
      "<ipython-input-4-783ae30aa263>:22: UserWarning: /data/hyun/Analysis/data/UB.VI.220/DIV7/images_background_corrected/microdish_20x_DIV7_H_pos8_1.tif is a low contrast image\n",
      "  io.imsave(output_path,image_corrected)\n"
     ]
    },
    {
     "name": "stdout",
     "output_type": "stream",
     "text": [
      "microdish_20x_DIV7_B_pos41_1.tif\n"
     ]
    },
    {
     "name": "stderr",
     "output_type": "stream",
     "text": [
      "<ipython-input-4-783ae30aa263>:22: UserWarning: /data/hyun/Analysis/data/UB.VI.220/DIV7/images_background_corrected/microdish_20x_DIV7_B_pos41_1.tif is a low contrast image\n",
      "  io.imsave(output_path,image_corrected)\n"
     ]
    },
    {
     "name": "stdout",
     "output_type": "stream",
     "text": [
      "microdish_20x_DIV7_E_pos9_1.tif\n"
     ]
    },
    {
     "name": "stderr",
     "output_type": "stream",
     "text": [
      "<ipython-input-4-783ae30aa263>:22: UserWarning: /data/hyun/Analysis/data/UB.VI.220/DIV7/images_background_corrected/microdish_20x_DIV7_E_pos9_1.tif is a low contrast image\n",
      "  io.imsave(output_path,image_corrected)\n"
     ]
    },
    {
     "name": "stdout",
     "output_type": "stream",
     "text": [
      "microdish_20x_DIV7_H_pos22_1.tif\n"
     ]
    },
    {
     "name": "stderr",
     "output_type": "stream",
     "text": [
      "<ipython-input-4-783ae30aa263>:22: UserWarning: /data/hyun/Analysis/data/UB.VI.220/DIV7/images_background_corrected/microdish_20x_DIV7_H_pos22_1.tif is a low contrast image\n",
      "  io.imsave(output_path,image_corrected)\n",
      "/home/Hyun/.conda/envs/cp4/lib/python3.8/site-packages/skimage/filters/rank/generic.py:262: UserWarning: Bad rank filter performance is expected due to a large number of bins (4402), equivalent to an approximate bitdepth of 12.1.\n",
      "  image, footprint, out, mask, n_bins = _preprocess_input(image, footprint,\n"
     ]
    },
    {
     "name": "stdout",
     "output_type": "stream",
     "text": [
      "microdish_20x_DIV7_B_pos5_1.tif\n"
     ]
    },
    {
     "name": "stderr",
     "output_type": "stream",
     "text": [
      "<ipython-input-4-783ae30aa263>:22: UserWarning: /data/hyun/Analysis/data/UB.VI.220/DIV7/images_background_corrected/microdish_20x_DIV7_B_pos5_1.tif is a low contrast image\n",
      "  io.imsave(output_path,image_corrected)\n"
     ]
    },
    {
     "name": "stdout",
     "output_type": "stream",
     "text": [
      "microdish_20x_DIV7_B_pos17_1.tif\n"
     ]
    },
    {
     "name": "stderr",
     "output_type": "stream",
     "text": [
      "<ipython-input-4-783ae30aa263>:22: UserWarning: /data/hyun/Analysis/data/UB.VI.220/DIV7/images_background_corrected/microdish_20x_DIV7_B_pos17_1.tif is a low contrast image\n",
      "  io.imsave(output_path,image_corrected)\n"
     ]
    },
    {
     "name": "stdout",
     "output_type": "stream",
     "text": [
      "microdish_20x_DIV7_B_pos15_1.tif\n"
     ]
    },
    {
     "name": "stderr",
     "output_type": "stream",
     "text": [
      "<ipython-input-4-783ae30aa263>:22: UserWarning: /data/hyun/Analysis/data/UB.VI.220/DIV7/images_background_corrected/microdish_20x_DIV7_B_pos15_1.tif is a low contrast image\n",
      "  io.imsave(output_path,image_corrected)\n"
     ]
    },
    {
     "name": "stdout",
     "output_type": "stream",
     "text": [
      "microdish_20x_DIV7_B_pos34_1.tif\n"
     ]
    },
    {
     "name": "stderr",
     "output_type": "stream",
     "text": [
      "<ipython-input-4-783ae30aa263>:22: UserWarning: /data/hyun/Analysis/data/UB.VI.220/DIV7/images_background_corrected/microdish_20x_DIV7_B_pos34_1.tif is a low contrast image\n",
      "  io.imsave(output_path,image_corrected)\n"
     ]
    },
    {
     "name": "stdout",
     "output_type": "stream",
     "text": [
      "microdish_20x_DIV7_B_pos42_1.tif\n"
     ]
    },
    {
     "name": "stderr",
     "output_type": "stream",
     "text": [
      "<ipython-input-4-783ae30aa263>:22: UserWarning: /data/hyun/Analysis/data/UB.VI.220/DIV7/images_background_corrected/microdish_20x_DIV7_B_pos42_1.tif is a low contrast image\n",
      "  io.imsave(output_path,image_corrected)\n"
     ]
    },
    {
     "name": "stdout",
     "output_type": "stream",
     "text": [
      "microdish_20x_DIV7_G_pos1_1.tif\n"
     ]
    },
    {
     "name": "stderr",
     "output_type": "stream",
     "text": [
      "<ipython-input-4-783ae30aa263>:22: UserWarning: /data/hyun/Analysis/data/UB.VI.220/DIV7/images_background_corrected/microdish_20x_DIV7_G_pos1_1.tif is a low contrast image\n",
      "  io.imsave(output_path,image_corrected)\n"
     ]
    },
    {
     "name": "stdout",
     "output_type": "stream",
     "text": [
      "microdish_20x_DIV7_J_pos18_1.tif\n"
     ]
    },
    {
     "name": "stderr",
     "output_type": "stream",
     "text": [
      "<ipython-input-4-783ae30aa263>:22: UserWarning: /data/hyun/Analysis/data/UB.VI.220/DIV7/images_background_corrected/microdish_20x_DIV7_J_pos18_1.tif is a low contrast image\n",
      "  io.imsave(output_path,image_corrected)\n"
     ]
    },
    {
     "name": "stdout",
     "output_type": "stream",
     "text": [
      "microdish_20x_DIV7_D_pos28_1.tif\n"
     ]
    },
    {
     "name": "stderr",
     "output_type": "stream",
     "text": [
      "<ipython-input-4-783ae30aa263>:22: UserWarning: /data/hyun/Analysis/data/UB.VI.220/DIV7/images_background_corrected/microdish_20x_DIV7_D_pos28_1.tif is a low contrast image\n",
      "  io.imsave(output_path,image_corrected)\n",
      "/home/Hyun/.conda/envs/cp4/lib/python3.8/site-packages/skimage/filters/rank/generic.py:262: UserWarning: Bad rank filter performance is expected due to a large number of bins (2886), equivalent to an approximate bitdepth of 11.5.\n",
      "  image, footprint, out, mask, n_bins = _preprocess_input(image, footprint,\n"
     ]
    },
    {
     "name": "stdout",
     "output_type": "stream",
     "text": [
      "microdish_20x_DIV7_D_pos35_1.tif\n"
     ]
    },
    {
     "name": "stderr",
     "output_type": "stream",
     "text": [
      "<ipython-input-4-783ae30aa263>:22: UserWarning: /data/hyun/Analysis/data/UB.VI.220/DIV7/images_background_corrected/microdish_20x_DIV7_D_pos35_1.tif is a low contrast image\n",
      "  io.imsave(output_path,image_corrected)\n"
     ]
    },
    {
     "name": "stdout",
     "output_type": "stream",
     "text": [
      "microdish_20x_DIV7_B_pos32_1.tif\n"
     ]
    },
    {
     "name": "stderr",
     "output_type": "stream",
     "text": [
      "<ipython-input-4-783ae30aa263>:22: UserWarning: /data/hyun/Analysis/data/UB.VI.220/DIV7/images_background_corrected/microdish_20x_DIV7_B_pos32_1.tif is a low contrast image\n",
      "  io.imsave(output_path,image_corrected)\n"
     ]
    },
    {
     "name": "stdout",
     "output_type": "stream",
     "text": [
      "microdish_20x_DIV7_D_pos41_1.tif\n"
     ]
    },
    {
     "name": "stderr",
     "output_type": "stream",
     "text": [
      "<ipython-input-4-783ae30aa263>:22: UserWarning: /data/hyun/Analysis/data/UB.VI.220/DIV7/images_background_corrected/microdish_20x_DIV7_D_pos41_1.tif is a low contrast image\n",
      "  io.imsave(output_path,image_corrected)\n"
     ]
    },
    {
     "name": "stdout",
     "output_type": "stream",
     "text": [
      "microdish_20x_DIV7_D_pos13_1.tif\n"
     ]
    },
    {
     "name": "stderr",
     "output_type": "stream",
     "text": [
      "<ipython-input-4-783ae30aa263>:22: UserWarning: /data/hyun/Analysis/data/UB.VI.220/DIV7/images_background_corrected/microdish_20x_DIV7_D_pos13_1.tif is a low contrast image\n",
      "  io.imsave(output_path,image_corrected)\n",
      "/home/Hyun/.conda/envs/cp4/lib/python3.8/site-packages/skimage/filters/rank/generic.py:262: UserWarning: Bad rank filter performance is expected due to a large number of bins (3519), equivalent to an approximate bitdepth of 11.8.\n",
      "  image, footprint, out, mask, n_bins = _preprocess_input(image, footprint,\n"
     ]
    },
    {
     "name": "stdout",
     "output_type": "stream",
     "text": [
      "microdish_20x_DIV7_A_pos1_1.tif\n"
     ]
    },
    {
     "name": "stderr",
     "output_type": "stream",
     "text": [
      "<ipython-input-4-783ae30aa263>:22: UserWarning: /data/hyun/Analysis/data/UB.VI.220/DIV7/images_background_corrected/microdish_20x_DIV7_A_pos1_1.tif is a low contrast image\n",
      "  io.imsave(output_path,image_corrected)\n"
     ]
    },
    {
     "name": "stdout",
     "output_type": "stream",
     "text": [
      "microdish_20x_DIV7_F_pos3_1.tif\n"
     ]
    },
    {
     "name": "stderr",
     "output_type": "stream",
     "text": [
      "<ipython-input-4-783ae30aa263>:22: UserWarning: /data/hyun/Analysis/data/UB.VI.220/DIV7/images_background_corrected/microdish_20x_DIV7_F_pos3_1.tif is a low contrast image\n",
      "  io.imsave(output_path,image_corrected)\n"
     ]
    },
    {
     "name": "stdout",
     "output_type": "stream",
     "text": [
      "microdish_20x_DIV7_A_pos2_1.tif\n"
     ]
    },
    {
     "name": "stderr",
     "output_type": "stream",
     "text": [
      "<ipython-input-4-783ae30aa263>:22: UserWarning: /data/hyun/Analysis/data/UB.VI.220/DIV7/images_background_corrected/microdish_20x_DIV7_A_pos2_1.tif is a low contrast image\n",
      "  io.imsave(output_path,image_corrected)\n"
     ]
    },
    {
     "name": "stdout",
     "output_type": "stream",
     "text": [
      "microdish_20x_DIV7_I_pos13_1.tif\n"
     ]
    },
    {
     "name": "stderr",
     "output_type": "stream",
     "text": [
      "<ipython-input-4-783ae30aa263>:22: UserWarning: /data/hyun/Analysis/data/UB.VI.220/DIV7/images_background_corrected/microdish_20x_DIV7_I_pos13_1.tif is a low contrast image\n",
      "  io.imsave(output_path,image_corrected)\n"
     ]
    },
    {
     "name": "stdout",
     "output_type": "stream",
     "text": [
      "microdish_20x_DIV7_E_pos10_1.tif\n"
     ]
    },
    {
     "name": "stderr",
     "output_type": "stream",
     "text": [
      "<ipython-input-4-783ae30aa263>:22: UserWarning: /data/hyun/Analysis/data/UB.VI.220/DIV7/images_background_corrected/microdish_20x_DIV7_E_pos10_1.tif is a low contrast image\n",
      "  io.imsave(output_path,image_corrected)\n"
     ]
    },
    {
     "name": "stdout",
     "output_type": "stream",
     "text": [
      "microdish_20x_DIV7_H_pos16_1.tif\n"
     ]
    },
    {
     "name": "stderr",
     "output_type": "stream",
     "text": [
      "<ipython-input-4-783ae30aa263>:22: UserWarning: /data/hyun/Analysis/data/UB.VI.220/DIV7/images_background_corrected/microdish_20x_DIV7_H_pos16_1.tif is a low contrast image\n",
      "  io.imsave(output_path,image_corrected)\n"
     ]
    },
    {
     "name": "stdout",
     "output_type": "stream",
     "text": [
      "microdish_20x_DIV7_D_pos18_1.tif\n"
     ]
    },
    {
     "name": "stderr",
     "output_type": "stream",
     "text": [
      "<ipython-input-4-783ae30aa263>:22: UserWarning: /data/hyun/Analysis/data/UB.VI.220/DIV7/images_background_corrected/microdish_20x_DIV7_D_pos18_1.tif is a low contrast image\n",
      "  io.imsave(output_path,image_corrected)\n"
     ]
    },
    {
     "name": "stdout",
     "output_type": "stream",
     "text": [
      "microdish_20x_DIV7_A_pos6_1.tif\n"
     ]
    },
    {
     "name": "stderr",
     "output_type": "stream",
     "text": [
      "<ipython-input-4-783ae30aa263>:22: UserWarning: /data/hyun/Analysis/data/UB.VI.220/DIV7/images_background_corrected/microdish_20x_DIV7_A_pos6_1.tif is a low contrast image\n",
      "  io.imsave(output_path,image_corrected)\n"
     ]
    },
    {
     "name": "stdout",
     "output_type": "stream",
     "text": [
      "microdish_20x_DIV7_H_pos15_1.tif\n"
     ]
    },
    {
     "name": "stderr",
     "output_type": "stream",
     "text": [
      "<ipython-input-4-783ae30aa263>:22: UserWarning: /data/hyun/Analysis/data/UB.VI.220/DIV7/images_background_corrected/microdish_20x_DIV7_H_pos15_1.tif is a low contrast image\n",
      "  io.imsave(output_path,image_corrected)\n"
     ]
    },
    {
     "name": "stdout",
     "output_type": "stream",
     "text": [
      "microdish_20x_DIV7_K_pos24_1.tif\n"
     ]
    },
    {
     "name": "stderr",
     "output_type": "stream",
     "text": [
      "<ipython-input-4-783ae30aa263>:22: UserWarning: /data/hyun/Analysis/data/UB.VI.220/DIV7/images_background_corrected/microdish_20x_DIV7_K_pos24_1.tif is a low contrast image\n",
      "  io.imsave(output_path,image_corrected)\n"
     ]
    },
    {
     "name": "stdout",
     "output_type": "stream",
     "text": [
      "microdish_20x_DIV7_D_pos17_1.tif\n"
     ]
    },
    {
     "name": "stderr",
     "output_type": "stream",
     "text": [
      "<ipython-input-4-783ae30aa263>:22: UserWarning: /data/hyun/Analysis/data/UB.VI.220/DIV7/images_background_corrected/microdish_20x_DIV7_D_pos17_1.tif is a low contrast image\n",
      "  io.imsave(output_path,image_corrected)\n"
     ]
    },
    {
     "name": "stdout",
     "output_type": "stream",
     "text": [
      "microdish_20x_DIV7_B_pos21_1.tif\n"
     ]
    },
    {
     "name": "stderr",
     "output_type": "stream",
     "text": [
      "<ipython-input-4-783ae30aa263>:22: UserWarning: /data/hyun/Analysis/data/UB.VI.220/DIV7/images_background_corrected/microdish_20x_DIV7_B_pos21_1.tif is a low contrast image\n",
      "  io.imsave(output_path,image_corrected)\n"
     ]
    },
    {
     "name": "stdout",
     "output_type": "stream",
     "text": [
      "microdish_20x_DIV7_I_pos8_1.tif\n"
     ]
    },
    {
     "name": "stderr",
     "output_type": "stream",
     "text": [
      "<ipython-input-4-783ae30aa263>:22: UserWarning: /data/hyun/Analysis/data/UB.VI.220/DIV7/images_background_corrected/microdish_20x_DIV7_I_pos8_1.tif is a low contrast image\n",
      "  io.imsave(output_path,image_corrected)\n"
     ]
    },
    {
     "name": "stdout",
     "output_type": "stream",
     "text": [
      "microdish_20x_DIV7_D_pos22_1.tif\n"
     ]
    },
    {
     "name": "stderr",
     "output_type": "stream",
     "text": [
      "<ipython-input-4-783ae30aa263>:22: UserWarning: /data/hyun/Analysis/data/UB.VI.220/DIV7/images_background_corrected/microdish_20x_DIV7_D_pos22_1.tif is a low contrast image\n",
      "  io.imsave(output_path,image_corrected)\n"
     ]
    },
    {
     "name": "stdout",
     "output_type": "stream",
     "text": [
      "microdish_20x_DIV7_L_pos17_1.tif\n"
     ]
    },
    {
     "name": "stderr",
     "output_type": "stream",
     "text": [
      "<ipython-input-4-783ae30aa263>:22: UserWarning: /data/hyun/Analysis/data/UB.VI.220/DIV7/images_background_corrected/microdish_20x_DIV7_L_pos17_1.tif is a low contrast image\n",
      "  io.imsave(output_path,image_corrected)\n"
     ]
    },
    {
     "name": "stdout",
     "output_type": "stream",
     "text": [
      "microdish_20x_DIV7_B_pos16_1.tif\n"
     ]
    },
    {
     "name": "stderr",
     "output_type": "stream",
     "text": [
      "<ipython-input-4-783ae30aa263>:22: UserWarning: /data/hyun/Analysis/data/UB.VI.220/DIV7/images_background_corrected/microdish_20x_DIV7_B_pos16_1.tif is a low contrast image\n",
      "  io.imsave(output_path,image_corrected)\n"
     ]
    },
    {
     "name": "stdout",
     "output_type": "stream",
     "text": [
      "microdish_20x_DIV7_J_pos12_1.tif\n"
     ]
    },
    {
     "name": "stderr",
     "output_type": "stream",
     "text": [
      "<ipython-input-4-783ae30aa263>:22: UserWarning: /data/hyun/Analysis/data/UB.VI.220/DIV7/images_background_corrected/microdish_20x_DIV7_J_pos12_1.tif is a low contrast image\n",
      "  io.imsave(output_path,image_corrected)\n"
     ]
    },
    {
     "name": "stdout",
     "output_type": "stream",
     "text": [
      "microdish_20x_DIV7_G_pos14_1.tif\n"
     ]
    },
    {
     "name": "stderr",
     "output_type": "stream",
     "text": [
      "<ipython-input-4-783ae30aa263>:22: UserWarning: /data/hyun/Analysis/data/UB.VI.220/DIV7/images_background_corrected/microdish_20x_DIV7_G_pos14_1.tif is a low contrast image\n",
      "  io.imsave(output_path,image_corrected)\n"
     ]
    },
    {
     "name": "stdout",
     "output_type": "stream",
     "text": [
      "microdish_20x_DIV7_B_pos4_1.tif\n"
     ]
    },
    {
     "name": "stderr",
     "output_type": "stream",
     "text": [
      "<ipython-input-4-783ae30aa263>:22: UserWarning: /data/hyun/Analysis/data/UB.VI.220/DIV7/images_background_corrected/microdish_20x_DIV7_B_pos4_1.tif is a low contrast image\n",
      "  io.imsave(output_path,image_corrected)\n"
     ]
    },
    {
     "name": "stdout",
     "output_type": "stream",
     "text": [
      "microdish_20x_DIV7_H_pos3_1.tif\n"
     ]
    },
    {
     "name": "stderr",
     "output_type": "stream",
     "text": [
      "<ipython-input-4-783ae30aa263>:22: UserWarning: /data/hyun/Analysis/data/UB.VI.220/DIV7/images_background_corrected/microdish_20x_DIV7_H_pos3_1.tif is a low contrast image\n",
      "  io.imsave(output_path,image_corrected)\n",
      "/home/Hyun/.conda/envs/cp4/lib/python3.8/site-packages/skimage/filters/rank/generic.py:262: UserWarning: Bad rank filter performance is expected due to a large number of bins (4534), equivalent to an approximate bitdepth of 12.1.\n",
      "  image, footprint, out, mask, n_bins = _preprocess_input(image, footprint,\n"
     ]
    },
    {
     "name": "stdout",
     "output_type": "stream",
     "text": [
      "microdish_20x_DIV7_A_pos37_1.tif\n"
     ]
    },
    {
     "name": "stderr",
     "output_type": "stream",
     "text": [
      "<ipython-input-4-783ae30aa263>:22: UserWarning: /data/hyun/Analysis/data/UB.VI.220/DIV7/images_background_corrected/microdish_20x_DIV7_A_pos37_1.tif is a low contrast image\n",
      "  io.imsave(output_path,image_corrected)\n"
     ]
    },
    {
     "name": "stdout",
     "output_type": "stream",
     "text": [
      "microdish_20x_DIV7_I_pos20_1.tif\n"
     ]
    },
    {
     "name": "stderr",
     "output_type": "stream",
     "text": [
      "<ipython-input-4-783ae30aa263>:22: UserWarning: /data/hyun/Analysis/data/UB.VI.220/DIV7/images_background_corrected/microdish_20x_DIV7_I_pos20_1.tif is a low contrast image\n",
      "  io.imsave(output_path,image_corrected)\n"
     ]
    },
    {
     "name": "stdout",
     "output_type": "stream",
     "text": [
      "microdish_20x_DIV7_B_pos28_1.tif\n"
     ]
    },
    {
     "name": "stderr",
     "output_type": "stream",
     "text": [
      "<ipython-input-4-783ae30aa263>:22: UserWarning: /data/hyun/Analysis/data/UB.VI.220/DIV7/images_background_corrected/microdish_20x_DIV7_B_pos28_1.tif is a low contrast image\n",
      "  io.imsave(output_path,image_corrected)\n"
     ]
    },
    {
     "name": "stdout",
     "output_type": "stream",
     "text": [
      "microdish_20x_DIV7_G_pos12_1.tif\n"
     ]
    },
    {
     "name": "stderr",
     "output_type": "stream",
     "text": [
      "<ipython-input-4-783ae30aa263>:22: UserWarning: /data/hyun/Analysis/data/UB.VI.220/DIV7/images_background_corrected/microdish_20x_DIV7_G_pos12_1.tif is a low contrast image\n",
      "  io.imsave(output_path,image_corrected)\n"
     ]
    },
    {
     "name": "stdout",
     "output_type": "stream",
     "text": [
      "microdish_20x_DIV7_B_pos0_1.tif\n"
     ]
    },
    {
     "name": "stderr",
     "output_type": "stream",
     "text": [
      "<ipython-input-4-783ae30aa263>:22: UserWarning: /data/hyun/Analysis/data/UB.VI.220/DIV7/images_background_corrected/microdish_20x_DIV7_B_pos0_1.tif is a low contrast image\n",
      "  io.imsave(output_path,image_corrected)\n",
      "/home/Hyun/.conda/envs/cp4/lib/python3.8/site-packages/skimage/filters/rank/generic.py:262: UserWarning: Bad rank filter performance is expected due to a large number of bins (2588), equivalent to an approximate bitdepth of 11.3.\n",
      "  image, footprint, out, mask, n_bins = _preprocess_input(image, footprint,\n"
     ]
    },
    {
     "name": "stdout",
     "output_type": "stream",
     "text": [
      "microdish_20x_DIV7_E_pos7_1.tif\n"
     ]
    },
    {
     "name": "stderr",
     "output_type": "stream",
     "text": [
      "<ipython-input-4-783ae30aa263>:22: UserWarning: /data/hyun/Analysis/data/UB.VI.220/DIV7/images_background_corrected/microdish_20x_DIV7_E_pos7_1.tif is a low contrast image\n",
      "  io.imsave(output_path,image_corrected)\n"
     ]
    },
    {
     "name": "stdout",
     "output_type": "stream",
     "text": [
      "microdish_20x_DIV7_G_pos23_1.tif\n"
     ]
    },
    {
     "name": "stderr",
     "output_type": "stream",
     "text": [
      "<ipython-input-4-783ae30aa263>:22: UserWarning: /data/hyun/Analysis/data/UB.VI.220/DIV7/images_background_corrected/microdish_20x_DIV7_G_pos23_1.tif is a low contrast image\n",
      "  io.imsave(output_path,image_corrected)\n",
      "/home/Hyun/.conda/envs/cp4/lib/python3.8/site-packages/skimage/filters/rank/generic.py:262: UserWarning: Bad rank filter performance is expected due to a large number of bins (2997), equivalent to an approximate bitdepth of 11.5.\n",
      "  image, footprint, out, mask, n_bins = _preprocess_input(image, footprint,\n"
     ]
    },
    {
     "name": "stdout",
     "output_type": "stream",
     "text": [
      "microdish_20x_DIV7_A_pos50_1.tif\n"
     ]
    },
    {
     "name": "stderr",
     "output_type": "stream",
     "text": [
      "<ipython-input-4-783ae30aa263>:22: UserWarning: /data/hyun/Analysis/data/UB.VI.220/DIV7/images_background_corrected/microdish_20x_DIV7_A_pos50_1.tif is a low contrast image\n",
      "  io.imsave(output_path,image_corrected)\n"
     ]
    },
    {
     "name": "stdout",
     "output_type": "stream",
     "text": [
      "microdish_20x_DIV7_D_pos29_1.tif\n"
     ]
    },
    {
     "name": "stderr",
     "output_type": "stream",
     "text": [
      "<ipython-input-4-783ae30aa263>:22: UserWarning: /data/hyun/Analysis/data/UB.VI.220/DIV7/images_background_corrected/microdish_20x_DIV7_D_pos29_1.tif is a low contrast image\n",
      "  io.imsave(output_path,image_corrected)\n"
     ]
    },
    {
     "name": "stdout",
     "output_type": "stream",
     "text": [
      "microdish_20x_DIV7_J_pos20_1.tif\n"
     ]
    },
    {
     "name": "stderr",
     "output_type": "stream",
     "text": [
      "<ipython-input-4-783ae30aa263>:22: UserWarning: /data/hyun/Analysis/data/UB.VI.220/DIV7/images_background_corrected/microdish_20x_DIV7_J_pos20_1.tif is a low contrast image\n",
      "  io.imsave(output_path,image_corrected)\n"
     ]
    },
    {
     "name": "stdout",
     "output_type": "stream",
     "text": [
      "microdish_20x_DIV7_I_pos10_1.tif\n"
     ]
    },
    {
     "name": "stderr",
     "output_type": "stream",
     "text": [
      "<ipython-input-4-783ae30aa263>:22: UserWarning: /data/hyun/Analysis/data/UB.VI.220/DIV7/images_background_corrected/microdish_20x_DIV7_I_pos10_1.tif is a low contrast image\n",
      "  io.imsave(output_path,image_corrected)\n",
      "/home/Hyun/.conda/envs/cp4/lib/python3.8/site-packages/skimage/filters/rank/generic.py:262: UserWarning: Bad rank filter performance is expected due to a large number of bins (2037), equivalent to an approximate bitdepth of 11.0.\n",
      "  image, footprint, out, mask, n_bins = _preprocess_input(image, footprint,\n"
     ]
    },
    {
     "name": "stdout",
     "output_type": "stream",
     "text": [
      "microdish_20x_DIV7_A_pos8_1.tif\n"
     ]
    },
    {
     "name": "stderr",
     "output_type": "stream",
     "text": [
      "<ipython-input-4-783ae30aa263>:22: UserWarning: /data/hyun/Analysis/data/UB.VI.220/DIV7/images_background_corrected/microdish_20x_DIV7_A_pos8_1.tif is a low contrast image\n",
      "  io.imsave(output_path,image_corrected)\n"
     ]
    },
    {
     "name": "stdout",
     "output_type": "stream",
     "text": [
      "microdish_20x_DIV7_I_pos9_1.tif\n"
     ]
    },
    {
     "name": "stderr",
     "output_type": "stream",
     "text": [
      "<ipython-input-4-783ae30aa263>:22: UserWarning: /data/hyun/Analysis/data/UB.VI.220/DIV7/images_background_corrected/microdish_20x_DIV7_I_pos9_1.tif is a low contrast image\n",
      "  io.imsave(output_path,image_corrected)\n"
     ]
    },
    {
     "name": "stdout",
     "output_type": "stream",
     "text": [
      "microdish_20x_DIV7_K_pos6_1.tif\n"
     ]
    },
    {
     "name": "stderr",
     "output_type": "stream",
     "text": [
      "<ipython-input-4-783ae30aa263>:22: UserWarning: /data/hyun/Analysis/data/UB.VI.220/DIV7/images_background_corrected/microdish_20x_DIV7_K_pos6_1.tif is a low contrast image\n",
      "  io.imsave(output_path,image_corrected)\n"
     ]
    },
    {
     "name": "stdout",
     "output_type": "stream",
     "text": [
      "microdish_20x_DIV7_K_pos21_1.tif\n"
     ]
    },
    {
     "name": "stderr",
     "output_type": "stream",
     "text": [
      "<ipython-input-4-783ae30aa263>:22: UserWarning: /data/hyun/Analysis/data/UB.VI.220/DIV7/images_background_corrected/microdish_20x_DIV7_K_pos21_1.tif is a low contrast image\n",
      "  io.imsave(output_path,image_corrected)\n"
     ]
    },
    {
     "name": "stdout",
     "output_type": "stream",
     "text": [
      "microdish_20x_DIV7_K_pos7_1.tif\n"
     ]
    },
    {
     "name": "stderr",
     "output_type": "stream",
     "text": [
      "<ipython-input-4-783ae30aa263>:22: UserWarning: /data/hyun/Analysis/data/UB.VI.220/DIV7/images_background_corrected/microdish_20x_DIV7_K_pos7_1.tif is a low contrast image\n",
      "  io.imsave(output_path,image_corrected)\n"
     ]
    },
    {
     "name": "stdout",
     "output_type": "stream",
     "text": [
      "microdish_20x_DIV7_G_pos15_1.tif\n"
     ]
    },
    {
     "name": "stderr",
     "output_type": "stream",
     "text": [
      "<ipython-input-4-783ae30aa263>:22: UserWarning: /data/hyun/Analysis/data/UB.VI.220/DIV7/images_background_corrected/microdish_20x_DIV7_G_pos15_1.tif is a low contrast image\n",
      "  io.imsave(output_path,image_corrected)\n"
     ]
    },
    {
     "name": "stdout",
     "output_type": "stream",
     "text": [
      "microdish_20x_DIV7_B_pos33_1.tif\n"
     ]
    },
    {
     "name": "stderr",
     "output_type": "stream",
     "text": [
      "<ipython-input-4-783ae30aa263>:22: UserWarning: /data/hyun/Analysis/data/UB.VI.220/DIV7/images_background_corrected/microdish_20x_DIV7_B_pos33_1.tif is a low contrast image\n",
      "  io.imsave(output_path,image_corrected)\n"
     ]
    },
    {
     "name": "stdout",
     "output_type": "stream",
     "text": [
      "microdish_20x_DIV7_H_pos5_1.tif\n"
     ]
    },
    {
     "name": "stderr",
     "output_type": "stream",
     "text": [
      "<ipython-input-4-783ae30aa263>:22: UserWarning: /data/hyun/Analysis/data/UB.VI.220/DIV7/images_background_corrected/microdish_20x_DIV7_H_pos5_1.tif is a low contrast image\n",
      "  io.imsave(output_path,image_corrected)\n"
     ]
    },
    {
     "name": "stdout",
     "output_type": "stream",
     "text": [
      "microdish_20x_DIV7_H_pos20_1.tif\n"
     ]
    },
    {
     "name": "stderr",
     "output_type": "stream",
     "text": [
      "<ipython-input-4-783ae30aa263>:22: UserWarning: /data/hyun/Analysis/data/UB.VI.220/DIV7/images_background_corrected/microdish_20x_DIV7_H_pos20_1.tif is a low contrast image\n",
      "  io.imsave(output_path,image_corrected)\n"
     ]
    },
    {
     "name": "stdout",
     "output_type": "stream",
     "text": [
      "microdish_20x_DIV7_J_pos19_1.tif\n"
     ]
    },
    {
     "name": "stderr",
     "output_type": "stream",
     "text": [
      "<ipython-input-4-783ae30aa263>:22: UserWarning: /data/hyun/Analysis/data/UB.VI.220/DIV7/images_background_corrected/microdish_20x_DIV7_J_pos19_1.tif is a low contrast image\n",
      "  io.imsave(output_path,image_corrected)\n"
     ]
    },
    {
     "name": "stdout",
     "output_type": "stream",
     "text": [
      "microdish_20x_DIV7_A_pos7_1.tif\n"
     ]
    },
    {
     "name": "stderr",
     "output_type": "stream",
     "text": [
      "<ipython-input-4-783ae30aa263>:22: UserWarning: /data/hyun/Analysis/data/UB.VI.220/DIV7/images_background_corrected/microdish_20x_DIV7_A_pos7_1.tif is a low contrast image\n",
      "  io.imsave(output_path,image_corrected)\n"
     ]
    },
    {
     "name": "stdout",
     "output_type": "stream",
     "text": [
      "microdish_20x_DIV7_L_pos7_1.tif\n"
     ]
    },
    {
     "name": "stderr",
     "output_type": "stream",
     "text": [
      "<ipython-input-4-783ae30aa263>:22: UserWarning: /data/hyun/Analysis/data/UB.VI.220/DIV7/images_background_corrected/microdish_20x_DIV7_L_pos7_1.tif is a low contrast image\n",
      "  io.imsave(output_path,image_corrected)\n"
     ]
    },
    {
     "name": "stdout",
     "output_type": "stream",
     "text": [
      "microdish_20x_DIV7_L_pos25_1.tif\n"
     ]
    },
    {
     "name": "stderr",
     "output_type": "stream",
     "text": [
      "<ipython-input-4-783ae30aa263>:22: UserWarning: /data/hyun/Analysis/data/UB.VI.220/DIV7/images_background_corrected/microdish_20x_DIV7_L_pos25_1.tif is a low contrast image\n",
      "  io.imsave(output_path,image_corrected)\n"
     ]
    },
    {
     "name": "stdout",
     "output_type": "stream",
     "text": [
      "microdish_20x_DIV7_I_pos25_1.tif\n"
     ]
    },
    {
     "name": "stderr",
     "output_type": "stream",
     "text": [
      "<ipython-input-4-783ae30aa263>:22: UserWarning: /data/hyun/Analysis/data/UB.VI.220/DIV7/images_background_corrected/microdish_20x_DIV7_I_pos25_1.tif is a low contrast image\n",
      "  io.imsave(output_path,image_corrected)\n"
     ]
    },
    {
     "name": "stdout",
     "output_type": "stream",
     "text": [
      "microdish_20x_DIV7_L_pos4_1.tif\n"
     ]
    },
    {
     "name": "stderr",
     "output_type": "stream",
     "text": [
      "<ipython-input-4-783ae30aa263>:22: UserWarning: /data/hyun/Analysis/data/UB.VI.220/DIV7/images_background_corrected/microdish_20x_DIV7_L_pos4_1.tif is a low contrast image\n",
      "  io.imsave(output_path,image_corrected)\n"
     ]
    },
    {
     "name": "stdout",
     "output_type": "stream",
     "text": [
      "microdish_20x_DIV7_F_pos9_1.tif\n"
     ]
    },
    {
     "name": "stderr",
     "output_type": "stream",
     "text": [
      "<ipython-input-4-783ae30aa263>:22: UserWarning: /data/hyun/Analysis/data/UB.VI.220/DIV7/images_background_corrected/microdish_20x_DIV7_F_pos9_1.tif is a low contrast image\n",
      "  io.imsave(output_path,image_corrected)\n"
     ]
    },
    {
     "name": "stdout",
     "output_type": "stream",
     "text": [
      "microdish_20x_DIV7_L_pos18_1.tif\n"
     ]
    },
    {
     "name": "stderr",
     "output_type": "stream",
     "text": [
      "<ipython-input-4-783ae30aa263>:22: UserWarning: /data/hyun/Analysis/data/UB.VI.220/DIV7/images_background_corrected/microdish_20x_DIV7_L_pos18_1.tif is a low contrast image\n",
      "  io.imsave(output_path,image_corrected)\n"
     ]
    },
    {
     "name": "stdout",
     "output_type": "stream",
     "text": [
      "microdish_20x_DIV7_B_pos30_1.tif\n"
     ]
    },
    {
     "name": "stderr",
     "output_type": "stream",
     "text": [
      "<ipython-input-4-783ae30aa263>:22: UserWarning: /data/hyun/Analysis/data/UB.VI.220/DIV7/images_background_corrected/microdish_20x_DIV7_B_pos30_1.tif is a low contrast image\n",
      "  io.imsave(output_path,image_corrected)\n"
     ]
    },
    {
     "name": "stdout",
     "output_type": "stream",
     "text": [
      "microdish_20x_DIV7_D_pos25_1.tif\n"
     ]
    },
    {
     "name": "stderr",
     "output_type": "stream",
     "text": [
      "<ipython-input-4-783ae30aa263>:22: UserWarning: /data/hyun/Analysis/data/UB.VI.220/DIV7/images_background_corrected/microdish_20x_DIV7_D_pos25_1.tif is a low contrast image\n",
      "  io.imsave(output_path,image_corrected)\n"
     ]
    },
    {
     "name": "stdout",
     "output_type": "stream",
     "text": [
      "microdish_20x_DIV7_B_pos27_1.tif\n"
     ]
    },
    {
     "name": "stderr",
     "output_type": "stream",
     "text": [
      "<ipython-input-4-783ae30aa263>:22: UserWarning: /data/hyun/Analysis/data/UB.VI.220/DIV7/images_background_corrected/microdish_20x_DIV7_B_pos27_1.tif is a low contrast image\n",
      "  io.imsave(output_path,image_corrected)\n"
     ]
    },
    {
     "name": "stdout",
     "output_type": "stream",
     "text": [
      "microdish_20x_DIV7_D_pos39_1.tif\n"
     ]
    },
    {
     "name": "stderr",
     "output_type": "stream",
     "text": [
      "<ipython-input-4-783ae30aa263>:22: UserWarning: /data/hyun/Analysis/data/UB.VI.220/DIV7/images_background_corrected/microdish_20x_DIV7_D_pos39_1.tif is a low contrast image\n",
      "  io.imsave(output_path,image_corrected)\n"
     ]
    },
    {
     "name": "stdout",
     "output_type": "stream",
     "text": [
      "microdish_20x_DIV7_F_pos15_1.tif\n"
     ]
    },
    {
     "name": "stderr",
     "output_type": "stream",
     "text": [
      "<ipython-input-4-783ae30aa263>:22: UserWarning: /data/hyun/Analysis/data/UB.VI.220/DIV7/images_background_corrected/microdish_20x_DIV7_F_pos15_1.tif is a low contrast image\n",
      "  io.imsave(output_path,image_corrected)\n"
     ]
    },
    {
     "name": "stdout",
     "output_type": "stream",
     "text": [
      "microdish_20x_DIV7_J_pos4_1.tif\n"
     ]
    },
    {
     "name": "stderr",
     "output_type": "stream",
     "text": [
      "<ipython-input-4-783ae30aa263>:22: UserWarning: /data/hyun/Analysis/data/UB.VI.220/DIV7/images_background_corrected/microdish_20x_DIV7_J_pos4_1.tif is a low contrast image\n",
      "  io.imsave(output_path,image_corrected)\n"
     ]
    },
    {
     "name": "stdout",
     "output_type": "stream",
     "text": [
      "microdish_20x_DIV7_G_pos13_1.tif\n"
     ]
    },
    {
     "name": "stderr",
     "output_type": "stream",
     "text": [
      "<ipython-input-4-783ae30aa263>:22: UserWarning: /data/hyun/Analysis/data/UB.VI.220/DIV7/images_background_corrected/microdish_20x_DIV7_G_pos13_1.tif is a low contrast image\n",
      "  io.imsave(output_path,image_corrected)\n"
     ]
    },
    {
     "name": "stdout",
     "output_type": "stream",
     "text": [
      "microdish_20x_DIV7_K_pos5_1.tif\n"
     ]
    },
    {
     "name": "stderr",
     "output_type": "stream",
     "text": [
      "<ipython-input-4-783ae30aa263>:22: UserWarning: /data/hyun/Analysis/data/UB.VI.220/DIV7/images_background_corrected/microdish_20x_DIV7_K_pos5_1.tif is a low contrast image\n",
      "  io.imsave(output_path,image_corrected)\n",
      "/home/Hyun/.conda/envs/cp4/lib/python3.8/site-packages/skimage/filters/rank/generic.py:262: UserWarning: Bad rank filter performance is expected due to a large number of bins (65486), equivalent to an approximate bitdepth of 16.0.\n",
      "  image, footprint, out, mask, n_bins = _preprocess_input(image, footprint,\n"
     ]
    },
    {
     "name": "stdout",
     "output_type": "stream",
     "text": [
      "microdish_20x_DIV7_J_pos15_1.tif\n"
     ]
    },
    {
     "name": "stderr",
     "output_type": "stream",
     "text": [
      "<ipython-input-4-783ae30aa263>:22: UserWarning: /data/hyun/Analysis/data/UB.VI.220/DIV7/images_background_corrected/microdish_20x_DIV7_J_pos15_1.tif is a low contrast image\n",
      "  io.imsave(output_path,image_corrected)\n"
     ]
    },
    {
     "name": "stdout",
     "output_type": "stream",
     "text": [
      "microdish_20x_DIV7_H_pos25_1.tif\n"
     ]
    },
    {
     "name": "stderr",
     "output_type": "stream",
     "text": [
      "<ipython-input-4-783ae30aa263>:22: UserWarning: /data/hyun/Analysis/data/UB.VI.220/DIV7/images_background_corrected/microdish_20x_DIV7_H_pos25_1.tif is a low contrast image\n",
      "  io.imsave(output_path,image_corrected)\n"
     ]
    },
    {
     "name": "stdout",
     "output_type": "stream",
     "text": [
      "microdish_20x_DIV7_I_pos24_1.tif\n"
     ]
    },
    {
     "name": "stderr",
     "output_type": "stream",
     "text": [
      "<ipython-input-4-783ae30aa263>:22: UserWarning: /data/hyun/Analysis/data/UB.VI.220/DIV7/images_background_corrected/microdish_20x_DIV7_I_pos24_1.tif is a low contrast image\n",
      "  io.imsave(output_path,image_corrected)\n"
     ]
    },
    {
     "name": "stdout",
     "output_type": "stream",
     "text": [
      "microdish_20x_DIV7_I_pos12_1.tif\n"
     ]
    },
    {
     "name": "stderr",
     "output_type": "stream",
     "text": [
      "<ipython-input-4-783ae30aa263>:22: UserWarning: /data/hyun/Analysis/data/UB.VI.220/DIV7/images_background_corrected/microdish_20x_DIV7_I_pos12_1.tif is a low contrast image\n",
      "  io.imsave(output_path,image_corrected)\n"
     ]
    },
    {
     "name": "stdout",
     "output_type": "stream",
     "text": [
      "microdish_20x_DIV7_K_pos23_1.tif\n"
     ]
    },
    {
     "name": "stderr",
     "output_type": "stream",
     "text": [
      "<ipython-input-4-783ae30aa263>:22: UserWarning: /data/hyun/Analysis/data/UB.VI.220/DIV7/images_background_corrected/microdish_20x_DIV7_K_pos23_1.tif is a low contrast image\n",
      "  io.imsave(output_path,image_corrected)\n"
     ]
    },
    {
     "name": "stdout",
     "output_type": "stream",
     "text": [
      "microdish_20x_DIV7_D_pos0_1.tif\n"
     ]
    },
    {
     "name": "stderr",
     "output_type": "stream",
     "text": [
      "<ipython-input-4-783ae30aa263>:22: UserWarning: /data/hyun/Analysis/data/UB.VI.220/DIV7/images_background_corrected/microdish_20x_DIV7_D_pos0_1.tif is a low contrast image\n",
      "  io.imsave(output_path,image_corrected)\n"
     ]
    },
    {
     "name": "stdout",
     "output_type": "stream",
     "text": [
      "microdish_20x_DIV7_I_pos26_1.tif\n"
     ]
    },
    {
     "name": "stderr",
     "output_type": "stream",
     "text": [
      "<ipython-input-4-783ae30aa263>:22: UserWarning: /data/hyun/Analysis/data/UB.VI.220/DIV7/images_background_corrected/microdish_20x_DIV7_I_pos26_1.tif is a low contrast image\n",
      "  io.imsave(output_path,image_corrected)\n"
     ]
    },
    {
     "name": "stdout",
     "output_type": "stream",
     "text": [
      "microdish_20x_DIV7_D_pos23_1.tif\n"
     ]
    },
    {
     "name": "stderr",
     "output_type": "stream",
     "text": [
      "<ipython-input-4-783ae30aa263>:22: UserWarning: /data/hyun/Analysis/data/UB.VI.220/DIV7/images_background_corrected/microdish_20x_DIV7_D_pos23_1.tif is a low contrast image\n",
      "  io.imsave(output_path,image_corrected)\n"
     ]
    },
    {
     "name": "stdout",
     "output_type": "stream",
     "text": [
      "microdish_20x_DIV7_E_pos19_1.tif\n"
     ]
    },
    {
     "name": "stderr",
     "output_type": "stream",
     "text": [
      "<ipython-input-4-783ae30aa263>:22: UserWarning: /data/hyun/Analysis/data/UB.VI.220/DIV7/images_background_corrected/microdish_20x_DIV7_E_pos19_1.tif is a low contrast image\n",
      "  io.imsave(output_path,image_corrected)\n"
     ]
    },
    {
     "name": "stdout",
     "output_type": "stream",
     "text": [
      "microdish_20x_DIV7_J_pos8_1.tif\n"
     ]
    },
    {
     "name": "stderr",
     "output_type": "stream",
     "text": [
      "<ipython-input-4-783ae30aa263>:22: UserWarning: /data/hyun/Analysis/data/UB.VI.220/DIV7/images_background_corrected/microdish_20x_DIV7_J_pos8_1.tif is a low contrast image\n",
      "  io.imsave(output_path,image_corrected)\n"
     ]
    },
    {
     "name": "stdout",
     "output_type": "stream",
     "text": [
      "microdish_20x_DIV7_K_pos17_1.tif\n"
     ]
    },
    {
     "name": "stderr",
     "output_type": "stream",
     "text": [
      "<ipython-input-4-783ae30aa263>:22: UserWarning: /data/hyun/Analysis/data/UB.VI.220/DIV7/images_background_corrected/microdish_20x_DIV7_K_pos17_1.tif is a low contrast image\n",
      "  io.imsave(output_path,image_corrected)\n",
      "/home/Hyun/.conda/envs/cp4/lib/python3.8/site-packages/skimage/filters/rank/generic.py:262: UserWarning: Bad rank filter performance is expected due to a large number of bins (2363), equivalent to an approximate bitdepth of 11.2.\n",
      "  image, footprint, out, mask, n_bins = _preprocess_input(image, footprint,\n"
     ]
    },
    {
     "name": "stdout",
     "output_type": "stream",
     "text": [
      "microdish_20x_DIV7_F_pos7_1.tif\n"
     ]
    },
    {
     "name": "stderr",
     "output_type": "stream",
     "text": [
      "<ipython-input-4-783ae30aa263>:22: UserWarning: /data/hyun/Analysis/data/UB.VI.220/DIV7/images_background_corrected/microdish_20x_DIV7_F_pos7_1.tif is a low contrast image\n",
      "  io.imsave(output_path,image_corrected)\n"
     ]
    },
    {
     "name": "stdout",
     "output_type": "stream",
     "text": [
      "microdish_20x_DIV7_L_pos16_1.tif\n"
     ]
    },
    {
     "name": "stderr",
     "output_type": "stream",
     "text": [
      "<ipython-input-4-783ae30aa263>:22: UserWarning: /data/hyun/Analysis/data/UB.VI.220/DIV7/images_background_corrected/microdish_20x_DIV7_L_pos16_1.tif is a low contrast image\n",
      "  io.imsave(output_path,image_corrected)\n",
      "/home/Hyun/.conda/envs/cp4/lib/python3.8/site-packages/skimage/filters/rank/generic.py:262: UserWarning: Bad rank filter performance is expected due to a large number of bins (3256), equivalent to an approximate bitdepth of 11.7.\n",
      "  image, footprint, out, mask, n_bins = _preprocess_input(image, footprint,\n"
     ]
    },
    {
     "name": "stdout",
     "output_type": "stream",
     "text": [
      "microdish_20x_DIV7_J_pos11_1.tif\n"
     ]
    },
    {
     "name": "stderr",
     "output_type": "stream",
     "text": [
      "<ipython-input-4-783ae30aa263>:22: UserWarning: /data/hyun/Analysis/data/UB.VI.220/DIV7/images_background_corrected/microdish_20x_DIV7_J_pos11_1.tif is a low contrast image\n",
      "  io.imsave(output_path,image_corrected)\n"
     ]
    },
    {
     "name": "stdout",
     "output_type": "stream",
     "text": [
      "microdish_20x_DIV7_L_pos24_1.tif\n"
     ]
    },
    {
     "name": "stderr",
     "output_type": "stream",
     "text": [
      "<ipython-input-4-783ae30aa263>:22: UserWarning: /data/hyun/Analysis/data/UB.VI.220/DIV7/images_background_corrected/microdish_20x_DIV7_L_pos24_1.tif is a low contrast image\n",
      "  io.imsave(output_path,image_corrected)\n"
     ]
    },
    {
     "name": "stdout",
     "output_type": "stream",
     "text": [
      "microdish_20x_DIV7_H_pos1_1.tif\n"
     ]
    },
    {
     "name": "stderr",
     "output_type": "stream",
     "text": [
      "<ipython-input-4-783ae30aa263>:22: UserWarning: /data/hyun/Analysis/data/UB.VI.220/DIV7/images_background_corrected/microdish_20x_DIV7_H_pos1_1.tif is a low contrast image\n",
      "  io.imsave(output_path,image_corrected)\n"
     ]
    },
    {
     "name": "stdout",
     "output_type": "stream",
     "text": [
      "microdish_20x_DIV7_F_pos18_1.tif\n"
     ]
    },
    {
     "name": "stderr",
     "output_type": "stream",
     "text": [
      "<ipython-input-4-783ae30aa263>:22: UserWarning: /data/hyun/Analysis/data/UB.VI.220/DIV7/images_background_corrected/microdish_20x_DIV7_F_pos18_1.tif is a low contrast image\n",
      "  io.imsave(output_path,image_corrected)\n"
     ]
    },
    {
     "name": "stdout",
     "output_type": "stream",
     "text": [
      "microdish_20x_DIV7_A_pos3_1.tif\n"
     ]
    },
    {
     "name": "stderr",
     "output_type": "stream",
     "text": [
      "<ipython-input-4-783ae30aa263>:22: UserWarning: /data/hyun/Analysis/data/UB.VI.220/DIV7/images_background_corrected/microdish_20x_DIV7_A_pos3_1.tif is a low contrast image\n",
      "  io.imsave(output_path,image_corrected)\n"
     ]
    },
    {
     "name": "stdout",
     "output_type": "stream",
     "text": [
      "microdish_20x_DIV7_H_pos19_1.tif\n"
     ]
    },
    {
     "name": "stderr",
     "output_type": "stream",
     "text": [
      "<ipython-input-4-783ae30aa263>:22: UserWarning: /data/hyun/Analysis/data/UB.VI.220/DIV7/images_background_corrected/microdish_20x_DIV7_H_pos19_1.tif is a low contrast image\n",
      "  io.imsave(output_path,image_corrected)\n"
     ]
    },
    {
     "name": "stdout",
     "output_type": "stream",
     "text": [
      "microdish_20x_DIV7_A_pos12_1.tif\n"
     ]
    },
    {
     "name": "stderr",
     "output_type": "stream",
     "text": [
      "<ipython-input-4-783ae30aa263>:22: UserWarning: /data/hyun/Analysis/data/UB.VI.220/DIV7/images_background_corrected/microdish_20x_DIV7_A_pos12_1.tif is a low contrast image\n",
      "  io.imsave(output_path,image_corrected)\n"
     ]
    },
    {
     "name": "stdout",
     "output_type": "stream",
     "text": [
      "microdish_20x_DIV7_G_pos20_1.tif\n"
     ]
    },
    {
     "name": "stderr",
     "output_type": "stream",
     "text": [
      "<ipython-input-4-783ae30aa263>:22: UserWarning: /data/hyun/Analysis/data/UB.VI.220/DIV7/images_background_corrected/microdish_20x_DIV7_G_pos20_1.tif is a low contrast image\n",
      "  io.imsave(output_path,image_corrected)\n"
     ]
    },
    {
     "name": "stdout",
     "output_type": "stream",
     "text": [
      "microdish_20x_DIV7_A_pos46_1.tif\n"
     ]
    },
    {
     "name": "stderr",
     "output_type": "stream",
     "text": [
      "<ipython-input-4-783ae30aa263>:22: UserWarning: /data/hyun/Analysis/data/UB.VI.220/DIV7/images_background_corrected/microdish_20x_DIV7_A_pos46_1.tif is a low contrast image\n",
      "  io.imsave(output_path,image_corrected)\n"
     ]
    },
    {
     "name": "stdout",
     "output_type": "stream",
     "text": [
      "microdish_20x_DIV7_G_pos22_1.tif\n"
     ]
    },
    {
     "name": "stderr",
     "output_type": "stream",
     "text": [
      "<ipython-input-4-783ae30aa263>:22: UserWarning: /data/hyun/Analysis/data/UB.VI.220/DIV7/images_background_corrected/microdish_20x_DIV7_G_pos22_1.tif is a low contrast image\n",
      "  io.imsave(output_path,image_corrected)\n"
     ]
    },
    {
     "name": "stdout",
     "output_type": "stream",
     "text": [
      "microdish_20x_DIV7_K_pos15_1.tif\n"
     ]
    },
    {
     "name": "stderr",
     "output_type": "stream",
     "text": [
      "<ipython-input-4-783ae30aa263>:22: UserWarning: /data/hyun/Analysis/data/UB.VI.220/DIV7/images_background_corrected/microdish_20x_DIV7_K_pos15_1.tif is a low contrast image\n",
      "  io.imsave(output_path,image_corrected)\n"
     ]
    },
    {
     "name": "stdout",
     "output_type": "stream",
     "text": [
      "microdish_20x_DIV7_D_pos6_1.tif\n"
     ]
    },
    {
     "name": "stderr",
     "output_type": "stream",
     "text": [
      "<ipython-input-4-783ae30aa263>:22: UserWarning: /data/hyun/Analysis/data/UB.VI.220/DIV7/images_background_corrected/microdish_20x_DIV7_D_pos6_1.tif is a low contrast image\n",
      "  io.imsave(output_path,image_corrected)\n",
      "/home/Hyun/.conda/envs/cp4/lib/python3.8/site-packages/skimage/filters/rank/generic.py:262: UserWarning: Bad rank filter performance is expected due to a large number of bins (2680), equivalent to an approximate bitdepth of 11.4.\n",
      "  image, footprint, out, mask, n_bins = _preprocess_input(image, footprint,\n"
     ]
    },
    {
     "name": "stdout",
     "output_type": "stream",
     "text": [
      "microdish_20x_DIV7_A_pos18_1.tif\n"
     ]
    },
    {
     "name": "stderr",
     "output_type": "stream",
     "text": [
      "<ipython-input-4-783ae30aa263>:22: UserWarning: /data/hyun/Analysis/data/UB.VI.220/DIV7/images_background_corrected/microdish_20x_DIV7_A_pos18_1.tif is a low contrast image\n",
      "  io.imsave(output_path,image_corrected)\n"
     ]
    },
    {
     "name": "stdout",
     "output_type": "stream",
     "text": [
      "microdish_20x_DIV7_A_pos27_1.tif\n"
     ]
    },
    {
     "name": "stderr",
     "output_type": "stream",
     "text": [
      "<ipython-input-4-783ae30aa263>:22: UserWarning: /data/hyun/Analysis/data/UB.VI.220/DIV7/images_background_corrected/microdish_20x_DIV7_A_pos27_1.tif is a low contrast image\n",
      "  io.imsave(output_path,image_corrected)\n"
     ]
    },
    {
     "name": "stdout",
     "output_type": "stream",
     "text": [
      "microdish_20x_DIV7_D_pos37_1.tif\n"
     ]
    },
    {
     "name": "stderr",
     "output_type": "stream",
     "text": [
      "<ipython-input-4-783ae30aa263>:22: UserWarning: /data/hyun/Analysis/data/UB.VI.220/DIV7/images_background_corrected/microdish_20x_DIV7_D_pos37_1.tif is a low contrast image\n",
      "  io.imsave(output_path,image_corrected)\n"
     ]
    },
    {
     "name": "stdout",
     "output_type": "stream",
     "text": [
      "microdish_20x_DIV7_K_pos2_1.tif\n"
     ]
    },
    {
     "name": "stderr",
     "output_type": "stream",
     "text": [
      "<ipython-input-4-783ae30aa263>:22: UserWarning: /data/hyun/Analysis/data/UB.VI.220/DIV7/images_background_corrected/microdish_20x_DIV7_K_pos2_1.tif is a low contrast image\n",
      "  io.imsave(output_path,image_corrected)\n"
     ]
    },
    {
     "name": "stdout",
     "output_type": "stream",
     "text": [
      "microdish_20x_DIV7_H_pos21_1.tif\n"
     ]
    },
    {
     "name": "stderr",
     "output_type": "stream",
     "text": [
      "<ipython-input-4-783ae30aa263>:22: UserWarning: /data/hyun/Analysis/data/UB.VI.220/DIV7/images_background_corrected/microdish_20x_DIV7_H_pos21_1.tif is a low contrast image\n",
      "  io.imsave(output_path,image_corrected)\n"
     ]
    },
    {
     "name": "stdout",
     "output_type": "stream",
     "text": [
      "microdish_20x_DIV7_J_pos0_1.tif\n"
     ]
    },
    {
     "name": "stderr",
     "output_type": "stream",
     "text": [
      "<ipython-input-4-783ae30aa263>:22: UserWarning: /data/hyun/Analysis/data/UB.VI.220/DIV7/images_background_corrected/microdish_20x_DIV7_J_pos0_1.tif is a low contrast image\n",
      "  io.imsave(output_path,image_corrected)\n"
     ]
    },
    {
     "name": "stdout",
     "output_type": "stream",
     "text": [
      "microdish_20x_DIV7_B_pos24_1.tif\n"
     ]
    },
    {
     "name": "stderr",
     "output_type": "stream",
     "text": [
      "<ipython-input-4-783ae30aa263>:22: UserWarning: /data/hyun/Analysis/data/UB.VI.220/DIV7/images_background_corrected/microdish_20x_DIV7_B_pos24_1.tif is a low contrast image\n",
      "  io.imsave(output_path,image_corrected)\n"
     ]
    },
    {
     "name": "stdout",
     "output_type": "stream",
     "text": [
      "microdish_20x_DIV7_K_pos3_1.tif\n"
     ]
    },
    {
     "name": "stderr",
     "output_type": "stream",
     "text": [
      "<ipython-input-4-783ae30aa263>:22: UserWarning: /data/hyun/Analysis/data/UB.VI.220/DIV7/images_background_corrected/microdish_20x_DIV7_K_pos3_1.tif is a low contrast image\n",
      "  io.imsave(output_path,image_corrected)\n"
     ]
    },
    {
     "name": "stdout",
     "output_type": "stream",
     "text": [
      "microdish_20x_DIV7_J_pos1_1.tif\n"
     ]
    },
    {
     "name": "stderr",
     "output_type": "stream",
     "text": [
      "<ipython-input-4-783ae30aa263>:22: UserWarning: /data/hyun/Analysis/data/UB.VI.220/DIV7/images_background_corrected/microdish_20x_DIV7_J_pos1_1.tif is a low contrast image\n",
      "  io.imsave(output_path,image_corrected)\n"
     ]
    },
    {
     "name": "stdout",
     "output_type": "stream",
     "text": [
      "microdish_20x_DIV7_J_pos22_1.tif\n"
     ]
    },
    {
     "name": "stderr",
     "output_type": "stream",
     "text": [
      "<ipython-input-4-783ae30aa263>:22: UserWarning: /data/hyun/Analysis/data/UB.VI.220/DIV7/images_background_corrected/microdish_20x_DIV7_J_pos22_1.tif is a low contrast image\n",
      "  io.imsave(output_path,image_corrected)\n"
     ]
    },
    {
     "name": "stdout",
     "output_type": "stream",
     "text": [
      "microdish_20x_DIV7_I_pos5_1.tif\n"
     ]
    },
    {
     "name": "stderr",
     "output_type": "stream",
     "text": [
      "<ipython-input-4-783ae30aa263>:22: UserWarning: /data/hyun/Analysis/data/UB.VI.220/DIV7/images_background_corrected/microdish_20x_DIV7_I_pos5_1.tif is a low contrast image\n",
      "  io.imsave(output_path,image_corrected)\n"
     ]
    },
    {
     "name": "stdout",
     "output_type": "stream",
     "text": [
      "microdish_20x_DIV7_F_pos14_1.tif\n"
     ]
    },
    {
     "name": "stderr",
     "output_type": "stream",
     "text": [
      "<ipython-input-4-783ae30aa263>:22: UserWarning: /data/hyun/Analysis/data/UB.VI.220/DIV7/images_background_corrected/microdish_20x_DIV7_F_pos14_1.tif is a low contrast image\n",
      "  io.imsave(output_path,image_corrected)\n",
      "/home/Hyun/.conda/envs/cp4/lib/python3.8/site-packages/skimage/filters/rank/generic.py:262: UserWarning: Bad rank filter performance is expected due to a large number of bins (2380), equivalent to an approximate bitdepth of 11.2.\n",
      "  image, footprint, out, mask, n_bins = _preprocess_input(image, footprint,\n"
     ]
    },
    {
     "name": "stdout",
     "output_type": "stream",
     "text": [
      "microdish_20x_DIV7_D_pos32_1.tif\n"
     ]
    },
    {
     "name": "stderr",
     "output_type": "stream",
     "text": [
      "<ipython-input-4-783ae30aa263>:22: UserWarning: /data/hyun/Analysis/data/UB.VI.220/DIV7/images_background_corrected/microdish_20x_DIV7_D_pos32_1.tif is a low contrast image\n",
      "  io.imsave(output_path,image_corrected)\n"
     ]
    },
    {
     "name": "stdout",
     "output_type": "stream",
     "text": [
      "microdish_20x_DIV7_B_pos43_1.tif\n"
     ]
    },
    {
     "name": "stderr",
     "output_type": "stream",
     "text": [
      "<ipython-input-4-783ae30aa263>:22: UserWarning: /data/hyun/Analysis/data/UB.VI.220/DIV7/images_background_corrected/microdish_20x_DIV7_B_pos43_1.tif is a low contrast image\n",
      "  io.imsave(output_path,image_corrected)\n"
     ]
    },
    {
     "name": "stdout",
     "output_type": "stream",
     "text": [
      "microdish_20x_DIV7_F_pos16_1.tif\n"
     ]
    },
    {
     "name": "stderr",
     "output_type": "stream",
     "text": [
      "<ipython-input-4-783ae30aa263>:22: UserWarning: /data/hyun/Analysis/data/UB.VI.220/DIV7/images_background_corrected/microdish_20x_DIV7_F_pos16_1.tif is a low contrast image\n",
      "  io.imsave(output_path,image_corrected)\n"
     ]
    },
    {
     "name": "stdout",
     "output_type": "stream",
     "text": [
      "microdish_20x_DIV7_G_pos3_1.tif\n"
     ]
    },
    {
     "name": "stderr",
     "output_type": "stream",
     "text": [
      "<ipython-input-4-783ae30aa263>:22: UserWarning: /data/hyun/Analysis/data/UB.VI.220/DIV7/images_background_corrected/microdish_20x_DIV7_G_pos3_1.tif is a low contrast image\n",
      "  io.imsave(output_path,image_corrected)\n"
     ]
    },
    {
     "name": "stdout",
     "output_type": "stream",
     "text": [
      "microdish_20x_DIV7_J_pos11_2.tif\n"
     ]
    },
    {
     "name": "stderr",
     "output_type": "stream",
     "text": [
      "<ipython-input-4-783ae30aa263>:22: UserWarning: /data/hyun/Analysis/data/UB.VI.220/DIV7/images_background_corrected/microdish_20x_DIV7_J_pos11_2.tif is a low contrast image\n",
      "  io.imsave(output_path,image_corrected)\n"
     ]
    },
    {
     "name": "stdout",
     "output_type": "stream",
     "text": [
      "microdish_20x_DIV7_E_pos6_1.tif\n"
     ]
    },
    {
     "name": "stderr",
     "output_type": "stream",
     "text": [
      "<ipython-input-4-783ae30aa263>:22: UserWarning: /data/hyun/Analysis/data/UB.VI.220/DIV7/images_background_corrected/microdish_20x_DIV7_E_pos6_1.tif is a low contrast image\n",
      "  io.imsave(output_path,image_corrected)\n"
     ]
    },
    {
     "name": "stdout",
     "output_type": "stream",
     "text": [
      "microdish_20x_DIV7_D_pos20_1.tif\n"
     ]
    },
    {
     "name": "stderr",
     "output_type": "stream",
     "text": [
      "<ipython-input-4-783ae30aa263>:22: UserWarning: /data/hyun/Analysis/data/UB.VI.220/DIV7/images_background_corrected/microdish_20x_DIV7_D_pos20_1.tif is a low contrast image\n",
      "  io.imsave(output_path,image_corrected)\n"
     ]
    },
    {
     "name": "stdout",
     "output_type": "stream",
     "text": [
      "microdish_20x_DIV7_F_pos1_1.tif\n"
     ]
    },
    {
     "name": "stderr",
     "output_type": "stream",
     "text": [
      "<ipython-input-4-783ae30aa263>:22: UserWarning: /data/hyun/Analysis/data/UB.VI.220/DIV7/images_background_corrected/microdish_20x_DIV7_F_pos1_1.tif is a low contrast image\n",
      "  io.imsave(output_path,image_corrected)\n"
     ]
    },
    {
     "name": "stdout",
     "output_type": "stream",
     "text": [
      "microdish_20x_DIV7_H_pos17_1.tif\n"
     ]
    },
    {
     "name": "stderr",
     "output_type": "stream",
     "text": [
      "<ipython-input-4-783ae30aa263>:22: UserWarning: /data/hyun/Analysis/data/UB.VI.220/DIV7/images_background_corrected/microdish_20x_DIV7_H_pos17_1.tif is a low contrast image\n",
      "  io.imsave(output_path,image_corrected)\n"
     ]
    },
    {
     "name": "stdout",
     "output_type": "stream",
     "text": [
      "microdish_20x_DIV7_L_pos5_1.tif\n"
     ]
    },
    {
     "name": "stderr",
     "output_type": "stream",
     "text": [
      "<ipython-input-4-783ae30aa263>:22: UserWarning: /data/hyun/Analysis/data/UB.VI.220/DIV7/images_background_corrected/microdish_20x_DIV7_L_pos5_1.tif is a low contrast image\n",
      "  io.imsave(output_path,image_corrected)\n",
      "/home/Hyun/.conda/envs/cp4/lib/python3.8/site-packages/skimage/filters/rank/generic.py:262: UserWarning: Bad rank filter performance is expected due to a large number of bins (1987), equivalent to an approximate bitdepth of 11.0.\n",
      "  image, footprint, out, mask, n_bins = _preprocess_input(image, footprint,\n"
     ]
    },
    {
     "name": "stdout",
     "output_type": "stream",
     "text": [
      "microdish_20x_DIV7_E_pos8_1.tif\n"
     ]
    },
    {
     "name": "stderr",
     "output_type": "stream",
     "text": [
      "<ipython-input-4-783ae30aa263>:22: UserWarning: /data/hyun/Analysis/data/UB.VI.220/DIV7/images_background_corrected/microdish_20x_DIV7_E_pos8_1.tif is a low contrast image\n",
      "  io.imsave(output_path,image_corrected)\n"
     ]
    },
    {
     "name": "stdout",
     "output_type": "stream",
     "text": [
      "microdish_20x_DIV7_A_pos26_1.tif\n"
     ]
    },
    {
     "name": "stderr",
     "output_type": "stream",
     "text": [
      "<ipython-input-4-783ae30aa263>:22: UserWarning: /data/hyun/Analysis/data/UB.VI.220/DIV7/images_background_corrected/microdish_20x_DIV7_A_pos26_1.tif is a low contrast image\n",
      "  io.imsave(output_path,image_corrected)\n"
     ]
    },
    {
     "name": "stdout",
     "output_type": "stream",
     "text": [
      "microdish_20x_DIV7_G_pos2_1.tif\n"
     ]
    },
    {
     "name": "stderr",
     "output_type": "stream",
     "text": [
      "<ipython-input-4-783ae30aa263>:22: UserWarning: /data/hyun/Analysis/data/UB.VI.220/DIV7/images_background_corrected/microdish_20x_DIV7_G_pos2_1.tif is a low contrast image\n",
      "  io.imsave(output_path,image_corrected)\n"
     ]
    },
    {
     "name": "stdout",
     "output_type": "stream",
     "text": [
      "microdish_20x_DIV7_D_pos8_1.tif\n"
     ]
    },
    {
     "name": "stderr",
     "output_type": "stream",
     "text": [
      "<ipython-input-4-783ae30aa263>:22: UserWarning: /data/hyun/Analysis/data/UB.VI.220/DIV7/images_background_corrected/microdish_20x_DIV7_D_pos8_1.tif is a low contrast image\n",
      "  io.imsave(output_path,image_corrected)\n"
     ]
    },
    {
     "name": "stdout",
     "output_type": "stream",
     "text": [
      "microdish_20x_DIV7_L_pos9_1.tif\n"
     ]
    },
    {
     "name": "stderr",
     "output_type": "stream",
     "text": [
      "<ipython-input-4-783ae30aa263>:22: UserWarning: /data/hyun/Analysis/data/UB.VI.220/DIV7/images_background_corrected/microdish_20x_DIV7_L_pos9_1.tif is a low contrast image\n",
      "  io.imsave(output_path,image_corrected)\n",
      "/home/Hyun/.conda/envs/cp4/lib/python3.8/site-packages/skimage/filters/rank/generic.py:262: UserWarning: Bad rank filter performance is expected due to a large number of bins (2499), equivalent to an approximate bitdepth of 11.3.\n",
      "  image, footprint, out, mask, n_bins = _preprocess_input(image, footprint,\n"
     ]
    },
    {
     "name": "stdout",
     "output_type": "stream",
     "text": [
      "microdish_20x_DIV7_A_pos31_1.tif\n"
     ]
    },
    {
     "name": "stderr",
     "output_type": "stream",
     "text": [
      "<ipython-input-4-783ae30aa263>:22: UserWarning: /data/hyun/Analysis/data/UB.VI.220/DIV7/images_background_corrected/microdish_20x_DIV7_A_pos31_1.tif is a low contrast image\n",
      "  io.imsave(output_path,image_corrected)\n"
     ]
    },
    {
     "name": "stdout",
     "output_type": "stream",
     "text": [
      "microdish_20x_DIV7_J_pos25_1.tif\n"
     ]
    },
    {
     "name": "stderr",
     "output_type": "stream",
     "text": [
      "<ipython-input-4-783ae30aa263>:22: UserWarning: /data/hyun/Analysis/data/UB.VI.220/DIV7/images_background_corrected/microdish_20x_DIV7_J_pos25_1.tif is a low contrast image\n",
      "  io.imsave(output_path,image_corrected)\n"
     ]
    },
    {
     "name": "stdout",
     "output_type": "stream",
     "text": [
      "microdish_20x_DIV7_D_pos33_1.tif\n"
     ]
    },
    {
     "name": "stderr",
     "output_type": "stream",
     "text": [
      "<ipython-input-4-783ae30aa263>:22: UserWarning: /data/hyun/Analysis/data/UB.VI.220/DIV7/images_background_corrected/microdish_20x_DIV7_D_pos33_1.tif is a low contrast image\n",
      "  io.imsave(output_path,image_corrected)\n"
     ]
    },
    {
     "name": "stdout",
     "output_type": "stream",
     "text": [
      "microdish_20x_DIV7_D_pos2_1.tif\n"
     ]
    },
    {
     "name": "stderr",
     "output_type": "stream",
     "text": [
      "<ipython-input-4-783ae30aa263>:22: UserWarning: /data/hyun/Analysis/data/UB.VI.220/DIV7/images_background_corrected/microdish_20x_DIV7_D_pos2_1.tif is a low contrast image\n",
      "  io.imsave(output_path,image_corrected)\n"
     ]
    },
    {
     "name": "stdout",
     "output_type": "stream",
     "text": [
      "microdish_20x_DIV7_K_pos0_1.tif\n"
     ]
    },
    {
     "name": "stderr",
     "output_type": "stream",
     "text": [
      "<ipython-input-4-783ae30aa263>:22: UserWarning: /data/hyun/Analysis/data/UB.VI.220/DIV7/images_background_corrected/microdish_20x_DIV7_K_pos0_1.tif is a low contrast image\n",
      "  io.imsave(output_path,image_corrected)\n"
     ]
    },
    {
     "name": "stdout",
     "output_type": "stream",
     "text": [
      "microdish_20x_DIV7_D_pos36_1.tif\n"
     ]
    },
    {
     "name": "stderr",
     "output_type": "stream",
     "text": [
      "<ipython-input-4-783ae30aa263>:22: UserWarning: /data/hyun/Analysis/data/UB.VI.220/DIV7/images_background_corrected/microdish_20x_DIV7_D_pos36_1.tif is a low contrast image\n",
      "  io.imsave(output_path,image_corrected)\n"
     ]
    },
    {
     "name": "stdout",
     "output_type": "stream",
     "text": [
      "microdish_20x_DIV7_D_pos16_1.tif\n"
     ]
    },
    {
     "name": "stderr",
     "output_type": "stream",
     "text": [
      "<ipython-input-4-783ae30aa263>:22: UserWarning: /data/hyun/Analysis/data/UB.VI.220/DIV7/images_background_corrected/microdish_20x_DIV7_D_pos16_1.tif is a low contrast image\n",
      "  io.imsave(output_path,image_corrected)\n"
     ]
    },
    {
     "name": "stdout",
     "output_type": "stream",
     "text": [
      "microdish_20x_DIV7_L_pos27_1.tif\n"
     ]
    },
    {
     "name": "stderr",
     "output_type": "stream",
     "text": [
      "<ipython-input-4-783ae30aa263>:22: UserWarning: /data/hyun/Analysis/data/UB.VI.220/DIV7/images_background_corrected/microdish_20x_DIV7_L_pos27_1.tif is a low contrast image\n",
      "  io.imsave(output_path,image_corrected)\n"
     ]
    },
    {
     "name": "stdout",
     "output_type": "stream",
     "text": [
      "microdish_20x_DIV7_K_pos4_1.tif\n"
     ]
    },
    {
     "name": "stderr",
     "output_type": "stream",
     "text": [
      "<ipython-input-4-783ae30aa263>:22: UserWarning: /data/hyun/Analysis/data/UB.VI.220/DIV7/images_background_corrected/microdish_20x_DIV7_K_pos4_1.tif is a low contrast image\n",
      "  io.imsave(output_path,image_corrected)\n"
     ]
    },
    {
     "name": "stdout",
     "output_type": "stream",
     "text": [
      "microdish_20x_DIV7_D_pos4_1.tif\n"
     ]
    },
    {
     "name": "stderr",
     "output_type": "stream",
     "text": [
      "<ipython-input-4-783ae30aa263>:22: UserWarning: /data/hyun/Analysis/data/UB.VI.220/DIV7/images_background_corrected/microdish_20x_DIV7_D_pos4_1.tif is a low contrast image\n",
      "  io.imsave(output_path,image_corrected)\n"
     ]
    },
    {
     "name": "stdout",
     "output_type": "stream",
     "text": [
      "microdish_20x_DIV7_I_pos1_1.tif\n"
     ]
    },
    {
     "name": "stderr",
     "output_type": "stream",
     "text": [
      "<ipython-input-4-783ae30aa263>:22: UserWarning: /data/hyun/Analysis/data/UB.VI.220/DIV7/images_background_corrected/microdish_20x_DIV7_I_pos1_1.tif is a low contrast image\n",
      "  io.imsave(output_path,image_corrected)\n"
     ]
    },
    {
     "name": "stdout",
     "output_type": "stream",
     "text": [
      "microdish_20x_DIV7_A_pos22_1.tif\n"
     ]
    },
    {
     "name": "stderr",
     "output_type": "stream",
     "text": [
      "<ipython-input-4-783ae30aa263>:22: UserWarning: /data/hyun/Analysis/data/UB.VI.220/DIV7/images_background_corrected/microdish_20x_DIV7_A_pos22_1.tif is a low contrast image\n",
      "  io.imsave(output_path,image_corrected)\n"
     ]
    },
    {
     "name": "stdout",
     "output_type": "stream",
     "text": [
      "microdish_20x_DIV7_L_pos2_1.tif\n"
     ]
    },
    {
     "name": "stderr",
     "output_type": "stream",
     "text": [
      "<ipython-input-4-783ae30aa263>:22: UserWarning: /data/hyun/Analysis/data/UB.VI.220/DIV7/images_background_corrected/microdish_20x_DIV7_L_pos2_1.tif is a low contrast image\n",
      "  io.imsave(output_path,image_corrected)\n"
     ]
    },
    {
     "name": "stdout",
     "output_type": "stream",
     "text": [
      "microdish_20x_DIV7_D_pos9_1.tif\n"
     ]
    },
    {
     "name": "stderr",
     "output_type": "stream",
     "text": [
      "<ipython-input-4-783ae30aa263>:22: UserWarning: /data/hyun/Analysis/data/UB.VI.220/DIV7/images_background_corrected/microdish_20x_DIV7_D_pos9_1.tif is a low contrast image\n",
      "  io.imsave(output_path,image_corrected)\n"
     ]
    },
    {
     "name": "stdout",
     "output_type": "stream",
     "text": [
      "microdish_20x_DIV7_L_pos14_1.tif\n"
     ]
    },
    {
     "name": "stderr",
     "output_type": "stream",
     "text": [
      "<ipython-input-4-783ae30aa263>:22: UserWarning: /data/hyun/Analysis/data/UB.VI.220/DIV7/images_background_corrected/microdish_20x_DIV7_L_pos14_1.tif is a low contrast image\n",
      "  io.imsave(output_path,image_corrected)\n"
     ]
    },
    {
     "name": "stdout",
     "output_type": "stream",
     "text": [
      "microdish_20x_DIV7_I_pos4_1.tif\n"
     ]
    },
    {
     "name": "stderr",
     "output_type": "stream",
     "text": [
      "<ipython-input-4-783ae30aa263>:22: UserWarning: /data/hyun/Analysis/data/UB.VI.220/DIV7/images_background_corrected/microdish_20x_DIV7_I_pos4_1.tif is a low contrast image\n",
      "  io.imsave(output_path,image_corrected)\n"
     ]
    },
    {
     "name": "stdout",
     "output_type": "stream",
     "text": [
      "microdish_20x_DIV7_B_pos38_1.tif\n"
     ]
    },
    {
     "name": "stderr",
     "output_type": "stream",
     "text": [
      "<ipython-input-4-783ae30aa263>:22: UserWarning: /data/hyun/Analysis/data/UB.VI.220/DIV7/images_background_corrected/microdish_20x_DIV7_B_pos38_1.tif is a low contrast image\n",
      "  io.imsave(output_path,image_corrected)\n"
     ]
    },
    {
     "name": "stdout",
     "output_type": "stream",
     "text": [
      "microdish_20x_DIV7_B_pos19_1.tif\n"
     ]
    },
    {
     "name": "stderr",
     "output_type": "stream",
     "text": [
      "<ipython-input-4-783ae30aa263>:22: UserWarning: /data/hyun/Analysis/data/UB.VI.220/DIV7/images_background_corrected/microdish_20x_DIV7_B_pos19_1.tif is a low contrast image\n",
      "  io.imsave(output_path,image_corrected)\n"
     ]
    },
    {
     "name": "stdout",
     "output_type": "stream",
     "text": [
      "microdish_20x_DIV7_H_pos9_1.tif\n"
     ]
    },
    {
     "name": "stderr",
     "output_type": "stream",
     "text": [
      "<ipython-input-4-783ae30aa263>:22: UserWarning: /data/hyun/Analysis/data/UB.VI.220/DIV7/images_background_corrected/microdish_20x_DIV7_H_pos9_1.tif is a low contrast image\n",
      "  io.imsave(output_path,image_corrected)\n"
     ]
    },
    {
     "name": "stdout",
     "output_type": "stream",
     "text": [
      "microdish_20x_DIV7_G_pos5_1.tif\n"
     ]
    },
    {
     "name": "stderr",
     "output_type": "stream",
     "text": [
      "<ipython-input-4-783ae30aa263>:22: UserWarning: /data/hyun/Analysis/data/UB.VI.220/DIV7/images_background_corrected/microdish_20x_DIV7_G_pos5_1.tif is a low contrast image\n",
      "  io.imsave(output_path,image_corrected)\n"
     ]
    },
    {
     "name": "stdout",
     "output_type": "stream",
     "text": [
      "microdish_20x_DIV7_D_pos21_1.tif\n"
     ]
    },
    {
     "name": "stderr",
     "output_type": "stream",
     "text": [
      "<ipython-input-4-783ae30aa263>:22: UserWarning: /data/hyun/Analysis/data/UB.VI.220/DIV7/images_background_corrected/microdish_20x_DIV7_D_pos21_1.tif is a low contrast image\n",
      "  io.imsave(output_path,image_corrected)\n"
     ]
    },
    {
     "name": "stdout",
     "output_type": "stream",
     "text": [
      "microdish_20x_DIV7_L_pos22_1.tif\n"
     ]
    },
    {
     "name": "stderr",
     "output_type": "stream",
     "text": [
      "<ipython-input-4-783ae30aa263>:22: UserWarning: /data/hyun/Analysis/data/UB.VI.220/DIV7/images_background_corrected/microdish_20x_DIV7_L_pos22_1.tif is a low contrast image\n",
      "  io.imsave(output_path,image_corrected)\n"
     ]
    },
    {
     "name": "stdout",
     "output_type": "stream",
     "text": [
      "microdish_20x_DIV7_A_pos40_1.tif\n"
     ]
    },
    {
     "name": "stderr",
     "output_type": "stream",
     "text": [
      "<ipython-input-4-783ae30aa263>:22: UserWarning: /data/hyun/Analysis/data/UB.VI.220/DIV7/images_background_corrected/microdish_20x_DIV7_A_pos40_1.tif is a low contrast image\n",
      "  io.imsave(output_path,image_corrected)\n"
     ]
    },
    {
     "name": "stdout",
     "output_type": "stream",
     "text": [
      "microdish_20x_DIV7_B_pos36_1.tif\n"
     ]
    },
    {
     "name": "stderr",
     "output_type": "stream",
     "text": [
      "<ipython-input-4-783ae30aa263>:22: UserWarning: /data/hyun/Analysis/data/UB.VI.220/DIV7/images_background_corrected/microdish_20x_DIV7_B_pos36_1.tif is a low contrast image\n",
      "  io.imsave(output_path,image_corrected)\n",
      "/home/Hyun/.conda/envs/cp4/lib/python3.8/site-packages/skimage/filters/rank/generic.py:262: UserWarning: Bad rank filter performance is expected due to a large number of bins (2967), equivalent to an approximate bitdepth of 11.5.\n",
      "  image, footprint, out, mask, n_bins = _preprocess_input(image, footprint,\n"
     ]
    },
    {
     "name": "stdout",
     "output_type": "stream",
     "text": [
      "microdish_20x_DIV7_A_pos19_1.tif\n"
     ]
    },
    {
     "name": "stderr",
     "output_type": "stream",
     "text": [
      "<ipython-input-4-783ae30aa263>:22: UserWarning: /data/hyun/Analysis/data/UB.VI.220/DIV7/images_background_corrected/microdish_20x_DIV7_A_pos19_1.tif is a low contrast image\n",
      "  io.imsave(output_path,image_corrected)\n"
     ]
    },
    {
     "name": "stdout",
     "output_type": "stream",
     "text": [
      "microdish_20x_DIV7_B_pos13_1.tif\n"
     ]
    },
    {
     "name": "stderr",
     "output_type": "stream",
     "text": [
      "<ipython-input-4-783ae30aa263>:22: UserWarning: /data/hyun/Analysis/data/UB.VI.220/DIV7/images_background_corrected/microdish_20x_DIV7_B_pos13_1.tif is a low contrast image\n",
      "  io.imsave(output_path,image_corrected)\n"
     ]
    },
    {
     "name": "stdout",
     "output_type": "stream",
     "text": [
      "microdish_20x_DIV7_B_pos37_1.tif\n"
     ]
    },
    {
     "name": "stderr",
     "output_type": "stream",
     "text": [
      "<ipython-input-4-783ae30aa263>:22: UserWarning: /data/hyun/Analysis/data/UB.VI.220/DIV7/images_background_corrected/microdish_20x_DIV7_B_pos37_1.tif is a low contrast image\n",
      "  io.imsave(output_path,image_corrected)\n"
     ]
    },
    {
     "name": "stdout",
     "output_type": "stream",
     "text": [
      "microdish_20x_DIV7_L_pos15_1.tif\n"
     ]
    },
    {
     "name": "stderr",
     "output_type": "stream",
     "text": [
      "<ipython-input-4-783ae30aa263>:22: UserWarning: /data/hyun/Analysis/data/UB.VI.220/DIV7/images_background_corrected/microdish_20x_DIV7_L_pos15_1.tif is a low contrast image\n",
      "  io.imsave(output_path,image_corrected)\n",
      "/home/Hyun/.conda/envs/cp4/lib/python3.8/site-packages/skimage/filters/rank/generic.py:262: UserWarning: Bad rank filter performance is expected due to a large number of bins (2744), equivalent to an approximate bitdepth of 11.4.\n",
      "  image, footprint, out, mask, n_bins = _preprocess_input(image, footprint,\n"
     ]
    },
    {
     "name": "stdout",
     "output_type": "stream",
     "text": [
      "microdish_20x_DIV7_H_pos14_1.tif\n"
     ]
    },
    {
     "name": "stderr",
     "output_type": "stream",
     "text": [
      "<ipython-input-4-783ae30aa263>:22: UserWarning: /data/hyun/Analysis/data/UB.VI.220/DIV7/images_background_corrected/microdish_20x_DIV7_H_pos14_1.tif is a low contrast image\n",
      "  io.imsave(output_path,image_corrected)\n"
     ]
    },
    {
     "name": "stdout",
     "output_type": "stream",
     "text": [
      "microdish_20x_DIV7_H_pos0_1.tif\n"
     ]
    },
    {
     "name": "stderr",
     "output_type": "stream",
     "text": [
      "<ipython-input-4-783ae30aa263>:22: UserWarning: /data/hyun/Analysis/data/UB.VI.220/DIV7/images_background_corrected/microdish_20x_DIV7_H_pos0_1.tif is a low contrast image\n",
      "  io.imsave(output_path,image_corrected)\n"
     ]
    },
    {
     "name": "stdout",
     "output_type": "stream",
     "text": [
      "microdish_20x_DIV7_I_pos7_1.tif\n"
     ]
    },
    {
     "name": "stderr",
     "output_type": "stream",
     "text": [
      "<ipython-input-4-783ae30aa263>:22: UserWarning: /data/hyun/Analysis/data/UB.VI.220/DIV7/images_background_corrected/microdish_20x_DIV7_I_pos7_1.tif is a low contrast image\n",
      "  io.imsave(output_path,image_corrected)\n"
     ]
    },
    {
     "name": "stdout",
     "output_type": "stream",
     "text": [
      "microdish_20x_DIV7_I_pos16_1.tif\n"
     ]
    },
    {
     "name": "stderr",
     "output_type": "stream",
     "text": [
      "<ipython-input-4-783ae30aa263>:22: UserWarning: /data/hyun/Analysis/data/UB.VI.220/DIV7/images_background_corrected/microdish_20x_DIV7_I_pos16_1.tif is a low contrast image\n",
      "  io.imsave(output_path,image_corrected)\n"
     ]
    },
    {
     "name": "stdout",
     "output_type": "stream",
     "text": [
      "microdish_20x_DIV7_J_pos21_1.tif\n"
     ]
    },
    {
     "name": "stderr",
     "output_type": "stream",
     "text": [
      "<ipython-input-4-783ae30aa263>:22: UserWarning: /data/hyun/Analysis/data/UB.VI.220/DIV7/images_background_corrected/microdish_20x_DIV7_J_pos21_1.tif is a low contrast image\n",
      "  io.imsave(output_path,image_corrected)\n"
     ]
    },
    {
     "name": "stdout",
     "output_type": "stream",
     "text": [
      "microdish_20x_DIV7_A_pos11_1.tif\n"
     ]
    },
    {
     "name": "stderr",
     "output_type": "stream",
     "text": [
      "<ipython-input-4-783ae30aa263>:22: UserWarning: /data/hyun/Analysis/data/UB.VI.220/DIV7/images_background_corrected/microdish_20x_DIV7_A_pos11_1.tif is a low contrast image\n",
      "  io.imsave(output_path,image_corrected)\n"
     ]
    },
    {
     "name": "stdout",
     "output_type": "stream",
     "text": [
      "microdish_20x_DIV7_G_pos7_1.tif\n"
     ]
    },
    {
     "name": "stderr",
     "output_type": "stream",
     "text": [
      "<ipython-input-4-783ae30aa263>:22: UserWarning: /data/hyun/Analysis/data/UB.VI.220/DIV7/images_background_corrected/microdish_20x_DIV7_G_pos7_1.tif is a low contrast image\n",
      "  io.imsave(output_path,image_corrected)\n"
     ]
    },
    {
     "name": "stdout",
     "output_type": "stream",
     "text": [
      "microdish_20x_DIV7_A_pos13_1.tif\n"
     ]
    },
    {
     "name": "stderr",
     "output_type": "stream",
     "text": [
      "<ipython-input-4-783ae30aa263>:22: UserWarning: /data/hyun/Analysis/data/UB.VI.220/DIV7/images_background_corrected/microdish_20x_DIV7_A_pos13_1.tif is a low contrast image\n",
      "  io.imsave(output_path,image_corrected)\n",
      "/home/Hyun/.conda/envs/cp4/lib/python3.8/site-packages/skimage/filters/rank/generic.py:262: UserWarning: Bad rank filter performance is expected due to a large number of bins (2418), equivalent to an approximate bitdepth of 11.2.\n",
      "  image, footprint, out, mask, n_bins = _preprocess_input(image, footprint,\n"
     ]
    },
    {
     "name": "stdout",
     "output_type": "stream",
     "text": [
      "microdish_20x_DIV7_E_pos3_1.tif\n"
     ]
    },
    {
     "name": "stderr",
     "output_type": "stream",
     "text": [
      "<ipython-input-4-783ae30aa263>:22: UserWarning: /data/hyun/Analysis/data/UB.VI.220/DIV7/images_background_corrected/microdish_20x_DIV7_E_pos3_1.tif is a low contrast image\n",
      "  io.imsave(output_path,image_corrected)\n"
     ]
    },
    {
     "name": "stdout",
     "output_type": "stream",
     "text": [
      "microdish_20x_DIV7_E_pos11_1.tif\n"
     ]
    },
    {
     "name": "stderr",
     "output_type": "stream",
     "text": [
      "<ipython-input-4-783ae30aa263>:22: UserWarning: /data/hyun/Analysis/data/UB.VI.220/DIV7/images_background_corrected/microdish_20x_DIV7_E_pos11_1.tif is a low contrast image\n",
      "  io.imsave(output_path,image_corrected)\n"
     ]
    },
    {
     "name": "stdout",
     "output_type": "stream",
     "text": [
      "microdish_20x_DIV7_H_pos6_1.tif\n"
     ]
    },
    {
     "name": "stderr",
     "output_type": "stream",
     "text": [
      "<ipython-input-4-783ae30aa263>:22: UserWarning: /data/hyun/Analysis/data/UB.VI.220/DIV7/images_background_corrected/microdish_20x_DIV7_H_pos6_1.tif is a low contrast image\n",
      "  io.imsave(output_path,image_corrected)\n"
     ]
    },
    {
     "name": "stdout",
     "output_type": "stream",
     "text": [
      "microdish_20x_DIV7_J_pos23_1.tif\n"
     ]
    },
    {
     "name": "stderr",
     "output_type": "stream",
     "text": [
      "<ipython-input-4-783ae30aa263>:22: UserWarning: /data/hyun/Analysis/data/UB.VI.220/DIV7/images_background_corrected/microdish_20x_DIV7_J_pos23_1.tif is a low contrast image\n",
      "  io.imsave(output_path,image_corrected)\n"
     ]
    },
    {
     "name": "stdout",
     "output_type": "stream",
     "text": [
      "microdish_20x_DIV7_B_pos9_1.tif\n"
     ]
    },
    {
     "name": "stderr",
     "output_type": "stream",
     "text": [
      "<ipython-input-4-783ae30aa263>:22: UserWarning: /data/hyun/Analysis/data/UB.VI.220/DIV7/images_background_corrected/microdish_20x_DIV7_B_pos9_1.tif is a low contrast image\n",
      "  io.imsave(output_path,image_corrected)\n"
     ]
    },
    {
     "name": "stdout",
     "output_type": "stream",
     "text": [
      "microdish_20x_DIV7_J_pos24_1.tif\n"
     ]
    },
    {
     "name": "stderr",
     "output_type": "stream",
     "text": [
      "<ipython-input-4-783ae30aa263>:22: UserWarning: /data/hyun/Analysis/data/UB.VI.220/DIV7/images_background_corrected/microdish_20x_DIV7_J_pos24_1.tif is a low contrast image\n",
      "  io.imsave(output_path,image_corrected)\n"
     ]
    },
    {
     "name": "stdout",
     "output_type": "stream",
     "text": [
      "microdish_20x_DIV7_K_pos8_1.tif\n"
     ]
    },
    {
     "name": "stderr",
     "output_type": "stream",
     "text": [
      "<ipython-input-4-783ae30aa263>:22: UserWarning: /data/hyun/Analysis/data/UB.VI.220/DIV7/images_background_corrected/microdish_20x_DIV7_K_pos8_1.tif is a low contrast image\n",
      "  io.imsave(output_path,image_corrected)\n"
     ]
    },
    {
     "name": "stdout",
     "output_type": "stream",
     "text": [
      "microdish_20x_DIV7_K_pos13_1.tif\n"
     ]
    },
    {
     "name": "stderr",
     "output_type": "stream",
     "text": [
      "<ipython-input-4-783ae30aa263>:22: UserWarning: /data/hyun/Analysis/data/UB.VI.220/DIV7/images_background_corrected/microdish_20x_DIV7_K_pos13_1.tif is a low contrast image\n",
      "  io.imsave(output_path,image_corrected)\n",
      "/home/Hyun/.conda/envs/cp4/lib/python3.8/site-packages/skimage/filters/rank/generic.py:262: UserWarning: Bad rank filter performance is expected due to a large number of bins (2361), equivalent to an approximate bitdepth of 11.2.\n",
      "  image, footprint, out, mask, n_bins = _preprocess_input(image, footprint,\n"
     ]
    },
    {
     "name": "stdout",
     "output_type": "stream",
     "text": [
      "microdish_20x_DIV7_A_pos32_1.tif\n"
     ]
    },
    {
     "name": "stderr",
     "output_type": "stream",
     "text": [
      "<ipython-input-4-783ae30aa263>:22: UserWarning: /data/hyun/Analysis/data/UB.VI.220/DIV7/images_background_corrected/microdish_20x_DIV7_A_pos32_1.tif is a low contrast image\n",
      "  io.imsave(output_path,image_corrected)\n",
      "/home/Hyun/.conda/envs/cp4/lib/python3.8/site-packages/skimage/filters/rank/generic.py:262: UserWarning: Bad rank filter performance is expected due to a large number of bins (1891), equivalent to an approximate bitdepth of 10.9.\n",
      "  image, footprint, out, mask, n_bins = _preprocess_input(image, footprint,\n"
     ]
    },
    {
     "name": "stdout",
     "output_type": "stream",
     "text": [
      "microdish_20x_DIV7_F_pos10_1.tif\n"
     ]
    },
    {
     "name": "stderr",
     "output_type": "stream",
     "text": [
      "<ipython-input-4-783ae30aa263>:22: UserWarning: /data/hyun/Analysis/data/UB.VI.220/DIV7/images_background_corrected/microdish_20x_DIV7_F_pos10_1.tif is a low contrast image\n",
      "  io.imsave(output_path,image_corrected)\n"
     ]
    },
    {
     "name": "stdout",
     "output_type": "stream",
     "text": [
      "microdish_20x_DIV7_F_pos12_1.tif\n"
     ]
    },
    {
     "name": "stderr",
     "output_type": "stream",
     "text": [
      "<ipython-input-4-783ae30aa263>:22: UserWarning: /data/hyun/Analysis/data/UB.VI.220/DIV7/images_background_corrected/microdish_20x_DIV7_F_pos12_1.tif is a low contrast image\n",
      "  io.imsave(output_path,image_corrected)\n",
      "/home/Hyun/.conda/envs/cp4/lib/python3.8/site-packages/skimage/filters/rank/generic.py:262: UserWarning: Bad rank filter performance is expected due to a large number of bins (2134), equivalent to an approximate bitdepth of 11.1.\n",
      "  image, footprint, out, mask, n_bins = _preprocess_input(image, footprint,\n"
     ]
    },
    {
     "name": "stdout",
     "output_type": "stream",
     "text": [
      "microdish_20x_DIV7_F_pos11_1.tif\n"
     ]
    },
    {
     "name": "stderr",
     "output_type": "stream",
     "text": [
      "<ipython-input-4-783ae30aa263>:22: UserWarning: /data/hyun/Analysis/data/UB.VI.220/DIV7/images_background_corrected/microdish_20x_DIV7_F_pos11_1.tif is a low contrast image\n",
      "  io.imsave(output_path,image_corrected)\n"
     ]
    },
    {
     "name": "stdout",
     "output_type": "stream",
     "text": [
      "microdish_20x_DIV7_G_pos6_1.tif\n"
     ]
    },
    {
     "name": "stderr",
     "output_type": "stream",
     "text": [
      "<ipython-input-4-783ae30aa263>:22: UserWarning: /data/hyun/Analysis/data/UB.VI.220/DIV7/images_background_corrected/microdish_20x_DIV7_G_pos6_1.tif is a low contrast image\n",
      "  io.imsave(output_path,image_corrected)\n"
     ]
    },
    {
     "name": "stdout",
     "output_type": "stream",
     "text": [
      "microdish_20x_DIV7_L_pos8_1.tif\n"
     ]
    },
    {
     "name": "stderr",
     "output_type": "stream",
     "text": [
      "<ipython-input-4-783ae30aa263>:22: UserWarning: /data/hyun/Analysis/data/UB.VI.220/DIV7/images_background_corrected/microdish_20x_DIV7_L_pos8_1.tif is a low contrast image\n",
      "  io.imsave(output_path,image_corrected)\n"
     ]
    },
    {
     "name": "stdout",
     "output_type": "stream",
     "text": [
      "microdish_20x_DIV7_F_pos2_1.tif\n"
     ]
    },
    {
     "name": "stderr",
     "output_type": "stream",
     "text": [
      "<ipython-input-4-783ae30aa263>:22: UserWarning: /data/hyun/Analysis/data/UB.VI.220/DIV7/images_background_corrected/microdish_20x_DIV7_F_pos2_1.tif is a low contrast image\n",
      "  io.imsave(output_path,image_corrected)\n"
     ]
    },
    {
     "name": "stdout",
     "output_type": "stream",
     "text": [
      "microdish_20x_DIV7_D_pos40_1.tif\n"
     ]
    },
    {
     "name": "stderr",
     "output_type": "stream",
     "text": [
      "<ipython-input-4-783ae30aa263>:22: UserWarning: /data/hyun/Analysis/data/UB.VI.220/DIV7/images_background_corrected/microdish_20x_DIV7_D_pos40_1.tif is a low contrast image\n",
      "  io.imsave(output_path,image_corrected)\n"
     ]
    },
    {
     "name": "stdout",
     "output_type": "stream",
     "text": [
      "microdish_20x_DIV7_E_pos2_1.tif\n"
     ]
    },
    {
     "name": "stderr",
     "output_type": "stream",
     "text": [
      "<ipython-input-4-783ae30aa263>:22: UserWarning: /data/hyun/Analysis/data/UB.VI.220/DIV7/images_background_corrected/microdish_20x_DIV7_E_pos2_1.tif is a low contrast image\n",
      "  io.imsave(output_path,image_corrected)\n"
     ]
    },
    {
     "name": "stdout",
     "output_type": "stream",
     "text": [
      "microdish_20x_DIV7_G_pos24_1.tif\n"
     ]
    },
    {
     "name": "stderr",
     "output_type": "stream",
     "text": [
      "<ipython-input-4-783ae30aa263>:22: UserWarning: /data/hyun/Analysis/data/UB.VI.220/DIV7/images_background_corrected/microdish_20x_DIV7_G_pos24_1.tif is a low contrast image\n",
      "  io.imsave(output_path,image_corrected)\n"
     ]
    },
    {
     "name": "stdout",
     "output_type": "stream",
     "text": [
      "microdish_20x_DIV7_F_pos4_1.tif\n"
     ]
    },
    {
     "name": "stderr",
     "output_type": "stream",
     "text": [
      "<ipython-input-4-783ae30aa263>:22: UserWarning: /data/hyun/Analysis/data/UB.VI.220/DIV7/images_background_corrected/microdish_20x_DIV7_F_pos4_1.tif is a low contrast image\n",
      "  io.imsave(output_path,image_corrected)\n"
     ]
    },
    {
     "name": "stdout",
     "output_type": "stream",
     "text": [
      "microdish_20x_DIV7_J_pos2_1.tif\n"
     ]
    },
    {
     "name": "stderr",
     "output_type": "stream",
     "text": [
      "<ipython-input-4-783ae30aa263>:22: UserWarning: /data/hyun/Analysis/data/UB.VI.220/DIV7/images_background_corrected/microdish_20x_DIV7_J_pos2_1.tif is a low contrast image\n",
      "  io.imsave(output_path,image_corrected)\n"
     ]
    },
    {
     "name": "stdout",
     "output_type": "stream",
     "text": [
      "microdish_20x_DIV7_A_pos28_1.tif\n"
     ]
    },
    {
     "name": "stderr",
     "output_type": "stream",
     "text": [
      "<ipython-input-4-783ae30aa263>:22: UserWarning: /data/hyun/Analysis/data/UB.VI.220/DIV7/images_background_corrected/microdish_20x_DIV7_A_pos28_1.tif is a low contrast image\n",
      "  io.imsave(output_path,image_corrected)\n"
     ]
    },
    {
     "name": "stdout",
     "output_type": "stream",
     "text": [
      "microdish_20x_DIV7_L_pos6_1.tif\n"
     ]
    },
    {
     "name": "stderr",
     "output_type": "stream",
     "text": [
      "<ipython-input-4-783ae30aa263>:22: UserWarning: /data/hyun/Analysis/data/UB.VI.220/DIV7/images_background_corrected/microdish_20x_DIV7_L_pos6_1.tif is a low contrast image\n",
      "  io.imsave(output_path,image_corrected)\n"
     ]
    },
    {
     "name": "stdout",
     "output_type": "stream",
     "text": [
      "microdish_20x_DIV7_B_pos46_1.tif\n"
     ]
    },
    {
     "name": "stderr",
     "output_type": "stream",
     "text": [
      "<ipython-input-4-783ae30aa263>:22: UserWarning: /data/hyun/Analysis/data/UB.VI.220/DIV7/images_background_corrected/microdish_20x_DIV7_B_pos46_1.tif is a low contrast image\n",
      "  io.imsave(output_path,image_corrected)\n"
     ]
    },
    {
     "name": "stdout",
     "output_type": "stream",
     "text": [
      "microdish_20x_DIV7_G_pos19_1.tif\n"
     ]
    },
    {
     "name": "stderr",
     "output_type": "stream",
     "text": [
      "<ipython-input-4-783ae30aa263>:22: UserWarning: /data/hyun/Analysis/data/UB.VI.220/DIV7/images_background_corrected/microdish_20x_DIV7_G_pos19_1.tif is a low contrast image\n",
      "  io.imsave(output_path,image_corrected)\n"
     ]
    },
    {
     "name": "stdout",
     "output_type": "stream",
     "text": [
      "microdish_20x_DIV7_I_pos2_1.tif\n"
     ]
    },
    {
     "name": "stderr",
     "output_type": "stream",
     "text": [
      "<ipython-input-4-783ae30aa263>:22: UserWarning: /data/hyun/Analysis/data/UB.VI.220/DIV7/images_background_corrected/microdish_20x_DIV7_I_pos2_1.tif is a low contrast image\n",
      "  io.imsave(output_path,image_corrected)\n"
     ]
    },
    {
     "name": "stdout",
     "output_type": "stream",
     "text": [
      "microdish_20x_DIV7_B_pos14_1.tif\n"
     ]
    },
    {
     "name": "stderr",
     "output_type": "stream",
     "text": [
      "<ipython-input-4-783ae30aa263>:22: UserWarning: /data/hyun/Analysis/data/UB.VI.220/DIV7/images_background_corrected/microdish_20x_DIV7_B_pos14_1.tif is a low contrast image\n",
      "  io.imsave(output_path,image_corrected)\n",
      "/home/Hyun/.conda/envs/cp4/lib/python3.8/site-packages/skimage/filters/rank/generic.py:262: UserWarning: Bad rank filter performance is expected due to a large number of bins (2235), equivalent to an approximate bitdepth of 11.1.\n",
      "  image, footprint, out, mask, n_bins = _preprocess_input(image, footprint,\n"
     ]
    },
    {
     "name": "stdout",
     "output_type": "stream",
     "text": [
      "microdish_20x_DIV7_E_pos20_1.tif\n"
     ]
    },
    {
     "name": "stderr",
     "output_type": "stream",
     "text": [
      "<ipython-input-4-783ae30aa263>:22: UserWarning: /data/hyun/Analysis/data/UB.VI.220/DIV7/images_background_corrected/microdish_20x_DIV7_E_pos20_1.tif is a low contrast image\n",
      "  io.imsave(output_path,image_corrected)\n"
     ]
    },
    {
     "name": "stdout",
     "output_type": "stream",
     "text": [
      "microdish_20x_DIV7_L_pos21_1.tif\n"
     ]
    },
    {
     "name": "stderr",
     "output_type": "stream",
     "text": [
      "<ipython-input-4-783ae30aa263>:22: UserWarning: /data/hyun/Analysis/data/UB.VI.220/DIV7/images_background_corrected/microdish_20x_DIV7_L_pos21_1.tif is a low contrast image\n",
      "  io.imsave(output_path,image_corrected)\n"
     ]
    },
    {
     "name": "stdout",
     "output_type": "stream",
     "text": [
      "microdish_20x_DIV7_A_pos47_1.tif\n"
     ]
    },
    {
     "name": "stderr",
     "output_type": "stream",
     "text": [
      "<ipython-input-4-783ae30aa263>:22: UserWarning: /data/hyun/Analysis/data/UB.VI.220/DIV7/images_background_corrected/microdish_20x_DIV7_A_pos47_1.tif is a low contrast image\n",
      "  io.imsave(output_path,image_corrected)\n"
     ]
    },
    {
     "name": "stdout",
     "output_type": "stream",
     "text": [
      "microdish_20x_DIV7_I_pos18_1.tif\n"
     ]
    },
    {
     "name": "stderr",
     "output_type": "stream",
     "text": [
      "<ipython-input-4-783ae30aa263>:22: UserWarning: /data/hyun/Analysis/data/UB.VI.220/DIV7/images_background_corrected/microdish_20x_DIV7_I_pos18_1.tif is a low contrast image\n",
      "  io.imsave(output_path,image_corrected)\n"
     ]
    },
    {
     "name": "stdout",
     "output_type": "stream",
     "text": [
      "microdish_20x_DIV7_B_pos2_1.tif\n"
     ]
    },
    {
     "name": "stderr",
     "output_type": "stream",
     "text": [
      "<ipython-input-4-783ae30aa263>:22: UserWarning: /data/hyun/Analysis/data/UB.VI.220/DIV7/images_background_corrected/microdish_20x_DIV7_B_pos2_1.tif is a low contrast image\n",
      "  io.imsave(output_path,image_corrected)\n"
     ]
    },
    {
     "name": "stdout",
     "output_type": "stream",
     "text": [
      "microdish_20x_DIV7_B_pos1_1.tif\n"
     ]
    },
    {
     "name": "stderr",
     "output_type": "stream",
     "text": [
      "<ipython-input-4-783ae30aa263>:22: UserWarning: /data/hyun/Analysis/data/UB.VI.220/DIV7/images_background_corrected/microdish_20x_DIV7_B_pos1_1.tif is a low contrast image\n",
      "  io.imsave(output_path,image_corrected)\n"
     ]
    },
    {
     "name": "stdout",
     "output_type": "stream",
     "text": [
      "microdish_20x_DIV7_I_pos21_1.tif\n"
     ]
    },
    {
     "name": "stderr",
     "output_type": "stream",
     "text": [
      "<ipython-input-4-783ae30aa263>:22: UserWarning: /data/hyun/Analysis/data/UB.VI.220/DIV7/images_background_corrected/microdish_20x_DIV7_I_pos21_1.tif is a low contrast image\n",
      "  io.imsave(output_path,image_corrected)\n"
     ]
    },
    {
     "name": "stdout",
     "output_type": "stream",
     "text": [
      "microdish_20x_DIV7_K_pos26_1.tif\n"
     ]
    },
    {
     "name": "stderr",
     "output_type": "stream",
     "text": [
      "<ipython-input-4-783ae30aa263>:22: UserWarning: /data/hyun/Analysis/data/UB.VI.220/DIV7/images_background_corrected/microdish_20x_DIV7_K_pos26_1.tif is a low contrast image\n",
      "  io.imsave(output_path,image_corrected)\n"
     ]
    },
    {
     "name": "stdout",
     "output_type": "stream",
     "text": [
      "microdish_20x_DIV7_K_pos27_1.tif\n"
     ]
    },
    {
     "name": "stderr",
     "output_type": "stream",
     "text": [
      "<ipython-input-4-783ae30aa263>:22: UserWarning: /data/hyun/Analysis/data/UB.VI.220/DIV7/images_background_corrected/microdish_20x_DIV7_K_pos27_1.tif is a low contrast image\n",
      "  io.imsave(output_path,image_corrected)\n"
     ]
    },
    {
     "name": "stdout",
     "output_type": "stream",
     "text": [
      "microdish_20x_DIV7_A_pos38_1.tif\n"
     ]
    },
    {
     "name": "stderr",
     "output_type": "stream",
     "text": [
      "<ipython-input-4-783ae30aa263>:22: UserWarning: /data/hyun/Analysis/data/UB.VI.220/DIV7/images_background_corrected/microdish_20x_DIV7_A_pos38_1.tif is a low contrast image\n",
      "  io.imsave(output_path,image_corrected)\n"
     ]
    },
    {
     "name": "stdout",
     "output_type": "stream",
     "text": [
      "microdish_20x_DIV7_H_pos7_1.tif\n"
     ]
    },
    {
     "name": "stderr",
     "output_type": "stream",
     "text": [
      "<ipython-input-4-783ae30aa263>:22: UserWarning: /data/hyun/Analysis/data/UB.VI.220/DIV7/images_background_corrected/microdish_20x_DIV7_H_pos7_1.tif is a low contrast image\n",
      "  io.imsave(output_path,image_corrected)\n"
     ]
    },
    {
     "name": "stdout",
     "output_type": "stream",
     "text": [
      "microdish_20x_DIV7_H_pos11_1.tif\n"
     ]
    },
    {
     "name": "stderr",
     "output_type": "stream",
     "text": [
      "<ipython-input-4-783ae30aa263>:22: UserWarning: /data/hyun/Analysis/data/UB.VI.220/DIV7/images_background_corrected/microdish_20x_DIV7_H_pos11_1.tif is a low contrast image\n",
      "  io.imsave(output_path,image_corrected)\n"
     ]
    },
    {
     "name": "stdout",
     "output_type": "stream",
     "text": [
      "microdish_20x_DIV7_D_pos26_1.tif\n"
     ]
    },
    {
     "name": "stderr",
     "output_type": "stream",
     "text": [
      "<ipython-input-4-783ae30aa263>:22: UserWarning: /data/hyun/Analysis/data/UB.VI.220/DIV7/images_background_corrected/microdish_20x_DIV7_D_pos26_1.tif is a low contrast image\n",
      "  io.imsave(output_path,image_corrected)\n"
     ]
    },
    {
     "name": "stdout",
     "output_type": "stream",
     "text": [
      "microdish_20x_DIV7_A_pos43_1.tif\n"
     ]
    },
    {
     "name": "stderr",
     "output_type": "stream",
     "text": [
      "<ipython-input-4-783ae30aa263>:22: UserWarning: /data/hyun/Analysis/data/UB.VI.220/DIV7/images_background_corrected/microdish_20x_DIV7_A_pos43_1.tif is a low contrast image\n",
      "  io.imsave(output_path,image_corrected)\n"
     ]
    },
    {
     "name": "stdout",
     "output_type": "stream",
     "text": [
      "microdish_20x_DIV7_F_pos17_1.tif\n"
     ]
    },
    {
     "name": "stderr",
     "output_type": "stream",
     "text": [
      "<ipython-input-4-783ae30aa263>:22: UserWarning: /data/hyun/Analysis/data/UB.VI.220/DIV7/images_background_corrected/microdish_20x_DIV7_F_pos17_1.tif is a low contrast image\n",
      "  io.imsave(output_path,image_corrected)\n"
     ]
    },
    {
     "name": "stdout",
     "output_type": "stream",
     "text": [
      "microdish_20x_DIV7_I_pos17_1.tif\n"
     ]
    },
    {
     "name": "stderr",
     "output_type": "stream",
     "text": [
      "<ipython-input-4-783ae30aa263>:22: UserWarning: /data/hyun/Analysis/data/UB.VI.220/DIV7/images_background_corrected/microdish_20x_DIV7_I_pos17_1.tif is a low contrast image\n",
      "  io.imsave(output_path,image_corrected)\n"
     ]
    },
    {
     "name": "stdout",
     "output_type": "stream",
     "text": [
      "microdish_20x_DIV7_K_pos14_1.tif\n"
     ]
    },
    {
     "name": "stderr",
     "output_type": "stream",
     "text": [
      "<ipython-input-4-783ae30aa263>:22: UserWarning: /data/hyun/Analysis/data/UB.VI.220/DIV7/images_background_corrected/microdish_20x_DIV7_K_pos14_1.tif is a low contrast image\n",
      "  io.imsave(output_path,image_corrected)\n"
     ]
    },
    {
     "name": "stdout",
     "output_type": "stream",
     "text": [
      "microdish_20x_DIV7_G_pos18_1.tif\n"
     ]
    },
    {
     "name": "stderr",
     "output_type": "stream",
     "text": [
      "<ipython-input-4-783ae30aa263>:22: UserWarning: /data/hyun/Analysis/data/UB.VI.220/DIV7/images_background_corrected/microdish_20x_DIV7_G_pos18_1.tif is a low contrast image\n",
      "  io.imsave(output_path,image_corrected)\n"
     ]
    },
    {
     "name": "stdout",
     "output_type": "stream",
     "text": [
      "microdish_20x_DIV7_I_pos15_1.tif\n"
     ]
    },
    {
     "name": "stderr",
     "output_type": "stream",
     "text": [
      "<ipython-input-4-783ae30aa263>:22: UserWarning: /data/hyun/Analysis/data/UB.VI.220/DIV7/images_background_corrected/microdish_20x_DIV7_I_pos15_1.tif is a low contrast image\n",
      "  io.imsave(output_path,image_corrected)\n"
     ]
    },
    {
     "name": "stdout",
     "output_type": "stream",
     "text": [
      "microdish_20x_DIV7_B_pos10_1.tif\n"
     ]
    },
    {
     "name": "stderr",
     "output_type": "stream",
     "text": [
      "<ipython-input-4-783ae30aa263>:22: UserWarning: /data/hyun/Analysis/data/UB.VI.220/DIV7/images_background_corrected/microdish_20x_DIV7_B_pos10_1.tif is a low contrast image\n",
      "  io.imsave(output_path,image_corrected)\n"
     ]
    },
    {
     "name": "stdout",
     "output_type": "stream",
     "text": [
      "microdish_20x_DIV7_B_pos44_1.tif\n"
     ]
    },
    {
     "name": "stderr",
     "output_type": "stream",
     "text": [
      "<ipython-input-4-783ae30aa263>:22: UserWarning: /data/hyun/Analysis/data/UB.VI.220/DIV7/images_background_corrected/microdish_20x_DIV7_B_pos44_1.tif is a low contrast image\n",
      "  io.imsave(output_path,image_corrected)\n"
     ]
    },
    {
     "name": "stdout",
     "output_type": "stream",
     "text": [
      "microdish_20x_DIV7_G_pos21_1.tif\n"
     ]
    },
    {
     "name": "stderr",
     "output_type": "stream",
     "text": [
      "<ipython-input-4-783ae30aa263>:22: UserWarning: /data/hyun/Analysis/data/UB.VI.220/DIV7/images_background_corrected/microdish_20x_DIV7_G_pos21_1.tif is a low contrast image\n",
      "  io.imsave(output_path,image_corrected)\n"
     ]
    },
    {
     "name": "stdout",
     "output_type": "stream",
     "text": [
      "microdish_20x_DIV7_F_pos8_1.tif\n"
     ]
    },
    {
     "name": "stderr",
     "output_type": "stream",
     "text": [
      "<ipython-input-4-783ae30aa263>:22: UserWarning: /data/hyun/Analysis/data/UB.VI.220/DIV7/images_background_corrected/microdish_20x_DIV7_F_pos8_1.tif is a low contrast image\n",
      "  io.imsave(output_path,image_corrected)\n"
     ]
    },
    {
     "name": "stdout",
     "output_type": "stream",
     "text": [
      "microdish_20x_DIV7_G_pos0_1.tif\n"
     ]
    },
    {
     "name": "stderr",
     "output_type": "stream",
     "text": [
      "<ipython-input-4-783ae30aa263>:22: UserWarning: /data/hyun/Analysis/data/UB.VI.220/DIV7/images_background_corrected/microdish_20x_DIV7_G_pos0_1.tif is a low contrast image\n",
      "  io.imsave(output_path,image_corrected)\n"
     ]
    },
    {
     "name": "stdout",
     "output_type": "stream",
     "text": [
      "microdish_20x_DIV7_B_pos23_1.tif\n"
     ]
    },
    {
     "name": "stderr",
     "output_type": "stream",
     "text": [
      "<ipython-input-4-783ae30aa263>:22: UserWarning: /data/hyun/Analysis/data/UB.VI.220/DIV7/images_background_corrected/microdish_20x_DIV7_B_pos23_1.tif is a low contrast image\n",
      "  io.imsave(output_path,image_corrected)\n"
     ]
    },
    {
     "name": "stdout",
     "output_type": "stream",
     "text": [
      "microdish_20x_DIV7_D_pos15_1.tif\n"
     ]
    },
    {
     "name": "stderr",
     "output_type": "stream",
     "text": [
      "<ipython-input-4-783ae30aa263>:22: UserWarning: /data/hyun/Analysis/data/UB.VI.220/DIV7/images_background_corrected/microdish_20x_DIV7_D_pos15_1.tif is a low contrast image\n",
      "  io.imsave(output_path,image_corrected)\n"
     ]
    },
    {
     "name": "stdout",
     "output_type": "stream",
     "text": [
      "microdish_20x_DIV7_H_pos10_1.tif\n"
     ]
    },
    {
     "name": "stderr",
     "output_type": "stream",
     "text": [
      "<ipython-input-4-783ae30aa263>:22: UserWarning: /data/hyun/Analysis/data/UB.VI.220/DIV7/images_background_corrected/microdish_20x_DIV7_H_pos10_1.tif is a low contrast image\n",
      "  io.imsave(output_path,image_corrected)\n"
     ]
    },
    {
     "name": "stdout",
     "output_type": "stream",
     "text": [
      "microdish_20x_DIV7_I_pos19_1.tif\n"
     ]
    },
    {
     "name": "stderr",
     "output_type": "stream",
     "text": [
      "<ipython-input-4-783ae30aa263>:22: UserWarning: /data/hyun/Analysis/data/UB.VI.220/DIV7/images_background_corrected/microdish_20x_DIV7_I_pos19_1.tif is a low contrast image\n",
      "  io.imsave(output_path,image_corrected)\n"
     ]
    },
    {
     "name": "stdout",
     "output_type": "stream",
     "text": [
      "microdish_20x_DIV7_E_pos15_1.tif\n"
     ]
    },
    {
     "name": "stderr",
     "output_type": "stream",
     "text": [
      "<ipython-input-4-783ae30aa263>:22: UserWarning: /data/hyun/Analysis/data/UB.VI.220/DIV7/images_background_corrected/microdish_20x_DIV7_E_pos15_1.tif is a low contrast image\n",
      "  io.imsave(output_path,image_corrected)\n",
      "/home/Hyun/.conda/envs/cp4/lib/python3.8/site-packages/skimage/filters/rank/generic.py:262: UserWarning: Bad rank filter performance is expected due to a large number of bins (2493), equivalent to an approximate bitdepth of 11.3.\n",
      "  image, footprint, out, mask, n_bins = _preprocess_input(image, footprint,\n"
     ]
    },
    {
     "name": "stdout",
     "output_type": "stream",
     "text": [
      "microdish_20x_DIV7_F_pos13_1.tif\n"
     ]
    },
    {
     "name": "stderr",
     "output_type": "stream",
     "text": [
      "<ipython-input-4-783ae30aa263>:22: UserWarning: /data/hyun/Analysis/data/UB.VI.220/DIV7/images_background_corrected/microdish_20x_DIV7_F_pos13_1.tif is a low contrast image\n",
      "  io.imsave(output_path,image_corrected)\n"
     ]
    },
    {
     "name": "stdout",
     "output_type": "stream",
     "text": [
      "microdish_20x_DIV7_B_pos18_1.tif\n"
     ]
    },
    {
     "name": "stderr",
     "output_type": "stream",
     "text": [
      "<ipython-input-4-783ae30aa263>:22: UserWarning: /data/hyun/Analysis/data/UB.VI.220/DIV7/images_background_corrected/microdish_20x_DIV7_B_pos18_1.tif is a low contrast image\n",
      "  io.imsave(output_path,image_corrected)\n"
     ]
    },
    {
     "name": "stdout",
     "output_type": "stream",
     "text": [
      "microdish_20x_DIV7_G_pos4_1.tif\n"
     ]
    },
    {
     "name": "stderr",
     "output_type": "stream",
     "text": [
      "<ipython-input-4-783ae30aa263>:22: UserWarning: /data/hyun/Analysis/data/UB.VI.220/DIV7/images_background_corrected/microdish_20x_DIV7_G_pos4_1.tif is a low contrast image\n",
      "  io.imsave(output_path,image_corrected)\n"
     ]
    },
    {
     "name": "stdout",
     "output_type": "stream",
     "text": [
      "microdish_20x_DIV7_K_pos12_1.tif\n"
     ]
    },
    {
     "name": "stderr",
     "output_type": "stream",
     "text": [
      "<ipython-input-4-783ae30aa263>:22: UserWarning: /data/hyun/Analysis/data/UB.VI.220/DIV7/images_background_corrected/microdish_20x_DIV7_K_pos12_1.tif is a low contrast image\n",
      "  io.imsave(output_path,image_corrected)\n"
     ]
    },
    {
     "name": "stdout",
     "output_type": "stream",
     "text": [
      "microdish_20x_DIV7_E_pos17_1.tif\n"
     ]
    },
    {
     "name": "stderr",
     "output_type": "stream",
     "text": [
      "<ipython-input-4-783ae30aa263>:22: UserWarning: /data/hyun/Analysis/data/UB.VI.220/DIV7/images_background_corrected/microdish_20x_DIV7_E_pos17_1.tif is a low contrast image\n",
      "  io.imsave(output_path,image_corrected)\n"
     ]
    },
    {
     "name": "stdout",
     "output_type": "stream",
     "text": [
      "microdish_20x_DIV7_E_pos12_1.tif\n"
     ]
    },
    {
     "name": "stderr",
     "output_type": "stream",
     "text": [
      "<ipython-input-4-783ae30aa263>:22: UserWarning: /data/hyun/Analysis/data/UB.VI.220/DIV7/images_background_corrected/microdish_20x_DIV7_E_pos12_1.tif is a low contrast image\n",
      "  io.imsave(output_path,image_corrected)\n"
     ]
    },
    {
     "name": "stdout",
     "output_type": "stream",
     "text": [
      "microdish_20x_DIV7_K_pos18_1.tif\n"
     ]
    },
    {
     "name": "stderr",
     "output_type": "stream",
     "text": [
      "<ipython-input-4-783ae30aa263>:22: UserWarning: /data/hyun/Analysis/data/UB.VI.220/DIV7/images_background_corrected/microdish_20x_DIV7_K_pos18_1.tif is a low contrast image\n",
      "  io.imsave(output_path,image_corrected)\n"
     ]
    },
    {
     "name": "stdout",
     "output_type": "stream",
     "text": [
      "microdish_20x_DIV7_J_pos13_1.tif\n"
     ]
    },
    {
     "name": "stderr",
     "output_type": "stream",
     "text": [
      "<ipython-input-4-783ae30aa263>:22: UserWarning: /data/hyun/Analysis/data/UB.VI.220/DIV7/images_background_corrected/microdish_20x_DIV7_J_pos13_1.tif is a low contrast image\n",
      "  io.imsave(output_path,image_corrected)\n"
     ]
    },
    {
     "name": "stdout",
     "output_type": "stream",
     "text": [
      "microdish_20x_DIV7_G_pos16_1.tif\n"
     ]
    },
    {
     "name": "stderr",
     "output_type": "stream",
     "text": [
      "<ipython-input-4-783ae30aa263>:22: UserWarning: /data/hyun/Analysis/data/UB.VI.220/DIV7/images_background_corrected/microdish_20x_DIV7_G_pos16_1.tif is a low contrast image\n",
      "  io.imsave(output_path,image_corrected)\n",
      "/home/Hyun/.conda/envs/cp4/lib/python3.8/site-packages/skimage/filters/rank/generic.py:262: UserWarning: Bad rank filter performance is expected due to a large number of bins (2502), equivalent to an approximate bitdepth of 11.3.\n",
      "  image, footprint, out, mask, n_bins = _preprocess_input(image, footprint,\n"
     ]
    },
    {
     "name": "stdout",
     "output_type": "stream",
     "text": [
      "microdish_20x_DIV7_A_pos16_2.tif\n"
     ]
    },
    {
     "name": "stderr",
     "output_type": "stream",
     "text": [
      "<ipython-input-4-783ae30aa263>:22: UserWarning: /data/hyun/Analysis/data/UB.VI.220/DIV7/images_background_corrected/microdish_20x_DIV7_A_pos16_2.tif is a low contrast image\n",
      "  io.imsave(output_path,image_corrected)\n"
     ]
    },
    {
     "name": "stdout",
     "output_type": "stream",
     "text": [
      "microdish_20x_DIV7_B_pos47_1.tif\n"
     ]
    },
    {
     "name": "stderr",
     "output_type": "stream",
     "text": [
      "<ipython-input-4-783ae30aa263>:22: UserWarning: /data/hyun/Analysis/data/UB.VI.220/DIV7/images_background_corrected/microdish_20x_DIV7_B_pos47_1.tif is a low contrast image\n",
      "  io.imsave(output_path,image_corrected)\n"
     ]
    },
    {
     "name": "stdout",
     "output_type": "stream",
     "text": [
      "microdish_20x_DIV7_D_pos3_1.tif\n"
     ]
    },
    {
     "name": "stderr",
     "output_type": "stream",
     "text": [
      "<ipython-input-4-783ae30aa263>:22: UserWarning: /data/hyun/Analysis/data/UB.VI.220/DIV7/images_background_corrected/microdish_20x_DIV7_D_pos3_1.tif is a low contrast image\n",
      "  io.imsave(output_path,image_corrected)\n"
     ]
    },
    {
     "name": "stdout",
     "output_type": "stream",
     "text": [
      "microdish_20x_DIV7_D_pos31_1.tif\n"
     ]
    },
    {
     "name": "stderr",
     "output_type": "stream",
     "text": [
      "<ipython-input-4-783ae30aa263>:22: UserWarning: /data/hyun/Analysis/data/UB.VI.220/DIV7/images_background_corrected/microdish_20x_DIV7_D_pos31_1.tif is a low contrast image\n",
      "  io.imsave(output_path,image_corrected)\n"
     ]
    },
    {
     "name": "stdout",
     "output_type": "stream",
     "text": [
      "microdish_20x_DIV7_A_pos30_1.tif\n"
     ]
    },
    {
     "name": "stderr",
     "output_type": "stream",
     "text": [
      "<ipython-input-4-783ae30aa263>:22: UserWarning: /data/hyun/Analysis/data/UB.VI.220/DIV7/images_background_corrected/microdish_20x_DIV7_A_pos30_1.tif is a low contrast image\n",
      "  io.imsave(output_path,image_corrected)\n"
     ]
    },
    {
     "name": "stdout",
     "output_type": "stream",
     "text": [
      "microdish_20x_DIV7_D_pos11_1.tif\n"
     ]
    },
    {
     "name": "stderr",
     "output_type": "stream",
     "text": [
      "<ipython-input-4-783ae30aa263>:22: UserWarning: /data/hyun/Analysis/data/UB.VI.220/DIV7/images_background_corrected/microdish_20x_DIV7_D_pos11_1.tif is a low contrast image\n",
      "  io.imsave(output_path,image_corrected)\n"
     ]
    },
    {
     "name": "stdout",
     "output_type": "stream",
     "text": [
      "microdish_20x_DIV7_K_pos10_1.tif\n"
     ]
    },
    {
     "name": "stderr",
     "output_type": "stream",
     "text": [
      "<ipython-input-4-783ae30aa263>:22: UserWarning: /data/hyun/Analysis/data/UB.VI.220/DIV7/images_background_corrected/microdish_20x_DIV7_K_pos10_1.tif is a low contrast image\n",
      "  io.imsave(output_path,image_corrected)\n"
     ]
    },
    {
     "name": "stdout",
     "output_type": "stream",
     "text": [
      "microdish_20x_DIV7_B_pos35_1.tif\n"
     ]
    },
    {
     "name": "stderr",
     "output_type": "stream",
     "text": [
      "<ipython-input-4-783ae30aa263>:22: UserWarning: /data/hyun/Analysis/data/UB.VI.220/DIV7/images_background_corrected/microdish_20x_DIV7_B_pos35_1.tif is a low contrast image\n",
      "  io.imsave(output_path,image_corrected)\n"
     ]
    },
    {
     "name": "stdout",
     "output_type": "stream",
     "text": [
      "microdish_20x_DIV7_B_pos20_1.tif\n"
     ]
    },
    {
     "name": "stderr",
     "output_type": "stream",
     "text": [
      "<ipython-input-4-783ae30aa263>:22: UserWarning: /data/hyun/Analysis/data/UB.VI.220/DIV7/images_background_corrected/microdish_20x_DIV7_B_pos20_1.tif is a low contrast image\n",
      "  io.imsave(output_path,image_corrected)\n"
     ]
    },
    {
     "name": "stdout",
     "output_type": "stream",
     "text": [
      "microdish_20x_DIV7_A_pos9_1.tif\n"
     ]
    },
    {
     "name": "stderr",
     "output_type": "stream",
     "text": [
      "<ipython-input-4-783ae30aa263>:22: UserWarning: /data/hyun/Analysis/data/UB.VI.220/DIV7/images_background_corrected/microdish_20x_DIV7_A_pos9_1.tif is a low contrast image\n",
      "  io.imsave(output_path,image_corrected)\n"
     ]
    },
    {
     "name": "stdout",
     "output_type": "stream",
     "text": [
      "microdish_20x_DIV7_A_pos44_1.tif\n"
     ]
    },
    {
     "name": "stderr",
     "output_type": "stream",
     "text": [
      "<ipython-input-4-783ae30aa263>:22: UserWarning: /data/hyun/Analysis/data/UB.VI.220/DIV7/images_background_corrected/microdish_20x_DIV7_A_pos44_1.tif is a low contrast image\n",
      "  io.imsave(output_path,image_corrected)\n",
      "/home/Hyun/.conda/envs/cp4/lib/python3.8/site-packages/skimage/filters/rank/generic.py:262: UserWarning: Bad rank filter performance is expected due to a large number of bins (65501), equivalent to an approximate bitdepth of 16.0.\n",
      "  image, footprint, out, mask, n_bins = _preprocess_input(image, footprint,\n"
     ]
    },
    {
     "name": "stdout",
     "output_type": "stream",
     "text": [
      "microdish_20x_DIV7_A_pos5_1.tif\n"
     ]
    },
    {
     "name": "stderr",
     "output_type": "stream",
     "text": [
      "<ipython-input-4-783ae30aa263>:22: UserWarning: /data/hyun/Analysis/data/UB.VI.220/DIV7/images_background_corrected/microdish_20x_DIV7_A_pos5_1.tif is a low contrast image\n",
      "  io.imsave(output_path,image_corrected)\n"
     ]
    },
    {
     "name": "stdout",
     "output_type": "stream",
     "text": [
      "microdish_20x_DIV7_F_pos6_1.tif\n"
     ]
    },
    {
     "name": "stderr",
     "output_type": "stream",
     "text": [
      "<ipython-input-4-783ae30aa263>:22: UserWarning: /data/hyun/Analysis/data/UB.VI.220/DIV7/images_background_corrected/microdish_20x_DIV7_F_pos6_1.tif is a low contrast image\n",
      "  io.imsave(output_path,image_corrected)\n"
     ]
    },
    {
     "name": "stdout",
     "output_type": "stream",
     "text": [
      "microdish_20x_DIV7_L_pos20_1.tif\n"
     ]
    },
    {
     "name": "stderr",
     "output_type": "stream",
     "text": [
      "<ipython-input-4-783ae30aa263>:22: UserWarning: /data/hyun/Analysis/data/UB.VI.220/DIV7/images_background_corrected/microdish_20x_DIV7_L_pos20_1.tif is a low contrast image\n",
      "  io.imsave(output_path,image_corrected)\n"
     ]
    },
    {
     "name": "stdout",
     "output_type": "stream",
     "text": [
      "microdish_20x_DIV7_F_pos22_1.tif\n"
     ]
    },
    {
     "name": "stderr",
     "output_type": "stream",
     "text": [
      "<ipython-input-4-783ae30aa263>:22: UserWarning: /data/hyun/Analysis/data/UB.VI.220/DIV7/images_background_corrected/microdish_20x_DIV7_F_pos22_1.tif is a low contrast image\n",
      "  io.imsave(output_path,image_corrected)\n"
     ]
    },
    {
     "name": "stdout",
     "output_type": "stream",
     "text": [
      "microdish_20x_DIV7_E_pos5_1.tif\n"
     ]
    },
    {
     "name": "stderr",
     "output_type": "stream",
     "text": [
      "<ipython-input-4-783ae30aa263>:22: UserWarning: /data/hyun/Analysis/data/UB.VI.220/DIV7/images_background_corrected/microdish_20x_DIV7_E_pos5_1.tif is a low contrast image\n",
      "  io.imsave(output_path,image_corrected)\n"
     ]
    },
    {
     "name": "stdout",
     "output_type": "stream",
     "text": [
      "microdish_20x_DIV7_B_pos31_1.tif\n"
     ]
    },
    {
     "name": "stderr",
     "output_type": "stream",
     "text": [
      "<ipython-input-4-783ae30aa263>:22: UserWarning: /data/hyun/Analysis/data/UB.VI.220/DIV7/images_background_corrected/microdish_20x_DIV7_B_pos31_1.tif is a low contrast image\n",
      "  io.imsave(output_path,image_corrected)\n"
     ]
    },
    {
     "name": "stdout",
     "output_type": "stream",
     "text": [
      "microdish_20x_DIV7_B_pos22_1.tif\n"
     ]
    },
    {
     "name": "stderr",
     "output_type": "stream",
     "text": [
      "<ipython-input-4-783ae30aa263>:22: UserWarning: /data/hyun/Analysis/data/UB.VI.220/DIV7/images_background_corrected/microdish_20x_DIV7_B_pos22_1.tif is a low contrast image\n",
      "  io.imsave(output_path,image_corrected)\n"
     ]
    },
    {
     "name": "stdout",
     "output_type": "stream",
     "text": [
      "microdish_20x_DIV7_D_pos42_1.tif\n"
     ]
    },
    {
     "name": "stderr",
     "output_type": "stream",
     "text": [
      "<ipython-input-4-783ae30aa263>:22: UserWarning: /data/hyun/Analysis/data/UB.VI.220/DIV7/images_background_corrected/microdish_20x_DIV7_D_pos42_1.tif is a low contrast image\n",
      "  io.imsave(output_path,image_corrected)\n"
     ]
    },
    {
     "name": "stdout",
     "output_type": "stream",
     "text": [
      "microdish_20x_DIV7_G_pos8_1.tif\n"
     ]
    },
    {
     "name": "stderr",
     "output_type": "stream",
     "text": [
      "<ipython-input-4-783ae30aa263>:22: UserWarning: /data/hyun/Analysis/data/UB.VI.220/DIV7/images_background_corrected/microdish_20x_DIV7_G_pos8_1.tif is a low contrast image\n",
      "  io.imsave(output_path,image_corrected)\n"
     ]
    },
    {
     "name": "stdout",
     "output_type": "stream",
     "text": [
      "microdish_20x_DIV7_K_pos1_1.tif\n"
     ]
    },
    {
     "name": "stderr",
     "output_type": "stream",
     "text": [
      "<ipython-input-4-783ae30aa263>:22: UserWarning: /data/hyun/Analysis/data/UB.VI.220/DIV7/images_background_corrected/microdish_20x_DIV7_K_pos1_1.tif is a low contrast image\n",
      "  io.imsave(output_path,image_corrected)\n"
     ]
    },
    {
     "name": "stdout",
     "output_type": "stream",
     "text": [
      "microdish_20x_DIV7_K_pos25_1.tif\n"
     ]
    },
    {
     "name": "stderr",
     "output_type": "stream",
     "text": [
      "<ipython-input-4-783ae30aa263>:22: UserWarning: /data/hyun/Analysis/data/UB.VI.220/DIV7/images_background_corrected/microdish_20x_DIV7_K_pos25_1.tif is a low contrast image\n",
      "  io.imsave(output_path,image_corrected)\n"
     ]
    },
    {
     "name": "stdout",
     "output_type": "stream",
     "text": [
      "microdish_20x_DIV7_E_pos13_1.tif\n"
     ]
    },
    {
     "name": "stderr",
     "output_type": "stream",
     "text": [
      "<ipython-input-4-783ae30aa263>:22: UserWarning: /data/hyun/Analysis/data/UB.VI.220/DIV7/images_background_corrected/microdish_20x_DIV7_E_pos13_1.tif is a low contrast image\n",
      "  io.imsave(output_path,image_corrected)\n"
     ]
    },
    {
     "name": "stdout",
     "output_type": "stream",
     "text": [
      "microdish_20x_DIV7_L_pos1_1.tif\n"
     ]
    },
    {
     "name": "stderr",
     "output_type": "stream",
     "text": [
      "<ipython-input-4-783ae30aa263>:22: UserWarning: /data/hyun/Analysis/data/UB.VI.220/DIV7/images_background_corrected/microdish_20x_DIV7_L_pos1_1.tif is a low contrast image\n",
      "  io.imsave(output_path,image_corrected)\n"
     ]
    },
    {
     "name": "stdout",
     "output_type": "stream",
     "text": [
      "microdish_20x_DIV7_L_pos3_1.tif\n"
     ]
    },
    {
     "name": "stderr",
     "output_type": "stream",
     "text": [
      "<ipython-input-4-783ae30aa263>:22: UserWarning: /data/hyun/Analysis/data/UB.VI.220/DIV7/images_background_corrected/microdish_20x_DIV7_L_pos3_1.tif is a low contrast image\n",
      "  io.imsave(output_path,image_corrected)\n"
     ]
    },
    {
     "name": "stdout",
     "output_type": "stream",
     "text": [
      "microdish_20x_DIV7_E_pos1_1.tif\n"
     ]
    },
    {
     "name": "stderr",
     "output_type": "stream",
     "text": [
      "<ipython-input-4-783ae30aa263>:22: UserWarning: /data/hyun/Analysis/data/UB.VI.220/DIV7/images_background_corrected/microdish_20x_DIV7_E_pos1_1.tif is a low contrast image\n",
      "  io.imsave(output_path,image_corrected)\n"
     ]
    },
    {
     "name": "stdout",
     "output_type": "stream",
     "text": [
      "microdish_20x_DIV7_B_pos6_1.tif\n"
     ]
    },
    {
     "name": "stderr",
     "output_type": "stream",
     "text": [
      "<ipython-input-4-783ae30aa263>:22: UserWarning: /data/hyun/Analysis/data/UB.VI.220/DIV7/images_background_corrected/microdish_20x_DIV7_B_pos6_1.tif is a low contrast image\n",
      "  io.imsave(output_path,image_corrected)\n"
     ]
    },
    {
     "name": "stdout",
     "output_type": "stream",
     "text": [
      "microdish_20x_DIV7_A_pos10_1.tif\n"
     ]
    },
    {
     "name": "stderr",
     "output_type": "stream",
     "text": [
      "<ipython-input-4-783ae30aa263>:22: UserWarning: /data/hyun/Analysis/data/UB.VI.220/DIV7/images_background_corrected/microdish_20x_DIV7_A_pos10_1.tif is a low contrast image\n",
      "  io.imsave(output_path,image_corrected)\n"
     ]
    },
    {
     "name": "stdout",
     "output_type": "stream",
     "text": [
      "microdish_20x_DIV7_B_pos7_1.tif\n"
     ]
    },
    {
     "name": "stderr",
     "output_type": "stream",
     "text": [
      "<ipython-input-4-783ae30aa263>:22: UserWarning: /data/hyun/Analysis/data/UB.VI.220/DIV7/images_background_corrected/microdish_20x_DIV7_B_pos7_1.tif is a low contrast image\n",
      "  io.imsave(output_path,image_corrected)\n"
     ]
    },
    {
     "name": "stdout",
     "output_type": "stream",
     "text": [
      "microdish_20x_DIV7_J_pos7_1.tif\n"
     ]
    },
    {
     "name": "stderr",
     "output_type": "stream",
     "text": [
      "<ipython-input-4-783ae30aa263>:22: UserWarning: /data/hyun/Analysis/data/UB.VI.220/DIV7/images_background_corrected/microdish_20x_DIV7_J_pos7_1.tif is a low contrast image\n",
      "  io.imsave(output_path,image_corrected)\n"
     ]
    },
    {
     "name": "stdout",
     "output_type": "stream",
     "text": [
      "microdish_20x_DIV7_E_pos18_1.tif\n"
     ]
    },
    {
     "name": "stderr",
     "output_type": "stream",
     "text": [
      "<ipython-input-4-783ae30aa263>:22: UserWarning: /data/hyun/Analysis/data/UB.VI.220/DIV7/images_background_corrected/microdish_20x_DIV7_E_pos18_1.tif is a low contrast image\n",
      "  io.imsave(output_path,image_corrected)\n"
     ]
    },
    {
     "name": "stdout",
     "output_type": "stream",
     "text": [
      "microdish_20x_DIV7_J_pos10_1.tif\n"
     ]
    },
    {
     "name": "stderr",
     "output_type": "stream",
     "text": [
      "<ipython-input-4-783ae30aa263>:22: UserWarning: /data/hyun/Analysis/data/UB.VI.220/DIV7/images_background_corrected/microdish_20x_DIV7_J_pos10_1.tif is a low contrast image\n",
      "  io.imsave(output_path,image_corrected)\n"
     ]
    },
    {
     "name": "stdout",
     "output_type": "stream",
     "text": [
      "microdish_20x_DIV7_A_pos14_1.tif\n"
     ]
    },
    {
     "name": "stderr",
     "output_type": "stream",
     "text": [
      "<ipython-input-4-783ae30aa263>:22: UserWarning: /data/hyun/Analysis/data/UB.VI.220/DIV7/images_background_corrected/microdish_20x_DIV7_A_pos14_1.tif is a low contrast image\n",
      "  io.imsave(output_path,image_corrected)\n"
     ]
    },
    {
     "name": "stdout",
     "output_type": "stream",
     "text": [
      "microdish_20x_DIV7_E_pos0_1.tif\n"
     ]
    },
    {
     "name": "stderr",
     "output_type": "stream",
     "text": [
      "<ipython-input-4-783ae30aa263>:22: UserWarning: /data/hyun/Analysis/data/UB.VI.220/DIV7/images_background_corrected/microdish_20x_DIV7_E_pos0_1.tif is a low contrast image\n",
      "  io.imsave(output_path,image_corrected)\n"
     ]
    },
    {
     "name": "stdout",
     "output_type": "stream",
     "text": [
      "microdish_20x_DIV7_J_pos26_1.tif\n"
     ]
    },
    {
     "name": "stderr",
     "output_type": "stream",
     "text": [
      "<ipython-input-4-783ae30aa263>:22: UserWarning: /data/hyun/Analysis/data/UB.VI.220/DIV7/images_background_corrected/microdish_20x_DIV7_J_pos26_1.tif is a low contrast image\n",
      "  io.imsave(output_path,image_corrected)\n"
     ]
    },
    {
     "name": "stdout",
     "output_type": "stream",
     "text": [
      "microdish_20x_DIV7_A_pos48_1.tif\n"
     ]
    },
    {
     "name": "stderr",
     "output_type": "stream",
     "text": [
      "<ipython-input-4-783ae30aa263>:22: UserWarning: /data/hyun/Analysis/data/UB.VI.220/DIV7/images_background_corrected/microdish_20x_DIV7_A_pos48_1.tif is a low contrast image\n",
      "  io.imsave(output_path,image_corrected)\n"
     ]
    },
    {
     "name": "stdout",
     "output_type": "stream",
     "text": [
      "microdish_20x_DIV7_B_pos29_1.tif\n"
     ]
    },
    {
     "name": "stderr",
     "output_type": "stream",
     "text": [
      "<ipython-input-4-783ae30aa263>:22: UserWarning: /data/hyun/Analysis/data/UB.VI.220/DIV7/images_background_corrected/microdish_20x_DIV7_B_pos29_1.tif is a low contrast image\n",
      "  io.imsave(output_path,image_corrected)\n"
     ]
    },
    {
     "name": "stdout",
     "output_type": "stream",
     "text": [
      "microdish_20x_DIV7_A_pos49_1.tif\n"
     ]
    },
    {
     "name": "stderr",
     "output_type": "stream",
     "text": [
      "<ipython-input-4-783ae30aa263>:22: UserWarning: /data/hyun/Analysis/data/UB.VI.220/DIV7/images_background_corrected/microdish_20x_DIV7_A_pos49_1.tif is a low contrast image\n",
      "  io.imsave(output_path,image_corrected)\n"
     ]
    },
    {
     "name": "stdout",
     "output_type": "stream",
     "text": [
      "microdish_20x_DIV7_A_pos51_1.tif\n"
     ]
    },
    {
     "name": "stderr",
     "output_type": "stream",
     "text": [
      "<ipython-input-4-783ae30aa263>:22: UserWarning: /data/hyun/Analysis/data/UB.VI.220/DIV7/images_background_corrected/microdish_20x_DIV7_A_pos51_1.tif is a low contrast image\n",
      "  io.imsave(output_path,image_corrected)\n"
     ]
    },
    {
     "name": "stdout",
     "output_type": "stream",
     "text": [
      "microdish_20x_DIV7_G_pos10_1.tif\n"
     ]
    },
    {
     "name": "stderr",
     "output_type": "stream",
     "text": [
      "<ipython-input-4-783ae30aa263>:22: UserWarning: /data/hyun/Analysis/data/UB.VI.220/DIV7/images_background_corrected/microdish_20x_DIV7_G_pos10_1.tif is a low contrast image\n",
      "  io.imsave(output_path,image_corrected)\n"
     ]
    },
    {
     "name": "stdout",
     "output_type": "stream",
     "text": [
      "microdish_20x_DIV7_B_pos45_1.tif\n"
     ]
    },
    {
     "name": "stderr",
     "output_type": "stream",
     "text": [
      "<ipython-input-4-783ae30aa263>:22: UserWarning: /data/hyun/Analysis/data/UB.VI.220/DIV7/images_background_corrected/microdish_20x_DIV7_B_pos45_1.tif is a low contrast image\n",
      "  io.imsave(output_path,image_corrected)\n",
      "/home/Hyun/.conda/envs/cp4/lib/python3.8/site-packages/skimage/filters/rank/generic.py:262: UserWarning: Bad rank filter performance is expected due to a large number of bins (2275), equivalent to an approximate bitdepth of 11.2.\n",
      "  image, footprint, out, mask, n_bins = _preprocess_input(image, footprint,\n"
     ]
    },
    {
     "name": "stdout",
     "output_type": "stream",
     "text": [
      "microdish_20x_DIV7_H_pos24_1.tif\n"
     ]
    },
    {
     "name": "stderr",
     "output_type": "stream",
     "text": [
      "<ipython-input-4-783ae30aa263>:22: UserWarning: /data/hyun/Analysis/data/UB.VI.220/DIV7/images_background_corrected/microdish_20x_DIV7_H_pos24_1.tif is a low contrast image\n",
      "  io.imsave(output_path,image_corrected)\n"
     ]
    },
    {
     "name": "stdout",
     "output_type": "stream",
     "text": [
      "microdish_20x_DIV7_E_pos4_1.tif\n"
     ]
    },
    {
     "name": "stderr",
     "output_type": "stream",
     "text": [
      "<ipython-input-4-783ae30aa263>:22: UserWarning: /data/hyun/Analysis/data/UB.VI.220/DIV7/images_background_corrected/microdish_20x_DIV7_E_pos4_1.tif is a low contrast image\n",
      "  io.imsave(output_path,image_corrected)\n"
     ]
    },
    {
     "name": "stdout",
     "output_type": "stream",
     "text": [
      "microdish_20x_DIV7_J_pos17_1.tif\n"
     ]
    },
    {
     "name": "stderr",
     "output_type": "stream",
     "text": [
      "<ipython-input-4-783ae30aa263>:22: UserWarning: /data/hyun/Analysis/data/UB.VI.220/DIV7/images_background_corrected/microdish_20x_DIV7_J_pos17_1.tif is a low contrast image\n",
      "  io.imsave(output_path,image_corrected)\n"
     ]
    },
    {
     "name": "stdout",
     "output_type": "stream",
     "text": [
      "microdish_20x_DIV7_B_pos26_1.tif\n"
     ]
    },
    {
     "name": "stderr",
     "output_type": "stream",
     "text": [
      "<ipython-input-4-783ae30aa263>:22: UserWarning: /data/hyun/Analysis/data/UB.VI.220/DIV7/images_background_corrected/microdish_20x_DIV7_B_pos26_1.tif is a low contrast image\n",
      "  io.imsave(output_path,image_corrected)\n"
     ]
    },
    {
     "name": "stdout",
     "output_type": "stream",
     "text": [
      "microdish_20x_DIV7_B_pos25_1.tif\n"
     ]
    },
    {
     "name": "stderr",
     "output_type": "stream",
     "text": [
      "<ipython-input-4-783ae30aa263>:22: UserWarning: /data/hyun/Analysis/data/UB.VI.220/DIV7/images_background_corrected/microdish_20x_DIV7_B_pos25_1.tif is a low contrast image\n",
      "  io.imsave(output_path,image_corrected)\n"
     ]
    },
    {
     "name": "stdout",
     "output_type": "stream",
     "text": [
      "microdish_20x_DIV7_J_pos9_1.tif\n"
     ]
    },
    {
     "name": "stderr",
     "output_type": "stream",
     "text": [
      "<ipython-input-4-783ae30aa263>:22: UserWarning: /data/hyun/Analysis/data/UB.VI.220/DIV7/images_background_corrected/microdish_20x_DIV7_J_pos9_1.tif is a low contrast image\n",
      "  io.imsave(output_path,image_corrected)\n"
     ]
    },
    {
     "name": "stdout",
     "output_type": "stream",
     "text": [
      "microdish_20x_DIV7_I_pos0_1.tif\n"
     ]
    },
    {
     "name": "stderr",
     "output_type": "stream",
     "text": [
      "<ipython-input-4-783ae30aa263>:22: UserWarning: /data/hyun/Analysis/data/UB.VI.220/DIV7/images_background_corrected/microdish_20x_DIV7_I_pos0_1.tif is a low contrast image\n",
      "  io.imsave(output_path,image_corrected)\n"
     ]
    },
    {
     "name": "stdout",
     "output_type": "stream",
     "text": [
      "microdish_20x_DIV7_E_pos14_1.tif\n"
     ]
    },
    {
     "name": "stderr",
     "output_type": "stream",
     "text": [
      "<ipython-input-4-783ae30aa263>:22: UserWarning: /data/hyun/Analysis/data/UB.VI.220/DIV7/images_background_corrected/microdish_20x_DIV7_E_pos14_1.tif is a low contrast image\n",
      "  io.imsave(output_path,image_corrected)\n"
     ]
    },
    {
     "name": "stdout",
     "output_type": "stream",
     "text": [
      "microdish_20x_DIV7_F_pos0_1.tif\n"
     ]
    },
    {
     "name": "stderr",
     "output_type": "stream",
     "text": [
      "<ipython-input-4-783ae30aa263>:22: UserWarning: /data/hyun/Analysis/data/UB.VI.220/DIV7/images_background_corrected/microdish_20x_DIV7_F_pos0_1.tif is a low contrast image\n",
      "  io.imsave(output_path,image_corrected)\n"
     ]
    },
    {
     "name": "stdout",
     "output_type": "stream",
     "text": [
      "microdish_20x_DIV7_H_pos23_1.tif\n"
     ]
    },
    {
     "name": "stderr",
     "output_type": "stream",
     "text": [
      "<ipython-input-4-783ae30aa263>:22: UserWarning: /data/hyun/Analysis/data/UB.VI.220/DIV7/images_background_corrected/microdish_20x_DIV7_H_pos23_1.tif is a low contrast image\n",
      "  io.imsave(output_path,image_corrected)\n"
     ]
    },
    {
     "name": "stdout",
     "output_type": "stream",
     "text": [
      "microdish_20x_DIV7_E_pos16_1.tif\n"
     ]
    },
    {
     "name": "stderr",
     "output_type": "stream",
     "text": [
      "<ipython-input-4-783ae30aa263>:22: UserWarning: /data/hyun/Analysis/data/UB.VI.220/DIV7/images_background_corrected/microdish_20x_DIV7_E_pos16_1.tif is a low contrast image\n",
      "  io.imsave(output_path,image_corrected)\n"
     ]
    },
    {
     "name": "stdout",
     "output_type": "stream",
     "text": [
      "microdish_20x_DIV7_D_pos30_1.tif\n"
     ]
    },
    {
     "name": "stderr",
     "output_type": "stream",
     "text": [
      "<ipython-input-4-783ae30aa263>:22: UserWarning: /data/hyun/Analysis/data/UB.VI.220/DIV7/images_background_corrected/microdish_20x_DIV7_D_pos30_1.tif is a low contrast image\n",
      "  io.imsave(output_path,image_corrected)\n"
     ]
    },
    {
     "name": "stdout",
     "output_type": "stream",
     "text": [
      "microdish_20x_DIV7_A_pos0_1.tif\n"
     ]
    },
    {
     "name": "stderr",
     "output_type": "stream",
     "text": [
      "<ipython-input-4-783ae30aa263>:22: UserWarning: /data/hyun/Analysis/data/UB.VI.220/DIV7/images_background_corrected/microdish_20x_DIV7_A_pos0_1.tif is a low contrast image\n",
      "  io.imsave(output_path,image_corrected)\n"
     ]
    },
    {
     "name": "stdout",
     "output_type": "stream",
     "text": [
      "microdish_20x_DIV7_A_pos20_1.tif\n"
     ]
    },
    {
     "name": "stderr",
     "output_type": "stream",
     "text": [
      "<ipython-input-4-783ae30aa263>:22: UserWarning: /data/hyun/Analysis/data/UB.VI.220/DIV7/images_background_corrected/microdish_20x_DIV7_A_pos20_1.tif is a low contrast image\n",
      "  io.imsave(output_path,image_corrected)\n"
     ]
    },
    {
     "name": "stdout",
     "output_type": "stream",
     "text": [
      "microdish_20x_DIV7_G_pos9_1.tif\n"
     ]
    },
    {
     "name": "stderr",
     "output_type": "stream",
     "text": [
      "<ipython-input-4-783ae30aa263>:22: UserWarning: /data/hyun/Analysis/data/UB.VI.220/DIV7/images_background_corrected/microdish_20x_DIV7_G_pos9_1.tif is a low contrast image\n",
      "  io.imsave(output_path,image_corrected)\n"
     ]
    },
    {
     "name": "stdout",
     "output_type": "stream",
     "text": [
      "microdish_20x_DIV7_G_pos11_1.tif\n"
     ]
    },
    {
     "name": "stderr",
     "output_type": "stream",
     "text": [
      "<ipython-input-4-783ae30aa263>:22: UserWarning: /data/hyun/Analysis/data/UB.VI.220/DIV7/images_background_corrected/microdish_20x_DIV7_G_pos11_1.tif is a low contrast image\n",
      "  io.imsave(output_path,image_corrected)\n"
     ]
    },
    {
     "name": "stdout",
     "output_type": "stream",
     "text": [
      "microdish_20x_DIV7_A_pos33_1.tif\n"
     ]
    },
    {
     "name": "stderr",
     "output_type": "stream",
     "text": [
      "<ipython-input-4-783ae30aa263>:22: UserWarning: /data/hyun/Analysis/data/UB.VI.220/DIV7/images_background_corrected/microdish_20x_DIV7_A_pos33_1.tif is a low contrast image\n",
      "  io.imsave(output_path,image_corrected)\n",
      "/home/Hyun/.conda/envs/cp4/lib/python3.8/site-packages/skimage/filters/rank/generic.py:262: UserWarning: Bad rank filter performance is expected due to a large number of bins (3265), equivalent to an approximate bitdepth of 11.7.\n",
      "  image, footprint, out, mask, n_bins = _preprocess_input(image, footprint,\n"
     ]
    },
    {
     "name": "stdout",
     "output_type": "stream",
     "text": [
      "microdish_20x_DIV7_A_pos17_2.tif\n"
     ]
    },
    {
     "name": "stderr",
     "output_type": "stream",
     "text": [
      "<ipython-input-4-783ae30aa263>:22: UserWarning: /data/hyun/Analysis/data/UB.VI.220/DIV7/images_background_corrected/microdish_20x_DIV7_A_pos17_2.tif is a low contrast image\n",
      "  io.imsave(output_path,image_corrected)\n"
     ]
    },
    {
     "name": "stdout",
     "output_type": "stream",
     "text": [
      "microdish_20x_DIV7_A_pos42_1.tif\n"
     ]
    },
    {
     "name": "stderr",
     "output_type": "stream",
     "text": [
      "<ipython-input-4-783ae30aa263>:22: UserWarning: /data/hyun/Analysis/data/UB.VI.220/DIV7/images_background_corrected/microdish_20x_DIV7_A_pos42_1.tif is a low contrast image\n",
      "  io.imsave(output_path,image_corrected)\n"
     ]
    },
    {
     "name": "stdout",
     "output_type": "stream",
     "text": [
      "microdish_20x_DIV7_A_pos45_1.tif\n"
     ]
    },
    {
     "name": "stderr",
     "output_type": "stream",
     "text": [
      "<ipython-input-4-783ae30aa263>:22: UserWarning: /data/hyun/Analysis/data/UB.VI.220/DIV7/images_background_corrected/microdish_20x_DIV7_A_pos45_1.tif is a low contrast image\n",
      "  io.imsave(output_path,image_corrected)\n"
     ]
    },
    {
     "name": "stdout",
     "output_type": "stream",
     "text": [
      "microdish_20x_DIV7_H_pos12_1.tif\n"
     ]
    },
    {
     "name": "stderr",
     "output_type": "stream",
     "text": [
      "<ipython-input-4-783ae30aa263>:22: UserWarning: /data/hyun/Analysis/data/UB.VI.220/DIV7/images_background_corrected/microdish_20x_DIV7_H_pos12_1.tif is a low contrast image\n",
      "  io.imsave(output_path,image_corrected)\n"
     ]
    },
    {
     "name": "stdout",
     "output_type": "stream",
     "text": [
      "microdish_20x_DIV7_H_pos2_1.tif\n"
     ]
    },
    {
     "name": "stderr",
     "output_type": "stream",
     "text": [
      "<ipython-input-4-783ae30aa263>:22: UserWarning: /data/hyun/Analysis/data/UB.VI.220/DIV7/images_background_corrected/microdish_20x_DIV7_H_pos2_1.tif is a low contrast image\n",
      "  io.imsave(output_path,image_corrected)\n"
     ]
    },
    {
     "name": "stdout",
     "output_type": "stream",
     "text": [
      "microdish_20x_DIV7_K_pos16_1.tif\n"
     ]
    },
    {
     "name": "stderr",
     "output_type": "stream",
     "text": [
      "<ipython-input-4-783ae30aa263>:22: UserWarning: /data/hyun/Analysis/data/UB.VI.220/DIV7/images_background_corrected/microdish_20x_DIV7_K_pos16_1.tif is a low contrast image\n",
      "  io.imsave(output_path,image_corrected)\n"
     ]
    },
    {
     "name": "stdout",
     "output_type": "stream",
     "text": [
      "microdish_20x_DIV7_F_pos5_1.tif\n"
     ]
    },
    {
     "name": "stderr",
     "output_type": "stream",
     "text": [
      "<ipython-input-4-783ae30aa263>:22: UserWarning: /data/hyun/Analysis/data/UB.VI.220/DIV7/images_background_corrected/microdish_20x_DIV7_F_pos5_1.tif is a low contrast image\n",
      "  io.imsave(output_path,image_corrected)\n"
     ]
    },
    {
     "name": "stdout",
     "output_type": "stream",
     "text": [
      "microdish_20x_DIV7_H_pos4_1.tif\n"
     ]
    },
    {
     "name": "stderr",
     "output_type": "stream",
     "text": [
      "<ipython-input-4-783ae30aa263>:22: UserWarning: /data/hyun/Analysis/data/UB.VI.220/DIV7/images_background_corrected/microdish_20x_DIV7_H_pos4_1.tif is a low contrast image\n",
      "  io.imsave(output_path,image_corrected)\n"
     ]
    },
    {
     "name": "stdout",
     "output_type": "stream",
     "text": [
      "microdish_20x_DIV7_A_pos4_1.tif\n"
     ]
    },
    {
     "name": "stderr",
     "output_type": "stream",
     "text": [
      "<ipython-input-4-783ae30aa263>:22: UserWarning: /data/hyun/Analysis/data/UB.VI.220/DIV7/images_background_corrected/microdish_20x_DIV7_A_pos4_1.tif is a low contrast image\n",
      "  io.imsave(output_path,image_corrected)\n"
     ]
    },
    {
     "name": "stdout",
     "output_type": "stream",
     "text": [
      "microdish_20x_DIV7_B_pos40_1.tif\n"
     ]
    },
    {
     "name": "stderr",
     "output_type": "stream",
     "text": [
      "<ipython-input-4-783ae30aa263>:22: UserWarning: /data/hyun/Analysis/data/UB.VI.220/DIV7/images_background_corrected/microdish_20x_DIV7_B_pos40_1.tif is a low contrast image\n",
      "  io.imsave(output_path,image_corrected)\n"
     ]
    },
    {
     "name": "stdout",
     "output_type": "stream",
     "text": [
      "microdish_20x_DIV7_J_pos16_1.tif\n"
     ]
    },
    {
     "name": "stderr",
     "output_type": "stream",
     "text": [
      "<ipython-input-4-783ae30aa263>:22: UserWarning: /data/hyun/Analysis/data/UB.VI.220/DIV7/images_background_corrected/microdish_20x_DIV7_J_pos16_1.tif is a low contrast image\n",
      "  io.imsave(output_path,image_corrected)\n"
     ]
    },
    {
     "name": "stdout",
     "output_type": "stream",
     "text": [
      "microdish_20x_DIV7_F_pos21_1.tif\n"
     ]
    },
    {
     "name": "stderr",
     "output_type": "stream",
     "text": [
      "<ipython-input-4-783ae30aa263>:22: UserWarning: /data/hyun/Analysis/data/UB.VI.220/DIV7/images_background_corrected/microdish_20x_DIV7_F_pos21_1.tif is a low contrast image\n",
      "  io.imsave(output_path,image_corrected)\n"
     ]
    },
    {
     "name": "stdout",
     "output_type": "stream",
     "text": [
      "microdish_20x_DIV7_I_pos23_1.tif\n"
     ]
    },
    {
     "name": "stderr",
     "output_type": "stream",
     "text": [
      "<ipython-input-4-783ae30aa263>:22: UserWarning: /data/hyun/Analysis/data/UB.VI.220/DIV7/images_background_corrected/microdish_20x_DIV7_I_pos23_1.tif is a low contrast image\n",
      "  io.imsave(output_path,image_corrected)\n"
     ]
    },
    {
     "name": "stdout",
     "output_type": "stream",
     "text": [
      "microdish_20x_DIV7_I_pos3_1.tif\n"
     ]
    },
    {
     "name": "stderr",
     "output_type": "stream",
     "text": [
      "<ipython-input-4-783ae30aa263>:22: UserWarning: /data/hyun/Analysis/data/UB.VI.220/DIV7/images_background_corrected/microdish_20x_DIV7_I_pos3_1.tif is a low contrast image\n",
      "  io.imsave(output_path,image_corrected)\n",
      "/home/Hyun/.conda/envs/cp4/lib/python3.8/site-packages/skimage/filters/rank/generic.py:262: UserWarning: Bad rank filter performance is expected due to a large number of bins (2929), equivalent to an approximate bitdepth of 11.5.\n",
      "  image, footprint, out, mask, n_bins = _preprocess_input(image, footprint,\n"
     ]
    },
    {
     "name": "stdout",
     "output_type": "stream",
     "text": [
      "microdish_20x_DIV7_K_pos20_1.tif\n"
     ]
    },
    {
     "name": "stderr",
     "output_type": "stream",
     "text": [
      "<ipython-input-4-783ae30aa263>:22: UserWarning: /data/hyun/Analysis/data/UB.VI.220/DIV7/images_background_corrected/microdish_20x_DIV7_K_pos20_1.tif is a low contrast image\n",
      "  io.imsave(output_path,image_corrected)\n"
     ]
    },
    {
     "name": "stdout",
     "output_type": "stream",
     "text": [
      "microdish_20x_DIV7_I_pos6_1.tif\n"
     ]
    },
    {
     "name": "stderr",
     "output_type": "stream",
     "text": [
      "<ipython-input-4-783ae30aa263>:22: UserWarning: /data/hyun/Analysis/data/UB.VI.220/DIV7/images_background_corrected/microdish_20x_DIV7_I_pos6_1.tif is a low contrast image\n",
      "  io.imsave(output_path,image_corrected)\n"
     ]
    },
    {
     "name": "stdout",
     "output_type": "stream",
     "text": [
      "microdish_20x_DIV7_A_pos35_1.tif\n"
     ]
    },
    {
     "name": "stderr",
     "output_type": "stream",
     "text": [
      "<ipython-input-4-783ae30aa263>:22: UserWarning: /data/hyun/Analysis/data/UB.VI.220/DIV7/images_background_corrected/microdish_20x_DIV7_A_pos35_1.tif is a low contrast image\n",
      "  io.imsave(output_path,image_corrected)\n"
     ]
    }
   ],
   "source": [
    "MA = MorphAn()\n",
    "\n",
    "exp_dir = \"/data/hyun/Analysis/data/UB.VI.220\"\n",
    "\n",
    "for exp in os.listdir(exp_dir):\n",
    "    if 'raw' in exp: continue\n",
    "    print(exp)\n",
    "    background_dir = MA.check_directory(os.path.join(exp_dir,exp),'images_background')\n",
    "    output_dir = MA.check_directory(os.path.join(exp_dir,exp),'images_background_corrected')\n",
    "    images_dir = MA.check_directory(os.path.join(exp_dir,exp),'orig')\n",
    "    \n",
    "    for image_file in os.listdir(images_dir):\n",
    "        print(image_file)\n",
    "        image_path = os.path.join(images_dir,image_file)\n",
    "        background_path = os.path.join(background_dir,image_file)\n",
    "        output_path = os.path.join(output_dir,image_file)\n",
    "\n",
    "        image = io.imread(image_path)\n",
    "        background = io.imread(background_path)\n",
    "\n",
    "        image_corrected = MA.correct_background(image,background,'Median Filter', 'Yes', 10)\n",
    "        io.imsave(output_path,image_corrected)"
   ]
  },
  {
   "cell_type": "code",
   "execution_count": null,
   "id": "brave-belfast",
   "metadata": {},
   "outputs": [],
   "source": []
  }
 ],
 "metadata": {
  "kernelspec": {
   "display_name": "Python 3.8 cp4",
   "language": "python",
   "name": "cp4"
  },
  "language_info": {
   "codemirror_mode": {
    "name": "ipython",
    "version": 3
   },
   "file_extension": ".py",
   "mimetype": "text/x-python",
   "name": "python",
   "nbconvert_exporter": "python",
   "pygments_lexer": "ipython3",
   "version": "3.8.8"
  }
 },
 "nbformat": 4,
 "nbformat_minor": 5
}
