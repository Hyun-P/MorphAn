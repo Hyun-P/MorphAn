{
 "cells": [
  {
   "cell_type": "markdown",
   "id": "prescription-loading",
   "metadata": {},
   "source": [
    "# **Background Correction**"
   ]
  },
  {
   "cell_type": "markdown",
   "id": "demonstrated-lighter",
   "metadata": {},
   "source": [
    "## **Functions**\n",
    "---"
   ]
  },
  {
   "cell_type": "code",
   "execution_count": 1,
   "id": "characteristic-jumping",
   "metadata": {},
   "outputs": [],
   "source": [
    "import sys\n",
    "import os\n",
    "\n",
    "module_path = os.path.abspath(os.path.join('..'))\n",
    "if module_path not in sys.path:\n",
    "    sys.path.append(module_path+\"/src\")\n",
    "\n",
    "from morphan import MorphAn\n",
    "\n",
    "import skimage.io as io"
   ]
  },
  {
   "cell_type": "markdown",
   "id": "weekly-impression",
   "metadata": {},
   "source": [
    "## **Image Process**\n",
    "---\n",
    "\n",
    "* Edit \"image_path\" variable with a path to an image that you want to evaluate\n",
    "* Edit \"background_path\" variable with a path to the respective background image\n",
    "* Edit \"output_path\" variable with a desired path to save the processed image\n"
   ]
  },
  {
   "cell_type": "code",
   "execution_count": 2,
   "id": "banned-privacy",
   "metadata": {},
   "outputs": [
    {
     "name": "stderr",
     "output_type": "stream",
     "text": [
      "<ipython-input-2-c55e87991bf2>:11: UserWarning: /data/hyun/Analysis/scripts/MorphAn/src/example/images_background_corrected/DIV7-Plate1_8wp_smFISH_A1_2.tif is a low contrast image\n",
      "  io.imsave(output_path,image_corrected)\n"
     ]
    }
   ],
   "source": [
    "image_path = os.path.join(module_path,'src','example','images_raw','DIV7-Plate1_8wp_smFISH_A1_2.tif')\n",
    "background_path = os.path.join(module_path,'src','example','images_background','DIV7-Plate1_8wp_smFISH_A1_2.tif')\n",
    "output_path = os.path.join(module_path,'src','example','images_background_corrected','DIV7-Plate1_8wp_smFISH_A1_2.tif')\n",
    "\n",
    "MA = MorphAn()\n",
    "\n",
    "image = io.imread(image_path)\n",
    "background = io.imread(background_path)\n",
    "\n",
    "image_corrected = MA.correct_background(image,background,'Median Filter', 'Yes', 10)\n",
    "io.imsave(output_path,image_corrected)"
   ]
  },
  {
   "cell_type": "code",
   "execution_count": null,
   "id": "corporate-assault",
   "metadata": {},
   "outputs": [],
   "source": []
  }
 ],
 "metadata": {
  "kernelspec": {
   "display_name": "Python 3.8 cp4",
   "language": "python",
   "name": "cp4"
  },
  "language_info": {
   "codemirror_mode": {
    "name": "ipython",
    "version": 3
   },
   "file_extension": ".py",
   "mimetype": "text/x-python",
   "name": "python",
   "nbconvert_exporter": "python",
   "pygments_lexer": "ipython3",
   "version": "3.8.8"
  }
 },
 "nbformat": 4,
 "nbformat_minor": 5
}
