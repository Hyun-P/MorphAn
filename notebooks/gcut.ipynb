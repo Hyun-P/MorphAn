{
 "cells": [
  {
   "cell_type": "markdown",
   "id": "suited-nashville",
   "metadata": {},
   "source": [
    "# **GCut**"
   ]
  },
  {
   "cell_type": "markdown",
   "id": "little-gasoline",
   "metadata": {},
   "source": [
    "## **Functions**"
   ]
  },
  {
   "cell_type": "code",
   "execution_count": 1,
   "id": "moved-circuit",
   "metadata": {},
   "outputs": [],
   "source": [
    "import sys\n",
    "import os\n",
    "\n",
    "module_path = os.path.abspath(os.path.join('..'))\n",
    "if module_path not in sys.path:\n",
    "    sys.path.append(module_path+\"/src\")\n",
    "\n",
    "from morphan import MorphAn\n",
    "\n",
    "import skimage.io as io\n",
    "import numpy as np\n",
    "import multiprocessing as mp"
   ]
  },
  {
   "cell_type": "markdown",
   "id": "private-ordinary",
   "metadata": {},
   "source": [
    "## **GCut Preprocess**\n",
    "---"
   ]
  },
  {
   "cell_type": "markdown",
   "id": "hungarian-combat",
   "metadata": {},
   "source": [
    "#### *Determine Parameters*\n",
    "\n",
    "* Edit \"image_path\" variable with a path to an image that you want to evaluate\n",
    "* Edit \"target_slice\" variable with a row index that you want to evaluate"
   ]
  },
  {
   "cell_type": "code",
   "execution_count": 2,
   "id": "valued-sellers",
   "metadata": {},
   "outputs": [],
   "source": [
    "MA = MorphAn()\n",
    "\n",
    "# a path to the experiment\n",
    "pipeline_dir = os.path.join(module_path,'src','example','analysis_pipeline')\n",
    "vaa_dir = MA.check_directory(pipeline_dir,'vaa3d')\n",
    "\n",
    "gcut_dir = MA.check_directory(pipeline_dir,'gcut')\n",
    "    \n",
    "trace_dir = MA.check_directory(pipeline_dir,'trace')\n",
    "\n",
    "epsilon = 35\n",
    "eps = int(np.floor(epsilon/2))"
   ]
  },
  {
   "cell_type": "code",
   "execution_count": 4,
   "id": "quick-bermuda",
   "metadata": {},
   "outputs": [],
   "source": [
    "\n",
    "for image_name in os.listdir(vaa_dir):\n",
    "    gcut_image_dir = MA.check_directory(gcut_dir,image_name)\n",
    "    trace_image_dir = MA.check_directory(trace_dir,image_name)\n",
    "    \n",
    "    somas = []\n",
    "    swcs_f = []\n",
    "    swcs_i = []\n",
    "    fnames = []\n",
    "    \n",
    "    vaa_image_dir = os.path.join(vaa_dir,image_name)\n",
    "    for var in os.listdir(vaa_image_dir):\n",
    "        if 'tif' in var or 'txt' in var: continue\n",
    "            \n",
    "        fpath = os.path.join(vaa_image_dir,var)\n",
    "        vaa_swc = MA.read_swc(fpath)\n",
    "        \n",
    "        if len(vaa_swc) == 0:\n",
    "            print(\"%s has empty tracing.\"%var)\n",
    "            continue\n",
    "        \n",
    "        res_f = [tuple(map(float,sub.split(' ')[2:4])) for sub in vaa_swc]\n",
    "        res_i = tuple(tuple(map(int, tup)) for tup in res_f)\n",
    "        \n",
    "        x = res_i[0][0]\n",
    "        y = res_i[0][1]\n",
    "        \n",
    "        somas.append((x,y))\n",
    "        swcs_f.append(res_f)\n",
    "        swcs_i.append(res_i)\n",
    "        fnames.append(var)\n",
    "        \n",
    "    for si,(swc,fname) in enumerate(zip(swcs_f, fnames)):\n",
    "        print(ind*2, fname)\n",
    "        xs = [x[0] for x in swc]\n",
    "        ys = [x[1] for x in swc]\n",
    "        src = os.path.join(vaa_dir,fname)\n",
    "\n",
    "        found_somas = []\n",
    "        for soma in somas:\n",
    "            sx,sy = soma\n",
    "\n",
    "            for ei in range(eps):\n",
    "\n",
    "                founds = [(x,y) for x,y in zip(xs,ys) if (x <= sx + ei) & (x >= sx - ei) & (y <= sy + ei) & (y >= sy - ei)]\n",
    "                if founds:\n",
    "                    fx = founds[0][0]\n",
    "                    fy = founds[0][1]\n",
    "                    print(ind*4, sx,sy, '----->', fx,fy)\n",
    "                    found_somas.append((fx,fy))\n",
    "                    break\n",
    "\n",
    "        if len(found_somas) == 1:\n",
    "            # Single Neuron\n",
    "            dest = os.path.join(trace_image_dir, fname)\n",
    "            shutil.copyfile(src,dest)\n",
    "\n",
    "        elif len(found_somas) > 1:\n",
    "            # Multiple Neurons\n",
    "            dest = os.path.join(gcut_image_dir, fname)\n",
    "            shutil.copyfile(src,dest)\n",
    "            tmp = fname.split('.swc')[0] + '_soma_ind_fixed.txt'\n",
    "            gcut_soma = os.path.join(gcut_image_dir, tmp)\n",
    "            f = open(gcut_soma, 'w', newline='')\n",
    "            for found_soma in found_somas:\n",
    "                f.write('%s %s 1\\n'%(found_soma[0], found_soma[1]))\n",
    "            f.close()"
   ]
  },
  {
   "cell_type": "markdown",
   "id": "indoor-police",
   "metadata": {},
   "source": [
    "## **GCut Process**\n",
    "---"
   ]
  },
  {
   "cell_type": "code",
   "execution_count": 5,
   "id": "sonic-tragedy",
   "metadata": {},
   "outputs": [],
   "source": [
    "MA = MorphAn()\n",
    "\n",
    "# a path to the experiment\n",
    "pipeline_dir = os.path.join(module_path,'src','example','analysis_pipeline')\n",
    "\n",
    "gcut_dir = MA.check_directory(pipeline_dir,'gcut')\n",
    "\n",
    "trace_dir = MA.check_directory(pipeline_dir,'trace')\n",
    "\n",
    "gcut_path = os.path.join(module_path,'gcut','python','neuron_segmentation.py')"
   ]
  },
  {
   "cell_type": "code",
   "execution_count": 6,
   "id": "falling-twist",
   "metadata": {},
   "outputs": [],
   "source": [
    "\n",
    "for image_name in os.listdir(gcut_dir):\n",
    "    \n",
    "    trace_image_dir = MA.check_directory(trace_dir,image_name)\n",
    "    gcut_image_dir = MA.check_directory(gcut_dir,image_name)\n",
    "    for var in os.listdir(gcut_image_dir):\n",
    "        if 'txt' in var: continue\n",
    "            \n",
    "        print(var)\n",
    "\n",
    "        fname = var.split('.swc')[0]\n",
    "        swc_path = os.path.join(gcut_image_dir,var)\n",
    "        soma_path = os.path.join(gcut_image_dir,'%s_soma_ind_fixed.txt'%fname)\n",
    "\n",
    "        MA.gcut_process(gcut_path,swc_path,soma_path)\n",
    "    \n",
    "        src_dir = MA.check_directory(gcut_image_dir,fname)\n",
    "        if not src_directory:\n",
    "            print(' '*2, 'No GCut output.')\n",
    "            continue\n",
    "            \n",
    "        for t in os.listdir(src_dir):\n",
    "            if 'soma=1' not in t: continue\n",
    "            \n",
    "            print(' '*2, 'Processed... %s'%t)\n",
    "            src = os.path.join(src_dir,t)\n",
    "            dest = os.path.join(trace_image_dir,t)\n",
    "            shutil.copyfile(src,dest)\n",
    "            \n",
    "        print()"
   ]
  }
 ],
 "metadata": {
  "kernelspec": {
   "display_name": "Python 3.8 cp4",
   "language": "python",
   "name": "cp4"
  },
  "language_info": {
   "codemirror_mode": {
    "name": "ipython",
    "version": 3
   },
   "file_extension": ".py",
   "mimetype": "text/x-python",
   "name": "python",
   "nbconvert_exporter": "python",
   "pygments_lexer": "ipython3",
   "version": "3.8.8"
  }
 },
 "nbformat": 4,
 "nbformat_minor": 5
}
