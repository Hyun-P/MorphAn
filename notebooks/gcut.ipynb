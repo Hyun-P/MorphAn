{
 "cells": [
  {
   "cell_type": "markdown",
   "id": "julian-moore",
   "metadata": {},
   "source": [
    "# **GCut**"
   ]
  },
  {
   "cell_type": "markdown",
   "id": "further-complexity",
   "metadata": {},
   "source": [
    "## **Functions**"
   ]
  },
  {
   "cell_type": "code",
   "execution_count": 1,
   "id": "precious-china",
   "metadata": {},
   "outputs": [],
   "source": [
    "import sys\n",
    "import os\n",
    "\n",
    "module_path = os.path.abspath(os.path.join('..'))\n",
    "if module_path not in sys.path:\n",
    "    sys.path.append(module_path+\"/src\")\n",
    "\n",
    "from morphan import MorphAn\n",
    "\n",
    "import skimage.io as io\n",
    "import numpy as np\n",
    "import multiprocessing as mp"
   ]
  },
  {
   "cell_type": "markdown",
   "id": "unauthorized-relations",
   "metadata": {},
   "source": [
    "## **GCut Preprocess**\n",
    "---"
   ]
  },
  {
   "cell_type": "markdown",
   "id": "handled-russia",
   "metadata": {},
   "source": [
    "#### *Determine Parameters*\n",
    "\n",
    "* Edit \"image_path\" variable with a path to an image that you want to evaluate\n",
    "* Edit \"target_slice\" variable with a row index that you want to evaluate"
   ]
  },
  {
   "cell_type": "code",
   "execution_count": null,
   "id": "stunning-mileage",
   "metadata": {},
   "outputs": [],
   "source": []
  },
  {
   "cell_type": "markdown",
   "id": "horizontal-rental",
   "metadata": {},
   "source": [
    "## **GCut Process**\n",
    "---"
   ]
  },
  {
   "cell_type": "code",
   "execution_count": null,
   "id": "hidden-lyric",
   "metadata": {},
   "outputs": [],
   "source": []
  }
 ],
 "metadata": {
  "kernelspec": {
   "display_name": "Python 3.8 cp4",
   "language": "python",
   "name": "cp4"
  },
  "language_info": {
   "codemirror_mode": {
    "name": "ipython",
    "version": 3
   },
   "file_extension": ".py",
   "mimetype": "text/x-python",
   "name": "python",
   "nbconvert_exporter": "python",
   "pygments_lexer": "ipython3",
   "version": "3.8.8"
  }
 },
 "nbformat": 4,
 "nbformat_minor": 5
}
