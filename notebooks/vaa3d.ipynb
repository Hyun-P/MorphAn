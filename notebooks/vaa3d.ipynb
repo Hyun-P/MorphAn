{
 "cells": [
  {
   "cell_type": "markdown",
   "id": "flying-integration",
   "metadata": {},
   "source": [
    "# **Vaa3D**"
   ]
  },
  {
   "cell_type": "markdown",
   "id": "controlled-navigation",
   "metadata": {},
   "source": [
    "## **Functions**"
   ]
  },
  {
   "cell_type": "code",
   "execution_count": 1,
   "id": "coastal-pearl",
   "metadata": {},
   "outputs": [],
   "source": [
    "import sys\n",
    "import os\n",
    "\n",
    "module_path = os.path.abspath(os.path.join('..'))\n",
    "if module_path not in sys.path:\n",
    "    sys.path.append(module_path+\"/src\")\n",
    "\n",
    "from morphan import MorphAn\n",
    "\n",
    "import skimage.io as io\n",
    "import numpy as np\n",
    "import multiprocessing as mp"
   ]
  },
  {
   "cell_type": "markdown",
   "id": "saved-folks",
   "metadata": {},
   "source": [
    "## **Vaa3D Process**\n",
    "---"
   ]
  },
  {
   "cell_type": "markdown",
   "id": "psychological-share",
   "metadata": {},
   "source": [
    "#### *Arguments*\n",
    "\n",
    "* Edit \"image_dir\" variable with a path to an image folder inside \"vaa3d\" folder.\n",
    "    * this folder includes an image prepared for vaa3d and .txt files for soma positions.\n",
    "* Edit \"vaa3d_software_path\" variable with a path to a folder at where Vaa3D software is installed.\n",
    "* Each auto-traced file wil be saved inside the respective image_dir with .swc file extension."
   ]
  },
  {
   "cell_type": "code",
   "execution_count": null,
   "id": "alpha-mixture",
   "metadata": {},
   "outputs": [],
   "source": [
    "image_dir = os.path.join(module_path,'src','example','analysis_pipeline','vaa3d','DIV7-Plate1_8wp_smFISH_A1_1.tif')\n",
    "vaa3d_software_path = '/data/hyun/Analysis/software/bin'\n",
    "\n",
    "parameters = {'channel' : 0,\n",
    "                'bg_thres' : 'AUTO',\n",
    "                'auto_downsample' : 0,\n",
    "                'radius_from_2d' : 0,\n",
    "                'gray_distance' : 1,\n",
    "                'allow_gap' : 0,\n",
    "                'length_thres' : 5,\n",
    "                'allow_resample' : 0,\n",
    "                'brightfield' : 0,\n",
    "                'high_intensity' : 0,\n",
    "                'sr_ratio' : .5,\n",
    "                'cnn_type' : 1}\n",
    "\n",
    "for var in os.listdir(image_dir):\n",
    "    if 'each' not in var or 'txt' not in var: continue\n",
    "        \n",
    "    print(\"Processing soma file... %s\" %var)\n",
    "    \n",
    "    image_name = var.split('_each')[0]\n",
    "    image_path = os.path.join(image_dir,'%s.tif'%image_name)\n",
    "    soma_path = os.path.join(image_dir,var)\n",
    "    output_path = os.path.join(image_dir,'%s.swc'%var.split('.')[0])\n",
    "    \n",
    "    MA.vaa3d_process(image_path,soma_path,output_path,\n",
    "                     vaa3d_software_path,parameters)\n"
   ]
  }
 ],
 "metadata": {
  "kernelspec": {
   "display_name": "Python 3.8 cp4",
   "language": "python",
   "name": "cp4"
  },
  "language_info": {
   "codemirror_mode": {
    "name": "ipython",
    "version": 3
   },
   "file_extension": ".py",
   "mimetype": "text/x-python",
   "name": "python",
   "nbconvert_exporter": "python",
   "pygments_lexer": "ipython3",
   "version": "3.8.8"
  }
 },
 "nbformat": 4,
 "nbformat_minor": 5
}
