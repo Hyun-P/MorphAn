{
 "cells": [
  {
   "cell_type": "markdown",
   "id": "empty-congress",
   "metadata": {},
   "source": [
    "# **Vaa3D**"
   ]
  },
  {
   "cell_type": "markdown",
   "id": "monetary-cleaners",
   "metadata": {},
   "source": [
    "## **Functions**"
   ]
  },
  {
   "cell_type": "code",
   "execution_count": 1,
   "id": "registered-impact",
   "metadata": {},
   "outputs": [],
   "source": [
    "import sys\n",
    "import os\n",
    "\n",
    "module_path = os.path.abspath(os.path.join('..'))\n",
    "if module_path not in sys.path:\n",
    "    sys.path.append(module_path+\"/src\")\n",
    "\n",
    "from morphan import MorphAn\n",
    "\n",
    "import skimage.io as io\n",
    "import numpy as np\n",
    "import multiprocessing as mp"
   ]
  },
  {
   "cell_type": "markdown",
   "id": "constitutional-recognition",
   "metadata": {},
   "source": [
    "## **Vaa3D Preprocess**\n",
    "---\n",
    "When the images are loaded onto Vaa3D software, they get inverted. So we will prepare the images pre-inverted so that they are loaded properly.\n",
    "\n",
    "* Edit \"weka_dir\" variable with a path to a folder with the WEKA images to process with Vaa3D\n",
    "* Edit \"vaa3d_dir\" variable with a path to a folder with Vaa3D data"
   ]
  },
  {
   "cell_type": "code",
   "execution_count": 2,
   "id": "relative-baseline",
   "metadata": {},
   "outputs": [],
   "source": [
    "MA = MorphAn()\n",
    "\n",
    "weka_dir = os.path.join(module_path,'src','example','weka')\n",
    "vaa3d_dir = MA.check_directory(module_path,'src/example/analysis_pipeline/vaa3d')"
   ]
  },
  {
   "cell_type": "code",
   "execution_count": 3,
   "id": "suburban-price",
   "metadata": {},
   "outputs": [
    {
     "name": "stdout",
     "output_type": "stream",
     "text": [
      "microdish_ctx_20x_DIV7_plateA_P3_1\n",
      "microdish_ctx_20x_DIV7_plateA_O1_1\n",
      "microdish_ctx_20x_DIV7_plateA_N2_1\n"
     ]
    }
   ],
   "source": [
    "for weka_name in os.listdir(weka_dir):\n",
    "    image_name = weka_name.split('.tif')[0]\n",
    "    print(image_name)\n",
    "    \n",
    "    output_dir = MA.check_directory(vaa3d_dir,image_name)\n",
    "    output = os.path.join(output_dir,weka_name)\n",
    "    \n",
    "    weka_path = os.path.join(weka_dir,weka_name)\n",
    "    weka = io.imread(weka_path)\n",
    "    \n",
    "    weka[weka != 0] = 255\n",
    "    en8 = weka.astype('uint8')\n",
    "    flip8 = np.flip(en8, axis=0)\n",
    "    \n",
    "    io.imsave(output, flip8)"
   ]
  },
  {
   "cell_type": "markdown",
   "id": "variable-ultimate",
   "metadata": {},
   "source": [
    "## **Vaa3D Process**\n",
    "---\n",
    "* Edit \"image_dir\" variable with a path to an image folder inside \"vaa3d\" folder.\n",
    "    * this folder includes an image prepared for vaa3d and .txt files for soma positions.\n",
    "* Edit \"vaa3d_software_path\" variable with a path to a folder at where Vaa3D software is installed.\n",
    "* Each auto-traced file wil be saved inside the respective image_dir with .swc file extension."
   ]
  },
  {
   "cell_type": "code",
   "execution_count": null,
   "id": "adapted-shaft",
   "metadata": {},
   "outputs": [],
   "source": [
    "image_dir = os.path.join(module_path,'src','example','analysis_pipeline','vaa3d','DIV7-Plate1_8wp_smFISH_A1_1.tif')\n",
    "vaa3d_software_path = '/data/hyun/Analysis/software/bin'\n",
    "\n",
    "parameters = {'channel' : 0,\n",
    "                'bg_thres' : 'AUTO',\n",
    "                'auto_downsample' : 0,\n",
    "                'radius_from_2d' : 0,\n",
    "                'gray_distance' : 1,\n",
    "                'allow_gap' : 0,\n",
    "                'length_thres' : 5,\n",
    "                'allow_resample' : 0,\n",
    "                'brightfield' : 0,\n",
    "                'high_intensity' : 0,\n",
    "                'sr_ratio' : .5,\n",
    "                'cnn_type' : 1}\n",
    "\n",
    "for var in os.listdir(image_dir):\n",
    "    if 'each' not in var or 'txt' not in var: continue\n",
    "        \n",
    "    print(\"Processing soma file... %s\" %var)\n",
    "    \n",
    "    image_name = var.split('_each')[0]\n",
    "    image_path = os.path.join(image_dir,'%s.tif'%image_name)\n",
    "    soma_path = os.path.join(image_dir,var)\n",
    "    output_path = os.path.join(image_dir,'%s.swc'%var.split('.')[0])\n",
    "    \n",
    "    MA.vaa3d_process(image_path,soma_path,output_path,\n",
    "                     vaa3d_software_path,parameters)\n"
   ]
  },
  {
   "cell_type": "markdown",
   "id": "informal-reproduction",
   "metadata": {},
   "source": [
    "## **[Bulk Process] Vaa3D Process**\n",
    "---\n",
    "* Edit \"vaa3d_dir\" variable with a path to a folder with Vaa3D data\n",
    "* Edit \"vaa3d_software_path\" variable with a path to a folder at where Vaa3D software is installed.\n",
    "* Each auto-traced file wil be saved inside the respective image_dir with .swc file extension."
   ]
  },
  {
   "cell_type": "code",
   "execution_count": 5,
   "id": "orange-elimination",
   "metadata": {},
   "outputs": [],
   "source": [
    "MA = MorphAn()\n",
    "\n",
    "vaa3d_dir = MA.check_directory(module_path,'src/example/analysis_pipeline/vaa3d')\n",
    "exp_dir = \"/data/hyun/Analysis/data/UB.VI.220\"\n",
    "vaa3d_dir = MA.check_directory(exp_dir,'DIV5','')\n",
    "vaa3d_software_path = '/data/hyun/Analysis/software/bin'\n",
    "\n",
    "parameters = {'channel' : 0,\n",
    "                'bg_thres' : 'AUTO',\n",
    "                'auto_downsample' : 0,\n",
    "                'radius_from_2d' : 0,\n",
    "                'gray_distance' : 1,\n",
    "                'allow_gap' : 0,\n",
    "                'length_thres' : 5,\n",
    "                'allow_resample' : 0,\n",
    "                'brightfield' : 0,\n",
    "                'high_intensity' : 0,\n",
    "                'sr_ratio' : .5,\n",
    "                'cnn_type' : 1}"
   ]
  },
  {
   "cell_type": "code",
   "execution_count": 6,
   "id": "strategic-shaft",
   "metadata": {
    "collapsed": true,
    "jupyter": {
     "outputs_hidden": true
    },
    "tags": []
   },
   "outputs": [
    {
     "name": "stdout",
     "output_type": "stream",
     "text": [
      "microdish_ctx_20x_DIV7_plateA_N2_1\n",
      "   Processing soma file... microdish_ctx_20x_DIV7_plateA_N2_1_each_2.txt\n",
      "   Processing soma file... microdish_ctx_20x_DIV7_plateA_N2_1_each_1.txt\n",
      "\n",
      "microdish_ctx_20x_DIV7_plateA_P3_1\n",
      "   Processing soma file... microdish_ctx_20x_DIV7_plateA_P3_1_each_1.txt\n",
      "\n",
      "microdish_ctx_20x_DIV7_plateA_O1_1\n",
      "   Processing soma file... microdish_ctx_20x_DIV7_plateA_O1_1_each_1.txt\n",
      "   Processing soma file... microdish_ctx_20x_DIV7_plateA_O1_1_each_2.txt\n",
      "\n"
     ]
    }
   ],
   "source": [
    "for image_name in os.listdir(vaa3d_dir):\n",
    "    print(image_name)\n",
    "    \n",
    "    image_dir = os.path.join(vaa3d_dir,image_name)\n",
    "    \n",
    "    for var in os.listdir(image_dir):\n",
    "        if 'each' not in var or 'txt' not in var: continue\n",
    "\n",
    "        print(' '*2, \"Processing soma file... %s\" %var)\n",
    "\n",
    "        image_name = var.split('_each')[0]\n",
    "        image_path = os.path.join(image_dir,'%s.tif'%image_name)\n",
    "        soma_path = os.path.join(image_dir,var)\n",
    "        output_path = os.path.join(image_dir,'%s.swc'%var.split('.')[0])\n",
    "\n",
    "        MA.vaa3d_process(image_path,soma_path,output_path,\n",
    "                         vaa3d_software_path,parameters)\n",
    "    print()"
   ]
  },
  {
   "cell_type": "code",
   "execution_count": null,
   "id": "understood-shirt",
   "metadata": {},
   "outputs": [],
   "source": []
  }
 ],
 "metadata": {
  "kernelspec": {
   "display_name": "Python 3.8 cp4",
   "language": "python",
   "name": "cp4"
  },
  "language_info": {
   "codemirror_mode": {
    "name": "ipython",
    "version": 3
   },
   "file_extension": ".py",
   "mimetype": "text/x-python",
   "name": "python",
   "nbconvert_exporter": "python",
   "pygments_lexer": "ipython3",
   "version": "3.8.8"
  }
 },
 "nbformat": 4,
 "nbformat_minor": 5
}
